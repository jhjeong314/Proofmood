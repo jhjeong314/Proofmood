{
 "cells": [
  {
   "attachments": {},
   "cell_type": "markdown",
   "metadata": {},
   "source": [
    "The grammar is the same as before.\n",
    "\n",
    "Now, we can ouput AST in bussproof style."
   ]
  },
  {
   "cell_type": "code",
   "execution_count": 1,
   "metadata": {},
   "outputs": [],
   "source": [
    "from arith_parse import *\n",
    "\n",
    "def testParser(input_text, showOption='polish', showOperType=False):\n",
    "  # showOption ::= 'polish' | 'RPN' | 'infix_latex' | 'tree'\n",
    "  # showOperType has effect only when showOption == 'polish' or 'RPN'\n",
    "  from IPython.display import display, Math\n",
    "\n",
    "  try:\n",
    "    ast = parse_text(input_text)\n",
    "  except ValueError as e:\n",
    "    print(f\"ValueError: {e}\")\n",
    "  except SyntaxError as e:\n",
    "    print(f\"SyntaxError: {e}\")\n",
    "  else:\n",
    "    if showOption=='polish':\n",
    "      print(ast.build_polish_notation(showOperType))\n",
    "    elif showOption=='RPN':\n",
    "      print(ast.build_RPN(showOperType))\n",
    "    elif showOption=='infix_latex':\n",
    "      s = ast.build_infix_latex()\n",
    "      print(s)\n",
    "      display(Math(f\"${s}$\"))\n",
    "    elif showOption=='tree':\n",
    "      ast.draw_tree()\n",
    "    else:\n",
    "      raise ValueError(f\"Invalid showOption: {showOption}\")"
   ]
  },
  {
   "cell_type": "code",
   "execution_count": 2,
   "metadata": {},
   "outputs": [
    {
     "name": "stdout",
     "output_type": "stream",
     "text": [
      "a b c * + d -\n",
      "a(identifier) b(identifier) c(identifier) *(op_bin_2) +(op_bin_1) d(identifier) -(op_bin_1)\n",
      "a a sin b a b ' ! / - 3 + max 12 f +\n",
      "a + f(\\operatorname{sin}(a), \\operatorname{max}(b, -a / b'! + 3), 12)\n"
     ]
    },
    {
     "data": {
      "text/latex": [
       "$\\displaystyle a + f(\\operatorname{sin}(a), \\operatorname{max}(b, -a / b'! + 3), 12)$"
      ],
      "text/plain": [
       "<IPython.core.display.Math object>"
      ]
     },
     "metadata": {},
     "output_type": "display_data"
    },
    {
     "name": "stdout",
     "output_type": "stream",
     "text": [
      "a + f(\\operatorname{sin}(a), \\operatorname{max}(b, -a / b'! + 3), 12)\n"
     ]
    },
    {
     "data": {
      "text/latex": [
       "$\\displaystyle a + f(\\operatorname{sin}(a), \\operatorname{max}(b, -a / b'! + 3), 12)$"
      ],
      "text/plain": [
       "<IPython.core.display.Math object>"
      ]
     },
     "metadata": {},
     "output_type": "display_data"
    }
   ],
   "source": [
    "testParser(\"a + b * c - d\", showOption='RPN')\n",
    "testParser(\"a + b * c - d\", showOption='RPN', showOperType=True)\n",
    "testParser(\"a + f(sin(a),max(b, -a/b'! + 3), 12)\", showOption='RPN')\n",
    "testParser(\"a + f(sin(a),max(b, -a/b'! + 3), 12)\", showOption='infix_latex')\n",
    "testParser(\"a + f(sin(a),max(b, (-a/b'! + 3)), 12)\", showOption='infix_latex')"
   ]
  },
  {
   "cell_type": "code",
   "execution_count": 3,
   "metadata": {},
   "outputs": [
    {
     "data": {
      "image/png": "[encoded data removed]",
      "text/plain": [
       "<Figure size 450x300 with 1 Axes>"
      ]
     },
     "metadata": {},
     "output_type": "display_data"
    }
   ],
   "source": [
    "testParser(\"(a + b + c) * (-a) ^ b! ^ c\", showOption='tree')"
   ]
  }
 ],
 "metadata": {
  "kernelspec": {
   "display_name": "mlenv",
   "language": "python",
   "name": "python3"
  },
  "language_info": {
   "codemirror_mode": {
    "name": "ipython",
    "version": 3
   },
   "file_extension": ".py",
   "mimetype": "text/x-python",
   "name": "python",
   "nbconvert_exporter": "python",
   "pygments_lexer": "ipython3",
   "version": "3.11.2"
  },
  "orig_nbformat": 4
 },
 "nbformat": 4,
 "nbformat_minor": 2
}
