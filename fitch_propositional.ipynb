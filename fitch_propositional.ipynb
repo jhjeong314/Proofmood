{
 "cells": [
  {
   "cell_type": "code",
   "execution_count": 17,
   "metadata": {},
   "outputs": [
    {
     "name": "stdout",
     "output_type": "stream",
     "text": [
      "A or B2(c, d + 1) imp forall x C1(x) and B2(c, d + 1)\n",
      "A or B2(c, d + 1) imp forall x C1(x) and B2(c, d + 1)\n"
     ]
    }
   ],
   "source": [
    "from truth_table import *\n",
    "from typing import List\n",
    "import copy\n",
    "\n",
    "input_str = 'A or B2(c,d+1) imp forall x C1(x) and B2(c,d+1)'\n",
    "node = parse_text(input_str)\n",
    "assert isinstance(node, Node)\n",
    "fmla = Formula(node)\n",
    "fmla2 = Formula(input_str)\n",
    "\n",
    "print(fmla)\n",
    "print(fmla2)"
   ]
  },
  {
   "cell_type": "code",
   "execution_count": 18,
   "metadata": {},
   "outputs": [
    {
     "data": {
      "text/latex": [
       "$\\displaystyle A\\: \\vee\\: B(c, d + 1)\\: \\rightarrow\\: \\forall x\\, C(x)\\: \\wedge\\: B(c, d + 1)$"
      ],
      "text/plain": [
       "<IPython.core.display.Math object>"
      ]
     },
     "metadata": {},
     "output_type": "display_data"
    }
   ],
   "source": [
    "fmla.display_infix()"
   ]
  },
  {
   "cell_type": "code",
   "execution_count": 19,
   "metadata": {},
   "outputs": [
    {
     "name": "stdout",
     "output_type": "stream",
     "text": [
      "A or B2(c, d + 1) imp forall x C1(x) and B2(c, d + 1)\n"
     ]
    }
   ],
   "source": [
    "fmla.display_infix('text')"
   ]
  },
  {
   "cell_type": "code",
   "execution_count": 20,
   "metadata": {},
   "outputs": [
    {
     "data": {
      "text/latex": [
       "$\\displaystyle A\\: \\vee\\: B(c, d + 1)\\: \\rightarrow\\: \\forall x\\, C(x)\\: \\wedge\\: B(c, d + 1)$"
      ],
      "text/plain": [
       "<IPython.core.display.Math object>"
      ]
     },
     "metadata": {},
     "output_type": "display_data"
    },
    {
     "data": {
      "text/latex": [
       "$\\displaystyle A\\: \\vee\\: B(c, d + 1)$"
      ],
      "text/plain": [
       "<IPython.core.display.Math object>"
      ]
     },
     "metadata": {},
     "output_type": "display_data"
    },
    {
     "data": {
      "text/latex": [
       "$\\displaystyle A$"
      ],
      "text/plain": [
       "<IPython.core.display.Math object>"
      ]
     },
     "metadata": {},
     "output_type": "display_data"
    },
    {
     "data": {
      "text/latex": [
       "$\\displaystyle B(c, d + 1)$"
      ],
      "text/plain": [
       "<IPython.core.display.Math object>"
      ]
     },
     "metadata": {},
     "output_type": "display_data"
    },
    {
     "data": {
      "text/latex": [
       "$\\displaystyle \\forall x\\, C(x)\\: \\wedge\\: B(c, d + 1)$"
      ],
      "text/plain": [
       "<IPython.core.display.Math object>"
      ]
     },
     "metadata": {},
     "output_type": "display_data"
    },
    {
     "data": {
      "text/latex": [
       "$\\displaystyle \\forall x\\, C(x)$"
      ],
      "text/plain": [
       "<IPython.core.display.Math object>"
      ]
     },
     "metadata": {},
     "output_type": "display_data"
    },
    {
     "data": {
      "text/latex": [
       "$\\displaystyle B(c, d + 1)$"
      ],
      "text/plain": [
       "<IPython.core.display.Math object>"
      ]
     },
     "metadata": {},
     "output_type": "display_data"
    }
   ],
   "source": [
    "fmla.subformula_at([]).display_infix()\n",
    "fmla.subformula_at([0]).display_infix()\n",
    "fmla.subformula_at([0,0]).display_infix()\n",
    "fmla.subformula_at([0,1]).display_infix()\n",
    "fmla.subformula_at([1]).display_infix()\n",
    "fmla.subformula_at([1,0]).display_infix()\n",
    "fmla.subformula_at([1,1]).display_infix()"
   ]
  },
  {
   "cell_type": "code",
   "execution_count": 21,
   "metadata": {},
   "outputs": [
    {
     "data": {
      "text/plain": [
       "True"
      ]
     },
     "execution_count": 21,
     "metadata": {},
     "output_type": "execute_result"
    }
   ],
   "source": [
    "fmla.subformula_at([0,1]) == fmla.subformula_at([1,1])"
   ]
  },
  {
   "cell_type": "code",
   "execution_count": 22,
   "metadata": {},
   "outputs": [
    {
     "name": "stdout",
     "output_type": "stream",
     "text": [
      "['A', 'B2(c, d + 1)', 'forall x C1(x)']\n"
     ]
    }
   ],
   "source": [
    "prime_subs = fmla.get_prime_subformulas()\n",
    "prime_subs_li = sorted(list(prime_subs))\n",
    "print(prime_subs_li)"
   ]
  },
  {
   "cell_type": "code",
   "execution_count": 23,
   "metadata": {},
   "outputs": [
    {
     "data": {
      "text/plain": [
       "1"
      ]
     },
     "execution_count": 23,
     "metadata": {},
     "output_type": "execute_result"
    }
   ],
   "source": [
    "prime_subs_li.index('B2(c, d + 1)')"
   ]
  },
  {
   "cell_type": "code",
   "execution_count": 24,
   "metadata": {},
   "outputs": [
    {
     "name": "stdout",
     "output_type": "stream",
     "text": [
      "111\n",
      "110\n",
      "101\n",
      "100\n",
      "011\n",
      "010\n",
      "001\n",
      "000\n"
     ]
    }
   ],
   "source": [
    "n = len(prime_subs_li)\n",
    "nth_pow = 2**n\n",
    "for i in range(nth_pow):\n",
    "  binary = Truth_table.get_binary(nth_pow - i - 1, n)\n",
    "  print(binary)"
   ]
  },
  {
   "cell_type": "code",
   "execution_count": 25,
   "metadata": {},
   "outputs": [],
   "source": [
    "fmla2 = Formula(\"forall x C1(x) imp C2(x, x)\")"
   ]
  },
  {
   "cell_type": "code",
   "execution_count": 26,
   "metadata": {},
   "outputs": [
    {
     "name": "stdout",
     "output_type": "stream",
     "text": [
      "['C2(x, x)', 'forall x C1(x)']\n"
     ]
    }
   ],
   "source": [
    "prime_subs = fmla2.get_prime_subformulas()\n",
    "prime_subs_li = sorted(list(prime_subs))\n",
    "print(prime_subs_li)"
   ]
  },
  {
   "cell_type": "code",
   "execution_count": 27,
   "metadata": {},
   "outputs": [
    {
     "name": "stdout",
     "output_type": "stream",
     "text": [
      "['A', 'B2(c, d + 1)', 'C2(x, x)', 'forall x C1(x)']\n"
     ]
    }
   ],
   "source": [
    "truth_table = Truth_table([fmla, fmla2])\n",
    "prime_subs_li = sorted(list(truth_table.get_prime_subformulas()))\n",
    "print(prime_subs_li)\n"
   ]
  },
  {
   "cell_type": "code",
   "execution_count": 28,
   "metadata": {},
   "outputs": [
    {
     "data": {
      "text/plain": [
       "1"
      ]
     },
     "execution_count": 28,
     "metadata": {},
     "output_type": "execute_result"
    }
   ],
   "source": [
    "fmla.get_truth_tree(prime_subs_li)\n",
    "fmla.ast.children[1].children[1].index"
   ]
  },
  {
   "cell_type": "code",
   "execution_count": 29,
   "metadata": {},
   "outputs": [],
   "source": [
    "fmla.eval_truth_tree('0110')\n",
    "fmla2.get_truth_tree(prime_subs_li)\n",
    "fmla2.eval_truth_tree('0110')"
   ]
  },
  {
   "cell_type": "code",
   "execution_count": 30,
   "metadata": {},
   "outputs": [
    {
     "data": {
      "text/plain": [
       "[0, 1, 0, 1, 0, 0, 1]"
      ]
     },
     "execution_count": 30,
     "metadata": {},
     "output_type": "execute_result"
    }
   ],
   "source": [
    "fmla.get_bValues()"
   ]
  },
  {
   "cell_type": "code",
   "execution_count": 31,
   "metadata": {},
   "outputs": [
    {
     "name": "stdout",
     "output_type": "stream",
     "text": [
      "prime_subs_li: ['A', 'B']\n",
      "bValues: [1, 1, 1, 0, 1]\n"
     ]
    }
   ],
   "source": [
    "input_str = 'A imp B imp A'\n",
    "fmla = Formula(input_str)\n",
    "truth_table = Truth_table([fmla])\n",
    "prime_subs_li = sorted(list(truth_table.get_prime_subformulas()))\n",
    "print(f\"prime_subs_li: {prime_subs_li}\")\n",
    "fmla.get_truth_tree(prime_subs_li)\n",
    "fmla.eval_truth_tree('10')\n",
    "bValues = fmla.get_bValues()\n",
    "print(f\"bValues: {bValues}\")"
   ]
  },
  {
   "cell_type": "code",
   "execution_count": 32,
   "metadata": {},
   "outputs": [],
   "source": [
    "# \\begin{tabular}{|c|c|c||c|c|c||c|c|c||c|c|c|c|c|c|c|c|c|} \\hline\n",
    "# $A$ & $B$ & $C$ & $A$ & $\\to$ & $B$ & $B$ & $\\join$ & $C$ & \n",
    "#   $C$ & $\\to$ & $($ & $\\neg$ & $B$ & $\\to$ & $C$ & $)$ \\\\ \\hline\n",
    "# 1 & 1 & 1 & 1 & 1 & 1 & 1 & 1 & 1 & 1 & 1 & & 0 & 1 & 1 & 1 &  \\\\\n",
    "# 1 & 1 & 0 & 1 & 1 & 1 & 1 & 1 & 0 & 0 & 1 & & 0 & 1 & 1 & 0 & \\\\\n",
    "# 1 & 0 & 1 & 1 & 0 & 0 & 0 & 1 & 1 & 1 & 1 & & 1 & 0 & 1& 1 & \\\\\n",
    "# 1 & 0 & 0 & 1 & 0 & 0 & 0 & 0 & 0 & 0 & 1 & & 1 & 0 & 0 & 0 & \\\\ \n",
    "# 0 & 1 & 1 & 0 & 1 & 1 & 1 & 1 & 1 & 1 & 1 & & 0 & 1 & 1 & 1 & \\\\\n",
    "# 0 & 1 & 0 & 0 & 1 & 1 & 1 & 1 & 0 & 0 & 1 & & 0 & 1 & 1 & 0 & \\\\\n",
    "# 0 & 0 & 1 & 0 & 1 & 0 & 0 & 1 & 1 & 1 & 1 & & 1 & 0 & 1 & 1 & \\\\\n",
    "# 0 & 0 & 0 & 0 & 1 & 0 & 0 & 0 & 0 & 0 & 1 & & 1 & 0 & 0 & 0 & \\\\ \\hline\n",
    "# \\multicolumn{3}{|c||}{Level} \n",
    "#           & 1 & 2 & 1 & 1 & 2 & 1 & 1 & 4 & & 2 & 1 & 3 & 1 & \\\\ \\hline\n",
    "# \\end{tabular}"
   ]
  }
 ],
 "metadata": {
  "kernelspec": {
   "display_name": "mlenv",
   "language": "python",
   "name": "python3"
  },
  "language_info": {
   "codemirror_mode": {
    "name": "ipython",
    "version": 3
   },
   "file_extension": ".py",
   "mimetype": "text/x-python",
   "name": "python",
   "nbconvert_exporter": "python",
   "pygments_lexer": "ipython3",
   "version": "3.11.2"
  },
  "orig_nbformat": 4
 },
 "nbformat": 4,
 "nbformat_minor": 2
}
