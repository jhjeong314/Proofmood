{
 "cells": [
  {
   "cell_type": "code",
   "execution_count": 24,
   "metadata": {},
   "outputs": [
    {
     "name": "stdout",
     "output_type": "stream",
     "text": [
      "A or (B2(c, d + 1) and forall x C1(x)) imp forall x C1(x) and B2(c, d + 1)\n"
     ]
    }
   ],
   "source": [
    "from truth_table import *\n",
    "from typing import List\n",
    "\n",
    "input_str = 'A or (B2(c,d+1) and forall x C1(x)) imp forall x C1(x) and B2(c,d+1)'\n",
    "node = parse_text(input_str)\n",
    "assert isinstance(node, Node)\n",
    "fmla = Formula(node)\n",
    "fmla1 = Formula(input_str)\n",
    "assert isinstance(fmla1, Formula)\n",
    "assert fmla1 == fmla\n",
    "\n",
    "print(fmla)"
   ]
  },
  {
   "cell_type": "code",
   "execution_count": 25,
   "metadata": {},
   "outputs": [
    {
     "data": {
      "text/latex": [
       "$\\displaystyle A\\: \\vee\\: (B(c, d + 1)\\: \\wedge\\: \\forall x\\, C(x))\\: \\rightarrow\\: \\forall x\\, C(x)\\: \\wedge\\: B(c, d + 1)$"
      ],
      "text/plain": [
       "<IPython.core.display.Math object>"
      ]
     },
     "metadata": {},
     "output_type": "display_data"
    },
    {
     "name": "stdout",
     "output_type": "stream",
     "text": [
      "A or (B2(c, d + 1) and forall x C1(x)) imp forall x C1(x) and B2(c, d + 1)\n"
     ]
    },
    {
     "data": {
      "image/png": "[encoded data removed]",
      "text/plain": [
       "<Figure size 900x450 with 1 Axes>"
      ]
     },
     "metadata": {},
     "output_type": "display_data"
    }
   ],
   "source": [
    "fmla.display_infix()\n",
    "fmla.display_infix('text')\n",
    "fmla.ast.draw_tree()"
   ]
  },
  {
   "cell_type": "code",
   "execution_count": 26,
   "metadata": {},
   "outputs": [
    {
     "data": {
      "text/latex": [
       "$\\displaystyle \\exists x\\, A(x)\\: \\vee\\: \\bot\\: \\rightarrow\\: C(x, c^{2 + a})\\: \\vee\\: (B\\: \\leftrightarrow\\: \\neg\\, \\exists x\\, A(x))$"
      ],
      "text/plain": [
       "<IPython.core.display.Math object>"
      ]
     },
     "metadata": {},
     "output_type": "display_data"
    },
    {
     "name": "stdout",
     "output_type": "stream",
     "text": [
      "exists x A1(x) or bot imp C2(x, c^{2 + a}) or (B iff not exists x A1(x))\n",
      "imp or exists x A1 x bot or C2 x ^ c + 2 a iff B not exists x A1 x\n",
      "['C2(x, c^{2 + a})', 'exists x A1(x)', 'B']\n"
     ]
    },
    {
     "data": {
      "image/png": "[encoded data removed]",
      "text/plain": [
       "<Figure size 900x450 with 1 Axes>"
      ]
     },
     "metadata": {},
     "output_type": "display_data"
    }
   ],
   "source": [
    "fmla_x = Formula(\"exists x A1(x) or bot imp C2(x,c^(2+a)) or (B iff not exists x A1(x))\")\n",
    "fmla_x.ast.draw_tree()\n",
    "fmla_x.display_infix()\n",
    "print(fmla_x)\n",
    "print(fmla_x.ast)\n",
    "print(prime_subs_li := list(fmla_x.get_prime_subformulas()))"
   ]
  },
  {
   "cell_type": "code",
   "execution_count": 27,
   "metadata": {},
   "outputs": [],
   "source": [
    "def show_tree_nodes(tree: Node) -> None: # \n",
    "# This function closely follows the code of Formula.get_bValues(), \n",
    "# utilizing an in-order traversal approach.\n",
    "  def show_this_node(node: Node):\n",
    "    print(f\"{node.token.value}, id={node.index}, \" +\n",
    "          f\"bVal={node.bValue}\", f\"alt_str={node.alt_str}\")\n",
    "\n",
    "  token = tree.token\n",
    "  if token.token_type in Token.FMLA_ROOTS:\n",
    "    if token.token_type in Token.NON_PRIME_ROOTS:\n",
    "      if token.arity == 1:\n",
    "        show_this_node(tree) # unary connective is prefixed\n",
    "        show_tree_nodes(tree.children[0])\n",
    "      else: # arity == 2\n",
    "        show_tree_nodes(tree.children[0])\n",
    "        show_this_node(tree) # binary connective is infixed\n",
    "        show_tree_nodes(tree.children[1])\n",
    "    else: # token_type in PRIME_ROOT\n",
    "      show_this_node(tree)\n"
   ]
  },
  {
   "cell_type": "code",
   "execution_count": 28,
   "metadata": {},
   "outputs": [
    {
     "name": "stdout",
     "output_type": "stream",
     "text": [
      "Prime subformulas labeled:\n",
      "\n",
      "exists, id=1, bVal=-1 alt_str=P_1\n",
      "or, id=-1, bVal=-1 alt_str=\n",
      "bot, id=-1, bVal=-1 alt_str=\n",
      "imp, id=-1, bVal=-1 alt_str=\n",
      "C2, id=0, bVal=-1 alt_str=P_2\n",
      "or, id=-1, bVal=-1 alt_str=\n",
      "B, id=2, bVal=-1 alt_str=B\n",
      "iff, id=-1, bVal=-1 alt_str=\n",
      "not, id=-1, bVal=-1 alt_str=\n",
      "exists, id=1, bVal=-1 alt_str=P_1\n"
     ]
    }
   ],
   "source": [
    "fmla_x.label_prime_subs(prime_subs_li)\n",
    "print(\"Prime subformulas labeled:\\n\")\n",
    "show_tree_nodes(fmla_x.ast)"
   ]
  },
  {
   "cell_type": "code",
   "execution_count": 29,
   "metadata": {},
   "outputs": [
    {
     "name": "stdout",
     "output_type": "stream",
     "text": [
      "Truth tree:\n",
      "\n",
      "exists, id=1, bVal=0 alt_str=P_1\n",
      "or, id=-1, bVal=0 alt_str=\n",
      "bot, id=-1, bVal=0 alt_str=\n",
      "imp, id=-1, bVal=1 alt_str=\n",
      "C2, id=0, bVal=1 alt_str=P_2\n",
      "or, id=-1, bVal=1 alt_str=\n",
      "B, id=2, bVal=1 alt_str=B\n",
      "iff, id=-1, bVal=1 alt_str=\n",
      "not, id=-1, bVal=1 alt_str=\n",
      "exists, id=1, bVal=0 alt_str=P_1\n"
     ]
    }
   ],
   "source": [
    "fmla_x.get_truth_tree('101')\n",
    "print(\"Truth tree:\\n\")\n",
    "show_tree_nodes(fmla_x.ast)"
   ]
  },
  {
   "cell_type": "code",
   "execution_count": 30,
   "metadata": {},
   "outputs": [
    {
     "data": {
      "text/plain": [
       "[0, 0, 0, 1, 1, 1, 1, 1, 1, 0]"
      ]
     },
     "execution_count": 30,
     "metadata": {},
     "output_type": "execute_result"
    }
   ],
   "source": [
    "fmla_x.get_bValues()\n"
   ]
  },
  {
   "cell_type": "code",
   "execution_count": 31,
   "metadata": {},
   "outputs": [
    {
     "name": "stdout",
     "output_type": "stream",
     "text": [
      "subformula at [] is\n"
     ]
    },
    {
     "data": {
      "text/latex": [
       "$\\displaystyle A\\: \\vee\\: (B(c, d + 1)\\: \\wedge\\: \\forall x\\, C(x))\\: \\rightarrow\\: \\forall x\\, C(x)\\: \\wedge\\: B(c, d + 1)$"
      ],
      "text/plain": [
       "<IPython.core.display.Math object>"
      ]
     },
     "metadata": {},
     "output_type": "display_data"
    },
    {
     "name": "stdout",
     "output_type": "stream",
     "text": [
      "subformula at [0] is\n"
     ]
    },
    {
     "data": {
      "text/latex": [
       "$\\displaystyle A\\: \\vee\\: (B(c, d + 1)\\: \\wedge\\: \\forall x\\, C(x))$"
      ],
      "text/plain": [
       "<IPython.core.display.Math object>"
      ]
     },
     "metadata": {},
     "output_type": "display_data"
    },
    {
     "name": "stdout",
     "output_type": "stream",
     "text": [
      "subformula at [0, 0] is\n"
     ]
    },
    {
     "data": {
      "text/latex": [
       "$\\displaystyle A$"
      ],
      "text/plain": [
       "<IPython.core.display.Math object>"
      ]
     },
     "metadata": {},
     "output_type": "display_data"
    },
    {
     "name": "stdout",
     "output_type": "stream",
     "text": [
      "subformula at [0, 1] is\n"
     ]
    },
    {
     "data": {
      "text/latex": [
       "$\\displaystyle B(c, d + 1)\\: \\wedge\\: \\forall x\\, C(x)$"
      ],
      "text/plain": [
       "<IPython.core.display.Math object>"
      ]
     },
     "metadata": {},
     "output_type": "display_data"
    },
    {
     "name": "stdout",
     "output_type": "stream",
     "text": [
      "subformula at [1] is\n"
     ]
    },
    {
     "data": {
      "text/latex": [
       "$\\displaystyle \\forall x\\, C(x)\\: \\wedge\\: B(c, d + 1)$"
      ],
      "text/plain": [
       "<IPython.core.display.Math object>"
      ]
     },
     "metadata": {},
     "output_type": "display_data"
    },
    {
     "name": "stdout",
     "output_type": "stream",
     "text": [
      "subformula at [1, 0] is\n"
     ]
    },
    {
     "data": {
      "text/latex": [
       "$\\displaystyle \\forall x\\, C(x)$"
      ],
      "text/plain": [
       "<IPython.core.display.Math object>"
      ]
     },
     "metadata": {},
     "output_type": "display_data"
    },
    {
     "name": "stdout",
     "output_type": "stream",
     "text": [
      "subformula at [1, 1] is\n"
     ]
    },
    {
     "data": {
      "text/latex": [
       "$\\displaystyle B(c, d + 1)$"
      ],
      "text/plain": [
       "<IPython.core.display.Math object>"
      ]
     },
     "metadata": {},
     "output_type": "display_data"
    }
   ],
   "source": [
    "# Subformula at pos.\n",
    "\n",
    "pos_li = [[], [0], [0,0], [0,1], [1], [1,0], [1,1]]\n",
    "for pos in pos_li:\n",
    "  print(f\"subformula at {pos} is\")\n",
    "  fmla.node_at(pos).display_infix()"
   ]
  },
  {
   "cell_type": "code",
   "execution_count": 32,
   "metadata": {},
   "outputs": [
    {
     "data": {
      "text/plain": [
       "False"
      ]
     },
     "execution_count": 32,
     "metadata": {},
     "output_type": "execute_result"
    }
   ],
   "source": [
    "fmla.node_at([0,1]) == fmla.node_at([1,1])\n",
    "# Defined in __eq__() of class Formula and class Node."
   ]
  },
  {
   "cell_type": "code",
   "execution_count": 33,
   "metadata": {},
   "outputs": [
    {
     "name": "stdout",
     "output_type": "stream",
     "text": [
      "Original formula:\n"
     ]
    },
    {
     "data": {
      "text/latex": [
       "$\\displaystyle A\\: \\vee\\: (B(c, d + 1)\\: \\wedge\\: \\forall x\\, C(x))\\: \\rightarrow\\: \\forall x\\, C(x)\\: \\wedge\\: B(c, d + 1)$"
      ],
      "text/plain": [
       "<IPython.core.display.Math object>"
      ]
     },
     "metadata": {},
     "output_type": "display_data"
    },
    {
     "name": "stdout",
     "output_type": "stream",
     "text": [
      "replace node at [0] with Z:\n"
     ]
    },
    {
     "data": {
      "text/latex": [
       "$\\displaystyle Z\\: \\rightarrow\\: \\forall x\\, C(x)\\: \\wedge\\: B(c, d + 1)$"
      ],
      "text/plain": [
       "<IPython.core.display.Math object>"
      ]
     },
     "metadata": {},
     "output_type": "display_data"
    },
    {
     "name": "stdout",
     "output_type": "stream",
     "text": [
      "replace node at [0, 0] with Z:\n"
     ]
    },
    {
     "data": {
      "text/latex": [
       "$\\displaystyle Z\\: \\vee\\: (B(c, d + 1)\\: \\wedge\\: \\forall x\\, C(x))\\: \\rightarrow\\: \\forall x\\, C(x)\\: \\wedge\\: B(c, d + 1)$"
      ],
      "text/plain": [
       "<IPython.core.display.Math object>"
      ]
     },
     "metadata": {},
     "output_type": "display_data"
    },
    {
     "name": "stdout",
     "output_type": "stream",
     "text": [
      "replace node at [0, 1] with Z:\n"
     ]
    },
    {
     "data": {
      "text/latex": [
       "$\\displaystyle A\\: \\vee\\: Z\\: \\rightarrow\\: \\forall x\\, C(x)\\: \\wedge\\: B(c, d + 1)$"
      ],
      "text/plain": [
       "<IPython.core.display.Math object>"
      ]
     },
     "metadata": {},
     "output_type": "display_data"
    },
    {
     "name": "stdout",
     "output_type": "stream",
     "text": [
      "replace node at [1] with Z:\n"
     ]
    },
    {
     "data": {
      "text/latex": [
       "$\\displaystyle A\\: \\vee\\: (B(c, d + 1)\\: \\wedge\\: \\forall x\\, C(x))\\: \\rightarrow\\: Z$"
      ],
      "text/plain": [
       "<IPython.core.display.Math object>"
      ]
     },
     "metadata": {},
     "output_type": "display_data"
    },
    {
     "name": "stdout",
     "output_type": "stream",
     "text": [
      "replace node at [1, 0] with Z:\n"
     ]
    },
    {
     "data": {
      "text/latex": [
       "$\\displaystyle A\\: \\vee\\: (B(c, d + 1)\\: \\wedge\\: \\forall x\\, C(x))\\: \\rightarrow\\: Z\\: \\wedge\\: B(c, d + 1)$"
      ],
      "text/plain": [
       "<IPython.core.display.Math object>"
      ]
     },
     "metadata": {},
     "output_type": "display_data"
    },
    {
     "name": "stdout",
     "output_type": "stream",
     "text": [
      "replace node at [1, 1] with Z:\n"
     ]
    },
    {
     "data": {
      "text/latex": [
       "$\\displaystyle A\\: \\vee\\: (B(c, d + 1)\\: \\wedge\\: \\forall x\\, C(x))\\: \\rightarrow\\: \\forall x\\, C(x)\\: \\wedge\\: Z$"
      ],
      "text/plain": [
       "<IPython.core.display.Math object>"
      ]
     },
     "metadata": {},
     "output_type": "display_data"
    },
    {
     "name": "stdout",
     "output_type": "stream",
     "text": [
      "Original formula after replacement:\n"
     ]
    },
    {
     "data": {
      "text/latex": [
       "$\\displaystyle A\\: \\vee\\: (B(c, d + 1)\\: \\wedge\\: \\forall x\\, C(x))\\: \\rightarrow\\: \\forall x\\, C(x)\\: \\wedge\\: B(c, d + 1)$"
      ],
      "text/plain": [
       "<IPython.core.display.Math object>"
      ]
     },
     "metadata": {},
     "output_type": "display_data"
    }
   ],
   "source": [
    "# Replace a node at pos with another node.\n",
    "# dupl == 'dupl' case\n",
    "print(\"Original formula:\")\n",
    "fmla.display_infix()\n",
    "for pos in pos_li[1:]:\n",
    "  new_formula = fmla.replace_node_at(pos, parse_text('Z'), 'dupl')\n",
    "  if new_formula:\n",
    "    print(f\"replace node at {pos} with Z:\")\n",
    "    new_formula.display_infix()\n",
    "\n",
    "print(\"Original formula after replacement:\")\n",
    "fmla.display_infix()"
   ]
  },
  {
   "cell_type": "code",
   "execution_count": 34,
   "metadata": {},
   "outputs": [
    {
     "name": "stdout",
     "output_type": "stream",
     "text": [
      "Original formula:\n"
     ]
    },
    {
     "data": {
      "text/latex": [
       "$\\displaystyle A\\: \\vee\\: (B(c, d + 1)\\: \\wedge\\: \\forall x\\, C(x))\\: \\rightarrow\\: \\forall x\\, C(x)\\: \\wedge\\: B(c, d + 1)$"
      ],
      "text/plain": [
       "<IPython.core.display.Math object>"
      ]
     },
     "metadata": {},
     "output_type": "display_data"
    },
    {
     "name": "stdout",
     "output_type": "stream",
     "text": [
      "Original formula after replacement:\n"
     ]
    },
    {
     "data": {
      "text/latex": [
       "$\\displaystyle Z\\: \\vee\\: (B(c, d + 1)\\: \\wedge\\: \\forall x\\, C(x))\\: \\rightarrow\\: \\forall x\\, C(x)\\: \\wedge\\: B(c, d + 1)$"
      ],
      "text/plain": [
       "<IPython.core.display.Math object>"
      ]
     },
     "metadata": {},
     "output_type": "display_data"
    }
   ],
   "source": [
    "# Replace a node at pos with another node.\n",
    "# dupl == '' case\n",
    "fmla = Formula(input_str)\n",
    "print(\"Original formula:\")\n",
    "fmla.display_infix()\n",
    "pos = [0,0]\n",
    "new_formula = fmla.replace_node_at(pos, parse_text('Z'))\n",
    "if new_formula:\n",
    "  print(f\"replace node at {pos} with Z:\")\n",
    "  new_formula.display_infix()\n",
    "\n",
    "print(\"Original formula after replacement:\")\n",
    "fmla.display_infix()"
   ]
  },
  {
   "cell_type": "code",
   "execution_count": 35,
   "metadata": {},
   "outputs": [
    {
     "name": "stdout",
     "output_type": "stream",
     "text": [
      "Original formula:\n"
     ]
    },
    {
     "data": {
      "text/latex": [
       "$\\displaystyle A\\: \\vee\\: (B(c, d + 1)\\: \\wedge\\: \\forall x\\, C(x))\\: \\rightarrow\\: \\forall x\\, C(x)\\: \\wedge\\: B(c, d + 1)$"
      ],
      "text/plain": [
       "<IPython.core.display.Math object>"
      ]
     },
     "metadata": {},
     "output_type": "display_data"
    },
    {
     "data": {
      "text/latex": [
       "$\\displaystyle P\\: \\vee\\: (B(c, d + 1)\\: \\wedge\\: \\forall x\\, C(x))\\: \\rightarrow\\: \\forall x\\, C(x)\\: \\wedge\\: Q$"
      ],
      "text/plain": [
       "<IPython.core.display.Math object>"
      ]
     },
     "metadata": {},
     "output_type": "display_data"
    },
    {
     "name": "stdout",
     "output_type": "stream",
     "text": [
      "Original formula after replacement:\n"
     ]
    },
    {
     "data": {
      "text/latex": [
       "$\\displaystyle A\\: \\vee\\: (B(c, d + 1)\\: \\wedge\\: \\forall x\\, C(x))\\: \\rightarrow\\: \\forall x\\, C(x)\\: \\wedge\\: B(c, d + 1)$"
      ],
      "text/plain": [
       "<IPython.core.display.Math object>"
      ]
     },
     "metadata": {},
     "output_type": "display_data"
    }
   ],
   "source": [
    "# Replace two nodes with two new_nodes.\n",
    "# dupl == 'dupl' case\n",
    "fmla = Formula(input_str)\n",
    "print(\"Original formula:\")\n",
    "fmla.display_infix()\n",
    "pos_li = [[0,0], [1,1]]\n",
    "new_node_li = [parse_text('P'), parse_text('Q')]\n",
    "new_fmla = fmla.replace_nodes_at(pos_li, new_node_li, 'dupl')\n",
    "if new_fmla:\n",
    "    new_fmla.display_infix()\n",
    "print(\"Original formula after replacement:\")\n",
    "fmla.display_infix()"
   ]
  },
  {
   "cell_type": "code",
   "execution_count": 36,
   "metadata": {},
   "outputs": [
    {
     "name": "stdout",
     "output_type": "stream",
     "text": [
      "Original formula:\n"
     ]
    },
    {
     "data": {
      "text/latex": [
       "$\\displaystyle A\\: \\vee\\: (B(c, d + 1)\\: \\wedge\\: \\forall x\\, C(x))\\: \\rightarrow\\: \\forall x\\, C(x)\\: \\wedge\\: B(c, d + 1)$"
      ],
      "text/plain": [
       "<IPython.core.display.Math object>"
      ]
     },
     "metadata": {},
     "output_type": "display_data"
    },
    {
     "name": "stdout",
     "output_type": "stream",
     "text": [
      "Original formula after replacement:\n"
     ]
    },
    {
     "data": {
      "text/latex": [
       "$\\displaystyle P\\: \\vee\\: (B(c, d + 1)\\: \\wedge\\: \\forall x\\, C(x))\\: \\rightarrow\\: \\forall x\\, C(x)\\: \\wedge\\: Q$"
      ],
      "text/plain": [
       "<IPython.core.display.Math object>"
      ]
     },
     "metadata": {},
     "output_type": "display_data"
    }
   ],
   "source": [
    "# Replace two nodes with two new_nodes.\n",
    "# dupl == '' case\n",
    "fmla = Formula(input_str)\n",
    "print(\"Original formula:\")\n",
    "fmla.display_infix()\n",
    "pos_li = [[0,0], [1,1]]\n",
    "new_node_li = [parse_text('P'), parse_text('Q')]\n",
    "new_fmla = fmla.replace_nodes_at(pos_li, new_node_li)\n",
    "if new_fmla:\n",
    "    new_fmla.display_infix()\n",
    "print(\"Original formula after replacement:\")\n",
    "fmla.display_infix()"
   ]
  },
  {
   "cell_type": "code",
   "execution_count": 37,
   "metadata": {},
   "outputs": [
    {
     "data": {
      "text/latex": [
       "$\\displaystyle x = 1\\: \\wedge\\: A(x, y, x^{2})\\: \\rightarrow\\: y \\ge x$"
      ],
      "text/plain": [
       "<IPython.core.display.Math object>"
      ]
     },
     "metadata": {},
     "output_type": "display_data"
    },
    {
     "data": {
      "text/latex": [
       "$\\displaystyle z^{2} = 1\\: \\wedge\\: A(z^{2}, y, (z^{2})^{2})\\: \\rightarrow\\: y \\ge z^{2}$"
      ],
      "text/plain": [
       "<IPython.core.display.Math object>"
      ]
     },
     "metadata": {},
     "output_type": "display_data"
    },
    {
     "data": {
      "text/latex": [
       "$\\displaystyle x = 1\\: \\wedge\\: A(x, y, x^{2})\\: \\rightarrow\\: y \\ge x$"
      ],
      "text/plain": [
       "<IPython.core.display.Math object>"
      ]
     },
     "metadata": {},
     "output_type": "display_data"
    }
   ],
   "source": [
    "# Example: substitute individual variable\n",
    "# 1/2. dupl == '' case\n",
    "fmla_orig = Formula('x=1 and A3(x, y, x^2) imp y >= x')\n",
    "fmla_orig.display_infix()\n",
    "new_node = parse_text('z^2')\n",
    "fmla_new = fmla_orig.substitute('x', new_node, 'dupl')\n",
    "if fmla_new:\n",
    "  fmla_new.display_infix()\n",
    "fmla_orig.display_infix() # remains unchanged"
   ]
  },
  {
   "cell_type": "code",
   "execution_count": 38,
   "metadata": {},
   "outputs": [
    {
     "data": {
      "text/latex": [
       "$\\displaystyle x = 1\\: \\wedge\\: A(x, y, x^{2})\\: \\rightarrow\\: y \\ge x$"
      ],
      "text/plain": [
       "<IPython.core.display.Math object>"
      ]
     },
     "metadata": {},
     "output_type": "display_data"
    },
    {
     "data": {
      "text/latex": [
       "$\\displaystyle z^{2} = 1\\: \\wedge\\: A(z^{2}, y, (z^{2})^{2})\\: \\rightarrow\\: y \\ge z^{2}$"
      ],
      "text/plain": [
       "<IPython.core.display.Math object>"
      ]
     },
     "metadata": {},
     "output_type": "display_data"
    }
   ],
   "source": [
    "# 2/2. dupl == 'dupl' case\n",
    "fmla_orig = Formula('x=1 and A3(x, y, x^2) imp y >= x')\n",
    "fmla_orig.display_infix()\n",
    "new_node = parse_text('z^2')\n",
    "fmla_new = fmla_orig.substitute('x', new_node)\n",
    "if fmla_new: \n",
    "  fmla_new.display_infix() # will not execute\n",
    "fmla_orig.display_infix() # mutilated"
   ]
  },
  {
   "cell_type": "code",
   "execution_count": 39,
   "metadata": {},
   "outputs": [
    {
     "data": {
      "text/latex": [
       "$\\displaystyle A\\: \\vee\\: (B(c, d + 1)\\: \\wedge\\: \\forall x\\, C(x))\\: \\rightarrow\\: \\forall x\\, C(x)\\: \\wedge\\: B(c, d + 1)$"
      ],
      "text/plain": [
       "<IPython.core.display.Math object>"
      ]
     },
     "metadata": {},
     "output_type": "display_data"
    },
    {
     "name": "stdout",
     "output_type": "stream",
     "text": [
      "['A', 'forall x C1(x)', 'B2(c, d + 1)']\n"
     ]
    }
   ],
   "source": [
    "# Retrieve our good old fmla.\n",
    "fmla = Formula(input_str)\n",
    "fmla.display_infix()\n",
    "prime_subs = fmla.get_prime_subformulas()\n",
    "prime_subs_li = list(prime_subs)\n",
    "print(prime_subs_li)"
   ]
  },
  {
   "cell_type": "code",
   "execution_count": 45,
   "metadata": {},
   "outputs": [
    {
     "name": "stdout",
     "output_type": "stream",
     "text": [
      "['C2(y, z)', 'A', 'forall x C1(x)']\n"
     ]
    }
   ],
   "source": [
    "# Introduce a new formula\n",
    "fmla2 = Formula(\"forall x C1(x) imp (C2(y, z) iff A)\")\n",
    "prime_subs = fmla2.get_prime_subformulas()\n",
    "prime_subs_li = list(prime_subs)\n",
    "print(prime_subs_li)"
   ]
  },
  {
   "cell_type": "code",
   "execution_count": 46,
   "metadata": {},
   "outputs": [
    {
     "name": "stdout",
     "output_type": "stream",
     "text": [
      "['A', 'forall x C1(x)', 'B2(c, d + 1)', 'C2(y, z)']\n"
     ]
    }
   ],
   "source": [
    "# We work on two formulas: fmla and fmla2.\n",
    "truth_table = Truth_table([fmla, fmla2])\n",
    "prime_subs_li = list(truth_table.get_prime_subformulas())\n",
    "print(prime_subs_li)\n"
   ]
  },
  {
   "cell_type": "code",
   "execution_count": 47,
   "metadata": {},
   "outputs": [
    {
     "data": {
      "text/latex": [
       "$\\displaystyle A\\: \\vee\\: (B(c, d + 1)\\: \\wedge\\: \\forall x\\, C(x))\\: \\rightarrow\\: \\forall x\\, C(x)\\: \\wedge\\: B(c, d + 1)$"
      ],
      "text/plain": [
       "<IPython.core.display.Math object>"
      ]
     },
     "metadata": {},
     "output_type": "display_data"
    },
    {
     "name": "stdout",
     "output_type": "stream",
     "text": [
      "A, id=0, bVal=-1 alt_str=A\n",
      "or, id=-1, bVal=-1 alt_str=\n",
      "B2, id=2, bVal=-1 alt_str=P_1\n",
      "and, id=-1, bVal=-1 alt_str=\n",
      "forall, id=1, bVal=-1 alt_str=P_2\n",
      "imp, id=-1, bVal=-1 alt_str=\n",
      "forall, id=1, bVal=-1 alt_str=P_2\n",
      "and, id=-1, bVal=-1 alt_str=\n",
      "B2, id=2, bVal=-1 alt_str=P_1\n"
     ]
    },
    {
     "data": {
      "text/latex": [
       "$\\displaystyle \\forall x\\, C(x)\\: \\rightarrow\\: (C(y, z)\\: \\leftrightarrow\\: A)$"
      ],
      "text/plain": [
       "<IPython.core.display.Math object>"
      ]
     },
     "metadata": {},
     "output_type": "display_data"
    },
    {
     "name": "stdout",
     "output_type": "stream",
     "text": [
      "forall, id=1, bVal=-1 alt_str=P_2\n",
      "imp, id=-1, bVal=-1 alt_str=\n",
      "C2, id=3, bVal=-1 alt_str=P_3\n",
      "iff, id=-1, bVal=-1 alt_str=\n",
      "A, id=0, bVal=-1 alt_str=A\n"
     ]
    }
   ],
   "source": [
    "truth_table.label_prime_subs(prime_subs_li)\n",
    "fmla.display_infix()\n",
    "show_tree_nodes(fmla.ast)\n",
    "fmla2.display_infix()\n",
    "show_tree_nodes(fmla2.ast)"
   ]
  },
  {
   "cell_type": "code",
   "execution_count": 48,
   "metadata": {},
   "outputs": [
    {
     "data": {
      "text/latex": [
       "$\\displaystyle A\\: \\vee\\: (B(c, d + 1)\\: \\wedge\\: \\forall x\\, C(x))\\: \\rightarrow\\: \\forall x\\, C(x)\\: \\wedge\\: B(c, d + 1)$"
      ],
      "text/plain": [
       "<IPython.core.display.Math object>"
      ]
     },
     "metadata": {},
     "output_type": "display_data"
    },
    {
     "name": "stdout",
     "output_type": "stream",
     "text": [
      "A or (B2(c, d + 1) and forall x C1(x)) imp forall x C1(x) and B2(c, d + 1)\n"
     ]
    }
   ],
   "source": [
    "fmla.display_infix()\n",
    "fmla.display_infix(\"text\")"
   ]
  },
  {
   "cell_type": "code",
   "execution_count": 49,
   "metadata": {},
   "outputs": [
    {
     "name": "stdout",
     "output_type": "stream",
     "text": [
      "A or (P1 and P2) imp P2 and P1\n",
      "P2 imp (P3 iff A)\n"
     ]
    }
   ],
   "source": [
    "fmla.display_infix('truth_table')\n",
    "fmla2.display_infix('truth_table')"
   ]
  },
  {
   "cell_type": "code",
   "execution_count": 30,
   "metadata": {},
   "outputs": [],
   "source": [
    "# \\begin{tabular}{|c|c|c||c|c|c||c|c|c||c|c|c|c|c|c|c|c|c|} \\hline\n",
    "# $A$ & $B$ & $C$ & $A$ & $\\to$ & $B$ & $B$ & $\\join$ & $C$ & \n",
    "#   $C$ & $\\to$ & $($ & $\\neg$ & $B$ & $\\to$ & $C$ & $)$ \\\\ \\hline\n",
    "# 1 & 1 & 1 & 1 & 1 & 1 & 1 & 1 & 1 & 1 & 1 & & 0 & 1 & 1 & 1 &  \\\\\n",
    "# 1 & 1 & 0 & 1 & 1 & 1 & 1 & 1 & 0 & 0 & 1 & & 0 & 1 & 1 & 0 & \\\\\n",
    "# 1 & 0 & 1 & 1 & 0 & 0 & 0 & 1 & 1 & 1 & 1 & & 1 & 0 & 1& 1 & \\\\\n",
    "# 1 & 0 & 0 & 1 & 0 & 0 & 0 & 0 & 0 & 0 & 1 & & 1 & 0 & 0 & 0 & \\\\ \n",
    "# 0 & 1 & 1 & 0 & 1 & 1 & 1 & 1 & 1 & 1 & 1 & & 0 & 1 & 1 & 1 & \\\\\n",
    "# 0 & 1 & 0 & 0 & 1 & 1 & 1 & 1 & 0 & 0 & 1 & & 0 & 1 & 1 & 0 & \\\\\n",
    "# 0 & 0 & 1 & 0 & 1 & 0 & 0 & 1 & 1 & 1 & 1 & & 1 & 0 & 1 & 1 & \\\\\n",
    "# 0 & 0 & 0 & 0 & 1 & 0 & 0 & 0 & 0 & 0 & 1 & & 1 & 0 & 0 & 0 & \\\\ \\hline\n",
    "# \\multicolumn{3}{|c||}{Level} \n",
    "#           & 1 & 2 & 1 & 1 & 2 & 1 & 1 & 4 & & 2 & 1 & 3 & 1 & \\\\ \\hline\n",
    "# \\end{tabular}"
   ]
  },
  {
   "cell_type": "code",
   "execution_count": 25,
   "metadata": {},
   "outputs": [
    {
     "name": "stdout",
     "output_type": "stream",
     "text": [
      "P12\n"
     ]
    }
   ],
   "source": [
    "x = \"P_12\"\n",
    "if x.startswith('P_'):\n",
    "  x = \"P\" + x[2:]\n",
    "print(x)\n"
   ]
  }
 ],
 "metadata": {
  "kernelspec": {
   "display_name": "mlenv",
   "language": "python",
   "name": "python3"
  },
  "language_info": {
   "codemirror_mode": {
    "name": "ipython",
    "version": 3
   },
   "file_extension": ".py",
   "mimetype": "text/x-python",
   "name": "python",
   "nbconvert_exporter": "python",
   "pygments_lexer": "ipython3",
   "version": "3.11.2"
  },
  "orig_nbformat": 4
 },
 "nbformat": 4,
 "nbformat_minor": 2
}
