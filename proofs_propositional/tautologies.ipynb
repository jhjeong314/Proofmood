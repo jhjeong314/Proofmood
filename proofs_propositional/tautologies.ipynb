{
 "cells": [
  {
   "cell_type": "code",
   "execution_count": 1,
   "metadata": {},
   "outputs": [],
   "source": [
    "try:\n",
    "  import sys\n",
    "  sys.path.append('../')\n",
    "  from modules.validate_prop import *\n",
    "except ImportError:\n",
    "  url = 'https://raw.githubusercontent.com/jhjeong314/Proofmood/main/modules'\n",
    "  import httpimport\n",
    "  with httpimport.remote_repo(url):\n",
    "    from validate_prop import *\n",
    "\n",
    "from pprint import pprint"
   ]
  },
  {
   "cell_type": "code",
   "execution_count": 2,
   "metadata": {},
   "outputs": [],
   "source": [
    "def show_formula(input_text):\n",
    "  from IPython.display import display, Math\n",
    "  try:\n",
    "    ast = parse_ast(input_text)\n",
    "  except ValueError as e:\n",
    "    print(e)\n",
    "  \n",
    "  s = ast.build_infix('latex') # type: ignore\n",
    "  display(Math(f\"${s}$\"))"
   ]
  },
  {
   "cell_type": "code",
   "execution_count": 3,
   "metadata": {},
   "outputs": [
    {
     "data": {
      "text/latex": [
       "$\\displaystyle A \\rightarrow A$"
      ],
      "text/plain": [
       "<IPython.core.display.Math object>"
      ]
     },
     "metadata": {},
     "output_type": "display_data"
    },
    {
     "name": "stdout",
     "output_type": "stream",
     "text": [
      "│1. \t .hyp\n",
      "├─\n",
      "││2. A\t .hyp\n",
      "│├─\n",
      "│││3. not A\t .hyp\n",
      "││├─\n",
      "│││4. bot\t\u001b[92m✓\u001b[39m bot intro 2,3\n",
      "││5. A\t\u001b[92m✓\u001b[39m not elim 3-4\n",
      "│6. A imp A\t\u001b[92m✓\u001b[39m imp intro 2-5\n"
     ]
    }
   ],
   "source": [
    "# repeat \n",
    "fmla = 'A imp A'\n",
    "show_formula(fmla)\n",
    "\n",
    "prf_str0 = '''\n",
    "1. .hyp\n",
    "proves\n",
    "  2. A .hyp\n",
    "  proves\n",
    "    3. not A .hyp\n",
    "    proves\n",
    "    4. bot .bot intro 2,3\n",
    "  5. A .not elim 3-4\n",
    "6. A imp A .imp intro 2-5\n",
    "'''\n",
    "proof = parse_fitch(prf_str0)\n",
    "proof.show_fitch_text()"
   ]
  },
  {
   "cell_type": "code",
   "execution_count": 4,
   "metadata": {},
   "outputs": [
    {
     "data": {
      "text/latex": [
       "$\\displaystyle A \\rightarrow A$"
      ],
      "text/plain": [
       "<IPython.core.display.Math object>"
      ]
     },
     "metadata": {},
     "output_type": "display_data"
    },
    {
     "name": "stdout",
     "output_type": "stream",
     "text": [
      "is_earlier(): node_code=\u001b[33m23\u001b[39m not found in index_dict\n",
      "\n",
      "│1. \t .hyp\n",
      "├─\n",
      "││2. A\t .hyp\n",
      "│├─\n",
      "│││3. not A\t .hyp\n",
      "││├─\n",
      "│││4. bot\t\u001b[91mx\u001b[39m bot intro 2,23\n",
      "││5. A\t\u001b[92m✓\u001b[39m not elim 3-4\n",
      "│6. A imp A\t\u001b[92m✓\u001b[39m imp intro 2-5\n"
     ]
    }
   ],
   "source": [
    "# error case 1\n",
    "# annotation is syntactically correct \n",
    "# but the proof validation fails\n",
    "# red x marks the error\n",
    "\n",
    "fmla = 'A imp A'\n",
    "show_formula(fmla)\n",
    "\n",
    "prf_str0 = '''\n",
    "1. .hyp\n",
    "proves\n",
    "  2. A .hyp\n",
    "  proves\n",
    "    3. not A .hyp\n",
    "    proves\n",
    "    4. bot .bot intro 2,23\n",
    "  5. A .not elim 3-4\n",
    "6. A imp A .imp intro 2-5\n",
    "'''\n",
    "proof = parse_fitch(prf_str0)\n",
    "proof.show_fitch_text(1)"
   ]
  },
  {
   "cell_type": "code",
   "execution_count": 5,
   "metadata": {},
   "outputs": [
    {
     "data": {
      "text/latex": [
       "$\\displaystyle A \\rightarrow A$"
      ],
      "text/plain": [
       "<IPython.core.display.Math object>"
      ]
     },
     "metadata": {},
     "output_type": "display_data"
    },
    {
     "name": "stdout",
     "output_type": "stream",
     "text": [
      "│1. \t .hyp\n",
      "├─\n",
      "││2. A\t .hyp\n",
      "│├─\n",
      "│││3. not A\t .hyp\n",
      "││├─\n",
      "│││4. bot\t\u001b[91mx bot intro 2\u001b[39m\n",
      "││5. A\t\u001b[92m✓\u001b[39m not elim 3-4\n",
      "│6. A imp A\t\u001b[92m✓\u001b[39m imp intro 2-5\n"
     ]
    }
   ],
   "source": [
    "# error case 2\n",
    "# annotation is syntactically incorrect\n",
    "# the whole annotation appears in red color\n",
    "\n",
    "fmla = 'A imp A'\n",
    "show_formula(fmla)\n",
    "\n",
    "prf_str0 = '''\n",
    "1. .hyp\n",
    "proves\n",
    "  2. A .hyp\n",
    "  proves\n",
    "    3. not A .hyp\n",
    "    proves\n",
    "    4. bot .bot intro 2\n",
    "  5. A .not elim 3-4\n",
    "6. A imp A .imp intro 2-5\n",
    "'''\n",
    "proof = parse_fitch(prf_str0)\n",
    "proof.show_fitch_text(1)"
   ]
  },
  {
   "cell_type": "code",
   "execution_count": 6,
   "metadata": {},
   "outputs": [
    {
     "data": {
      "text/latex": [
       "$\\displaystyle A \\rightarrow A$"
      ],
      "text/plain": [
       "<IPython.core.display.Math object>"
      ]
     },
     "metadata": {},
     "output_type": "display_data"
    },
    {
     "name": "stdout",
     "output_type": "stream",
     "text": [
      "Proof tree structure error:\n",
      "\n",
      "get_str_li(): level increased while belongs_to_hyp\n",
      "\t3. not A .hyp\n"
     ]
    }
   ],
   "source": [
    "# error case 3\n",
    "# invalid proof tree structure\n",
    "# try-except block catches the error to hide the lengthy traceback\n",
    "\n",
    "fmla = 'A imp A'\n",
    "show_formula(fmla)\n",
    "\n",
    "prf_str0 = '''\n",
    "1. .hyp\n",
    "proves\n",
    "  2. A .hyp\n",
    "    3. not A .hyp\n",
    "    proves\n",
    "    4. bot .bot intro 2\n",
    "  5. A .not elim 3-4\n",
    "6. A imp A .imp intro 2-5\n",
    "'''\n",
    "try:\n",
    "  proof = parse_fitch(prf_str0)\n",
    "  proof.show_fitch_text(1)\n",
    "except Exception as e:\n",
    "  print(\"Proof tree structure error:\\n\")\n",
    "  print(e)\n"
   ]
  },
  {
   "cell_type": "code",
   "execution_count": 7,
   "metadata": {},
   "outputs": [
    {
     "data": {
      "text/latex": [
       "$\\displaystyle A \\vee \\neg\\, A$"
      ],
      "text/plain": [
       "<IPython.core.display.Math object>"
      ]
     },
     "metadata": {},
     "output_type": "display_data"
    },
    {
     "name": "stdout",
     "output_type": "stream",
     "text": [
      "│1. \t .hyp\n",
      "├─\n",
      "││2. # comment line takes up a line\n",
      "││3. not (A or not A)\t .hyp\n",
      "│├─\n",
      "│││4. A\t .hyp\n",
      "││├─\n",
      "│││5. A or not A\t\u001b[92m✓\u001b[39m or intro 4\n",
      "│││6. bot\t\u001b[92m✓\u001b[39m bot intro 5,3\n",
      "││7. not A\t\u001b[92m✓\u001b[39m not intro 4-6\n",
      "││8. A or not A\t\u001b[92m✓\u001b[39m or intro 7\n",
      "││9. bot\t\u001b[92m✓\u001b[39m bot intro 8,3\n",
      "│10. A or not A\t\u001b[92m✓\u001b[39m not elim 2-9\n",
      "│11. #^ try replacing 2-9 with 3-9 and see what happens\n"
     ]
    }
   ],
   "source": [
    "# LEM(Law of Excluded Middle)\n",
    "# A or not A\n",
    "fmla = 'A or not A'\n",
    "show_formula(fmla)\n",
    "\n",
    "prf_str1 = '''\n",
    "1. .hyp\n",
    "proves\n",
    "  # comment line takes up a line\n",
    "  3. not(A or not A) .hyp\n",
    "  proves\n",
    "    4. A .hyp\n",
    "    proves\n",
    "    5. A or not A .or intro 4\n",
    "    6. bot .bot intro 5,3\n",
    "  7. not A .not intro 4-6\n",
    "  8. A or not A .or intro 7\n",
    "  9. bot .bot intro 8,3\n",
    "10. A or not A .not elim 2-9\n",
    "#^ try replacing 2-9 with 3-9 and see what happens\n",
    "'''\n",
    "proof = parse_fitch(prf_str1)\n",
    "proof.show_fitch_text(1)"
   ]
  },
  {
   "cell_type": "code",
   "execution_count": 8,
   "metadata": {},
   "outputs": [
    {
     "data": {
      "text/latex": [
       "$\\displaystyle A \\rightarrow B \\rightarrow A$"
      ],
      "text/plain": [
       "<IPython.core.display.Math object>"
      ]
     },
     "metadata": {},
     "output_type": "display_data"
    },
    {
     "name": "stdout",
     "output_type": "stream",
     "text": [
      "│1. \t .hyp\n",
      "├─\n",
      "││2. A\t .hyp\n",
      "│├─\n",
      "│││3. B\t .hyp\n",
      "││├─\n",
      "│││4. A\t\u001b[92m✓\u001b[39m repeat 2\n",
      "││5. B imp A\t\u001b[92m✓\u001b[39m imp intro 3-4\n",
      "│6. A imp B imp A\t\u001b[92m✓\u001b[39m imp intro 2-5\n"
     ]
    }
   ],
   "source": [
    "# Axiom 1 (Hilbert, Lukasiewicz)\n",
    "fmla = 'A imp (B imp A)'\n",
    "show_formula(fmla)\n",
    "\n",
    "prf_str2 = '''\n",
    "1. .hyp\n",
    "proves\n",
    "  2. A .hyp\n",
    "  proves\n",
    "    3. B .hyp\n",
    "    proves\n",
    "    4. A .repeat 2\n",
    "  5. B imp A .imp intro 3-4\n",
    "6. A imp (B imp A) .imp intro 2-5\n",
    "'''\n",
    "proof = parse_fitch(prf_str2)\n",
    "proof.show_fitch_text(1)"
   ]
  },
  {
   "cell_type": "code",
   "execution_count": 9,
   "metadata": {},
   "outputs": [
    {
     "data": {
      "text/latex": [
       "$\\displaystyle (A \\rightarrow B \\rightarrow C) \\rightarrow (A \\rightarrow B) \\rightarrow A \\rightarrow C$"
      ],
      "text/plain": [
       "<IPython.core.display.Math object>"
      ]
     },
     "metadata": {},
     "output_type": "display_data"
    },
    {
     "name": "stdout",
     "output_type": "stream",
     "text": [
      "│1. \t .hyp\n",
      "├─\n",
      "││2. A imp B imp C\t .hyp\n",
      "│├─\n",
      "│││3. A imp B\t .hyp\n",
      "││├─\n",
      "││││4. A\t .hyp\n",
      "│││├─\n",
      "││││5. B\t\u001b[92m✓\u001b[39m imp elim 3,4\n",
      "││││6. B imp C\t\u001b[92m✓\u001b[39m imp elim 2,4\n",
      "││││7. C\t\u001b[92m✓\u001b[39m imp elim 6,5\n",
      "│││8. A imp C\t\u001b[92m✓\u001b[39m imp intro 4-7\n",
      "││9. (A imp B) imp A imp C\t\u001b[92m✓\u001b[39m imp intro 3-8\n",
      "│10. (A imp B imp C) imp (A imp B) imp A imp C\t\u001b[92m✓\u001b[39m imp intro 2-9\n"
     ]
    }
   ],
   "source": [
    "# Axiom 2 (Hilbert, Lukasiewicz)\n",
    "fmla = '(A imp (B imp C)) imp ((A imp B) imp (A imp C))'\n",
    "show_formula(fmla)\n",
    "\n",
    "prf_str3 = '''\n",
    "1. .hyp\n",
    "proves\n",
    "  2. A imp (B imp C) .hyp\n",
    "  proves\n",
    "    3. A imp B .hyp\n",
    "    proves\n",
    "      4. A .hyp\n",
    "      proves\n",
    "      5. B .imp elim 3,4\n",
    "      6. B imp C .imp elim 2,4\n",
    "      7. C .imp elim 6,5\n",
    "    8. A imp C .imp intro 4-7\n",
    "  9. (A imp B) imp (A imp C) .imp intro 3-8\n",
    "10. (A imp (B imp C)) imp ((A imp B) imp (A imp C)) .imp intro 2-9\n",
    "'''\n",
    "proof = parse_fitch(prf_str3)\n",
    "proof.show_fitch_text(1)"
   ]
  },
  {
   "cell_type": "code",
   "execution_count": 10,
   "metadata": {},
   "outputs": [
    {
     "data": {
      "text/latex": [
       "$\\displaystyle (\\neg\\, B \\rightarrow \\neg\\, A) \\rightarrow A \\rightarrow B$"
      ],
      "text/plain": [
       "<IPython.core.display.Math object>"
      ]
     },
     "metadata": {},
     "output_type": "display_data"
    },
    {
     "name": "stdout",
     "output_type": "stream",
     "text": [
      "│1. \t .hyp\n",
      "├─\n",
      "││2. not B imp not A\t .hyp\n",
      "│├─\n",
      "│││3. A\t .hyp\n",
      "││├─\n",
      "││││4. not B\t .hyp\n",
      "│││├─\n",
      "││││5. not A\t\u001b[92m✓\u001b[39m imp elim 2,4\n",
      "││││6. bot\t\u001b[92m✓\u001b[39m bot intro 3,5\n",
      "│││7. B\t\u001b[92m✓\u001b[39m not elim 4-6\n",
      "││8. A imp B\t\u001b[92m✓\u001b[39m imp intro 3-7\n",
      "│9. (not B imp not A) imp A imp B\t\u001b[92m✓\u001b[39m imp intro 2-8\n"
     ]
    }
   ],
   "source": [
    "# Axiom 3 (Hilbert, Lukasiewicz), aka contraposition\n",
    "fmla = '(not B imp not A) imp (A imp B)'\n",
    "show_formula(fmla)\n",
    "\n",
    "prf_str4 = '''\n",
    "1. .hyp\n",
    "proves\n",
    "  2. not B imp not A .hyp\n",
    "  proves\n",
    "    3. A .hyp\n",
    "    proves\n",
    "      4. not B .hyp\n",
    "      proves\n",
    "      5. not A .imp elim 2,4\n",
    "      6. bot .bot intro 3,5\n",
    "    7. B .not elim 4-6\n",
    "  8. A imp B .imp intro 3-7\n",
    "9. (not B imp not A) imp (A imp B) .imp intro 2-8\n",
    "'''\n",
    "proof = parse_fitch(prf_str4)\n",
    "proof.show_fitch_text(1)"
   ]
  },
  {
   "cell_type": "code",
   "execution_count": 11,
   "metadata": {},
   "outputs": [
    {
     "data": {
      "text/latex": [
       "$\\displaystyle \\neg\\, A \\rightarrow A \\rightarrow B$"
      ],
      "text/plain": [
       "<IPython.core.display.Math object>"
      ]
     },
     "metadata": {},
     "output_type": "display_data"
    },
    {
     "name": "stdout",
     "output_type": "stream",
     "text": [
      "│1. \t .hyp\n",
      "├─\n",
      "││2. not A\t .hyp\n",
      "│├─\n",
      "│││3. A\t .hyp\n",
      "││├─\n",
      "│││4. bot\t\u001b[92m✓\u001b[39m bot intro 2,3\n",
      "│││5. B\t\u001b[92m✓\u001b[39m bot elim 4\n",
      "││6. A imp B\t\u001b[92m✓\u001b[39m imp intro 3-5\n",
      "│7. not A imp A imp B\t\u001b[92m✓\u001b[39m imp intro 2-6\n"
     ]
    }
   ],
   "source": [
    "# not A imp (A imp B)\n",
    "fmla = 'not A imp (A imp B)'\n",
    "show_formula(fmla)\n",
    "\n",
    "prf_str = '''\n",
    "1. .hyp\n",
    "proves\n",
    "  2. not A .hyp\n",
    "  proves\n",
    "    3. A .hyp\n",
    "    proves\n",
    "    4. bot .bot intro 2,3\n",
    "    5. B .bot elim 4\n",
    "  6. A imp B .imp intro 3-5\n",
    "7. not A imp (A imp B) .imp intro 2-6\n",
    "'''\n",
    "proof = parse_fitch(prf_str)\n",
    "proof.show_fitch_text(1)"
   ]
  },
  {
   "cell_type": "code",
   "execution_count": 12,
   "metadata": {},
   "outputs": [
    {
     "data": {
      "text/latex": [
       "$\\displaystyle A \\rightarrow (A \\rightarrow B) \\rightarrow B$"
      ],
      "text/plain": [
       "<IPython.core.display.Math object>"
      ]
     },
     "metadata": {},
     "output_type": "display_data"
    },
    {
     "name": "stdout",
     "output_type": "stream",
     "text": [
      "│1. \t .hyp\n",
      "├─\n",
      "││2. A\t .hyp\n",
      "│├─\n",
      "│││3. A imp B\t .hyp\n",
      "││├─\n",
      "││││4. A\t .hyp\n",
      "│││├─\n",
      "││││5. B\t\u001b[92m✓\u001b[39m imp elim 3,4\n",
      "│││6. A imp B\t\u001b[92m✓\u001b[39m imp intro 4-5\n",
      "│││7. B\t\u001b[92m✓\u001b[39m imp elim 6,2\n",
      "││8. (A imp B) imp B\t\u001b[92m✓\u001b[39m imp intro 3-7\n",
      "│9. A imp (A imp B) imp B\t\u001b[92m✓\u001b[39m imp intro 2-8\n"
     ]
    }
   ],
   "source": [
    "fmla = 'A imp ((A imp B) imp B)'\n",
    "show_formula(fmla)\n",
    "\n",
    "prf_str = '''\n",
    "1. .hyp\n",
    "proves\n",
    "  2. A .hyp\n",
    "  proves\n",
    "    3. A imp B .hyp\n",
    "    proves\n",
    "      4. A .hyp\n",
    "      proves\n",
    "      5. B .imp elim 3,4\n",
    "    6. A imp B .imp intro 4-5\n",
    "    7. B .imp elim 6,2\n",
    "  8. (A imp B) imp B .imp intro 3-7\n",
    "9. A imp ((A imp B) imp B) .imp intro 2-8\n",
    "'''\n",
    "proof = parse_fitch(prf_str)\n",
    "proof.show_fitch_text(1)"
   ]
  },
  {
   "cell_type": "code",
   "execution_count": 13,
   "metadata": {},
   "outputs": [
    {
     "data": {
      "text/latex": [
       "$\\displaystyle (A \\rightarrow B) \\rightarrow (B \\rightarrow C) \\rightarrow A \\rightarrow C$"
      ],
      "text/plain": [
       "<IPython.core.display.Math object>"
      ]
     },
     "metadata": {},
     "output_type": "display_data"
    },
    {
     "name": "stdout",
     "output_type": "stream",
     "text": [
      "│1. \t .hyp\n",
      "├─\n",
      "││2. A imp B\t .hyp\n",
      "│├─\n",
      "│││3. B imp C\t .hyp\n",
      "││├─\n",
      "││││4. A\t .hyp\n",
      "│││├─\n",
      "││││5. B\t\u001b[92m✓\u001b[39m imp elim 2,4\n",
      "││││6. C\t\u001b[92m✓\u001b[39m imp elim 3,5\n",
      "│││7. A imp C\t\u001b[92m✓\u001b[39m imp intro 4-6\n",
      "││8. (B imp C) imp A imp C\t\u001b[92m✓\u001b[39m imp intro 3-7\n",
      "│9. (A imp B) imp (B imp C) imp A imp C\t\u001b[92m✓\u001b[39m imp intro 2-8\n"
     ]
    }
   ],
   "source": [
    "# Transitivity of Implication\n",
    "fmla = '(A imp B) imp ((B imp C) imp (A imp C))'\n",
    "show_formula(fmla)\n",
    "\n",
    "prf_str = '''\n",
    "1. .hyp\n",
    "proves\n",
    "  2. A imp B .hyp\n",
    "  proves\n",
    "    3. B imp C .hyp\n",
    "    proves\n",
    "      4. A .hyp\n",
    "      proves\n",
    "      5. B .imp elim 2,4\n",
    "      6. C .imp elim 3,5\n",
    "    7. A imp C .imp intro 4-6\n",
    "  8. (B imp C) imp (A imp C) .imp intro 3-7\n",
    "9. (A imp B) imp ((B imp C) imp (A imp C)) .imp intro 2-8\n",
    "'''\n",
    "proof = parse_fitch(prf_str)\n",
    "proof.show_fitch_text(1)"
   ]
  },
  {
   "cell_type": "code",
   "execution_count": 14,
   "metadata": {},
   "outputs": [
    {
     "data": {
      "text/latex": [
       "$\\displaystyle (A \\rightarrow B \\rightarrow C) \\leftrightarrow (A \\wedge B \\rightarrow C)$"
      ],
      "text/plain": [
       "<IPython.core.display.Math object>"
      ]
     },
     "metadata": {},
     "output_type": "display_data"
    },
    {
     "name": "stdout",
     "output_type": "stream",
     "text": [
      "│1. \t .hyp\n",
      "├─\n",
      "││2. A imp B imp C\t .hyp\n",
      "│├─\n",
      "│││3. A and B\t .hyp\n",
      "││├─\n",
      "│││4. A\t\u001b[92m✓\u001b[39m and elim 3\n",
      "│││5. B imp C\t\u001b[92m✓\u001b[39m imp elim 2,4\n",
      "│││6. B\t\u001b[92m✓\u001b[39m and elim 3\n",
      "│││7. C\t\u001b[92m✓\u001b[39m imp elim 5,6\n",
      "││8. A and B imp C\t\u001b[92m✓\u001b[39m imp intro 3-7\n",
      "││9. A and B imp C\t .hyp\n",
      "│├─\n",
      "│││10. A\t .hyp\n",
      "││├─\n",
      "││││11. B\t .hyp\n",
      "│││├─\n",
      "││││12. A and B\t\u001b[92m✓\u001b[39m and intro 10,11\n",
      "││││13. C\t\u001b[92m✓\u001b[39m imp elim 9,12\n",
      "│││14. B imp C\t\u001b[92m✓\u001b[39m imp intro 11-13\n",
      "││15. A imp B imp C\t\u001b[92m✓\u001b[39m imp intro 10-14\n",
      "│16. (A and B imp C) iff (A imp B imp C)\t\u001b[92m✓\u001b[39m iff intro 2-8,9-15\n"
     ]
    }
   ],
   "source": [
    "# Transitivity of implication may be easier to understand\n",
    "# if we write it as follows:\n",
    "#   (A imp B) and (B imp C) imp (A imp C)\n",
    "# In fact, the following is a tautology.\n",
    "fmla = '(A imp (B imp C)) iff (A and B imp C)'\n",
    "show_formula(fmla)\n",
    "\n",
    "prf_str = '''\n",
    "1. .hyp\n",
    "proves\n",
    "  2. A imp (B imp C) .hyp\n",
    "  proves\n",
    "    3. A and B .hyp\n",
    "    proves\n",
    "    4. A .and elim 3\n",
    "    5. B imp C .imp elim 2,4\n",
    "    6. B .and elim 3\n",
    "    7. C .imp elim 5,6\n",
    "  8. A and B imp C .imp intro 3-7\n",
    "  9. A and B imp C .hyp\n",
    "  proves\n",
    "    10. A .hyp\n",
    "    proves\n",
    "      11. B  .hyp\n",
    "      proves\n",
    "      12. A and B .and intro 10,11\n",
    "      13. C .imp elim 9,12\n",
    "    14. B imp C .imp intro 11-13\n",
    "  15. A imp (B imp C) .imp intro 10-14\n",
    "16. (A and B imp C) iff (A imp (B imp C)) .iff intro 2-8, 9-15\n",
    "'''\n",
    "proof = parse_fitch(prf_str)\n",
    "proof.show_fitch_text(1)\n"
   ]
  },
  {
   "cell_type": "code",
   "execution_count": 15,
   "metadata": {},
   "outputs": [],
   "source": [
    "# So, the following is a tautology.\n",
    "# (A imp B imp C) iff (B imp A imp C)."
   ]
  },
  {
   "cell_type": "code",
   "execution_count": 16,
   "metadata": {},
   "outputs": [
    {
     "data": {
      "text/latex": [
       "$\\displaystyle \\neg\\, \\neg\\, A \\rightarrow A$"
      ],
      "text/plain": [
       "<IPython.core.display.Math object>"
      ]
     },
     "metadata": {},
     "output_type": "display_data"
    },
    {
     "name": "stdout",
     "output_type": "stream",
     "text": [
      "│1. \t .hyp\n",
      "├─\n",
      "││2. not not A\t .hyp\n",
      "│├─\n",
      "│││3. not A\t .hyp\n",
      "││├─\n",
      "│││4. bot\t\u001b[92m✓\u001b[39m bot intro 2,3\n",
      "││5. A\t\u001b[92m✓\u001b[39m not elim 3-4\n",
      "│6. not not A imp A\t\u001b[92m✓\u001b[39m imp intro 2-5\n"
     ]
    }
   ],
   "source": [
    "# Double negation elimination\n",
    "fmla = 'not not A imp A'\n",
    "show_formula(fmla)\n",
    "\n",
    "prf_str = '''\n",
    "1. .hyp\n",
    "proves\n",
    "  2. not not A .hyp\n",
    "  proves\n",
    "    3. not A .hyp\n",
    "    proves\n",
    "    4. bot .bot intro 2,3\n",
    "  5. A .not elim 3-4\n",
    "7. not not A imp A .imp intro 2-5\n",
    "'''\n",
    "proof = parse_fitch(prf_str)\n",
    "proof.show_fitch_text(1)"
   ]
  },
  {
   "cell_type": "code",
   "execution_count": 17,
   "metadata": {},
   "outputs": [
    {
     "data": {
      "text/latex": [
       "$\\displaystyle A \\rightarrow \\neg\\, \\neg\\, A$"
      ],
      "text/plain": [
       "<IPython.core.display.Math object>"
      ]
     },
     "metadata": {},
     "output_type": "display_data"
    },
    {
     "name": "stdout",
     "output_type": "stream",
     "text": [
      "│1. \t .hyp\n",
      "├─\n",
      "││2. A\t .hyp\n",
      "│├─\n",
      "│││3. not A\t .hyp\n",
      "││├─\n",
      "│││4. bot\t\u001b[92m✓\u001b[39m bot intro 2,3\n",
      "││5. not not A\t\u001b[92m✓\u001b[39m not intro 3-4\n",
      "│6. A imp not not A\t\u001b[92m✓\u001b[39m imp intro 2-5\n"
     ]
    }
   ],
   "source": [
    "# Double negation introduction\n",
    "fmla = 'A imp not not A'\n",
    "show_formula(fmla)\n",
    "\n",
    "prf_str = '''\n",
    "1. .hyp\n",
    "proves\n",
    "  2. A .hyp\n",
    "  proves\n",
    "    3. not A .hyp\n",
    "    proves\n",
    "    4. bot .bot intro 2,3\n",
    "  5. not not A .not intro 3-4\n",
    "7. A imp not not A .imp intro 2-5\n",
    "'''\n",
    "proof = parse_fitch(prf_str)\n",
    "proof.show_fitch_text(1)"
   ]
  },
  {
   "cell_type": "code",
   "execution_count": 18,
   "metadata": {},
   "outputs": [
    {
     "data": {
      "text/latex": [
       "$\\displaystyle (\\neg\\, A \\rightarrow B) \\rightarrow (\\neg\\, A \\rightarrow \\neg\\, B) \\rightarrow A$"
      ],
      "text/plain": [
       "<IPython.core.display.Math object>"
      ]
     },
     "metadata": {},
     "output_type": "display_data"
    },
    {
     "name": "stdout",
     "output_type": "stream",
     "text": [
      "The proof is\u001b[92m all valid\u001b[39m.\n",
      "\n",
      "│1. \t .hyp\n",
      "├─\n",
      "││2. not A imp B\t .hyp\n",
      "│├─\n",
      "│││3. not A imp not B\t .hyp\n",
      "││├─\n",
      "││││4. not A\t .hyp\n",
      "│││├─\n",
      "││││5. B\t\u001b[92m✓\u001b[39m imp elim 2,4\n",
      "││││6. not B\t\u001b[92m✓\u001b[39m imp elim 3,4\n",
      "││││7. bot\t\u001b[92m✓\u001b[39m bot intro 5,6\n",
      "│││8. A\t\u001b[92m✓\u001b[39m not elim 4-7\n",
      "││9. (not A imp not B) imp A\t\u001b[92m✓\u001b[39m imp intro 3-8\n",
      "│10. (not A imp B) imp (not A imp not B) imp A\t\u001b[92m✓\u001b[39m imp intro 2-9\n"
     ]
    }
   ],
   "source": [
    "# Following is a version of the Hilbert-Lukasiewicz axiom 3.\n",
    "fmla = '(not A imp B) imp (not A imp not B) imp A'\n",
    "show_formula(fmla)\n",
    "\n",
    "prf_str = '''\n",
    "1. .hyp\n",
    "proves\n",
    "  2. not A imp B .hyp\n",
    "  proves\n",
    "    3. not A imp not B .hyp\n",
    "    proves\n",
    "      4. not A .hyp\n",
    "      proves\n",
    "      5. B .imp elim 2,4\n",
    "      6. not B .imp elim 3,4\n",
    "      7. bot .bot intro 5,6\n",
    "    8. A .not elim 4-7\n",
    "  9. (not A imp not B) imp A .imp intro 3-8\n",
    "10. (not A imp B) imp (not A imp not B) imp A .imp intro 2-9\n",
    "'''\n",
    "proof = parse_fitch(prf_str)\n",
    "proof.show_validation_result()\n",
    "proof.show_fitch_text(1)\n"
   ]
  },
  {
   "cell_type": "code",
   "execution_count": 19,
   "metadata": {},
   "outputs": [],
   "source": [
    "# Exercises\n",
    "# 1. Construct a Fitch proof\n",
    "# 2. Verify by truth table\n",
    "\n",
    "# A and B iff B and A\n",
    "# A or B iff B or A\n",
    "# A and (B and C) iff (A and B) and C\n",
    "# A or (B or C) iff (A or B) or C\n",
    "# A and (B or C) iff (A and B) or (A and C)\n",
    "# A or (B and C) iff (A or B) and (A or C)\n",
    "# A imp B, not B ├─ not A\n",
    "# A or B, not A ├─ B\n",
    "# not(A and B), A ├─ not B\n",
    "# not A imp A ├─ A\n",
    "# not A ├─ A imp B\n",
    "# ├─ (B or C imp A) iff (B imp A) and (C imp A)\n",
    "# ├─ (A imp B and C) iff (A imp B) and (A imp C)\n",
    "# A imp B ├─ not B imp not A\n",
    "# (A imp B) iff (not A or B)\n",
    "# A  or B iff (not A imp B)\n",
    "# not(A imp B) iff A and not B\n",
    "# not(A and B) iff not A or not B\n",
    "# not(A or B) iff not A and not B\n",
    "# A or C, B or not C ├─ A or B\n",
    "# (B and C imp A) iff (B imp A) or (C imp A) \n",
    "# (A imp B or C) iff (A imp B) or (A imp C)\n",
    "# (A and not B) or (not A and B) iff not (A iff B)\n",
    "# (A imp not B) and (A or B) iff not(A iff B)\n",
    "# (A and B) or (not A and not B) iff (A iff B)\n",
    "# (A imp not B) and (B imp not A) and (A or B) iff not(A iff B)\n",
    "# (A imp B) and (not A imp C) iff (A and B) or (not A and C)\n",
    "# A imp B or C, A and B imp C ├─ A imp C\n",
    "# A imp B or C, A and D imp C ├─ A and (B imp D) imp C\n",
    "# A or B iff (A imp B) imp B)\n",
    "# ((A imp B) imp A) imp A\n",
    "# A and B imp C or D ├─ B imp C or (A imp D)\n",
    "# (A iff B) or (B iff C) or (C iff A)"
   ]
  }
 ],
 "metadata": {
  "kernelspec": {
   "display_name": "mlenv",
   "language": "python",
   "name": "python3"
  },
  "language_info": {
   "codemirror_mode": {
    "name": "ipython",
    "version": 3
   },
   "file_extension": ".py",
   "mimetype": "text/x-python",
   "name": "python",
   "nbconvert_exporter": "python",
   "pygments_lexer": "ipython3",
   "version": "3.11.2"
  },
  "orig_nbformat": 4
 },
 "nbformat": 4,
 "nbformat_minor": 2
}
