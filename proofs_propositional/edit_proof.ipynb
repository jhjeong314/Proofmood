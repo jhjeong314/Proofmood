{
 "cells": [
  {
   "cell_type": "code",
   "execution_count": 31,
   "metadata": {},
   "outputs": [],
   "source": [
    "# type: ignore\n",
    "\n",
    "try:\n",
    "  import sys\n",
    "  sys.path.append('../')\n",
    "  from modules.search_prop import *\n",
    "except ImportError:\n",
    "  url = 'https://raw.githubusercontent.com/jhjeong314/Proofmood/main/modules'\n",
    "  import httpimport\n",
    "  with httpimport.remote_repo(url):\n",
    "    from search_prop import *\n",
    "\n",
    "from pprint import pprint"
   ]
  },
  {
   "cell_type": "code",
   "execution_count": 32,
   "metadata": {},
   "outputs": [
    {
     "name": "stdout",
     "output_type": "stream",
     "text": [
      "│1. \t .hyp\n",
      "├─\n",
      "│2. \n",
      "\n",
      "{'1': [0, 0], '1-2': [0], '2': [0, 1]}\n"
     ]
    }
   ],
   "source": [
    "proof = ProofNodeS() # blank proof\n",
    "proof.show_fitch_text()\n",
    "print()\n",
    "pprint(proof.index_dict)"
   ]
  },
  {
   "cell_type": "code",
   "execution_count": 33,
   "metadata": {},
   "outputs": [
    {
     "name": "stdout",
     "output_type": "stream",
     "text": [
      "type: subproof\n",
      "line_num: 1-2\n",
      "index: [0]\n",
      "is_hyp: False\n",
      "number of children: 2\n",
      "\n",
      "type: formula\n",
      "line_num: 1\n",
      "index: [0, 0]\n",
      "is_hyp: True\n",
      "line: top\t .hyp \n",
      "validated: True\n",
      "\n",
      "type: blank.conc\n",
      "line_num: 2\n",
      "index: [0, 1]\n",
      "is_hyp: False\n",
      "line: \n",
      "validated: True\n"
     ]
    }
   ],
   "source": [
    "# ProofNode.build_str() example\n",
    "\n",
    "p_node12 = proof.get_p_node(\"1-2\")\n",
    "print(p_node12.build_str())\n",
    "print()\n",
    "p_node1 = proof.get_p_node(1)\n",
    "print(p_node1.build_str())\n",
    "print()\n",
    "p_node2 = proof.get_p_node(2)\n",
    "print(p_node2.build_str())\n"
   ]
  },
  {
   "cell_type": "code",
   "execution_count": 34,
   "metadata": {},
   "outputs": [
    {
     "name": "stdout",
     "output_type": "stream",
     "text": [
      "A imp B\n",
      "repeat 1\n"
     ]
    }
   ],
   "source": [
    "fmla = Formula('A imp B')\n",
    "ann = Ann('repeat 1')\n",
    "print(fmla)\n",
    "print(ann)"
   ]
  },
  {
   "cell_type": "code",
   "execution_count": 35,
   "metadata": {},
   "outputs": [
    {
     "name": "stdout",
     "output_type": "stream",
     "text": [
      "│1. A imp B\t .hyp\n",
      "├─\n",
      "│2. \n"
     ]
    }
   ],
   "source": [
    "proof.update_formula(1, fmla)\n",
    "proof.show_fitch_text()"
   ]
  },
  {
   "cell_type": "code",
   "execution_count": 36,
   "metadata": {},
   "outputs": [
    {
     "name": "stdout",
     "output_type": "stream",
     "text": [
      "│1. A imp B\t .hyp\n",
      "├─\n",
      "│2. A imp B\t\u001b[92m✓\u001b[39m repeat 1\n"
     ]
    }
   ],
   "source": [
    "proof.update_formula(2, fmla)\n",
    "proof.annotate('2', ann)\n",
    "proof.show_fitch_text()\n",
    "# proof.verified(2)"
   ]
  },
  {
   "cell_type": "code",
   "execution_count": 37,
   "metadata": {},
   "outputs": [
    {
     "name": "stdout",
     "output_type": "stream",
     "text": [
      "type: blank.conc\n",
      "line: \n",
      "formula: None\n",
      "ann: None\n",
      "is_hyp: False\n",
      "\n",
      "type: blank.conc\n",
      "line_num: None\n",
      "index: None\n",
      "is_hyp: False\n",
      "line: \n",
      "validated: None\n"
     ]
    }
   ],
   "source": [
    "label0 = NodeLabel(type='blank.conc')\n",
    "print(label0.build_str())\n",
    "print()\n",
    "p_node = ProofNode(label0)\n",
    "print(p_node.build_str())"
   ]
  },
  {
   "cell_type": "code",
   "execution_count": 30,
   "metadata": {},
   "outputs": [
    {
     "name": "stdout",
     "output_type": "stream",
     "text": [
      "{'1-3': [0], '1': [0, 0], '2': [0, 1], '3': [0, 2]}\n",
      "│1. A imp B\t .hyp\n",
      "├─\n",
      "│2. A imp B\t\u001b[92m✓\u001b[39m repeat 1\n",
      "│3. \n",
      "\n",
      "type: formula\n",
      "line_num: 2\n",
      "index: [0, 1]\n",
      "is_hyp: False\n",
      "line: A imp B\t .repeat 1\n",
      "validated: True\n"
     ]
    }
   ],
   "source": [
    "# insert a blank line in the conclusion\n",
    "proof.insert_node(2,go_above=False)\n",
    "pprint(proof.index_dict, sort_dicts=False)\n",
    "proof.show_fitch_text()\n",
    "print()\n",
    "p_node2 = proof.get_p_node(2)\n",
    "print(p_node2.build_str())"
   ]
  },
  {
   "cell_type": "code",
   "execution_count": 38,
   "metadata": {},
   "outputs": [
    {
     "name": "stdout",
     "output_type": "stream",
     "text": [
      "{'1-3': [0], '1': [0, 0], '2': [0, 1], '3': [0, 2]}\n",
      "│1. A imp B\t .hyp\n",
      "│2. \n",
      "├─\n",
      "│3. A imp B\t\u001b[92m✓\u001b[39m repeat 1\n",
      "\n",
      "type: formula\n",
      "line_num: 1\n",
      "index: [0, 0]\n",
      "is_hyp: True\n",
      "line: A imp B\t .hyp \n",
      "validated: True\n"
     ]
    }
   ],
   "source": [
    "# insert a blank line in the hypothesis\n",
    "proof.insert_node(1, go_above=False)\n",
    "pprint(proof.index_dict, sort_dicts=False)\n",
    "proof.show_fitch_text()\n",
    "print()\n",
    "p_node2 = proof.get_p_node(1)\n",
    "print(p_node2.build_str())"
   ]
  },
  {
   "cell_type": "code",
   "execution_count": 56,
   "metadata": {},
   "outputs": [
    {
     "name": "stdout",
     "output_type": "stream",
     "text": [
      "is_earlier(): node_code=\u001b[33m3-6\u001b[39m not found in index_dict\n",
      "\n",
      "│1. \t .hyp\n",
      "│2. \n",
      "├─\n",
      "││3. A\t .hyp\n",
      "│├─\n",
      "│││4. not A\t .hyp\n",
      "││├─\n",
      "│││5. bot\t\u001b[92m✓\u001b[39m bot intro 3,4\n",
      "│6. A imp A\t\u001b[91mx\u001b[39m imp intro 3-6\n"
     ]
    }
   ],
   "source": [
    "prf_str0 = '''\n",
    "1. .hyp\n",
    "\n",
    "proves\n",
    "  3. A .hyp\n",
    "  proves\n",
    "    4. not A .hyp\n",
    "    proves\n",
    "    5. bot .bot intro 3,4\n",
    "7. A imp A .imp intro 3-6\n",
    "'''\n",
    "proof0 = ProofNodeS(parse_fitch(prf_str0))\n",
    "proof0.show_fitch_text()"
   ]
  },
  {
   "cell_type": "code",
   "execution_count": 57,
   "metadata": {},
   "outputs": [
    {
     "name": "stdout",
     "output_type": "stream",
     "text": [
      "True\n",
      "│1. \t .hyp\n",
      "│2. \n",
      "├─\n",
      "││3. A\t .hyp\n",
      "│├─\n",
      "│││4. not A\t .hyp\n",
      "││├─\n",
      "│││5. bot\t\u001b[92m✓\u001b[39m bot intro 3,4\n",
      "││6. \n",
      "│7. A imp A\t\u001b[91mx\u001b[39m imp intro 3-6\n"
     ]
    }
   ],
   "source": [
    "print(proof0.insert_node(5, go_above=False, level_down=True))\n",
    "proof0.show_fitch_text()"
   ]
  },
  {
   "cell_type": "code",
   "execution_count": 28,
   "metadata": {},
   "outputs": [
    {
     "name": "stdout",
     "output_type": "stream",
     "text": [
      "[1, [2, 3], 99]\n"
     ]
    }
   ],
   "source": [
    "li = [1, [2,3]]\n",
    "li.insert(2,99)\n",
    "print(li)"
   ]
  }
 ],
 "metadata": {
  "kernelspec": {
   "display_name": "mlenv",
   "language": "python",
   "name": "python3"
  },
  "language_info": {
   "codemirror_mode": {
    "name": "ipython",
    "version": 3
   },
   "file_extension": ".py",
   "mimetype": "text/x-python",
   "name": "python",
   "nbconvert_exporter": "python",
   "pygments_lexer": "ipython3",
   "version": "3.11.2"
  },
  "orig_nbformat": 4
 },
 "nbformat": 4,
 "nbformat_minor": 2
}
