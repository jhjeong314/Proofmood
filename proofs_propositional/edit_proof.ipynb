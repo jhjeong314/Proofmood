{
 "cells": [
  {
   "cell_type": "code",
   "execution_count": 162,
   "metadata": {},
   "outputs": [],
   "source": [
    "# type: ignore\n",
    "\n",
    "try:\n",
    "  import sys\n",
    "  sys.path.append('../')\n",
    "  from modules.search_prop import *\n",
    "except ImportError:\n",
    "  url = 'https://raw.githubusercontent.com/jhjeong314/Proofmood/main/modules'\n",
    "  import httpimport\n",
    "  with httpimport.remote_repo(url):\n",
    "    from search_prop import *\n",
    "\n",
    "from pprint import pprint\n",
    "import copy"
   ]
  },
  {
   "cell_type": "code",
   "execution_count": 163,
   "metadata": {},
   "outputs": [
    {
     "name": "stdout",
     "output_type": "stream",
     "text": [
      "True\n",
      "\n",
      "type: formula\n",
      "line: top .\n",
      "formula: top\n",
      "ann: \n",
      "is_hyp: False\n",
      "\n",
      "type: formula\n",
      "line: top\n",
      "formula: top\n",
      "ann: \n",
      "is_hyp: False\n",
      "\n",
      "True\n",
      "\n",
      "type: formula\n",
      "line: top .hyp\n",
      "formula: top\n",
      "ann: hyp \n",
      "is_hyp: True\n",
      "\n",
      "type: formula\n",
      "line: .hyp\n",
      "formula: top\n",
      "ann: hyp \n",
      "is_hyp: True\n"
     ]
    }
   ],
   "source": [
    "# NodeLabel.build_str() test\n",
    "# blank conclusion and blank hypothesis example\n",
    "\n",
    "label1 = NodeLabel(LabelType.FORMULA, 'top .')\n",
    "label2 = NodeLabel(LabelType.FORMULA, 'top')\n",
    "print(label1 == label2)\n",
    "print()\n",
    "print(label1.build_str())\n",
    "print()\n",
    "print(label2.build_str())\n",
    "label3 = NodeLabel(LabelType.FORMULA, 'top .hyp')\n",
    "label4 = NodeLabel(LabelType.FORMULA, '.hyp')\n",
    "print()\n",
    "print(label3 == label4)\n",
    "print()\n",
    "print(label3.build_str())\n",
    "print()\n",
    "print(label4.build_str())"
   ]
  },
  {
   "cell_type": "code",
   "execution_count": 164,
   "metadata": {},
   "outputs": [
    {
     "name": "stdout",
     "output_type": "stream",
     "text": [
      "│1. \t .hyp\n",
      "├─\n",
      "│2.  \n"
     ]
    }
   ],
   "source": [
    "# Create a blank proof.\n",
    "proof = ProofNodeS() # blank proof\n",
    "proof.show_fitch_text()"
   ]
  },
  {
   "cell_type": "code",
   "execution_count": 165,
   "metadata": {},
   "outputs": [
    {
     "name": "stdout",
     "output_type": "stream",
     "text": [
      "│1. A\t .hyp\n",
      "├─\n",
      "│2.  \n"
     ]
    }
   ],
   "source": [
    "# Set hypothesis.\n",
    "proof.update_formula(1, Formula('A'))\n",
    "proof.show_fitch_text()"
   ]
  },
  {
   "cell_type": "code",
   "execution_count": 166,
   "metadata": {},
   "outputs": [
    {
     "name": "stdout",
     "output_type": "stream",
     "text": [
      "│1. A\t .hyp\n",
      "├─\n",
      "│2. B imp A\t\u001b[91mx\u001b[39m imp intro 1-2\n"
     ]
    }
   ],
   "source": [
    "# Set conclusion.\n",
    "proof.update_formula(2, Formula('B imp A'))\n",
    "proof.annotate(2, Ann('imp intro 1-2')) \n",
    "#^ this annotation is tentative and incorrect\n",
    "proof.show_fitch_text()"
   ]
  },
  {
   "cell_type": "code",
   "execution_count": 167,
   "metadata": {},
   "outputs": [
    {
     "name": "stdout",
     "output_type": "stream",
     "text": [
      "│1. A\t .hyp\n",
      "├─\n",
      "││2. \t .hyp\n",
      "│├─\n",
      "││3.  \n",
      "│4. B imp A\t\u001b[91mx\u001b[39m imp intro 1-4\n"
     ]
    }
   ],
   "source": [
    "# insert a subproof\n",
    "\n",
    "# Please note that the premise in the annotation of line 2 is \n",
    "# automatically updated from \"1-2\" to \"1-4\" to reflect the \n",
    "# insertion of a subproof.\n",
    "\n",
    "blank_proof = ProofNodeS() # blank proof to be inserted\n",
    "proof.insert_node(2, blank_proof)\n",
    "proof.show_fitch_text()"
   ]
  },
  {
   "cell_type": "code",
   "execution_count": 168,
   "metadata": {},
   "outputs": [
    {
     "name": "stdout",
     "output_type": "stream",
     "text": [
      "│1. A\t .hyp\n",
      "├─\n",
      "││2. B\t .hyp\n",
      "│├─\n",
      "││3. A\t\u001b[92m✓\u001b[39m repeat 1\n",
      "│4. B imp A\t\u001b[92m✓\u001b[39m imp intro 2-3\n"
     ]
    }
   ],
   "source": [
    "# Update the inserted subproof.\n",
    "proof.update_formula('2', Formula('B'))\n",
    "proof.update_formula('3', Formula('A'))\n",
    "proof.annotate('3', Ann('repeat 1'))\n",
    "# Annotate line 4 correctly.\n",
    "proof.annotate('4', Ann('imp intro 2-3'))\n",
    "proof.show_fitch_text()"
   ]
  },
  {
   "cell_type": "code",
   "execution_count": 169,
   "metadata": {},
   "outputs": [
    {
     "name": "stdout",
     "output_type": "stream",
     "text": [
      "│1. A\t .hyp\n",
      "├─\n",
      "││2. B\t .hyp\n",
      "│├─\n",
      "││3. \n",
      "││4. A\t\u001b[92m✓\u001b[39m repeat 1\n",
      "│5. B imp A\t\u001b[92m✓\u001b[39m imp intro 2-4\n"
     ]
    }
   ],
   "source": [
    "# insert a blank line\n",
    "prf = copy.deepcopy(proof)\n",
    "prf.insert_node('3') \n",
    "# note the automatic adjustments of annotations\n",
    "prf.show_fitch_text()"
   ]
  },
  {
   "cell_type": "code",
   "execution_count": 170,
   "metadata": {},
   "outputs": [
    {
     "name": "stdout",
     "output_type": "stream",
     "text": [
      "│1. A\t .hyp\n",
      "├─\n",
      "││2. B\t .hyp\n",
      "│├─\n",
      "││3. A\t\u001b[92m✓\u001b[39m repeat 1\n",
      "│4. B imp A\t\u001b[92m✓\u001b[39m imp intro 2-3\n"
     ]
    }
   ],
   "source": [
    "# delete a line\n",
    "prf2 = copy.deepcopy(prf)\n",
    "prf2.delete_node(3)\n",
    "# note the automatic adjustments of annotations\n",
    "prf2.show_fitch_text()"
   ]
  },
  {
   "cell_type": "code",
   "execution_count": 171,
   "metadata": {},
   "outputs": [
    {
     "name": "stdout",
     "output_type": "stream",
     "text": [
      "│1. A\t .hyp\n",
      "├─\n",
      "││2. B\t .hyp\n",
      "│├─\n",
      "││3. # blank line replaced\n",
      "││4. A\t\u001b[92m✓\u001b[39m repeat 1\n",
      "│5. B imp A\t\u001b[92m✓\u001b[39m imp intro 2-4\n"
     ]
    }
   ],
   "source": [
    "# Replace the blank line (Line 3) of prf (not of pref2) \n",
    "# with a comment.\n",
    "label = NodeLabel(type=LabelType.COMMENT_CONC, \n",
    "                  line='# blank line replaced')\n",
    "new_node = ProofNode(label)\n",
    "prf.replace_node(3, new_node)\n",
    "prf.show_fitch_text()"
   ]
  },
  {
   "cell_type": "code",
   "execution_count": 172,
   "metadata": {},
   "outputs": [
    {
     "name": "stdout",
     "output_type": "stream",
     "text": [
      "│1. A\t .hyp\n",
      "├─\n",
      "││2. B\t .hyp\n",
      "│├─\n",
      "││3. # blank line replaced\n",
      "││4. A\t\u001b[92m✓\u001b[39m repeat 1\n",
      "│5. B imp A\t\u001b[92m✓\u001b[39m imp intro 2-4\n",
      "\n",
      "label.type: subproof\n",
      "label.is_hyp: False\n",
      "line_num: 1-5\n",
      "index: [0]\n",
      "number of children: 3\n",
      "\n",
      "label.type: formula\n",
      "label.is_hyp: True\n",
      "line_num: 1\n",
      "index: [0, 0]\n",
      "label.line: A\t .hyp \n",
      "validated: True\n",
      "\n",
      "label.type: subproof\n",
      "label.is_hyp: False\n",
      "line_num: 2-4\n",
      "index: [0, 1]\n",
      "number of children: 3\n",
      "\n",
      "label.type: formula\n",
      "label.is_hyp: True\n",
      "line_num: 2\n",
      "index: [0, 1, 0]\n",
      "label.line: B\t .hyp \n",
      "validated: True\n",
      "\n",
      "label.type: comment.conc\n",
      "label.is_hyp: False\n",
      "line_num: 3\n",
      "index: [0, 1, 1]\n",
      "label.line: # blank line replaced\n",
      "validated: True\n",
      "\n",
      "label.type: formula\n",
      "label.is_hyp: False\n",
      "line_num: 4\n",
      "index: [0, 1, 2]\n",
      "label.line: A\t .repeat 1\n",
      "validated: True\n",
      "\n",
      "label.type: formula\n",
      "label.is_hyp: False\n",
      "line_num: 5\n",
      "index: [0, 2]\n",
      "label.line: B imp A\t .imp intro 2-4\n",
      "validated: True\n",
      "\n"
     ]
    }
   ],
   "source": [
    "# ProofNode.build_str() test\n",
    "\n",
    "prf.show_fitch_text()\n",
    "print()\n",
    "\n",
    "if prf.index_dict is not None:\n",
    "  for key in prf.index_dict:\n",
    "    p_node = prf.get_p_node(key)\n",
    "    print(p_node.build_str())\n",
    "    print()\n"
   ]
  },
  {
   "cell_type": "code",
   "execution_count": 173,
   "metadata": {},
   "outputs": [
    {
     "name": "stdout",
     "output_type": "stream",
     "text": [
      "\n",
      "All formulas have been validated.\n",
      "\n",
      "│1. B and C imp A\t .hyp\n",
      "├─\n",
      "│2. C or not C\t\u001b[92m✓\u001b[39m LEM \n",
      "││3. C\t .hyp\n",
      "│├─\n",
      "│││4. B\t .hyp\n",
      "││├─\n",
      "│││5. B and C\t\u001b[92m✓\u001b[39m and intro 3,4\n",
      "│││6. A\t\u001b[92m✓\u001b[39m imp elim 1,5\n",
      "││7. B imp A\t\u001b[92m✓\u001b[39m imp intro 4-6\n",
      "││8. (B imp A) or (C imp A)\t\u001b[92m✓\u001b[39m or intro 7\n",
      "││9. not C\t .hyp\n",
      "│├─\n",
      "│││10. C\t .hyp\n",
      "││├─\n",
      "│││11. bot\t\u001b[92m✓\u001b[39m bot intro 9,10\n",
      "│││12. A\t\u001b[92m✓\u001b[39m bot elim 11\n",
      "││13. C imp A\t\u001b[92m✓\u001b[39m imp intro 10-12\n",
      "││14. (B imp A) or (C imp A)\t\u001b[92m✓\u001b[39m or intro 13\n",
      "│15. (B imp A) or (C imp A)\t\u001b[92m✓\u001b[39m or elim 2,3-8,9-14\n"
     ]
    }
   ],
   "source": [
    "# Let's work on the following proof.\n",
    "# (B and C imp A) proves (B imp A) or (C imp A)\n",
    "\n",
    "prf_str = \"\"\"\n",
    "1. B and C imp A .hyp\n",
    "proves\n",
    "2. C or not C\n",
    "  3. C .hyp\n",
    "  proves\n",
    "    4. B .hyp\n",
    "    proves\n",
    "    5. B and C \n",
    "    6. A \n",
    "  7. B imp A \n",
    "  8. (B imp A) or (C imp A) \n",
    "  9. not C .hyp\n",
    "  proves\n",
    "    10. C .hyp\n",
    "    proves\n",
    "    11. bot \n",
    "    12. A \n",
    "  13. C imp A \n",
    "  14. (B imp A) or (C imp A) \n",
    "15. (B imp A) or (C imp A) \n",
    "\"\"\"\n",
    "proof = ProofNodeS(parse_fitch(prf_str))\n",
    "proof.search_proof() # automatic annotation\n",
    "proof.show_fitch_text()"
   ]
  },
  {
   "cell_type": "code",
   "execution_count": 174,
   "metadata": {},
   "outputs": [
    {
     "name": "stdout",
     "output_type": "stream",
     "text": [
      "│1. B and C imp A\t .hyp\n",
      "├─\n",
      "│2. (B imp A) or (C imp A)\t\u001b[91mx\u001b[39m \n"
     ]
    }
   ],
   "source": [
    "# Build above proof from scratch.\n",
    "prf = ProofNodeS()\n",
    "# Set the hypothesis and the conclusion.\n",
    "prf.update_formula(1, Formula('B and C imp A'))\n",
    "prf.update_formula(2, Formula('(B imp A) or (C imp A)'))\n",
    "prf.show_fitch_text()"
   ]
  },
  {
   "cell_type": "code",
   "execution_count": 175,
   "metadata": {},
   "outputs": [
    {
     "name": "stdout",
     "output_type": "stream",
     "text": [
      "│1. B and C imp A\t .hyp\n",
      "├─\n",
      "││2. \t .hyp\n",
      "│├─\n",
      "││3.  \n",
      "│4. (B imp A) or (C imp A)\t\u001b[91mx\u001b[39m \n"
     ]
    }
   ],
   "source": [
    "# As the conclusion is a disjunction formula, we will \n",
    "# explore the 'or elim' rule and the LEM rule, \n",
    "# in accordance with our heuristic.\n",
    "# We need an LEM formula and two subproofs.\n",
    "# First, we insert a blank proof.\n",
    "subproof = ProofNodeS()\n",
    "prf.insert_node(2, subproof)\n",
    "prf.show_fitch_text()"
   ]
  },
  {
   "cell_type": "code",
   "execution_count": 176,
   "metadata": {},
   "outputs": [
    {
     "name": "stdout",
     "output_type": "stream",
     "text": [
      "│1. B and C imp A\t .hyp\n",
      "├─\n",
      "│2. \n",
      "││3. \t .hyp\n",
      "│├─\n",
      "││4.  \n",
      "│5. (B imp A) or (C imp A)\t\u001b[91mx\u001b[39m \n"
     ]
    }
   ],
   "source": [
    "# Then we add a line for the LEM formula.\n",
    "# This is an interesting part. When we add a line in a subproof's \n",
    "# hypothesis part, it is put into the parent subproof's conclusion \n",
    "# part unless the line is a comment.\n",
    "prf.insert_node(2)\n",
    "prf.show_fitch_text()"
   ]
  },
  {
   "cell_type": "code",
   "execution_count": 177,
   "metadata": {},
   "outputs": [
    {
     "name": "stdout",
     "output_type": "stream",
     "text": [
      "│1. B and C imp A\t .hyp\n",
      "├─\n",
      "│2. \n",
      "││3. # comment in a subproof is allowed\n",
      "││4. \t .hyp\n",
      "│├─\n",
      "││5.  \n",
      "│6. (B imp A) or (C imp A)\t\u001b[91mx\u001b[39m \n"
     ]
    }
   ],
   "source": [
    "# This is just a test which is not directly related \n",
    "# to our goal.  A subproof may have multiple lines\n",
    "# when we insert comments.\n",
    "label = NodeLabel(type=LabelType.COMMENT_HYP, \n",
    "                  line='# comment in a subproof is allowed')\n",
    "new_node = ProofNode(label)\n",
    "prf.insert_node(3, new_node)\n",
    "prf.show_fitch_text()\n"
   ]
  },
  {
   "cell_type": "code",
   "execution_count": 178,
   "metadata": {},
   "outputs": [
    {
     "name": "stdout",
     "output_type": "stream",
     "text": [
      "│1. B and C imp A\t .hyp\n",
      "├─\n",
      "│2. \n",
      "││3. \t .hyp\n",
      "│├─\n",
      "││4.  \n",
      "│5. (B imp A) or (C imp A)\t\u001b[91mx\u001b[39m \n"
     ]
    }
   ],
   "source": [
    "# Delete the temporary comment line 3.\n",
    "prf.delete_node(3)\n",
    "prf.show_fitch_text()"
   ]
  },
  {
   "cell_type": "code",
   "execution_count": 179,
   "metadata": {},
   "outputs": [
    {
     "name": "stdout",
     "output_type": "stream",
     "text": [
      "│1. B and C imp A\t .hyp\n",
      "├─\n",
      "│2. C or not C\t\u001b[92m✓\u001b[39m LEM \n",
      "││3. \t .hyp\n",
      "│├─\n",
      "││4.  \n",
      "││5. \t .hyp\n",
      "│├─\n",
      "││6.  \n",
      "│7. (B imp A) or (C imp A)\t\u001b[91mx\u001b[39m \n"
     ]
    }
   ],
   "source": [
    "# Let's proceed as planned.\n",
    "# We set the LEM formula and insert another blank subproofs.\n",
    "subproof = ProofNodeS()\n",
    "prf.insert_node(5, subproof)\n",
    "prf.update_formula(2, Formula('C or not C'))\n",
    "prf.annotate(2, Ann('LEM'))\n",
    "prf.show_fitch_text()"
   ]
  },
  {
   "cell_type": "code",
   "execution_count": 180,
   "metadata": {},
   "outputs": [
    {
     "name": "stdout",
     "output_type": "stream",
     "text": [
      "│1. B and C imp A\t .hyp\n",
      "├─\n",
      "│2. C or not C\t\u001b[92m✓\u001b[39m LEM \n",
      "││3. C\t .hyp\n",
      "│├─\n",
      "││4. (B imp A) or (C imp A)\t\u001b[91mx\u001b[39m \n",
      "││5. not C\t .hyp\n",
      "│├─\n",
      "││6. (B imp A) or (C imp A)\t\u001b[91mx\u001b[39m \n",
      "│7. (B imp A) or (C imp A)\t\u001b[92m✓\u001b[39m or elim 2,3-4,5-6\n"
     ]
    }
   ],
   "source": [
    "# Fill in formulas in the subproofs.\n",
    "prf.update_formula(3, Formula('C'))\n",
    "prf.update_formula(4, Formula('(B imp A) or (C imp A)'))\n",
    "prf.update_formula(5, Formula('not C'))\n",
    "prf.update_formula(6, Formula('(B imp A) or (C imp A)'))\n",
    "# Annotate line 7.\n",
    "prf.annotate(7, Ann('or elim 2,3-4,5-6'))\n",
    "prf.show_fitch_text()"
   ]
  },
  {
   "cell_type": "code",
   "execution_count": 181,
   "metadata": {},
   "outputs": [
    {
     "name": "stdout",
     "output_type": "stream",
     "text": [
      "│1. B and C imp A\t .hyp\n",
      "├─\n",
      "│2. C or not C\t\u001b[92m✓\u001b[39m LEM \n",
      "││3. C\t .hyp\n",
      "│├─\n",
      "│││4. \t .hyp\n",
      "││├─\n",
      "│││5.  \n",
      "││6. (B imp A) or (C imp A)\t\u001b[91mx\u001b[39m \n",
      "││7. not C\t .hyp\n",
      "│├─\n",
      "││8. (B imp A) or (C imp A)\t\u001b[91mx\u001b[39m \n",
      "│9. (B imp A) or (C imp A)\t\u001b[92m✓\u001b[39m or elim 2,3-6,7-8\n"
     ]
    }
   ],
   "source": [
    "# In the subproof 3-4, we try to obtain line 4 by 'or intro'\n",
    "# applied to B imp A.\n",
    "# In the subproof 5-6, we try to line 6 by 'or intro'\n",
    "# applied to C imp A.\n",
    "# Each disjunct is an implication formula. So we need \n",
    "# two subproofs for 'imp intro'.\n",
    "subproof = ProofNodeS()\n",
    "prf.insert_node(4, subproof)\n",
    "prf.show_fitch_text()"
   ]
  },
  {
   "cell_type": "code",
   "execution_count": 182,
   "metadata": {},
   "outputs": [
    {
     "name": "stdout",
     "output_type": "stream",
     "text": [
      "│1. B and C imp A\t .hyp\n",
      "├─\n",
      "│2. C or not C\t\u001b[92m✓\u001b[39m LEM \n",
      "││3. C\t .hyp\n",
      "│├─\n",
      "│││4. \t .hyp\n",
      "││├─\n",
      "│││5.  \n",
      "││6. (B imp A) or (C imp A)\t\u001b[91mx\u001b[39m \n",
      "││7. not C\t .hyp\n",
      "│├─\n",
      "│││8. \t .hyp\n",
      "││├─\n",
      "│││9.  \n",
      "││10. (B imp A) or (C imp A)\t\u001b[91mx\u001b[39m \n",
      "│11. (B imp A) or (C imp A)\t\u001b[92m✓\u001b[39m or elim 2,3-6,7-10\n"
     ]
    }
   ],
   "source": [
    "# The function `insert_node()` does not handle the task of \n",
    "# duplicating the node (i.e., subproof). We must perform \n",
    "# the node duplication manually.\n",
    "subproof = ProofNodeS() \n",
    "prf.insert_node(8, subproof) # note the line number 8\n",
    "prf.show_fitch_text()"
   ]
  },
  {
   "cell_type": "code",
   "execution_count": 183,
   "metadata": {},
   "outputs": [
    {
     "name": "stdout",
     "output_type": "stream",
     "text": [
      "│1. B and C imp A\t .hyp\n",
      "├─\n",
      "│2. C or not C\t\u001b[92m✓\u001b[39m LEM \n",
      "││3. C\t .hyp\n",
      "│├─\n",
      "│││4. B\t .hyp\n",
      "││├─\n",
      "│││5. A\t\u001b[91mx\u001b[39m \n",
      "││6. (B imp A) or (C imp A)\t\u001b[91mx\u001b[39m \n",
      "││7. not C\t .hyp\n",
      "│├─\n",
      "│││8. \t .hyp\n",
      "││├─\n",
      "│││9. A\t\u001b[91mx\u001b[39m \n",
      "││10. (B imp A) or (C imp A)\t\u001b[91mx\u001b[39m \n",
      "│11. (B imp A) or (C imp A)\t\u001b[92m✓\u001b[39m or elim 2,3-6,7-10\n"
     ]
    }
   ],
   "source": [
    "# Fill in the blank lines in the added subproofs.\n",
    "prf.update_formula(4, Formula('B'))\n",
    "prf.update_formula(5, Formula('A'))\n",
    "prf.update_formula(9, Formula('C'))\n",
    "prf.update_formula(9, Formula('A'))\n",
    "prf.show_fitch_text()"
   ]
  },
  {
   "cell_type": "code",
   "execution_count": 184,
   "metadata": {},
   "outputs": [
    {
     "name": "stdout",
     "output_type": "stream",
     "text": [
      "type: formula\n",
      "line: B and C .and intro 3,4\n",
      "formula: B and C\n",
      "ann: and intro 3,4\n",
      "is_hyp: False\n"
     ]
    }
   ],
   "source": [
    "# Work on subproof 3-6.\n",
    "label1 = NodeLabel(type=LabelType.FORMULA, line='B and C .and intro 3,4')\n",
    "print(label1.build_str())\n"
   ]
  },
  {
   "cell_type": "code",
   "execution_count": 185,
   "metadata": {},
   "outputs": [
    {
     "name": "stdout",
     "output_type": "stream",
     "text": [
      "│1. B and C imp A\t .hyp\n",
      "├─\n",
      "│2. C or not C\t\u001b[92m✓\u001b[39m LEM \n",
      "││3. C\t .hyp\n",
      "│├─\n",
      "│││4. B\t .hyp\n",
      "││├─\n",
      "│││5. B and C\t\u001b[92m✓\u001b[39m and intro 3,4\n",
      "│││6. A\t\u001b[91mx\u001b[39m \n",
      "││7. (B imp A) or (C imp A)\t\u001b[91mx\u001b[39m \n",
      "││8. not C\t .hyp\n",
      "│├─\n",
      "│││9. \t .hyp\n",
      "││├─\n",
      "│││10. A\t\u001b[91mx\u001b[39m \n",
      "││11. (B imp A) or (C imp A)\t\u001b[91mx\u001b[39m \n",
      "│12. (B imp A) or (C imp A)\t\u001b[92m✓\u001b[39m or elim 2,3-7,8-11\n"
     ]
    }
   ],
   "source": [
    "node1 = ProofNode(label1)\n",
    "prf.insert_node(5, node1)\n",
    "prf.show_fitch_text()"
   ]
  },
  {
   "cell_type": "code",
   "execution_count": 186,
   "metadata": {},
   "outputs": [
    {
     "name": "stdout",
     "output_type": "stream",
     "text": [
      "│1. B and C imp A\t .hyp\n",
      "├─\n",
      "│2. C or not C\t\u001b[92m✓\u001b[39m LEM \n",
      "││3. C\t .hyp\n",
      "│├─\n",
      "│││4. B\t .hyp\n",
      "││├─\n",
      "│││5. B and C\t\u001b[92m✓\u001b[39m and intro 3,4\n",
      "│││6. A\t\u001b[92m✓\u001b[39m imp elim 1,5\n",
      "││7. (B imp A) or (C imp A)\t\u001b[91mx\u001b[39m \n",
      "││8. not C\t .hyp\n",
      "│├─\n",
      "│││9. \t .hyp\n",
      "││├─\n",
      "│││10. A\t\u001b[91mx\u001b[39m \n",
      "││11. (B imp A) or (C imp A)\t\u001b[91mx\u001b[39m \n",
      "│12. (B imp A) or (C imp A)\t\u001b[92m✓\u001b[39m or elim 2,3-7,8-11\n"
     ]
    }
   ],
   "source": [
    "prf.annotate(6, Ann('imp elim 1,5'))\n",
    "prf.show_fitch_text()"
   ]
  },
  {
   "cell_type": "code",
   "execution_count": 187,
   "metadata": {},
   "outputs": [
    {
     "name": "stdout",
     "output_type": "stream",
     "text": [
      "│1. B and C imp A\t .hyp\n",
      "├─\n",
      "│2. C or not C\t\u001b[92m✓\u001b[39m LEM \n",
      "││3. C\t .hyp\n",
      "│├─\n",
      "│││4. B\t .hyp\n",
      "││├─\n",
      "│││5. B and C\t\u001b[92m✓\u001b[39m and intro 3,4\n",
      "│││6. A\t\u001b[92m✓\u001b[39m imp elim 1,5\n",
      "││7. B imp A\t\u001b[92m✓\u001b[39m imp intro 4-6\n",
      "││8. (B imp A) or (C imp A)\t\u001b[92m✓\u001b[39m or intro 7\n",
      "││9. not C\t .hyp\n",
      "│├─\n",
      "│││10. \t .hyp\n",
      "││├─\n",
      "│││11. A\t\u001b[91mx\u001b[39m \n",
      "││12. (B imp A) or (C imp A)\t\u001b[91mx\u001b[39m \n",
      "│13. (B imp A) or (C imp A)\t\u001b[92m✓\u001b[39m or elim 2,3-8,9-12\n"
     ]
    }
   ],
   "source": [
    "label2 = NodeLabel(type=LabelType.FORMULA, line='B imp A .imp intro 4-6')\n",
    "prf.insert_node(7, ProofNode(label2))\n",
    "prf.annotate(8, Ann('or intro 7'))\n",
    "prf.show_fitch_text()"
   ]
  },
  {
   "cell_type": "code",
   "execution_count": 188,
   "metadata": {},
   "outputs": [
    {
     "name": "stdout",
     "output_type": "stream",
     "text": [
      "│1. B and C imp A\t .hyp\n",
      "├─\n",
      "│2. C or not C\t\u001b[92m✓\u001b[39m LEM \n",
      "││3. C\t .hyp\n",
      "│├─\n",
      "│││4. B\t .hyp\n",
      "││├─\n",
      "│││5. B and C\t\u001b[92m✓\u001b[39m and intro 3,4\n",
      "│││6. A\t\u001b[92m✓\u001b[39m imp elim 1,5\n",
      "││7. B imp A\t\u001b[92m✓\u001b[39m imp intro 4-6\n",
      "││8. (B imp A) or (C imp A)\t\u001b[92m✓\u001b[39m or intro 7\n",
      "││9. not C\t .hyp\n",
      "│├─\n",
      "│││10. \t .hyp\n",
      "││├─\n",
      "│││11. bot\t\u001b[91mx\u001b[39m \n",
      "│││12. A\t\u001b[91mx\u001b[39m \n",
      "││13. (B imp A) or (C imp A)\t\u001b[91mx\u001b[39m \n",
      "│14. (B imp A) or (C imp A)\t\u001b[92m✓\u001b[39m or elim 2,3-8,9-13\n"
     ]
    }
   ],
   "source": [
    "# Work on subproof 9-12.\n",
    "label3 = NodeLabel(type=LabelType.FORMULA, line='bot')\n",
    "prf.insert_node(11, ProofNode(label3))\n",
    "prf.show_fitch_text()"
   ]
  },
  {
   "cell_type": "code",
   "execution_count": 189,
   "metadata": {},
   "outputs": [
    {
     "name": "stdout",
     "output_type": "stream",
     "text": [
      "│1. B and C imp A\t .hyp\n",
      "├─\n",
      "│2. C or not C\t\u001b[92m✓\u001b[39m LEM \n",
      "││3. C\t .hyp\n",
      "│├─\n",
      "│││4. B\t .hyp\n",
      "││├─\n",
      "│││5. B and C\t\u001b[92m✓\u001b[39m and intro 3,4\n",
      "│││6. A\t\u001b[92m✓\u001b[39m imp elim 1,5\n",
      "││7. B imp A\t\u001b[92m✓\u001b[39m imp intro 4-6\n",
      "││8. (B imp A) or (C imp A)\t\u001b[92m✓\u001b[39m or intro 7\n",
      "││9. not C\t .hyp\n",
      "│├─\n",
      "│││10. C\t .hyp\n",
      "││├─\n",
      "│││11. bot\t\u001b[92m✓\u001b[39m bot intro 10,9\n",
      "│││12. A\t\u001b[92m✓\u001b[39m bot elim 11\n",
      "││13. (B imp A) or (C imp A)\t\u001b[91mx\u001b[39m \n",
      "│14. (B imp A) or (C imp A)\t\u001b[92m✓\u001b[39m or elim 2,3-8,9-13\n"
     ]
    }
   ],
   "source": [
    "prf.update_formula(10, Formula('C'))\n",
    "prf.annotate(11, Ann('bot intro 10,9'))\n",
    "prf.annotate(12, Ann('bot elim 11'))\n",
    "prf.show_fitch_text()"
   ]
  },
  {
   "cell_type": "code",
   "execution_count": 190,
   "metadata": {},
   "outputs": [
    {
     "name": "stdout",
     "output_type": "stream",
     "text": [
      "│1. B and C imp A\t .hyp\n",
      "├─\n",
      "│2. C or not C\t\u001b[92m✓\u001b[39m LEM \n",
      "││3. C\t .hyp\n",
      "│├─\n",
      "│││4. B\t .hyp\n",
      "││├─\n",
      "│││5. B and C\t\u001b[92m✓\u001b[39m and intro 3,4\n",
      "│││6. A\t\u001b[92m✓\u001b[39m imp elim 1,5\n",
      "││7. B imp A\t\u001b[92m✓\u001b[39m imp intro 4-6\n",
      "││8. (B imp A) or (C imp A)\t\u001b[92m✓\u001b[39m or intro 7\n",
      "││9. not C\t .hyp\n",
      "│├─\n",
      "│││10. C\t .hyp\n",
      "││├─\n",
      "│││11. bot\t\u001b[92m✓\u001b[39m bot intro 10,9\n",
      "│││12. A\t\u001b[92m✓\u001b[39m bot elim 11\n",
      "││13. C imp A\t\u001b[92m✓\u001b[39m imp intro 10-12\n",
      "││14. (B imp A) or (C imp A)\t\u001b[92m✓\u001b[39m or intro 13\n",
      "│15. (B imp A) or (C imp A)\t\u001b[92m✓\u001b[39m or elim 2,3-8,9-14\n"
     ]
    }
   ],
   "source": [
    "# Finish the proof.\n",
    "label4 = NodeLabel(type=LabelType.FORMULA, line='C imp A .imp intro 10-12')\n",
    "prf.insert_node(13, ProofNode(label4))\n",
    "prf.annotate(14, Ann('or intro 13'))\n",
    "prf.show_fitch_text()"
   ]
  },
  {
   "cell_type": "code",
   "execution_count": 191,
   "metadata": {},
   "outputs": [
    {
     "name": "stdout",
     "output_type": "stream",
     "text": [
      "│1. B and C imp A\t .hyp\n",
      "├─\n",
      "│2. C or not C\t\u001b[92m✓\u001b[39m LEM \n",
      "││3. C\t .hyp\n",
      "│├─\n",
      "│││4. B\t .hyp\n",
      "││├─\n",
      "│││5. B and C\t\u001b[92m✓\u001b[39m and intro 3,4\n",
      "│││6. A\t\u001b[92m✓\u001b[39m imp elim 1,5\n",
      "││7. B imp A\t\u001b[92m✓\u001b[39m imp intro 4-6\n",
      "││8. (B imp A) or (C imp A)\t\u001b[92m✓\u001b[39m or intro 7\n",
      "││9. not C\t .hyp\n",
      "│├─\n",
      "││10. C imp A\t\u001b[91mx\u001b[39m imp intro \n",
      "││11. (B imp A) or (C imp A)\t\u001b[92m✓\u001b[39m or intro 10\n",
      "│12. (B imp A) or (C imp A)\t\u001b[92m✓\u001b[39m or elim 2,3-8,9-11\n"
     ]
    }
   ],
   "source": [
    "# cut-and-paste example 1\n",
    "# cut_node() followed by insert_node()\n",
    "prf99 = copy.deepcopy(prf)\n",
    "node2 = prf99.cut_node('10-12')\n",
    "prf99.show_fitch_text()"
   ]
  },
  {
   "cell_type": "code",
   "execution_count": 192,
   "metadata": {},
   "outputs": [
    {
     "name": "stdout",
     "output_type": "stream",
     "text": [
      "│1. B and C imp A\t .hyp\n",
      "├─\n",
      "│2. C or not C\t\u001b[92m✓\u001b[39m LEM \n",
      "││3. C\t .hyp\n",
      "│├─\n",
      "│││4. B\t .hyp\n",
      "││├─\n",
      "│││5. B and C\t\u001b[92m✓\u001b[39m and intro 3,4\n",
      "│││6. A\t\u001b[92m✓\u001b[39m imp elim 1,5\n",
      "││7. B imp A\t\u001b[92m✓\u001b[39m imp intro 4-6\n",
      "││8. (B imp A) or (C imp A)\t\u001b[92m✓\u001b[39m or intro 7\n",
      "││9. not C\t .hyp\n",
      "│├─\n",
      "│││10. C\t .hyp\n",
      "││├─\n",
      "│││11. bot\t\u001b[92m✓\u001b[39m bot intro 10,9\n",
      "│││12. A\t\u001b[92m✓\u001b[39m bot elim 11\n",
      "││13. C imp A\t\u001b[91mx\u001b[39m imp intro \n",
      "││14. (B imp A) or (C imp A)\t\u001b[92m✓\u001b[39m or intro 13\n",
      "│15. (B imp A) or (C imp A)\t\u001b[92m✓\u001b[39m or elim 2,3-8,9-14\n"
     ]
    }
   ],
   "source": [
    "prf99.insert_node(10, node2)\n",
    "prf99.show_fitch_text()"
   ]
  },
  {
   "cell_type": "code",
   "execution_count": 193,
   "metadata": {},
   "outputs": [
    {
     "name": "stdout",
     "output_type": "stream",
     "text": [
      "│1. B and C imp A\t .hyp\n",
      "├─\n",
      "│2. C or not C\t\u001b[92m✓\u001b[39m LEM \n",
      "││3. C\t .hyp\n",
      "│├─\n",
      "│││4. B\t .hyp\n",
      "││├─\n",
      "│││5. B and C\t\u001b[92m✓\u001b[39m and intro 3,4\n",
      "│││6. A\t\u001b[92m✓\u001b[39m imp elim 1,5\n",
      "││7. B imp A\t\u001b[92m✓\u001b[39m imp intro 4-6\n",
      "││8. (B imp A) or (C imp A)\t\u001b[92m✓\u001b[39m or intro 7\n",
      "││9. not C\t .hyp\n",
      "│├─\n",
      "│││10. C\t .hyp\n",
      "││├─\n",
      "│││11. bot\t\u001b[92m✓\u001b[39m bot intro 10,9\n",
      "│││12. A\t\u001b[92m✓\u001b[39m bot elim 11\n",
      "││13. C imp A\t\u001b[92m✓\u001b[39m imp intro 10-12\n",
      "││14. (B imp A) or (C imp A)\t\u001b[92m✓\u001b[39m or intro 13\n",
      "│15. (B imp A) or (C imp A)\t\u001b[92m✓\u001b[39m or elim 2,3-8,9-14\n"
     ]
    }
   ],
   "source": [
    "prf99.annotate(13, Ann('imp intro 10-12'))\n",
    "prf99.show_fitch_text()"
   ]
  },
  {
   "cell_type": "code",
   "execution_count": 194,
   "metadata": {},
   "outputs": [
    {
     "name": "stdout",
     "output_type": "stream",
     "text": [
      "│1. B and C imp A\t .hyp\n",
      "├─\n",
      "│2. C or not C\t\u001b[92m✓\u001b[39m LEM \n",
      "││3. not C\t .hyp\n",
      "│├─\n",
      "│││4. C\t .hyp\n",
      "││├─\n",
      "│││5. bot\t\u001b[92m✓\u001b[39m bot intro 4,3\n",
      "│││6. A\t\u001b[92m✓\u001b[39m bot elim 5\n",
      "││7. C imp A\t\u001b[92m✓\u001b[39m imp intro 4-6\n",
      "││8. (B imp A) or (C imp A)\t\u001b[92m✓\u001b[39m or intro 7\n",
      "│9. (B imp A) or (C imp A)\t\u001b[91mx\u001b[39m or elim 2,3-8\n"
     ]
    }
   ],
   "source": [
    "# cut-and-paste 2nd example\n",
    "prf99 = copy.deepcopy(prf)\n",
    "node3 = prf99.cut_node('3-8')\n",
    "prf99.show_fitch_text()"
   ]
  },
  {
   "cell_type": "code",
   "execution_count": 195,
   "metadata": {},
   "outputs": [
    {
     "name": "stdout",
     "output_type": "stream",
     "text": [
      "│1. B and C imp A\t .hyp\n",
      "├─\n",
      "│2. C or not C\t\u001b[92m✓\u001b[39m LEM \n",
      "││3. C\t .hyp\n",
      "│├─\n",
      "│││4. B\t .hyp\n",
      "││├─\n",
      "│││5. B and C\t\u001b[92m✓\u001b[39m and intro 3,4\n",
      "│││6. A\t\u001b[92m✓\u001b[39m imp elim 1,5\n",
      "││7. B imp A\t\u001b[92m✓\u001b[39m imp intro 4-6\n",
      "││8. (B imp A) or (C imp A)\t\u001b[92m✓\u001b[39m or intro 7\n",
      "││9. not C\t .hyp\n",
      "│├─\n",
      "│││10. C\t .hyp\n",
      "││├─\n",
      "│││11. bot\t\u001b[92m✓\u001b[39m bot intro 10,9\n",
      "│││12. A\t\u001b[92m✓\u001b[39m bot elim 11\n",
      "││13. C imp A\t\u001b[92m✓\u001b[39m imp intro 10-12\n",
      "││14. (B imp A) or (C imp A)\t\u001b[92m✓\u001b[39m or intro 13\n",
      "│15. (B imp A) or (C imp A)\t\u001b[91mx\u001b[39m or elim 8,9-14\n"
     ]
    }
   ],
   "source": [
    "# go_above = False case\n",
    "prf99.insert_node(2, node3, go_above=False)\n",
    "prf99.show_fitch_text()"
   ]
  },
  {
   "cell_type": "code",
   "execution_count": 196,
   "metadata": {},
   "outputs": [
    {
     "name": "stdout",
     "output_type": "stream",
     "text": [
      "│1. B and C imp A\t .hyp\n",
      "├─\n",
      "│2. C or not C\t\u001b[92m✓\u001b[39m LEM \n",
      "││3. C\t .hyp\n",
      "│├─\n",
      "│││4. B\t .hyp\n",
      "││├─\n",
      "│││5. B and C\t\u001b[92m✓\u001b[39m and intro 3,4\n",
      "│││6. A\t\u001b[92m✓\u001b[39m imp elim 1,5\n",
      "││7. B imp A\t\u001b[92m✓\u001b[39m imp intro 4-6\n",
      "││8. (B imp A) or (C imp A)\t\u001b[92m✓\u001b[39m or intro 7\n",
      "││9. not C\t .hyp\n",
      "│├─\n",
      "│││10. C\t .hyp\n",
      "││├─\n",
      "│││11. bot\t\u001b[92m✓\u001b[39m bot intro 10,9\n",
      "│││12. A\t\u001b[92m✓\u001b[39m bot elim 11\n",
      "││13. C imp A\t\u001b[92m✓\u001b[39m imp intro 10-12\n",
      "││14. (B imp A) or (C imp A)\t\u001b[92m✓\u001b[39m or intro 13\n",
      "│15. (B imp A) or (C imp A)\t\u001b[92m✓\u001b[39m or elim 2,3-8,9-14\n"
     ]
    }
   ],
   "source": [
    "prf99.annotate(15, Ann('or elim 2,3-8, 9-14'))\n",
    "prf99.show_fitch_text()"
   ]
  },
  {
   "cell_type": "code",
   "execution_count": 197,
   "metadata": {},
   "outputs": [
    {
     "name": "stdout",
     "output_type": "stream",
     "text": [
      "│1. B and C imp A\t .hyp\n",
      "├─\n",
      "│2. C or not C\t\u001b[92m✓\u001b[39m LEM \n",
      "││3. C\t .hyp\n",
      "│├─\n",
      "│││4. B\t .hyp\n",
      "││├─\n",
      "│││5. B and C\t\u001b[92m✓\u001b[39m and intro 3,4\n",
      "│││6. A\t\u001b[92m✓\u001b[39m imp elim 1,5\n",
      "││7. B imp A\t\u001b[92m✓\u001b[39m imp intro 4-6\n",
      "││8. (B imp A) or (C imp A)\t\u001b[92m✓\u001b[39m or intro 7\n",
      "││9. not C\t .hyp\n",
      "│├─\n",
      "│││10. C\t .hyp\n",
      "││├─\n",
      "│││11. bot\t\u001b[92m✓\u001b[39m bot intro 10,9\n",
      "│││12. A\t\u001b[92m✓\u001b[39m bot elim 11\n",
      "││13. C imp A\t\u001b[92m✓\u001b[39m imp intro 10-12\n",
      "│14. (B imp A) or (C imp A)\t\u001b[91mx\u001b[39m or elim 2,3-8\n"
     ]
    }
   ],
   "source": [
    "# cut-and-paste example 3\n",
    "prf00 = copy.deepcopy(prf99)\n",
    "p_node = prf00.cut_node(14)\n",
    "prf00.show_fitch_text()"
   ]
  },
  {
   "cell_type": "code",
   "execution_count": 198,
   "metadata": {},
   "outputs": [
    {
     "name": "stdout",
     "output_type": "stream",
     "text": [
      "│1. B and C imp A\t .hyp\n",
      "├─\n",
      "│2. C or not C\t\u001b[92m✓\u001b[39m LEM \n",
      "││3. C\t .hyp\n",
      "│├─\n",
      "│││4. B\t .hyp\n",
      "││├─\n",
      "│││5. B and C\t\u001b[92m✓\u001b[39m and intro 3,4\n",
      "│││6. A\t\u001b[92m✓\u001b[39m imp elim 1,5\n",
      "││7. B imp A\t\u001b[92m✓\u001b[39m imp intro 4-6\n",
      "││8. (B imp A) or (C imp A)\t\u001b[92m✓\u001b[39m or intro 7\n",
      "││9. not C\t .hyp\n",
      "│├─\n",
      "│││10. C\t .hyp\n",
      "││├─\n",
      "│││11. bot\t\u001b[92m✓\u001b[39m bot intro 10,9\n",
      "│││12. A\t\u001b[92m✓\u001b[39m bot elim 11\n",
      "││13. C imp A\t\u001b[92m✓\u001b[39m imp intro 10-12\n",
      "││14. (B imp A) or (C imp A)\t\u001b[92m✓\u001b[39m or intro 13\n",
      "│15. (B imp A) or (C imp A)\t\u001b[92m✓\u001b[39m or elim 2,3-8,9-14\n"
     ]
    }
   ],
   "source": [
    "prf00.insert_node(13, p_node, go_above=False)\n",
    "prf00.annotate(15, Ann('or elim 2,3-8, 9-14'))\n",
    "prf00.show_fitch_text()"
   ]
  },
  {
   "cell_type": "code",
   "execution_count": 199,
   "metadata": {},
   "outputs": [
    {
     "name": "stdout",
     "output_type": "stream",
     "text": [
      "│1. B and C imp A\t .hyp\n",
      "├─\n",
      "│2. (B imp A) or (C imp A)\t\u001b[91mx\u001b[39m or intro 13\n",
      "│3. C or not C\t\u001b[92m✓\u001b[39m LEM \n",
      "││4. C\t .hyp\n",
      "│├─\n",
      "│││5. B\t .hyp\n",
      "││├─\n",
      "│││6. B and C\t\u001b[92m✓\u001b[39m and intro 4,5\n",
      "│││7. A\t\u001b[92m✓\u001b[39m imp elim 1,6\n",
      "││8. B imp A\t\u001b[92m✓\u001b[39m imp intro 5-7\n",
      "││9. (B imp A) or (C imp A)\t\u001b[92m✓\u001b[39m or intro 8\n",
      "││10. not C\t .hyp\n",
      "│├─\n",
      "│││11. C\t .hyp\n",
      "││├─\n",
      "│││12. bot\t\u001b[92m✓\u001b[39m bot intro 11,10\n",
      "│││13. A\t\u001b[92m✓\u001b[39m bot elim 12\n",
      "││14. C imp A\t\u001b[92m✓\u001b[39m imp intro 11-13\n",
      "│15. (B imp A) or (C imp A)\t\u001b[91mx\u001b[39m or elim 3,4-9\n"
     ]
    }
   ],
   "source": [
    "# move_node() test\n",
    "prf00.move_node(14, 2)\n",
    "prf00.show_fitch_text()"
   ]
  },
  {
   "cell_type": "code",
   "execution_count": 200,
   "metadata": {},
   "outputs": [
    {
     "name": "stdout",
     "output_type": "stream",
     "text": [
      "│1. B and C imp A\t .hyp\n",
      "├─\n",
      "│2. C or not C\t\u001b[92m✓\u001b[39m LEM \n",
      "││3. C\t .hyp\n",
      "│├─\n",
      "│││4. B\t .hyp\n",
      "││├─\n",
      "│││5. B and C\t\u001b[92m✓\u001b[39m and intro 3,4\n",
      "│││6. A\t\u001b[92m✓\u001b[39m imp elim 1,5\n",
      "││7. B imp A\t\u001b[92m✓\u001b[39m imp intro 4-6\n",
      "││8. (B imp A) or (C imp A)\t\u001b[92m✓\u001b[39m or intro 7\n",
      "││9. not C\t .hyp\n",
      "│├─\n",
      "│││10. C\t .hyp\n",
      "││├─\n",
      "│││11. bot\t\u001b[92m✓\u001b[39m bot intro 10,9\n",
      "│││12. A\t\u001b[92m✓\u001b[39m bot elim 11\n",
      "││13. C imp A\t\u001b[92m✓\u001b[39m imp intro 10-12\n",
      "││14. (B imp A) or (C imp A)\t\u001b[92m✓\u001b[39m or intro 13\n",
      "│15. (B imp A) or (C imp A)\t\u001b[92m✓\u001b[39m or elim 2,3-8,9-14\n"
     ]
    }
   ],
   "source": [
    "# move back\n",
    "prf00.move_node(2, 14, go_above=False)\n",
    "prf00.annotate(15, Ann('or elim 2,3-8, 9-14'))\n",
    "prf00.show_fitch_text()"
   ]
  },
  {
   "cell_type": "code",
   "execution_count": 201,
   "metadata": {},
   "outputs": [
    {
     "name": "stdout",
     "output_type": "stream",
     "text": [
      "│1. B and C imp A\t .hyp\n",
      "├─\n",
      "│2. (B imp A) or (C imp A)\t\u001b[91mx\u001b[39m or intro 13\n",
      "│3. C or not C\t\u001b[92m✓\u001b[39m LEM \n",
      "││4. C\t .hyp\n",
      "│├─\n",
      "│││5. B\t .hyp\n",
      "││├─\n",
      "│││6. B and C\t\u001b[92m✓\u001b[39m and intro 4,5\n",
      "│││7. A\t\u001b[92m✓\u001b[39m imp elim 1,6\n",
      "││8. B imp A\t\u001b[92m✓\u001b[39m imp intro 5-7\n",
      "││9. (B imp A) or (C imp A)\t\u001b[92m✓\u001b[39m or intro 8\n",
      "││10. not C\t .hyp\n",
      "│├─\n",
      "│││11. C\t .hyp\n",
      "││├─\n",
      "│││12. bot\t\u001b[92m✓\u001b[39m bot intro 11,10\n",
      "│││13. A\t\u001b[92m✓\u001b[39m bot elim 12\n",
      "││14. C imp A\t\u001b[92m✓\u001b[39m imp intro 11-13\n",
      "││15. (B imp A) or (C imp A)\t\u001b[92m✓\u001b[39m or intro 14\n",
      "│16. (B imp A) or (C imp A)\t\u001b[92m✓\u001b[39m or elim 3,4-9,10-15\n"
     ]
    }
   ],
   "source": [
    "# duplicate_node() test\n",
    "\n",
    "prf00.duplicate_node(14, 2)\n",
    "prf00.show_fitch_text()"
   ]
  },
  {
   "cell_type": "code",
   "execution_count": 202,
   "metadata": {},
   "outputs": [
    {
     "name": "stdout",
     "output_type": "stream",
     "text": [
      "│1. B and C imp A\t .hyp\n",
      "├─\n",
      "│2. C or not C\t\u001b[92m✓\u001b[39m LEM \n",
      "││3. C\t .hyp\n",
      "│├─\n",
      "│││4. B\t .hyp\n",
      "││├─\n",
      "│││5. B and C\t\u001b[92m✓\u001b[39m and intro 3,4\n",
      "│││6. A\t\u001b[92m✓\u001b[39m imp elim 1,5\n",
      "││7. B imp A\t\u001b[92m✓\u001b[39m imp intro 4-6\n",
      "││8. (B imp A) or (C imp A)\t\u001b[92m✓\u001b[39m or intro 7\n",
      "││9. not C\t .hyp\n",
      "│├─\n",
      "│││10. C\t .hyp\n",
      "││├─\n",
      "│││11. bot\t\u001b[92m✓\u001b[39m bot intro 10,9\n",
      "││││12. B\t .hyp\n",
      "│││├─\n",
      "││││13. B and C\t\u001b[91mx\u001b[39m and intro 3,4\n",
      "││││14. A\t\u001b[91mx\u001b[39m imp elim 1,5\n",
      "│││15. A\t\u001b[92m✓\u001b[39m bot elim 11\n",
      "││16. C imp A\t\u001b[92m✓\u001b[39m imp intro 10-15\n",
      "││17. (B imp A) or (C imp A)\t\u001b[92m✓\u001b[39m or intro 16\n",
      "│18. (B imp A) or (C imp A)\t\u001b[92m✓\u001b[39m or elim 2,3-8,9-17\n"
     ]
    }
   ],
   "source": [
    "prf00 = copy.deepcopy(prf)\n",
    "prf00.duplicate_node('4-6', 12)\n",
    "prf00.show_fitch_text()"
   ]
  },
  {
   "cell_type": "markdown",
   "metadata": {},
   "source": [
    "Up to this point, we have performed editing operations on individual nodes. Now, we aim to work on *chunks*, which refer to a sequence of consecutive siblings sharing a common parent."
   ]
  }
 ],
 "metadata": {
  "kernelspec": {
   "display_name": "mlenv",
   "language": "python",
   "name": "python3"
  },
  "language_info": {
   "codemirror_mode": {
    "name": "ipython",
    "version": 3
   },
   "file_extension": ".py",
   "mimetype": "text/x-python",
   "name": "python",
   "nbconvert_exporter": "python",
   "pygments_lexer": "ipython3",
   "version": "3.11.2"
  },
  "orig_nbformat": 4
 },
 "nbformat": 4,
 "nbformat_minor": 2
}
