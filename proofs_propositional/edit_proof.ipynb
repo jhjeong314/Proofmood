{
 "cells": [
  {
   "cell_type": "code",
   "execution_count": 1,
   "metadata": {},
   "outputs": [],
   "source": [
    "# type: ignore\n",
    "\n",
    "try:\n",
    "  import sys\n",
    "  sys.path.append('../')\n",
    "  from modules.search_prop import *\n",
    "except ImportError:\n",
    "  url = 'https://raw.githubusercontent.com/jhjeong314/Proofmood/main/modules'\n",
    "  import httpimport\n",
    "  with httpimport.remote_repo(url):\n",
    "    from search_prop import *\n",
    "\n",
    "from pprint import pprint"
   ]
  },
  {
   "cell_type": "code",
   "execution_count": 2,
   "metadata": {},
   "outputs": [
    {
     "name": "stdout",
     "output_type": "stream",
     "text": [
      "True\n",
      "\n",
      "type: formula\n",
      "line: top .\n",
      "formula: top\n",
      "ann: \n",
      "is_hyp: False\n",
      "\n",
      "type: formula\n",
      "line: top\n",
      "formula: top\n",
      "ann: \n",
      "is_hyp: False\n",
      "\n",
      "True\n",
      "\n",
      "type: formula\n",
      "line: top .hyp\n",
      "formula: top\n",
      "ann: hyp \n",
      "is_hyp: True\n",
      "\n",
      "type: formula\n",
      "line: .hyp\n",
      "formula: top\n",
      "ann: hyp \n",
      "is_hyp: True\n"
     ]
    }
   ],
   "source": [
    "# NodeLabel.build_str() test\n",
    "\n",
    "label1 = NodeLabel(LabelType.FORMULA, 'top .')\n",
    "label2 = NodeLabel(LabelType.FORMULA, 'top')\n",
    "print(label1 == label2)\n",
    "print()\n",
    "print(label1.build_str())\n",
    "print()\n",
    "print(label2.build_str())\n",
    "label3 = NodeLabel(LabelType.FORMULA, 'top .hyp')\n",
    "label4 = NodeLabel(LabelType.FORMULA, '.hyp')\n",
    "print()\n",
    "print(label3 == label4)\n",
    "print()\n",
    "print(label3.build_str())\n",
    "print()\n",
    "print(label4.build_str())"
   ]
  },
  {
   "cell_type": "code",
   "execution_count": 3,
   "metadata": {},
   "outputs": [
    {
     "name": "stdout",
     "output_type": "stream",
     "text": [
      "│1. \t .hyp\n",
      "├─\n",
      "│2.  \n"
     ]
    }
   ],
   "source": [
    "# Create a blank proof.\n",
    "proof = ProofNodeS() # blank proof\n",
    "proof.show_fitch_text()"
   ]
  },
  {
   "cell_type": "code",
   "execution_count": 4,
   "metadata": {},
   "outputs": [
    {
     "name": "stdout",
     "output_type": "stream",
     "text": [
      "│1. A\t .hyp\n",
      "├─\n",
      "│2.  \n"
     ]
    }
   ],
   "source": [
    "# Set hypothesis.\n",
    "proof.update_formula(1, Formula('A'))\n",
    "proof.show_fitch_text()"
   ]
  },
  {
   "cell_type": "code",
   "execution_count": 5,
   "metadata": {},
   "outputs": [
    {
     "name": "stdout",
     "output_type": "stream",
     "text": [
      "│1. A\t .hyp\n",
      "├─\n",
      "│2. B imp A\t\u001b[91mx\u001b[39m imp intro 1-2\n"
     ]
    }
   ],
   "source": [
    "# Set conclusion.\n",
    "proof.update_formula(2, Formula('B imp A'))\n",
    "proof.annotate(2, Ann('imp intro 1-2'))\n",
    "proof.show_fitch_text()"
   ]
  },
  {
   "cell_type": "code",
   "execution_count": 6,
   "metadata": {},
   "outputs": [
    {
     "name": "stdout",
     "output_type": "stream",
     "text": [
      "│1. A\t .hyp\n",
      "├─\n",
      "││2. \t .hyp\n",
      "│├─\n",
      "││3.  \n",
      "│4. B imp A\t\u001b[91mx\u001b[39m imp intro 1-4\n"
     ]
    }
   ],
   "source": [
    "# insert a subproof\n",
    "blank_proof = ProofNodeS() # blank proof to be inserted\n",
    "proof.insert_node(2, blank_proof)\n",
    "proof.show_fitch_text()"
   ]
  },
  {
   "cell_type": "code",
   "execution_count": 7,
   "metadata": {},
   "outputs": [
    {
     "name": "stdout",
     "output_type": "stream",
     "text": [
      "│1. A\t .hyp\n",
      "├─\n",
      "││2. B\t .hyp\n",
      "│├─\n",
      "││3. A\t\u001b[92m✓\u001b[39m repeat 1\n",
      "│4. B imp A\t\u001b[92m✓\u001b[39m imp intro 2-3\n"
     ]
    }
   ],
   "source": [
    "# Update the inserted subproof.\n",
    "proof.update_formula('2', Formula('B'))\n",
    "proof.update_formula('3', Formula('A'))\n",
    "proof.annotate('3', Ann('repeat 1'))\n",
    "proof.annotate('4', Ann('imp intro 2-3'))\n",
    "proof.show_fitch_text()"
   ]
  },
  {
   "cell_type": "code",
   "execution_count": 8,
   "metadata": {},
   "outputs": [
    {
     "name": "stdout",
     "output_type": "stream",
     "text": [
      "│1. A\t .hyp\n",
      "├─\n",
      "││2. B\t .hyp\n",
      "│├─\n",
      "││3. A\t\u001b[92m✓\u001b[39m repeat 1\n",
      "│4. B imp A\t\u001b[92m✓\u001b[39m imp intro 2-3\n"
     ]
    }
   ],
   "source": [
    "proof.show_fitch_text()"
   ]
  },
  {
   "cell_type": "code",
   "execution_count": 9,
   "metadata": {},
   "outputs": [
    {
     "name": "stdout",
     "output_type": "stream",
     "text": [
      "│1. A\t .hyp\n",
      "├─\n",
      "││2. B\t .hyp\n",
      "│├─\n",
      "││3. \n",
      "││4. A\t\u001b[92m✓\u001b[39m repeat 1\n",
      "│5. B imp A\t\u001b[92m✓\u001b[39m imp intro 2-4\n"
     ]
    }
   ],
   "source": [
    "import copy\n",
    "prf = copy.deepcopy(proof)\n",
    "prf.insert_node(3)\n",
    "prf.show_fitch_text()"
   ]
  },
  {
   "cell_type": "code",
   "execution_count": 10,
   "metadata": {},
   "outputs": [
    {
     "name": "stdout",
     "output_type": "stream",
     "text": [
      "│1. A\t .hyp\n",
      "├─\n",
      "││2. B\t .hyp\n",
      "│├─\n",
      "││3. A\t\u001b[92m✓\u001b[39m repeat 1\n",
      "│4. B imp A\t\u001b[92m✓\u001b[39m imp intro 2-3\n"
     ]
    }
   ],
   "source": [
    "prf.delete_node(3)\n",
    "prf.show_fitch_text()"
   ]
  },
  {
   "cell_type": "code",
   "execution_count": null,
   "metadata": {},
   "outputs": [],
   "source": [
    "# ProofNode.build_str() test\n",
    "\n",
    "proof.show_fitch_text()\n",
    "print()\n",
    "\n",
    "if proof.index_dict is not None:\n",
    "  for key in proof.index_dict:\n",
    "    p_node = proof.get_p_node(key)\n",
    "    print(p_node.build_str())\n",
    "    print()\n"
   ]
  },
  {
   "cell_type": "code",
   "execution_count": null,
   "metadata": {},
   "outputs": [],
   "source": [
    "# test delete_node() method\n",
    "\n",
    "import copy\n",
    "proof1 = copy.deepcopy(proof)\n",
    "proof1.delete_node('1')\n",
    "proof1.show_fitch_text()"
   ]
  },
  {
   "cell_type": "code",
   "execution_count": null,
   "metadata": {},
   "outputs": [],
   "source": [
    "proof2 = copy.deepcopy(proof)\n",
    "proof2.delete_node('2')\n",
    "proof2.show_fitch_text()"
   ]
  },
  {
   "cell_type": "code",
   "execution_count": null,
   "metadata": {},
   "outputs": [],
   "source": [
    "proof3 = copy.deepcopy(proof)\n",
    "proof3.delete_node('3')\n",
    "proof3.show_fitch_text()"
   ]
  },
  {
   "cell_type": "code",
   "execution_count": null,
   "metadata": {},
   "outputs": [],
   "source": [
    "proof4 = copy.deepcopy(proof)\n",
    "proof4.delete_node('4')\n",
    "proof4.show_fitch_text()"
   ]
  },
  {
   "cell_type": "code",
   "execution_count": null,
   "metadata": {},
   "outputs": [],
   "source": [
    "proof23 = copy.deepcopy(proof)\n",
    "proof23.delete_node('2-3')\n",
    "proof23.show_fitch_text()"
   ]
  },
  {
   "cell_type": "code",
   "execution_count": null,
   "metadata": {},
   "outputs": [],
   "source": [
    "# test update_formula() method\n",
    "fmla = Formula('A imp B')\n",
    "proof1 = copy.deepcopy(proof)\n",
    "proof1.update_formula(1, fmla)\n",
    "proof1.show_fitch_text()"
   ]
  },
  {
   "cell_type": "code",
   "execution_count": null,
   "metadata": {},
   "outputs": [],
   "source": [
    "proof2 = copy.deepcopy(proof)\n",
    "proof2.update_formula(2, fmla)\n",
    "proof2.show_fitch_text()"
   ]
  },
  {
   "cell_type": "code",
   "execution_count": null,
   "metadata": {},
   "outputs": [],
   "source": [
    "proof2.update_formula(3, fmla)\n",
    "proof2.annotate('3', Ann('repeat 2'))\n",
    "proof2.show_fitch_text()"
   ]
  },
  {
   "cell_type": "code",
   "execution_count": null,
   "metadata": {},
   "outputs": [],
   "source": [
    "proof2.update_formula(4, Formula('(A imp B) imp A imp B'))\n",
    "proof2.show_fitch_text()"
   ]
  },
  {
   "cell_type": "code",
   "execution_count": null,
   "metadata": {},
   "outputs": [],
   "source": [
    "proof.show_fitch_text()"
   ]
  },
  {
   "cell_type": "code",
   "execution_count": null,
   "metadata": {},
   "outputs": [],
   "source": [
    "# insert a blank line in the conclusion\n",
    "proof.insert_node(3)\n",
    "proof.show_fitch_text()"
   ]
  },
  {
   "cell_type": "code",
   "execution_count": null,
   "metadata": {},
   "outputs": [],
   "source": [
    "proof.annotate(5, Ann('imp intro 2-4'))\n",
    "# or, we can use the following instead of the above.\n",
    "# proof.search_proof()\n",
    "proof.show_fitch_text()\n",
    "# p_node2 = proof.get_p_node(2)\n",
    "# print(p_node2.build_str())"
   ]
  },
  {
   "cell_type": "code",
   "execution_count": null,
   "metadata": {},
   "outputs": [],
   "source": [
    "# insert a blank line in the hypothesis\n",
    "proof.insert_node(1)\n",
    "proof.show_fitch_text()"
   ]
  },
  {
   "cell_type": "code",
   "execution_count": null,
   "metadata": {},
   "outputs": [],
   "source": [
    "# insert a comment in the hypothesis\n",
    "label = NodeLabel(type=LabelType.COMMENT_HYP, \n",
    "                  line='# silly comment')\n",
    "proof.insert_node(1, ProofNode(label))\n",
    "proof.show_fitch_text()"
   ]
  },
  {
   "cell_type": "code",
   "execution_count": null,
   "metadata": {},
   "outputs": [],
   "source": [
    "# Replace the blank line (Line 2) with a comment.\n",
    "label = NodeLabel(type=LabelType.COMMENT_HYP, \n",
    "                  line='# blank line replaced')\n",
    "new_node = ProofNode(label)\n",
    "proof.replace_node(2, new_node)\n",
    "proof.show_fitch_text()"
   ]
  },
  {
   "cell_type": "code",
   "execution_count": null,
   "metadata": {},
   "outputs": [],
   "source": [
    "# Replace the blank line (Line 5) in conclusion\n",
    "#  with a comment.\n",
    "label = NodeLabel(type=LabelType.COMMENT_CONC, \n",
    "                  line='# comment in conclusion')\n",
    "p_node = ProofNode(label)\n",
    "proof.replace_node(5, p_node)                  \n",
    "proof.show_fitch_text()\n"
   ]
  },
  {
   "cell_type": "code",
   "execution_count": null,
   "metadata": {},
   "outputs": [],
   "source": []
  },
  {
   "cell_type": "code",
   "execution_count": null,
   "metadata": {},
   "outputs": [],
   "source": [
    "# Let's work on the following proof.\n",
    "# (B and C imp A) imp (B imp A) or (C imp A)\n",
    "\n",
    "prf_str = \"\"\"\n",
    "1. B and C imp A .hyp\n",
    "proves\n",
    "2. C or not C\n",
    "  3. C .hyp\n",
    "  proves\n",
    "    4. B .hyp\n",
    "    proves\n",
    "    5. B and C \n",
    "    6. A \n",
    "  7. B imp A \n",
    "  8. (B imp A) or (C imp A) \n",
    "  9. not C .hyp\n",
    "  proves\n",
    "    10. C .hyp\n",
    "    proves\n",
    "    11. bot \n",
    "    12. A \n",
    "  13. C imp A \n",
    "  14. (B imp A) or (C imp A) \n",
    "15. (B imp A) or (C imp A) \n",
    "\"\"\"\n",
    "proof = ProofNodeS(parse_fitch(prf_str))\n",
    "proof.search_proof(1)\n",
    "proof.show_fitch_text()"
   ]
  }
 ],
 "metadata": {
  "kernelspec": {
   "display_name": "mlenv",
   "language": "python",
   "name": "python3"
  },
  "language_info": {
   "codemirror_mode": {
    "name": "ipython",
    "version": 3
   },
   "file_extension": ".py",
   "mimetype": "text/x-python",
   "name": "python",
   "nbconvert_exporter": "python",
   "pygments_lexer": "ipython3",
   "version": "3.11.2"
  },
  "orig_nbformat": 4
 },
 "nbformat": 4,
 "nbformat_minor": 2
}
