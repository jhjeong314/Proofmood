{
 "cells": [
  {
   "attachments": {},
   "cell_type": "markdown",
   "metadata": {},
   "source": [
    "I realized that we can use MathJax for Jupyter notebook output by utilizing `IPython.display.HTML`.\n",
    "\n",
    "The following solution was adopted from [this article](https://colab.research.google.com/gist/blois/2e6a1299b8fd5704974dc67f47323deb/copy-of-latex-render-fail.ipynb)."
   ]
  },
  {
   "cell_type": "code",
   "execution_count": 1,
   "metadata": {},
   "outputs": [],
   "source": [
    "from IPython.display import HTML\n",
    "def typeset():\n",
    "  \"\"\"\n",
    "  MathJax initialization for the current cell.\n",
    "  This installs and configures MathJax for the current output.\n",
    "  \"\"\"\n",
    "  display(HTML('''\n",
    "    <script src=\"https://www.gstatic.com/external_hosted/mathjax/latest/MathJax.js?config=TeX-AMS_HTML-full,Safe&delayStartupUntil=configured\"></script>\n",
    "    <script>\n",
    "      (() => {\n",
    "        const mathjax = window.MathJax;\n",
    "        mathjax.Hub.Config({\n",
    "          'tex2jax': {\n",
    "            'inlineMath': [['$', '$'], ['\\\\(', '\\\\)']],\n",
    "            'displayMath': [['$$', '$$'], ['\\\\[', '\\\\]']],\n",
    "            'processEscapes': true,\n",
    "            'processEnvironments': true,\n",
    "            'skipTags': ['script', 'noscript', 'style', 'textarea', 'code'],\n",
    "            'displayAlign': 'center',\n",
    "          },\n",
    "          'HTML-CSS': {\n",
    "            'styles': {'.MathJax_Display': {'margin': 0}},\n",
    "            'linebreaks': {'automatic': true},\n",
    "            // Disable to prevent OTF font loading, which aren't part of our\n",
    "            // distribution.\n",
    "            'imageFont': null,\n",
    "          },\n",
    "          'messageStyle': 'none'\n",
    "        });\n",
    "        mathjax.Hub.Configured();\n",
    "      })();\n",
    "    </script>\n",
    "  '''))"
   ]
  },
  {
   "cell_type": "code",
   "execution_count": 2,
   "metadata": {},
   "outputs": [
    {
     "data": {
      "text/html": [
       "\n",
       "    <script src=\"https://www.gstatic.com/external_hosted/mathjax/latest/MathJax.js?config=TeX-AMS_HTML-full,Safe&delayStartupUntil=configured\"></script>\n",
       "    <script>\n",
       "      (() => {\n",
       "        const mathjax = window.MathJax;\n",
       "        mathjax.Hub.Config({\n",
       "          'tex2jax': {\n",
       "            'inlineMath': [['$', '$'], ['\\(', '\\)']],\n",
       "            'displayMath': [['$$', '$$'], ['\\[', '\\]']],\n",
       "            'processEscapes': true,\n",
       "            'processEnvironments': true,\n",
       "            'skipTags': ['script', 'noscript', 'style', 'textarea', 'code'],\n",
       "            'displayAlign': 'center',\n",
       "          },\n",
       "          'HTML-CSS': {\n",
       "            'styles': {'.MathJax_Display': {'margin': 0}},\n",
       "            'linebreaks': {'automatic': true},\n",
       "            // Disable to prevent OTF font loading, which aren't part of our\n",
       "            // distribution.\n",
       "            'imageFont': null,\n",
       "          },\n",
       "          'messageStyle': 'none'\n",
       "        });\n",
       "        mathjax.Hub.Configured();\n",
       "      })();\n",
       "    </script>\n",
       "  "
      ],
      "text/plain": [
       "<IPython.core.display.HTML object>"
      ]
     },
     "metadata": {},
     "output_type": "display_data"
    }
   ],
   "source": [
    "class MathJaxClass:\n",
    "    def __init__(self, mathstr):\n",
    "        self.mathstr = mathstr\n",
    "    def _repr_latex_(self):\n",
    "        return self.mathstr\n",
    "    def __repr__(self):\n",
    "        return self.mathstr\n",
    "\n",
    "typeset()"
   ]
  },
  {
   "cell_type": "code",
   "execution_count": 3,
   "metadata": {},
   "outputs": [
    {
     "data": {
      "text/latex": [
       "$\\sqrt{x^2 + y^2}$"
      ],
      "text/plain": [
       "$\\sqrt{x^2 + y^2}$"
      ]
     },
     "metadata": {},
     "output_type": "display_data"
    },
    {
     "data": {
      "text/plain": [
       "'$\\\\sqrt{x^2 + y^2}$'"
      ]
     },
     "execution_count": 3,
     "metadata": {},
     "output_type": "execute_result"
    }
   ],
   "source": [
    "mathexp = MathJaxClass(r\"$\\sqrt{x^2 + y^2}$\")\n",
    "display(mathexp)\n",
    "mathexp.__repr__()"
   ]
  },
  {
   "cell_type": "code",
   "execution_count": 4,
   "metadata": {},
   "outputs": [
    {
     "data": {
      "text/latex": [
       "$\\sqrt{x^2 + y^2}$"
      ],
      "text/plain": [
       "$\\sqrt{x^2 + y^2}$"
      ]
     },
     "execution_count": 4,
     "metadata": {},
     "output_type": "execute_result"
    }
   ],
   "source": [
    "mathexp"
   ]
  },
  {
   "cell_type": "code",
   "execution_count": 5,
   "metadata": {},
   "outputs": [
    {
     "data": {
      "text/plain": [
       "'$\\\\sqrt{x^2 + y^2}$'"
      ]
     },
     "execution_count": 5,
     "metadata": {},
     "output_type": "execute_result"
    }
   ],
   "source": [
    "mathexp._repr_latex_()"
   ]
  },
  {
   "cell_type": "code",
   "execution_count": 6,
   "metadata": {},
   "outputs": [
    {
     "data": {
      "text/latex": [
       "\n",
       "  \\begin{array}{cl} \n",
       "  \\sqrt{x^2 + y^2} & 1 \\\\[5pt]\n",
       "  a                & b^{-1} + c + 1\n",
       "  \\end{array}\n"
      ],
      "text/plain": [
       "\n",
       "  \\begin{array}{cl} \n",
       "  \\sqrt{x^2 + y^2} & 1 \\\\[5pt]\n",
       "  a                & b^{-1} + c + 1\n",
       "  \\end{array}"
      ]
     },
     "metadata": {},
     "output_type": "display_data"
    },
    {
     "name": "stdout",
     "output_type": "stream",
     "text": [
      "\n",
      "  \\begin{array}{cl} \n",
      "  \\sqrt{x^2 + y^2} & 1 \\\\[5pt]\n",
      "  a                & b^{-1} + c + 1\n",
      "  \\end{array}\n",
      "\n"
     ]
    }
   ],
   "source": [
    "mathexp = MathJaxClass(r\"\"\"\n",
    "  \\begin{array}{cl} \n",
    "  \\sqrt{x^2 + y^2} & 1 \\\\[5pt]\n",
    "  a                & b^{-1} + c + 1\n",
    "  \\end{array}\n",
    "\"\"\")\n",
    "display(mathexp)\n",
    "print(mathexp.__repr__())"
   ]
  }
 ],
 "metadata": {
  "kernelspec": {
   "display_name": "mlenv",
   "language": "python",
   "name": "python3"
  },
  "language_info": {
   "codemirror_mode": {
    "name": "ipython",
    "version": 3
   },
   "file_extension": ".py",
   "mimetype": "text/x-python",
   "name": "python",
   "nbconvert_exporter": "python",
   "pygments_lexer": "ipython3",
   "version": "3.11.1"
  },
  "orig_nbformat": 4
 },
 "nbformat": 4,
 "nbformat_minor": 2
}
