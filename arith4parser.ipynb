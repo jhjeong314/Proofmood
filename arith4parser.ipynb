{
 "cells": [
  {
   "attachments": {},
   "cell_type": "markdown",
   "metadata": {},
   "source": [
    "Arith4 is a simple grammar for arithmetic.\n",
    "We'll build a parser for this grammar.\n",
    "\n",
    "```\n",
    "<expr> ::= <expr> (\"+\" | \"-\") <term> | <term>\n",
    "<term> ::= <term> (\"*\" | \"/\") <factor> | <factor>\n",
    "<factor> ::= \"(\" <expr> \")\" | <atom>\n",
    "<atom> ::= <identifier> | <numeral>\n",
    "<identifier> ::= <letter> { <letter>  }\n",
    "<letter> ::= [a-z] \n",
    "<numeral> ::= [1-9] { [0-9] }\n",
    "```"
   ]
  },
  {
   "cell_type": "code",
   "execution_count": 1,
   "metadata": {},
   "outputs": [],
   "source": [
    "class Token:\n",
    "  def __init__(self, text, pos):\n",
    "    self.text = text\n",
    "    self.pos = pos\n",
    "    # pos is the position(=index) of the token in the list of tokens\n",
    "    #   obtained from the tokenizer.\n",
    "    # input text is guaranteed to be an operator or an operand\n",
    "    self.type = 'operator' if text in (\"+\", \"-\", \"*\", \"/\") else 'operand'\n",
    "  \n",
    "  def __str__(self):\n",
    "    return f'{self.text} ({self.type}) at {self.pos}'"
   ]
  },
  {
   "cell_type": "code",
   "execution_count": 2,
   "metadata": {},
   "outputs": [
    {
     "name": "stdout",
     "output_type": "stream",
     "text": [
      "+ (operator) at 3\n",
      "123 (operand) at 5\n"
     ]
    }
   ],
   "source": [
    "t1 = Token(\"+\", 3)\n",
    "print(t1)\n",
    "t2 = Token(\"123\", 5)\n",
    "print(t2)"
   ]
  },
  {
   "cell_type": "code",
   "execution_count": 3,
   "metadata": {},
   "outputs": [],
   "source": [
    "import re\n",
    "\n",
    "def tokenizer(text):\n",
    "  pos = 0\n",
    "  tokens = []\n",
    "  # split the input text into a list of tokens at word boundries and whitespaces\n",
    "  # then remove empty strings and strip off leading and trailing whitespaces\n",
    "  li = [s.strip() for s in re.split(r\"\\b|\\s\", text, re.ASCII) \n",
    "                  if s.strip()]\n",
    "  for s in li:\n",
    "    if not s.isascii():\n",
    "      raise ValueError(f\"'{s}' is invalid (non-ASCII)\")\n",
    "    if not (set(s).issubset(\"+-*/\") or        # operator\n",
    "            (s.isdecimal() and s[0]!='0') or  # numeral\n",
    "            (s.isalpha() and s.islower())):   # identifier\n",
    "      raise ValueError(f\"'{s}' is invalid\")\n",
    "    if(set(s).issubset(\"+-*/\") and len(s) > 1):\n",
    "      # split string of consecutive operators into individual characters\n",
    "      for c in s:\n",
    "        tokens.append(Token(c, pos))\n",
    "        pos += 1\n",
    "    else:\n",
    "      tokens.append(Token(s, pos))\n",
    "      pos += 1\n",
    "  \n",
    "  return tokens"
   ]
  },
  {
   "cell_type": "code",
   "execution_count": 4,
   "metadata": {},
   "outputs": [],
   "source": [
    "def testTokenizer(text):\n",
    "  try:\n",
    "    tokens = tokenizer(text)\n",
    "  except ValueError as e:\n",
    "    print(f\"Tokenizer: {e}\")\n",
    "  else:\n",
    "    for t in tokens:\n",
    "      print(t)"
   ]
  },
  {
   "cell_type": "code",
   "execution_count": 5,
   "metadata": {},
   "outputs": [
    {
     "name": "stdout",
     "output_type": "stream",
     "text": [
      "first (operand) at 0\n",
      "+ (operator) at 1\n",
      "second (operand) at 2\n",
      "* (operator) at 3\n",
      "+ (operator) at 4\n",
      "hello (operand) at 5\n",
      "+ (operator) at 6\n",
      "23 (operand) at 7\n",
      "+ (operator) at 8\n",
      "2 (operand) at 9\n"
     ]
    }
   ],
   "source": [
    "testTokenizer(\"first + second*+hello + 23+2\")"
   ]
  },
  {
   "cell_type": "code",
   "execution_count": 6,
   "metadata": {},
   "outputs": [
    {
     "name": "stdout",
     "output_type": "stream",
     "text": [
      "Tokenizer: 'Hello' is invalid\n",
      "Tokenizer: 'c2' is invalid\n",
      "Tokenizer: '023' is invalid\n"
     ]
    }
   ],
   "source": [
    "testTokenizer(\"first + second* +Hello + 23+2\")\n",
    "testTokenizer(\"first + second* +hello + 23+c2\")\n",
    "testTokenizer(\"first + second*-hello + 023+2\")"
   ]
  }
 ],
 "metadata": {
  "kernelspec": {
   "display_name": "mlenv",
   "language": "python",
   "name": "python3"
  },
  "language_info": {
   "codemirror_mode": {
    "name": "ipython",
    "version": 3
   },
   "file_extension": ".py",
   "mimetype": "text/x-python",
   "name": "python",
   "nbconvert_exporter": "python",
   "pygments_lexer": "ipython3",
   "version": "3.11.1"
  },
  "orig_nbformat": 4
 },
 "nbformat": 4,
 "nbformat_minor": 2
}
