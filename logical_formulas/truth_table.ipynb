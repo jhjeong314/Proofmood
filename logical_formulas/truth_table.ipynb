{
 "cells": [
  {
   "cell_type": "code",
   "execution_count": 2,
   "metadata": {},
   "outputs": [
    {
     "name": "stdout",
     "output_type": "stream",
     "text": [
      "(B2(c, d + 1) or Q) and forall x C1(x) imp forall x C1(x) and B2(c, d + 1)\n",
      "imp and or B2 c + d 1 Q forall x C1 x and forall x C1 x B2 c + d 1\n"
     ]
    }
   ],
   "source": [
    "try:\n",
    "  from truth_table import *\n",
    "except ImportError:\n",
    "  url = 'https://raw.githubusercontent.com/jhjeong314/Proofmood/main/logical_formulas'\n",
    "  import httpimport\n",
    "  with httpimport.remote_repo(url):\n",
    "    from truth_table import *\n",
    "\n",
    "input_str = '(B2(c,d+1) or Q) and forall x C1(x) imp forall x C1(x) and B2(c,d+1)'\n",
    "node = parse_ast(input_str) # type: ignore\n",
    "assert isinstance(node, Node) # type: ignore\n",
    "fmla = Formula(node)        # type: ignore | Construct a formula from a node\n",
    "fmla1 = Formula(input_str)  # type: ignore | Construct a formula from a string\n",
    "assert isinstance(fmla1, Formula) # type: ignore\n",
    "assert fmla1 == fmla        # Formula.__eq__()\n",
    "\n",
    "print(fmla) # infix notation\n",
    "print(fmla.ast) # polish notation"
   ]
  },
  {
   "cell_type": "code",
   "execution_count": 3,
   "metadata": {},
   "outputs": [
    {
     "data": {
      "text/latex": [
       "$\\displaystyle (B(c, d + 1) \\vee Q) \\wedge \\forall x\\, C(x) \\rightarrow \\forall x\\, C(x) \\wedge B(c, d + 1)$"
      ],
      "text/plain": [
       "<IPython.core.display.Math object>"
      ]
     },
     "metadata": {},
     "output_type": "display_data"
    },
    {
     "name": "stdout",
     "output_type": "stream",
     "text": [
      "(B2(c, d + 1) or Q) and forall x C1(x) imp forall x C1(x) and B2(c, d + 1)\n"
     ]
    },
    {
     "data": {
      "image/png": "[encoded data removed]",
      "text/plain": [
       "<Figure size 900x450 with 1 Axes>"
      ]
     },
     "metadata": {},
     "output_type": "display_data"
    }
   ],
   "source": [
    "fmla.display_infix() # LaTeX\n",
    "fmla.display_infix('text') # same as print(fmla)\n",
    "fmla.ast.draw_tree() # Matplotlib tree diagram, terms are leaves (term nodes are not shown)"
   ]
  },
  {
   "cell_type": "code",
   "execution_count": 4,
   "metadata": {},
   "outputs": [
    {
     "name": "stdout",
     "output_type": "stream",
     "text": [
      "['forall x C1(x)', 'B2(c, d + 1)', 'Q']\n"
     ]
    }
   ],
   "source": [
    "# Prime subformulas. These will be treated as propositional letters.\n",
    "prime_subs = fmla.get_prime_subformulas()\n",
    "prime_subs_li = list(prime_subs)\n",
    "print(prime_subs_li)"
   ]
  },
  {
   "cell_type": "code",
   "execution_count": 5,
   "metadata": {},
   "outputs": [
    {
     "name": "stdout",
     "output_type": "stream",
     "text": [
      "['forall x C1(x)', 'C2(y, z)', 'Q']\n"
     ]
    }
   ],
   "source": [
    "# Introduce a new formula, which\n",
    "# shares some prime subformula with the previous formula.\n",
    "input_str2 = 'forall x C1(x) imp (C2(y, z) iff Q)'\n",
    "fmla2 = Formula(input_str2)\n",
    "prime_subs = fmla2.get_prime_subformulas()\n",
    "prime_subs_li = list(prime_subs)\n",
    "print(prime_subs_li)"
   ]
  },
  {
   "cell_type": "code",
   "execution_count": 6,
   "metadata": {},
   "outputs": [
    {
     "name": "stdout",
     "output_type": "stream",
     "text": [
      "['forall x C1(x)', 'B2(c, d + 1)', 'Q', 'C2(y, z)']\n"
     ]
    }
   ],
   "source": [
    "# We work on two formulas: fmla and fmla2.\n",
    "# TruthTable object is created with a list of formulas.\n",
    "truth_table = TruthTable([fmla, fmla2])\n",
    "prime_subs_li = list(truth_table.get_prime_subformulas())\n",
    "print(prime_subs_li)\n"
   ]
  },
  {
   "cell_type": "code",
   "execution_count": 7,
   "metadata": {},
   "outputs": [
    {
     "data": {
      "text/latex": [
       "$\\displaystyle (B(c, d + 1) \\vee Q) \\wedge \\forall x\\, C(x) \\rightarrow \\forall x\\, C(x) \\wedge B(c, d + 1)$"
      ],
      "text/plain": [
       "<IPython.core.display.Math object>"
      ]
     },
     "metadata": {},
     "output_type": "display_data"
    },
    {
     "name": "stdout",
     "output_type": "stream",
     "text": [
      "B2, id=1, bVal=-1, level=-1, alt_str=P_1\n",
      "or, id=-1, bVal=-1, level=-1, alt_str=\n",
      "Q, id=2, bVal=-1, level=-1, alt_str=Q\n",
      "and, id=-1, bVal=-1, level=-1, alt_str=\n",
      "forall, id=0, bVal=-1, level=-1, alt_str=P_2\n",
      "imp, id=-1, bVal=-1, level=-1, alt_str=\n",
      "forall, id=0, bVal=-1, level=-1, alt_str=P_2\n",
      "and, id=-1, bVal=-1, level=-1, alt_str=\n",
      "B2, id=1, bVal=-1, level=-1, alt_str=P_1\n"
     ]
    },
    {
     "data": {
      "text/latex": [
       "$\\displaystyle \\forall x\\, C(x) \\rightarrow (C(y, z) \\leftrightarrow Q)$"
      ],
      "text/plain": [
       "<IPython.core.display.Math object>"
      ]
     },
     "metadata": {},
     "output_type": "display_data"
    },
    {
     "name": "stdout",
     "output_type": "stream",
     "text": [
      "forall, id=0, bVal=-1, level=-1, alt_str=P_2\n",
      "imp, id=-1, bVal=-1, level=-1, alt_str=\n",
      "C2, id=3, bVal=-1, level=-1, alt_str=P_3\n",
      "iff, id=-1, bVal=-1, level=-1, alt_str=\n",
      "Q, id=2, bVal=-1, level=-1, alt_str=Q\n"
     ]
    }
   ],
   "source": [
    "# TruthTable.label_prime_subs() assigns values to 2 properties, \n",
    "# node.id and node.alt_str to each propositional node.\n",
    "# Propositional nodes consists of prime nodes and subformulas\n",
    "# that are built from prop. nodes and connectives.\n",
    "\n",
    "# The remaining two properties, node.bVal and node.level are\n",
    "# assigned values by TruthTable.get_truth_tree().\n",
    "\n",
    "truth_table.label_prime_subs(prime_subs_li) \n",
    "fmla.display_infix()\n",
    "show_tree_nodes(fmla.ast)\n",
    "fmla2.display_infix()\n",
    "show_tree_nodes(fmla2.ast)"
   ]
  },
  {
   "cell_type": "code",
   "execution_count": 8,
   "metadata": {},
   "outputs": [
    {
     "data": {
      "text/latex": [
       "$\\displaystyle (B(c, d + 1) \\vee Q) \\wedge \\forall x\\, C(x) \\rightarrow \\forall x\\, C(x) \\wedge B(c, d + 1)$"
      ],
      "text/plain": [
       "<IPython.core.display.Math object>"
      ]
     },
     "metadata": {},
     "output_type": "display_data"
    },
    {
     "name": "stdout",
     "output_type": "stream",
     "text": [
      "(B2(c, d + 1) or Q) and forall x C1(x) imp forall x C1(x) and B2(c, d + 1)\n",
      "(P1 or Q) and P2 imp P2 and P1\n"
     ]
    }
   ],
   "source": [
    "# In fmla.display_infix(opt), opt ::= \"latex\" | \"text\" | \"truth_table\"\n",
    "\n",
    "# If opt==\"truth_table\", then the prime subformulas are replaced with\n",
    "# their alt_strs(alternate strings). This option should be used only\n",
    "# after label_prime_subs(prime_subs_li) has been called.\n",
    "\n",
    "fmla.display_infix()\n",
    "fmla.display_infix(\"text\")\n",
    "fmla.display_infix('truth_table')"
   ]
  },
  {
   "cell_type": "code",
   "execution_count": 9,
   "metadata": {},
   "outputs": [
    {
     "data": {
      "text/latex": [
       "$\\displaystyle \\forall x\\, C(x) \\rightarrow (C(y, z) \\leftrightarrow Q)$"
      ],
      "text/plain": [
       "<IPython.core.display.Math object>"
      ]
     },
     "metadata": {},
     "output_type": "display_data"
    },
    {
     "name": "stdout",
     "output_type": "stream",
     "text": [
      "forall x C1(x) imp (C2(y, z) iff Q)\n",
      "P2 imp (P3 iff Q)\n"
     ]
    }
   ],
   "source": [
    "fmla2.display_infix()\n",
    "fmla2.display_infix(\"text\")\n",
    "fmla2.display_infix('truth_table')"
   ]
  },
  {
   "cell_type": "code",
   "execution_count": 10,
   "metadata": {},
   "outputs": [
    {
     "name": "stdout",
     "output_type": "stream",
     "text": [
      "P_1: B2(c, d + 1)\n",
      "P_2: forall x C1(x)\n",
      "\n",
      "P_1: B2(c, d + 1)\n",
      "P_2: forall x C1(x)\n",
      "P_3: C2(y, z)\n"
     ]
    }
   ],
   "source": [
    "# Show the correspondence between the prime subformulas \n",
    "# and the alternative labels.\n",
    "\n",
    "# formula case\n",
    "fmla.show_p_sub_labels(prime_subs_li) \n",
    "print()\n",
    "# truth table case\n",
    "truth_table.show_p_sub_labels(prime_subs_li) "
   ]
  },
  {
   "cell_type": "code",
   "execution_count": 11,
   "metadata": {},
   "outputs": [
    {
     "name": "stdout",
     "output_type": "stream",
     "text": [
      "Truth table for the following 2 formulas.\n"
     ]
    },
    {
     "data": {
      "text/latex": [
       "$\\displaystyle (B(c, d + 1) \\vee Q) \\wedge \\forall x\\, C(x) \\rightarrow \\forall x\\, C(x) \\wedge B(c, d + 1)$"
      ],
      "text/plain": [
       "<IPython.core.display.Math object>"
      ]
     },
     "metadata": {},
     "output_type": "display_data"
    },
    {
     "data": {
      "text/latex": [
       "$\\displaystyle \\forall x\\, C(x) \\rightarrow (C(y, z) \\leftrightarrow Q)$"
      ],
      "text/plain": [
       "<IPython.core.display.Math object>"
      ]
     },
     "metadata": {},
     "output_type": "display_data"
    },
    {
     "name": "stdout",
     "output_type": "stream",
     "text": [
      "prime subformulas = ['B2(c, d + 1)', 'forall x C1(x)', 'C2(y, z)', 'Q']\n",
      "alt prop. letters = ['P_1', 'P_2', 'P_3', 'Q']\n",
      "\n",
      "P1 P2 P3 Q : (P1 or Q) and P2 imp P2 and P1, P2 imp (P3 iff Q)\n",
      "--------------------------------------------------------------\n",
      "1  1  1  1    1  1  1   1  1   1  1   1  1   1   1   1   1  1\n",
      "1  1  1  0    1  1  0   1  1   1  1   1  1   1   0   1   0  0\n",
      "1  1  0  1    1  1  1   1  1   1  1   1  1   1   0   0   0  1\n",
      "1  1  0  0    1  1  0   1  1   1  1   1  1   1   1   0   1  0\n",
      "1  0  1  1    1  1  1   0  0   1  0   0  1   0   1   1   1  1\n",
      "1  0  1  0    1  1  0   0  0   1  0   0  1   0   1   1   0  0\n",
      "1  0  0  1    1  1  1   0  0   1  0   0  1   0   1   0   0  1\n",
      "1  0  0  0    1  1  0   0  0   1  0   0  1   0   1   0   1  0\n",
      "0  1  1  1    0  1  1   1  1   0  1   0  0   1   1   1   1  1\n",
      "0  1  1  0    0  0  0   0  1   1  1   0  0   1   0   1   0  0\n",
      "0  1  0  1    0  1  1   1  1   0  1   0  0   1   0   0   0  1\n",
      "0  1  0  0    0  0  0   0  1   1  1   0  0   1   1   0   1  0\n",
      "0  0  1  1    0  1  1   0  0   1  0   0  0   0   1   1   1  1\n",
      "0  0  1  0    0  0  0   0  0   1  0   0  0   0   1   1   0  0\n",
      "0  0  0  1    0  1  1   0  0   1  0   0  0   0   1   0   0  1\n",
      "0  0  0  0    0  0  0   0  0   1  0   0  0   0   1   0   1  0\n",
      "--------------------------------------------------------------\n",
      "Level         1  2  1   3  1   4  1   2  1   1   3   1   2  1\n"
     ]
    }
   ],
   "source": [
    "# Start fresh.\n",
    "\n",
    "# Initialize a truth table object.\n",
    "fmla = Formula(input_str)\n",
    "fmla2 = Formula(input_str2)\n",
    "truth_table = TruthTable([fmla, fmla2])\n",
    "\n",
    "# Build and display the truth table.\n",
    "truth_table.show_truth_table()"
   ]
  },
  {
   "cell_type": "code",
   "execution_count": 12,
   "metadata": {},
   "outputs": [
    {
     "name": "stdout",
     "output_type": "stream",
     "text": [
      "[1, 0, 3, 2]\n",
      "[1, 0, 3, 2]\n",
      "['P_2', 'P_1', 'Q', 'P_3']\n",
      "['forall x C1(x)', 'B2(c, d + 1)', 'Q', 'C2(y, z)']\n",
      "['P_1', 'P_2', 'P_3', 'Q']\n",
      "['B2(c, d + 1)', 'forall x C1(x)', 'C2(y, z)', 'Q']\n"
     ]
    }
   ],
   "source": [
    "# Sorting the alternate labels for the prime subformulas.\n",
    "\n",
    "prime_subs_li = list(truth_table.get_prime_subformulas())\n",
    "alt_str_li = truth_table.label_prime_subs(prime_subs_li)\n",
    "n_prime_node = len(prime_subs_li)\n",
    "perm, perm_inv = truth_table.order(alt_str_li)\n",
    "alt_str_li2 = permute_li(alt_str_li, perm) # == sorted(alt_str_li)\n",
    "prime_subs_li2 = permute_li(prime_subs_li, perm)\n",
    "print(perm)\n",
    "print(perm_inv)\n",
    "print(alt_str_li)\n",
    "print(prime_subs_li)\n",
    "print(alt_str_li2)\n",
    "print(prime_subs_li2)"
   ]
  },
  {
   "cell_type": "code",
   "execution_count": 13,
   "metadata": {},
   "outputs": [
    {
     "name": "stdout",
     "output_type": "stream",
     "text": [
      "['1', '0', '0', '1']\n"
     ]
    }
   ],
   "source": [
    "# We will compute the truth tree corresponding to the \n",
    "# 0110 row of the truth table above, for the 2nd formula only. \n",
    "# 10100 should be obtained.\n",
    "tVal_li = permute_li(list('0110'), perm_inv)\n",
    "print(tVal_li)"
   ]
  },
  {
   "cell_type": "code",
   "execution_count": 14,
   "metadata": {},
   "outputs": [
    {
     "name": "stdout",
     "output_type": "stream",
     "text": [
      "You can read 10100 at bVal:\n",
      "\n",
      "forall, id=0, bVal=1, level=0, alt_str=P_2\n",
      "imp, id=-1, bVal=0, level=2, alt_str=\n",
      "C2, id=3, bVal=1, level=0, alt_str=P_3\n",
      "iff, id=-1, bVal=0, level=1, alt_str=\n",
      "Q, id=2, bVal=0, level=0, alt_str=Q\n",
      "\n",
      "P2 imp (P3 iff Q)\n",
      "forall x C1(x) imp (C2(y, z) iff Q)\n"
     ]
    }
   ],
   "source": [
    "tVal = ''.join(tVal_li)\n",
    "truth_table.get_truth_tree(tVal)\n",
    "print(\"You can read 10100 at bVal:\\n\")\n",
    "show_tree_nodes(truth_table.f_list[1].ast)\n",
    "print()\n",
    "fmla2.display_infix(\"truth_table\")\n",
    "fmla2.display_infix(\"text\")"
   ]
  },
  {
   "cell_type": "code",
   "execution_count": 15,
   "metadata": {},
   "outputs": [
    {
     "name": "stdout",
     "output_type": "stream",
     "text": [
      "Truth table for the following formula.\n"
     ]
    },
    {
     "data": {
      "text/latex": [
       "$\\displaystyle (B(c, d + 1) \\vee Q) \\wedge \\forall x\\, C(x) \\rightarrow \\forall x\\, C(x) \\wedge B(c, d + 1)$"
      ],
      "text/plain": [
       "<IPython.core.display.Math object>"
      ]
     },
     "metadata": {},
     "output_type": "display_data"
    },
    {
     "name": "stdout",
     "output_type": "stream",
     "text": [
      "prime subformulas = ['B2(c, d + 1)', 'forall x C1(x)', 'Q']\n",
      "alt prop. letters = ['P_1', 'P_2', 'Q']\n",
      "\n",
      "P1 P2 Q : (P1 or Q) and P2 imp P2 and P1\n",
      "----------------------------------------\n",
      "1  1  1    1  1  1   1  1   1  1   1  1 \n",
      "1  1  0    1  1  0   1  1   1  1   1  1 \n",
      "1  0  1    1  1  1   0  0   1  0   0  1 \n",
      "1  0  0    1  1  0   0  0   1  0   0  1 \n",
      "0  1  1    0  1  1   1  1   0  1   0  0 \n",
      "0  1  0    0  0  0   0  1   1  1   0  0 \n",
      "0  0  1    0  1  1   0  0   1  0   0  0 \n",
      "0  0  0    0  0  0   0  0   1  0   0  0 \n",
      "----------------------------------------\n",
      "Level      1  2  1   3  1   4  1   2  1 \n"
     ]
    }
   ],
   "source": [
    "# Use Formula class method for a single formula.\n",
    "fmla.show_truth_table()"
   ]
  },
  {
   "cell_type": "code",
   "execution_count": 16,
   "metadata": {},
   "outputs": [
    {
     "name": "stdout",
     "output_type": "stream",
     "text": [
      "Truth table for the following formula.\n"
     ]
    },
    {
     "data": {
      "text/latex": [
       "$\\displaystyle \\forall x\\, C(x) \\rightarrow (C(y, z) \\leftrightarrow Q)$"
      ],
      "text/plain": [
       "<IPython.core.display.Math object>"
      ]
     },
     "metadata": {},
     "output_type": "display_data"
    },
    {
     "name": "stdout",
     "output_type": "stream",
     "text": [
      "prime subformulas = ['forall x C1(x)', 'C2(y, z)', 'Q']\n",
      "alt prop. letters = ['P_1', 'P_2', 'Q']\n",
      "\n",
      "P1 P2 Q : P1 imp (P2 iff Q)\n",
      "---------------------------\n",
      "1  1  1   1   1   1   1  1\n",
      "1  1  0   1   0   1   0  0\n",
      "1  0  1   1   0   0   0  1\n",
      "1  0  0   1   1   0   1  0\n",
      "0  1  1   0   1   1   1  1\n",
      "0  1  0   0   1   1   0  0\n",
      "0  0  1   0   1   0   0  1\n",
      "0  0  0   0   1   0   1  0\n",
      "---------------------------\n",
      "Level     1   3   1   2  1\n"
     ]
    }
   ],
   "source": [
    "fmla2.show_truth_table()"
   ]
  },
  {
   "cell_type": "code",
   "execution_count": 17,
   "metadata": {},
   "outputs": [
    {
     "name": "stdout",
     "output_type": "stream",
     "text": [
      "Truth table for the following 6 formulas.\n"
     ]
    },
    {
     "data": {
      "text/latex": [
       "$\\displaystyle A \\wedge B$"
      ],
      "text/plain": [
       "<IPython.core.display.Math object>"
      ]
     },
     "metadata": {},
     "output_type": "display_data"
    },
    {
     "data": {
      "text/latex": [
       "$\\displaystyle A \\vee B$"
      ],
      "text/plain": [
       "<IPython.core.display.Math object>"
      ]
     },
     "metadata": {},
     "output_type": "display_data"
    },
    {
     "data": {
      "text/latex": [
       "$\\displaystyle A \\rightarrow B$"
      ],
      "text/plain": [
       "<IPython.core.display.Math object>"
      ]
     },
     "metadata": {},
     "output_type": "display_data"
    },
    {
     "data": {
      "text/latex": [
       "$\\displaystyle \\neg\\, A \\vee B$"
      ],
      "text/plain": [
       "<IPython.core.display.Math object>"
      ]
     },
     "metadata": {},
     "output_type": "display_data"
    },
    {
     "data": {
      "text/latex": [
       "$\\displaystyle A \\leftrightarrow B$"
      ],
      "text/plain": [
       "<IPython.core.display.Math object>"
      ]
     },
     "metadata": {},
     "output_type": "display_data"
    },
    {
     "data": {
      "text/latex": [
       "$\\displaystyle A \\nleftrightarrow B$"
      ],
      "text/plain": [
       "<IPython.core.display.Math object>"
      ]
     },
     "metadata": {},
     "output_type": "display_data"
    },
    {
     "name": "stdout",
     "output_type": "stream",
     "text": [
      "prime subformulas = ['A', 'B']\n",
      "alt prop. letters = ['A', 'B']\n",
      "\n",
      "A B : A and B, A or B, A imp B, not A or B, A iff B, A xor B\n",
      "------------------------------------------------------------\n",
      "1 1   1  1  1  1 1  1  1  1  1   0  1 1  1  1  1  1  1  0  1\n",
      "1 0   1  0  0  1 1  0  1  0  0   0  1 0  0  1  0  0  1  1  0\n",
      "0 1   0  0  1  0 1  1  0  1  1   1  0 1  1  0  0  1  0  1  1\n",
      "0 0   0  0  0  0 0  0  0  1  0   1  0 1  0  0  1  0  0  0  0\n",
      "------------------------------------------------------------\n",
      "Level 1  2  1  1 2  1  1  2  1   2  1 3  1  1  2  1  1  2  1\n"
     ]
    }
   ],
   "source": [
    "fmla_and = Formula(\"A and B\")\n",
    "fmla_or = Formula(\"A or B\")\n",
    "fmla_imp = Formula(\"A imp B\")\n",
    "fmla_imp2 = Formula(\"not A or B\")\n",
    "fmla_iff = Formula(\"A iff B\")\n",
    "fmla_xor = Formula(\"A xor B\")\n",
    "f_list = [fmla_and, fmla_or, fmla_imp, fmla_imp2, fmla_iff, fmla_xor]\n",
    "TruthTable(f_list).show_truth_table()\n"
   ]
  },
  {
   "cell_type": "code",
   "execution_count": 18,
   "metadata": {},
   "outputs": [
    {
     "name": "stdout",
     "output_type": "stream",
     "text": [
      "Truth table for the following 5 formulas.\n"
     ]
    },
    {
     "data": {
      "text/latex": [
       "$\\displaystyle \\neg\\, A$"
      ],
      "text/plain": [
       "<IPython.core.display.Math object>"
      ]
     },
     "metadata": {},
     "output_type": "display_data"
    },
    {
     "data": {
      "text/latex": [
       "$\\displaystyle A \\wedge B$"
      ],
      "text/plain": [
       "<IPython.core.display.Math object>"
      ]
     },
     "metadata": {},
     "output_type": "display_data"
    },
    {
     "data": {
      "text/latex": [
       "$\\displaystyle A \\vee B$"
      ],
      "text/plain": [
       "<IPython.core.display.Math object>"
      ]
     },
     "metadata": {},
     "output_type": "display_data"
    },
    {
     "data": {
      "text/latex": [
       "$\\displaystyle A \\rightarrow B$"
      ],
      "text/plain": [
       "<IPython.core.display.Math object>"
      ]
     },
     "metadata": {},
     "output_type": "display_data"
    },
    {
     "data": {
      "text/latex": [
       "$\\displaystyle A \\leftrightarrow B$"
      ],
      "text/plain": [
       "<IPython.core.display.Math object>"
      ]
     },
     "metadata": {},
     "output_type": "display_data"
    },
    {
     "name": "stdout",
     "output_type": "stream",
     "text": [
      "Prime subformulas and their alternate labels.\n"
     ]
    },
    {
     "data": {
      "text/latex": [
       "$\\displaystyle [\\,A,\\: B\\,]$"
      ],
      "text/plain": [
       "<IPython.core.display.Math object>"
      ]
     },
     "metadata": {},
     "output_type": "display_data"
    },
    {
     "data": {
      "text/latex": [
       "$\\displaystyle [\\,A,\\: B\\,]$"
      ],
      "text/plain": [
       "<IPython.core.display.Math object>"
      ]
     },
     "metadata": {},
     "output_type": "display_data"
    },
    {
     "name": "stdout",
     "output_type": "stream",
     "text": [
      "\\begin{tabular}{|c|c||c|c||c|c|c||c|c|c||c|c|c||c|c|c|}\\hline\n",
      "$A$ & $B$ & $\\neg$ & $A$ & $A$ & $\\wedge$ & $B$ & $A$\n",
      " & $\\vee$ & $B$ & $A$ & $\\to$ & $B$ & $A$ & $\\leftrightarrow$ & $B$\n",
      " \\\\ \\hline\n",
      "1 & 1 & 0 & 1 & 1 & 1 & 1 & 1 & 1 & 1 & 1 & 1 & 1 & 1 & 1 & 1 \\\\\n",
      "1 & 0 & 0 & 1 & 1 & 0 & 0 & 1 & 1 & 0 & 1 & 0 & 0 & 1 & 0 & 0 \\\\\n",
      "0 & 1 & 1 & 0 & 0 & 0 & 1 & 0 & 1 & 1 & 0 & 1 & 1 & 0 & 0 & 1 \\\\\n",
      "0 & 0 & 1 & 0 & 0 & 0 & 0 & 0 & 0 & 0 & 0 & 1 & 0 & 0 & 1 & 0 \\\\ \\hline\n",
      "\\multicolumn{2}{|c||}{Level}\n",
      "    & 2 & 1 & 1 & 2 & 1 & 1 & 2 & 1 & 1 & 2 & 1 & 1 & 2 & 1 \\\\ \\hline\n",
      "\\end{tabular}\n"
     ]
    }
   ],
   "source": [
    "fmla_not = Formula(\"not A\")\n",
    "f_list = [fmla_not, fmla_and, fmla_or, fmla_imp, fmla_iff]\n",
    "# Generate and print the latex source code for the truth table.\n",
    "TruthTable(f_list).show_truth_table('latex') "
   ]
  },
  {
   "cell_type": "code",
   "execution_count": 19,
   "metadata": {},
   "outputs": [
    {
     "name": "stdout",
     "output_type": "stream",
     "text": [
      "Truth table for the following 6 formulas.\n"
     ]
    },
    {
     "data": {
      "text/latex": [
       "$\\displaystyle A \\wedge B$"
      ],
      "text/plain": [
       "<IPython.core.display.Math object>"
      ]
     },
     "metadata": {},
     "output_type": "display_data"
    },
    {
     "data": {
      "text/latex": [
       "$\\displaystyle B \\vee C$"
      ],
      "text/plain": [
       "<IPython.core.display.Math object>"
      ]
     },
     "metadata": {},
     "output_type": "display_data"
    },
    {
     "data": {
      "text/latex": [
       "$\\displaystyle D \\rightarrow C$"
      ],
      "text/plain": [
       "<IPython.core.display.Math object>"
      ]
     },
     "metadata": {},
     "output_type": "display_data"
    },
    {
     "data": {
      "text/latex": [
       "$\\displaystyle \\neg\\, C \\vee D$"
      ],
      "text/plain": [
       "<IPython.core.display.Math object>"
      ]
     },
     "metadata": {},
     "output_type": "display_data"
    },
    {
     "data": {
      "text/latex": [
       "$\\displaystyle A \\leftrightarrow C$"
      ],
      "text/plain": [
       "<IPython.core.display.Math object>"
      ]
     },
     "metadata": {},
     "output_type": "display_data"
    },
    {
     "data": {
      "text/latex": [
       "$\\displaystyle A \\nleftrightarrow C$"
      ],
      "text/plain": [
       "<IPython.core.display.Math object>"
      ]
     },
     "metadata": {},
     "output_type": "display_data"
    },
    {
     "name": "stdout",
     "output_type": "stream",
     "text": [
      "prime subformulas = ['A', 'B', 'C', 'D']\n",
      "alt prop. letters = ['A', 'B', 'C', 'D']\n",
      "\n",
      "A B C D : A and B, B or C, D imp C, not C or D, A iff C, A xor C\n",
      "----------------------------------------------------------------\n",
      "1 1 1 1   1  1  1  1 1  1  1  1  1   0  1 1  1  1  1  1  1  0  1\n",
      "1 1 1 0   1  1  1  1 1  1  0  1  1   0  1 0  0  1  1  1  1  0  1\n",
      "1 1 0 1   1  1  1  1 1  0  1  0  0   1  0 1  1  1  0  0  1  1  0\n",
      "1 1 0 0   1  1  1  1 1  0  0  1  0   1  0 1  0  1  0  0  1  1  0\n",
      "1 0 1 1   1  0  0  0 1  1  1  1  1   0  1 1  1  1  1  1  1  0  1\n",
      "1 0 1 0   1  0  0  0 1  1  0  1  1   0  1 0  0  1  1  1  1  0  1\n",
      "1 0 0 1   1  0  0  0 0  0  1  0  0   1  0 1  1  1  0  0  1  1  0\n",
      "1 0 0 0   1  0  0  0 0  0  0  1  0   1  0 1  0  1  0  0  1  1  0\n",
      "0 1 1 1   0  0  1  1 1  1  1  1  1   0  1 1  1  0  0  1  0  1  1\n",
      "0 1 1 0   0  0  1  1 1  1  0  1  1   0  1 0  0  0  0  1  0  1  1\n",
      "0 1 0 1   0  0  1  1 1  0  1  0  0   1  0 1  1  0  1  0  0  0  0\n",
      "0 1 0 0   0  0  1  1 1  0  0  1  0   1  0 1  0  0  1  0  0  0  0\n",
      "0 0 1 1   0  0  0  0 1  1  1  1  1   0  1 1  1  0  0  1  0  1  1\n",
      "0 0 1 0   0  0  0  0 1  1  0  1  1   0  1 0  0  0  0  1  0  1  1\n",
      "0 0 0 1   0  0  0  0 0  0  1  0  0   1  0 1  1  0  1  0  0  0  0\n",
      "0 0 0 0   0  0  0  0 0  0  0  1  0   1  0 1  0  0  1  0  0  0  0\n",
      "----------------------------------------------------------------\n",
      "Level     1  2  1  1 2  1  1  2  1   2  1 3  1  1  2  1  1  2  1\n"
     ]
    }
   ],
   "source": [
    "fmla_and = Formula(\"A and B\")\n",
    "fmla_or = Formula(\"B or C\")\n",
    "fmla_imp = Formula(\"D imp C\")\n",
    "fmla_imp2 = Formula(\"not C or D\")\n",
    "fmla_iff = Formula(\"A iff C\")\n",
    "fmla_xor = Formula(\"A xor C\")\n",
    "f_list = [fmla_and, fmla_or, fmla_imp, fmla_imp2, fmla_iff, fmla_xor]\n",
    "TruthTable(f_list).show_truth_table()\n"
   ]
  },
  {
   "cell_type": "code",
   "execution_count": 20,
   "metadata": {},
   "outputs": [
    {
     "name": "stdout",
     "output_type": "stream",
     "text": [
      "Truth table for the following 3 formulas.\n"
     ]
    },
    {
     "data": {
      "text/latex": [
       "$\\displaystyle \\forall y\\, A(y) \\rightarrow Q(a, b)$"
      ],
      "text/plain": [
       "<IPython.core.display.Math object>"
      ]
     },
     "metadata": {},
     "output_type": "display_data"
    },
    {
     "data": {
      "text/latex": [
       "$\\displaystyle Q(a, b) \\vee C$"
      ],
      "text/plain": [
       "<IPython.core.display.Math object>"
      ]
     },
     "metadata": {},
     "output_type": "display_data"
    },
    {
     "data": {
      "text/latex": [
       "$\\displaystyle \\neg\\, (C \\rightarrow Q(a, b)) \\vee \\forall y\\, A(y)$"
      ],
      "text/plain": [
       "<IPython.core.display.Math object>"
      ]
     },
     "metadata": {},
     "output_type": "display_data"
    },
    {
     "name": "stdout",
     "output_type": "stream",
     "text": [
      "prime subformulas = ['C', 'forall y A1(y)', 'Q2(a, b)']\n",
      "alt prop. letters = ['C', 'P_1', 'P_2']\n",
      "\n",
      "C P1 P2 : P1 imp P2, P2 or C, not (C imp P2) or P1\n",
      "--------------------------------------------------\n",
      "1 1  1    1   1  1   1  1  1   0   1  1  1   1  1 \n",
      "1 1  0    1   0  0   0  1  1   1   1  0  0   1  1 \n",
      "1 0  1    0   1  1   1  1  1   0   1  1  1   0  0 \n",
      "1 0  0    0   1  0   0  1  1   1   1  0  0   1  0 \n",
      "0 1  1    1   1  1   1  1  0   0   0  1  1   1  1 \n",
      "0 1  0    1   0  0   0  0  0   0   0  1  0   1  1 \n",
      "0 0  1    0   1  1   1  1  0   0   0  1  1   0  0 \n",
      "0 0  0    0   1  0   0  0  0   0   0  1  0   0  0 \n",
      "--------------------------------------------------\n",
      "Level     1   2  1   1  2  1   3   1  2  1   4  1 \n"
     ]
    }
   ],
   "source": [
    "from truth_table import *\n",
    "\n",
    "f1 = Formula(\"forall y A1(y) imp Q2(a,b)\")\n",
    "f2 = Formula(\"Q2(a,b) or C\")\n",
    "f3 = Formula(\"not (C imp Q2(a,b)) or forall y A1(y)\")\n",
    "F_List = TruthTable([f1, f2, f3])\n",
    "F_List.show_truth_table()"
   ]
  },
  {
   "cell_type": "code",
   "execution_count": 21,
   "metadata": {},
   "outputs": [
    {
     "name": "stdout",
     "output_type": "stream",
     "text": [
      "Truth table for the following 3 formulas.\n"
     ]
    },
    {
     "data": {
      "text/latex": [
       "$\\displaystyle \\forall y\\, A(y) \\rightarrow Q(a, b)$"
      ],
      "text/plain": [
       "<IPython.core.display.Math object>"
      ]
     },
     "metadata": {},
     "output_type": "display_data"
    },
    {
     "data": {
      "text/latex": [
       "$\\displaystyle Q(a, b) \\vee C$"
      ],
      "text/plain": [
       "<IPython.core.display.Math object>"
      ]
     },
     "metadata": {},
     "output_type": "display_data"
    },
    {
     "data": {
      "text/latex": [
       "$\\displaystyle \\neg\\, (C \\rightarrow Q(a, b)) \\vee \\forall y\\, A(y)$"
      ],
      "text/plain": [
       "<IPython.core.display.Math object>"
      ]
     },
     "metadata": {},
     "output_type": "display_data"
    },
    {
     "name": "stdout",
     "output_type": "stream",
     "text": [
      "Prime subformulas and their alternate labels.\n"
     ]
    },
    {
     "data": {
      "text/latex": [
       "$\\displaystyle [\\,C,\\: \\forall y\\, A(y),\\: Q(a, b)\\,]$"
      ],
      "text/plain": [
       "<IPython.core.display.Math object>"
      ]
     },
     "metadata": {},
     "output_type": "display_data"
    },
    {
     "data": {
      "text/latex": [
       "$\\displaystyle [\\,C,\\: P_{1},\\: P_{2}\\,]$"
      ],
      "text/plain": [
       "<IPython.core.display.Math object>"
      ]
     },
     "metadata": {},
     "output_type": "display_data"
    },
    {
     "name": "stdout",
     "output_type": "stream",
     "text": [
      "\\begin{tabular}{|c|c|c||c|c|c||c|c|c||c|c|c|c|c|c|c|c|}\\hline\n",
      "$C$ & $P_1$ & $P_2$ & $P_1$ & $\\to$ & $P_2$ & $P_2$ & $\\vee$\n",
      " & $C$ & $\\neg$ & $($ & $C$ & $\\to$ & $P_2$ & $)$ & $\\vee$\n",
      " & $P_1$ \\\\ \\hline\n",
      "1 & 1 & 1 & 1 & 1 & 1 & 1 & 1 & 1 & 0 &  & 1 & 1 & 1 &  & 1 & 1 \\\\\n",
      "1 & 1 & 0 & 1 & 0 & 0 & 0 & 1 & 1 & 1 &  & 1 & 0 & 0 &  & 1 & 1 \\\\\n",
      "1 & 0 & 1 & 0 & 1 & 1 & 1 & 1 & 1 & 0 &  & 1 & 1 & 1 &  & 0 & 0 \\\\\n",
      "1 & 0 & 0 & 0 & 1 & 0 & 0 & 1 & 1 & 1 &  & 1 & 0 & 0 &  & 1 & 0 \\\\\n",
      "0 & 1 & 1 & 1 & 1 & 1 & 1 & 1 & 0 & 0 &  & 0 & 1 & 1 &  & 1 & 1 \\\\\n",
      "0 & 1 & 0 & 1 & 0 & 0 & 0 & 0 & 0 & 0 &  & 0 & 1 & 0 &  & 1 & 1 \\\\\n",
      "0 & 0 & 1 & 0 & 1 & 1 & 1 & 1 & 0 & 0 &  & 0 & 1 & 1 &  & 0 & 0 \\\\\n",
      "0 & 0 & 0 & 0 & 1 & 0 & 0 & 0 & 0 & 0 &  & 0 & 1 & 0 &  & 0 & 0 \\\\ \\hline\n",
      "\\multicolumn{3}{|c||}{Level}\n",
      "    & 1 & 2 & 1 & 1 & 2 & 1 & 3 &  & 1 & 2 & 1 &  & 4 & 1 \\\\ \\hline\n",
      "\\end{tabular}\n"
     ]
    }
   ],
   "source": [
    "F_List.show_truth_table('latex')"
   ]
  },
  {
   "cell_type": "code",
   "execution_count": 22,
   "metadata": {},
   "outputs": [
    {
     "name": "stdout",
     "output_type": "stream",
     "text": [
      "Truth table for the following 3 formulas.\n"
     ]
    },
    {
     "data": {
      "text/latex": [
       "$\\displaystyle A \\rightarrow \\forall x\\, B(x)$"
      ],
      "text/plain": [
       "<IPython.core.display.Math object>"
      ]
     },
     "metadata": {},
     "output_type": "display_data"
    },
    {
     "data": {
      "text/latex": [
       "$\\displaystyle \\forall x\\, B(x) \\vee D(f(a), b + 1)$"
      ],
      "text/plain": [
       "<IPython.core.display.Math object>"
      ]
     },
     "metadata": {},
     "output_type": "display_data"
    },
    {
     "data": {
      "text/latex": [
       "$\\displaystyle (D(f(a), b + 1) \\rightarrow \\neg\\, \\forall x\\, B(x)) \\rightarrow D(f(a), b + 1)$"
      ],
      "text/plain": [
       "<IPython.core.display.Math object>"
      ]
     },
     "metadata": {},
     "output_type": "display_data"
    },
    {
     "name": "stdout",
     "output_type": "stream",
     "text": [
      "prime subformulas = ['A', 'forall x B1(x)', 'D2(f(a), b + 1)']\n",
      "alt prop. letters = ['A', 'P_1', 'P_2']\n",
      "\n",
      "A P1 P2 : A imp P1, P1 or P2, (P2 imp not P1) imp P2\n",
      "----------------------------------------------------\n",
      "1 1  1    1  1  1   1  1  1    1   0   0  1    1  1 \n",
      "1 1  0    1  1  1   1  1  0    0   1   0  1    0  0 \n",
      "1 0  1    1  0  0   0  1  1    1   1   1  0    1  1 \n",
      "1 0  0    1  0  0   0  0  0    0   1   1  0    0  0 \n",
      "0 1  1    0  1  1   1  1  1    1   0   0  1    1  1 \n",
      "0 1  0    0  1  1   1  1  0    0   1   0  1    0  0 \n",
      "0 0  1    0  1  0   0  1  1    1   1   1  0    1  1 \n",
      "0 0  0    0  1  0   0  0  0    0   1   1  0    0  0 \n",
      "----------------------------------------------------\n",
      "Level     1  2  1   1  2  1    1   3   2  1    4  1 \n"
     ]
    }
   ],
   "source": [
    "f1 = Formula('A imp forall x B1(x)')\n",
    "f2 = Formula('forall x B1(x) or D2(f(a), b+1)')\n",
    "f3 = Formula('(D2(f(a), b+1) imp not forall x B1(x)) imp D2(f(a), b+1)')\n",
    "t_table = TruthTable([f1, f2, f3])\n",
    "t_table.show_truth_table()"
   ]
  },
  {
   "cell_type": "code",
   "execution_count": 23,
   "metadata": {},
   "outputs": [
    {
     "name": "stdout",
     "output_type": "stream",
     "text": [
      "Truth table for the following formula.\n"
     ]
    },
    {
     "data": {
      "text/latex": [
       "$\\displaystyle (A \\rightarrow B) \\wedge (\\neg\\, A \\rightarrow C) \\leftrightarrow (A \\wedge B) \\vee (\\neg\\, A \\wedge C)$"
      ],
      "text/plain": [
       "<IPython.core.display.Math object>"
      ]
     },
     "metadata": {},
     "output_type": "display_data"
    },
    {
     "name": "stdout",
     "output_type": "stream",
     "text": [
      "prime subformulas = ['A', 'B', 'C']\n",
      "alt prop. letters = ['A', 'B', 'C']\n",
      "\n",
      "A B C : (A imp B) and (not A imp C) iff (A and B) or (not A and C)\n",
      "------------------------------------------------------------------\n",
      "1 1 1    1  1  1   1    0  1  1  1   1   1  1  1  1    0  1  0  1\n",
      "1 1 0    1  1  1   1    0  1  1  0   1   1  1  1  1    0  1  0  0\n",
      "1 0 1    1  0  0   0    0  1  1  1   1   1  0  0  0    0  1  0  1\n",
      "1 0 0    1  0  0   0    0  1  1  0   1   1  0  0  0    0  1  0  0\n",
      "0 1 1    0  1  1   1    1  0  1  1   1   0  0  1  1    1  0  1  1\n",
      "0 1 0    0  1  1   0    1  0  0  0   1   0  0  1  0    1  0  0  0\n",
      "0 0 1    0  1  0   1    1  0  1  1   1   0  0  0  1    1  0  1  1\n",
      "0 0 0    0  1  0   0    1  0  0  0   1   0  0  0  0    1  0  0  0\n",
      "------------------------------------------------------------------\n",
      "Level    1  2  1   4    2  1  3  1   5   1  2  1  4    2  1  3  1\n"
     ]
    }
   ],
   "source": [
    "fmla = Formula('(A imp B) and (not A imp C) iff (A and B) or (not A and C)')\n",
    "t_table = TruthTable([fmla])\n",
    "t_table.show_truth_table()"
   ]
  },
  {
   "cell_type": "code",
   "execution_count": 24,
   "metadata": {},
   "outputs": [
    {
     "name": "stdout",
     "output_type": "stream",
     "text": [
      "Truth table for the following formula.\n"
     ]
    },
    {
     "data": {
      "text/latex": [
       "$\\displaystyle (A \\wedge \\neg\\, B) \\vee (\\neg\\, A \\wedge B) \\leftrightarrow \\neg\\, (A \\leftrightarrow B)$"
      ],
      "text/plain": [
       "<IPython.core.display.Math object>"
      ]
     },
     "metadata": {},
     "output_type": "display_data"
    },
    {
     "name": "stdout",
     "output_type": "stream",
     "text": [
      "prime subformulas = ['A', 'B']\n",
      "alt prop. letters = ['A', 'B']\n",
      "\n",
      "A B : (A and not B) or (not A and B) iff not (A iff B)\n",
      "------------------------------------------------------\n",
      "1 1    1  0   0  1  0    0  1  0  1   1   0   1  1  1\n",
      "1 0    1  1   1  0  1    0  1  0  0   1   1   1  0  0\n",
      "0 1    0  0   0  1  1    1  0  1  1   1   1   0  0  1\n",
      "0 0    0  0   1  0  0    1  0  0  0   1   0   0  1  0\n",
      "------------------------------------------------------\n",
      "Level  1  3   2  1  4    2  1  3  1   5   3   1  2  1\n"
     ]
    }
   ],
   "source": [
    "f1 = \"(A and not B) or (not A and B) iff not(A iff B)\"\n",
    "f2 = \"(A and B) or (not A and not B) iff (A iff B)\"\n",
    "f3 = \"(A imp not B) and (A or B) iff not(A iff B)\"\n",
    "fmla = Formula(f1)\n",
    "t_table = TruthTable([fmla])\n",
    "t_table.show_truth_table()"
   ]
  },
  {
   "cell_type": "code",
   "execution_count": 25,
   "metadata": {},
   "outputs": [
    {
     "name": "stdout",
     "output_type": "stream",
     "text": [
      "Truth table for the following formula.\n"
     ]
    },
    {
     "data": {
      "text/latex": [
       "$\\displaystyle (A \\wedge B) \\vee (\\neg\\, A \\wedge \\neg\\, B) \\leftrightarrow A \\leftrightarrow B$"
      ],
      "text/plain": [
       "<IPython.core.display.Math object>"
      ]
     },
     "metadata": {},
     "output_type": "display_data"
    },
    {
     "name": "stdout",
     "output_type": "stream",
     "text": [
      "prime subformulas = ['A', 'B']\n",
      "alt prop. letters = ['A', 'B']\n",
      "\n",
      "A B : (A and B) or (not A and not B) iff A iff B\n",
      "------------------------------------------------\n",
      "1 1    1  1  1  1    0  1  0   0  1   1  1  1  1\n",
      "1 0    1  0  0  0    0  1  0   1  0   1  1  0  0\n",
      "0 1    0  0  1  0    1  0  0   0  1   1  0  0  1\n",
      "0 0    0  0  0  1    1  0  1   1  0   1  0  1  0\n",
      "------------------------------------------------\n",
      "Level  1  2  1  4    2  1  3   2  1   5  1  2  1\n"
     ]
    }
   ],
   "source": [
    "fmla = Formula(f2)\n",
    "t_table = TruthTable([fmla])\n",
    "t_table.show_truth_table()"
   ]
  },
  {
   "cell_type": "code",
   "execution_count": 28,
   "metadata": {},
   "outputs": [
    {
     "name": "stdout",
     "output_type": "stream",
     "text": [
      "Truth table for the following formula.\n"
     ]
    },
    {
     "data": {
      "text/latex": [
       "$\\displaystyle (A \\wedge \\neg\\, B) \\vee (\\neg\\, A \\wedge B) \\leftrightarrow \\neg\\, (A \\leftrightarrow B)$"
      ],
      "text/plain": [
       "<IPython.core.display.Math object>"
      ]
     },
     "metadata": {},
     "output_type": "display_data"
    },
    {
     "name": "stdout",
     "output_type": "stream",
     "text": [
      "prime subformulas = ['A', 'B']\n",
      "alt prop. letters = ['A', 'B']\n",
      "\n",
      "A B : (A and not B) or (not A and B) iff not (A iff B)\n",
      "------------------------------------------------------\n",
      "1 1    1  0   0  1  0    0  1  0  1   1   0   1  1  1\n",
      "1 0    1  1   1  0  1    0  1  0  0   1   1   1  0  0\n",
      "0 1    0  0   0  1  1    1  0  1  1   1   1   0  0  1\n",
      "0 0    0  0   1  0  0    1  0  0  0   1   0   0  1  0\n",
      "------------------------------------------------------\n",
      "Level  1  3   2  1  4    2  1  3  1   5   3   1  2  1\n"
     ]
    }
   ],
   "source": [
    "fmla = Formula(\"(A and not B) or (not A and B) iff not(A iff B)\")\n",
    "t_table = TruthTable([fmla])\n",
    "t_table.show_truth_table()"
   ]
  }
 ],
 "metadata": {
  "kernelspec": {
   "display_name": "mlenv",
   "language": "python",
   "name": "python3"
  },
  "language_info": {
   "codemirror_mode": {
    "name": "ipython",
    "version": 3
   },
   "file_extension": ".py",
   "mimetype": "text/x-python",
   "name": "python",
   "nbconvert_exporter": "python",
   "pygments_lexer": "ipython3",
   "version": "3.11.2"
  },
  "orig_nbformat": 4
 },
 "nbformat": 4,
 "nbformat_minor": 2
}
