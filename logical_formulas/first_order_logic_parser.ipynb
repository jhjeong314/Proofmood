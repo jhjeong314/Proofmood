{
 "cells": [
  {
   "cell_type": "markdown",
   "metadata": {},
   "source": [
    "The language of first-order logic.\n",
    "\n",
    "```xml\n",
    "<formula> ::= { <comp_fmla1> \"imp\" } <comp_fmla1> | \n",
    "                <comp_fmla1> { ( \"iff\" | \"xor\") <comp_fmla1> }\n",
    "<comp_fmla1> ::= <comp_fmla2> { (\"and\" | \"or\") <comp_fmla2> }\n",
    "<comp_fmla2> ::= { (\"not\" | <determiner>) } '(' <formula> ')' | \n",
    "                 { (\"not\" | <determiner>) } <atom> | \"bot\"\n",
    "<determiner> ::= <quantifier> <var>\n",
    "<quantifier> ::= \"forall\" | \"exists\"\n",
    "<atom> ::= <prop_letter> | <pred_pre> \"(\" <term> {',' <term>} \")\" |\n",
    "           <term> <pred_in> <term>\n",
    "<term> ::= (<term1> | <nterm1>) { <oper_in_1> <term1> }\n",
    "<nterm1> ::= <oper_pre> { <oper_pre> } <term1>\n",
    "<term1> ::= <factor> { <oper_in_2> <factor> }\n",
    "<factor> ::= { <factor_exp> <oper_in_3> } <factor_exp>\n",
    "<factor_exp> ::= <factor_postfix> { <oper_postfix> }\n",
    "<factor_postfix> ::= \"(\" <term> \")\"  | <func_call> | <identifier>\n",
    "<func_call> ::= <func_pre> '(' <term> {',' <term>} ')' \n",
    "<identifier> ::= <const> | <numeral> | <var>\n",
    "\n",
    "# oper_in_1, oper_pre, oper_in_2, oper_in_3, oper_post, \n",
    "#   func_pre, const, numeral, var are defined in the Token class.\n",
    "```"
   ]
  },
  {
   "cell_type": "code",
   "execution_count": 1,
   "metadata": {},
   "outputs": [],
   "source": [
    "try:\n",
    "  from first_order_logic_parse import *\n",
    "except ImportError:\n",
    "  url = 'https://raw.githubusercontent.com/jhjeong314/Proofmood/main/logical_formulas'\n",
    "  import httpimport\n",
    "  with httpimport.remote_repo(url):\n",
    "    from first_order_logic_parse import *\n",
    "\n",
    "def testParser(input_text, showOption='polish', verbose=False):\n",
    "  # showOption ::= 'polish' | 'RPN' | 'infix_text' | 'infix_latex' |\n",
    "  #                'bussproof' | 'tree'\n",
    "  # 'bussproof' output is LaTeX source text.\n",
    "  # verbose has effect only when showOption == 'polish', 'RPN' or 'tree'\n",
    "  from IPython.display import display, Math\n",
    "\n",
    "  try:\n",
    "    ast = parse_text(input_text)\n",
    "  except ValueError as e:\n",
    "    print(f\"ValueError: {e}\")\n",
    "  except SyntaxError as e:\n",
    "    print(f\"SyntaxError: {e}\")\n",
    "  else:\n",
    "    if showOption=='polish':\n",
    "      print(ast.build_polish_notation(verbose))\n",
    "    elif showOption=='RPN':\n",
    "      print(ast.build_RPN(verbose))\n",
    "    elif showOption=='infix_text':\n",
    "      print(ast.build_infix('text'))\n",
    "    elif showOption=='infix_latex':\n",
    "      s = ast.build_infix('latex')\n",
    "      if verbose:\n",
    "        print(\"\\n$\", s, \"$\") # latex source text\n",
    "      display(Math(f\"${s}$\")) # render LaTeXed expression\n",
    "    elif showOption=='bussproof':\n",
    "      s = ast.build_bussproof() \n",
    "      print(s)\n",
    "    elif showOption=='tree':\n",
    "      ast.draw_tree(verbose)\n",
    "    else:\n",
    "      raise ValueError(f\"Invalid showOption: {showOption}\")"
   ]
  },
  {
   "cell_type": "code",
   "execution_count": 2,
   "metadata": {},
   "outputs": [
    {
     "name": "stdout",
     "output_type": "stream",
     "text": [
      "- f_23 - x - - c 12\n",
      "-f_23(-x, -(-c), 12)\n"
     ]
    },
    {
     "data": {
      "text/latex": [
       "$\\displaystyle -f_{2}(-x, -(-c), 12)$"
      ],
      "text/plain": [
       "<IPython.core.display.Math object>"
      ]
     },
     "metadata": {},
     "output_type": "display_data"
    },
    {
     "name": "stdout",
     "output_type": "stream",
     "text": [
      "\\begin{prooftree}\n",
      "\\AxiomC{$-f_{2}(-x, -(-c), 12)$}\n",
      "\\end{prooftree}\n",
      "\n",
      "root: -f_{2}(-x, -(-c), 12), position: (0.000, 0.000), width: 1.146, height: 0.090\n",
      "\n"
     ]
    },
    {
     "data": {
      "image/png": "[encoded data removed]",
      "text/plain": [
       "<Figure size 900x450 with 1 Axes>"
      ]
     },
     "metadata": {},
     "output_type": "display_data"
    }
   ],
   "source": [
    "# term example 1\n",
    "\n",
    "v_str1 = \"-f_23(-x, --c, 12)\"\n",
    "testParser(v_str1) \n",
    "testParser(v_str1, 'infix_text') \n",
    "testParser(v_str1, 'infix_latex') \n",
    "testParser(v_str1, 'bussproof') # term has no tree structure\n",
    "testParser(v_str1, 'tree', verbose=True) # term has no tree structure"
   ]
  },
  {
   "cell_type": "code",
   "execution_count": 3,
   "metadata": {},
   "outputs": [
    {
     "name": "stdout",
     "output_type": "stream",
     "text": [
      "+ - x - + y x\n",
      "-x + (-(y + x))\n"
     ]
    },
    {
     "data": {
      "text/latex": [
       "$\\displaystyle -x + (-(y + x))$"
      ],
      "text/plain": [
       "<IPython.core.display.Math object>"
      ]
     },
     "metadata": {},
     "output_type": "display_data"
    },
    {
     "name": "stdout",
     "output_type": "stream",
     "text": [
      "\\begin{prooftree}\n",
      "\\AxiomC{$-x + (-(y + x))$}\n",
      "\\end{prooftree}\n",
      "\n"
     ]
    }
   ],
   "source": [
    "# term example 2\n",
    "\n",
    "v_str1 = \"-x + (-(y+x))\" \n",
    "\n",
    "testParser(v_str1) \n",
    "testParser(v_str1, 'infix_text') \n",
    "testParser(v_str1, 'infix_latex') \n",
    "testParser(v_str1, 'bussproof') # term has no tree structure\n"
   ]
  },
  {
   "cell_type": "code",
   "execution_count": 4,
   "metadata": {},
   "outputs": [
    {
     "name": "stdout",
     "output_type": "stream",
     "text": [
      "/ x div y z\n",
      "x / (y div z)\n"
     ]
    },
    {
     "data": {
      "text/latex": [
       "$\\displaystyle x / (y \\div z)$"
      ],
      "text/plain": [
       "<IPython.core.display.Math object>"
      ]
     },
     "metadata": {},
     "output_type": "display_data"
    }
   ],
   "source": [
    "# term example 3\n",
    "\n",
    "v_str1 = \"x / (y div z)\" \n",
    "\n",
    "testParser(v_str1) \n",
    "testParser(v_str1, 'infix_text') \n",
    "testParser(v_str1, 'infix_latex') "
   ]
  },
  {
   "cell_type": "code",
   "execution_count": 5,
   "metadata": {},
   "outputs": [
    {
     "name": "stdout",
     "output_type": "stream",
     "text": [
      "^ + a c b\n",
      "(a + c)^{b}\n"
     ]
    },
    {
     "data": {
      "text/latex": [
       "$\\displaystyle (a + c)^{b}$"
      ],
      "text/plain": [
       "<IPython.core.display.Math object>"
      ]
     },
     "metadata": {},
     "output_type": "display_data"
    }
   ],
   "source": [
    "# term example 4\n",
    "\n",
    "v_str1 = \"(a+c)^b\" \n",
    "testParser(v_str1) \n",
    "testParser(v_str1, 'infix_text') \n",
    "testParser(v_str1, 'infix_latex') "
   ]
  },
  {
   "cell_type": "code",
   "execution_count": 6,
   "metadata": {},
   "outputs": [
    {
     "name": "stdout",
     "output_type": "stream",
     "text": [
      "^ ^# ^inv a 2\n",
      "((a^inv)^#)^{2}\n"
     ]
    },
    {
     "data": {
      "text/latex": [
       "$\\displaystyle ((a^{-1})^\\#)^{2}$"
      ],
      "text/plain": [
       "<IPython.core.display.Math object>"
      ]
     },
     "metadata": {},
     "output_type": "display_data"
    }
   ],
   "source": [
    "# term example 5\n",
    "\n",
    "v_str1 = \"a^inv^#^2\" \n",
    "testParser(v_str1) \n",
    "testParser(v_str1, 'infix_text') \n",
    "testParser(v_str1, 'infix_latex') "
   ]
  },
  {
   "cell_type": "code",
   "execution_count": 7,
   "metadata": {},
   "outputs": [
    {
     "name": "stdout",
     "output_type": "stream",
     "text": [
      "A3 x a + + y 1 z\n",
      "A3(x, a, y + 1 + z)\n"
     ]
    },
    {
     "data": {
      "text/latex": [
       "$\\displaystyle A(x, a, y + 1 + z)$"
      ],
      "text/plain": [
       "<IPython.core.display.Math object>"
      ]
     },
     "metadata": {},
     "output_type": "display_data"
    },
    {
     "name": "stdout",
     "output_type": "stream",
     "text": [
      "\\begin{prooftree}\n",
      "\\AxiomC{$x$}\n",
      "\\AxiomC{$a$}\n",
      "\\AxiomC{$y + 1 + z$}\n",
      "\\TrinaryInfC{$A$}\n",
      "\\end{prooftree}\n",
      "\n"
     ]
    },
    {
     "data": {
      "image/png": "[encoded data removed]",
      "text/plain": [
       "<Figure size 900x450 with 1 Axes>"
      ]
     },
     "metadata": {},
     "output_type": "display_data"
    }
   ],
   "source": [
    "# formula example 1\n",
    "\n",
    "v_str = 'A3(x,a,y+1+z)'\n",
    "testParser(v_str)\n",
    "testParser(v_str, 'infix_text')\n",
    "testParser(v_str, 'infix_latex')\n",
    "testParser(v_str, 'bussproof')\n",
    "testParser(v_str, 'tree')"
   ]
  },
  {
   "cell_type": "code",
   "execution_count": 8,
   "metadata": {},
   "outputs": [
    {
     "name": "stdout",
     "output_type": "stream",
     "text": [
      "ALongLongPred2 f2 x a y\n",
      "ALongLongPred2(f2(x, a), y)\n"
     ]
    },
    {
     "data": {
      "text/latex": [
       "$\\displaystyle {\\rm ALongLongPred}(f(x, a), y)$"
      ],
      "text/plain": [
       "<IPython.core.display.Math object>"
      ]
     },
     "metadata": {},
     "output_type": "display_data"
    },
    {
     "name": "stdout",
     "output_type": "stream",
     "text": [
      "\\begin{prooftree}\n",
      "\\AxiomC{$f(x, a)$}\n",
      "\\AxiomC{$y$}\n",
      "\\BinaryInfC{${\\rm ALongLongPred}$}\n",
      "\\end{prooftree}\n",
      "\n"
     ]
    },
    {
     "data": {
      "image/png": "[encoded data removed]",
      "text/plain": [
       "<Figure size 900x450 with 1 Axes>"
      ]
     },
     "metadata": {},
     "output_type": "display_data"
    }
   ],
   "source": [
    "# formula example 2\n",
    "\n",
    "v_str = 'ALongLongPred2(f2(x,a),  y)'\n",
    "testParser(v_str)\n",
    "testParser(v_str, 'infix_text')\n",
    "testParser(v_str, 'infix_latex')\n",
    "testParser(v_str, 'bussproof')\n",
    "testParser(v_str, 'tree')"
   ]
  },
  {
   "cell_type": "code",
   "execution_count": 9,
   "metadata": {},
   "outputs": [
    {
     "name": "stdout",
     "output_type": "stream",
     "text": [
      "imp BinaryPred2 x y = fLong x y\n",
      "BinaryPred2(x, y) imp fLong(x) = y\n"
     ]
    },
    {
     "data": {
      "text/latex": [
       "$\\displaystyle {\\rm BinaryPred}(x, y)\\: \\rightarrow\\: {\\rm fLong}(x) = y$"
      ],
      "text/plain": [
       "<IPython.core.display.Math object>"
      ]
     },
     "metadata": {},
     "output_type": "display_data"
    },
    {
     "name": "stdout",
     "output_type": "stream",
     "text": [
      "\\begin{prooftree}\n",
      "\\AxiomC{$x$}\n",
      "\\AxiomC{$y$}\n",
      "\\BinaryInfC{${\\rm BinaryPred}$}\n",
      "\\AxiomC{${\\rm fLong}(x)$}\n",
      "\\AxiomC{$y$}\n",
      "\\BinaryInfC{$=$}\n",
      "\\BinaryInfC{$\\rightarrow$}\n",
      "\\end{prooftree}\n",
      "\n",
      "root: \\rightarrow, position: (0.000, 0.000), width: 1.626, height: 0.450\n",
      "root: {\\rm BinaryPred}, position: (-0.317, 0.180), width: 0.657, height: 0.270\n",
      "root: x, position: (-0.133, 0.180), width: 0.075, height: 0.090\n",
      "root: y, position: (0.136, 0.180), width: 0.068, height: 0.090\n",
      "root: =, position: (0.595, 0.180), width: 0.771, height: 0.270\n",
      "root: {\\rm fLong}(x), position: (-0.133, 0.180), width: 0.505, height: 0.090\n",
      "root: y, position: (0.351, 0.180), width: 0.068, height: 0.090\n",
      "\n"
     ]
    },
    {
     "data": {
      "image/png": "[encoded data removed]",
      "text/plain": [
       "<Figure size 900x450 with 1 Axes>"
      ]
     },
     "metadata": {},
     "output_type": "display_data"
    }
   ],
   "source": [
    "# formula example 3\n",
    "\n",
    "v_str = 'BinaryPred2( x, y)   imp fLong(x) = y'\n",
    "testParser(v_str)\n",
    "testParser(v_str, 'infix_text')\n",
    "testParser(v_str, 'infix_latex')\n",
    "testParser(v_str, 'bussproof')\n",
    "testParser(v_str, 'tree', verbose=True)"
   ]
  },
  {
   "cell_type": "code",
   "execution_count": 10,
   "metadata": {},
   "outputs": [
    {
     "name": "stdout",
     "output_type": "stream",
     "text": [
      "imp not A_1 and = y y not > ^ x 2 f2 + x 1 y\n",
      "not A_1 imp y = y and not (x^{2} > f2(x + 1, y))\n"
     ]
    },
    {
     "data": {
      "text/latex": [
       "$\\displaystyle \\neg\\, A_{1}\\: \\rightarrow\\: y = y\\: \\wedge\\: \\neg\\, (x^{2} > f(x + 1, y))$"
      ],
      "text/plain": [
       "<IPython.core.display.Math object>"
      ]
     },
     "metadata": {},
     "output_type": "display_data"
    },
    {
     "name": "stdout",
     "output_type": "stream",
     "text": [
      "\\begin{prooftree}\n",
      "\\AxiomC{$A_{1}$}\n",
      "\\UnaryInfC{$\\neg$}\n",
      "\\AxiomC{$y$}\n",
      "\\AxiomC{$y$}\n",
      "\\BinaryInfC{$=$}\n",
      "\\AxiomC{$x^{2}$}\n",
      "\\AxiomC{$f(x + 1, y)$}\n",
      "\\BinaryInfC{$>$}\n",
      "\\UnaryInfC{$\\neg$}\n",
      "\\BinaryInfC{$\\wedge$}\n",
      "\\BinaryInfC{$\\rightarrow$}\n",
      "\\end{prooftree}\n",
      "\n"
     ]
    },
    {
     "data": {
      "image/png": "[encoded data removed]",
      "text/plain": [
       "<Figure size 900x450 with 1 Axes>"
      ]
     },
     "metadata": {},
     "output_type": "display_data"
    }
   ],
   "source": [
    "# formula example 4\n",
    "\n",
    "v_str = \"not A_1 imp y = y and not x^2 > f2(x + 1, y)\"\n",
    "testParser(v_str)\n",
    "testParser(v_str, 'infix_text')\n",
    "testParser(v_str, 'infix_latex')\n",
    "testParser(v_str, 'bussproof')\n",
    "testParser(v_str, 'tree')"
   ]
  },
  {
   "cell_type": "code",
   "execution_count": 11,
   "metadata": {},
   "outputs": [
    {
     "name": "stdout",
     "output_type": "stream",
     "text": [
      "and < x ^ y 2 <= ^ y 2 + u f 1\n",
      "x < y^{2} <= u + f(1)\n"
     ]
    },
    {
     "data": {
      "text/latex": [
       "$\\displaystyle x < y^{2} \\le u + f(1)$"
      ],
      "text/plain": [
       "<IPython.core.display.Math object>"
      ]
     },
     "metadata": {},
     "output_type": "display_data"
    },
    {
     "name": "stdout",
     "output_type": "stream",
     "text": [
      "\\begin{prooftree}\n",
      "\\AxiomC{$x$}\n",
      "\\AxiomC{$y^{2}$}\n",
      "\\BinaryInfC{$<$}\n",
      "\\AxiomC{$y^{2}$}\n",
      "\\AxiomC{$u + f(1)$}\n",
      "\\BinaryInfC{$\\le$}\n",
      "\\BinaryInfC{$\\wedge$}\n",
      "\\end{prooftree}\n",
      "\n"
     ]
    },
    {
     "data": {
      "image/png": "[encoded data removed]",
      "text/plain": [
       "<Figure size 900x450 with 1 Axes>"
      ]
     },
     "metadata": {},
     "output_type": "display_data"
    }
   ],
   "source": [
    "# formula example 5\n",
    "\n",
    "v_str = \"x < y^2 <= u+f(1)\"\n",
    "testParser(v_str)\n",
    "testParser(v_str, 'infix_text')\n",
    "testParser(v_str, 'infix_latex')\n",
    "testParser(v_str, 'bussproof')\n",
    "testParser(v_str, 'tree')"
   ]
  },
  {
   "cell_type": "code",
   "execution_count": 12,
   "metadata": {},
   "outputs": [
    {
     "name": "stdout",
     "output_type": "stream",
     "text": [
      "and and < ^ x 2 + ^ y - / 1 2 1 = + ^ y - / 1 2 1 - z sim - z f u\n",
      "x^{2} < y^{-1 / 2} + 1 = -z sim f(u)\n"
     ]
    },
    {
     "data": {
      "text/latex": [
       "$\\displaystyle x^{2} < y^{-1 / 2} + 1 = -z \\sim f(u)$"
      ],
      "text/plain": [
       "<IPython.core.display.Math object>"
      ]
     },
     "metadata": {},
     "output_type": "display_data"
    },
    {
     "name": "stdout",
     "output_type": "stream",
     "text": [
      "\\begin{prooftree}\n",
      "\\AxiomC{$x^{2}$}\n",
      "\\AxiomC{$y^{-1 / 2} + 1$}\n",
      "\\BinaryInfC{$<$}\n",
      "\\AxiomC{$y^{-1 / 2} + 1$}\n",
      "\\AxiomC{$-z$}\n",
      "\\BinaryInfC{$=$}\n",
      "\\BinaryInfC{$\\wedge$}\n",
      "\\AxiomC{$-z$}\n",
      "\\AxiomC{$f(u)$}\n",
      "\\BinaryInfC{$\\sim$}\n",
      "\\BinaryInfC{$\\wedge$}\n",
      "\\end{prooftree}\n",
      "\n"
     ]
    },
    {
     "data": {
      "image/png": "[encoded data removed]",
      "text/plain": [
       "<Figure size 900x450 with 1 Axes>"
      ]
     },
     "metadata": {},
     "output_type": "display_data"
    }
   ],
   "source": [
    "# formula example 6\n",
    "# The tree in this example is too wide to be displayed correctly.\n",
    "\n",
    "v_str = \"x^2 < y^(-1/2)+1 =  -z  sim f(u)\"\n",
    "testParser(v_str)\n",
    "testParser(v_str, 'infix_text')\n",
    "testParser(v_str, 'infix_latex')\n",
    "testParser(v_str, 'bussproof')\n",
    "testParser(v_str, 'tree')"
   ]
  },
  {
   "cell_type": "code",
   "execution_count": 13,
   "metadata": {},
   "outputs": [
    {
     "name": "stdout",
     "output_type": "stream",
     "text": [
      "forall x not Alice_21 x\n",
      "forall x not Alice_21(x)\n"
     ]
    },
    {
     "data": {
      "text/latex": [
       "$\\displaystyle \\forall x\\, \\neg\\, {\\rm Alice}_{2}(x)$"
      ],
      "text/plain": [
       "<IPython.core.display.Math object>"
      ]
     },
     "metadata": {},
     "output_type": "display_data"
    },
    {
     "name": "stdout",
     "output_type": "stream",
     "text": [
      "\\begin{prooftree}\n",
      "\\AxiomC{$x$}\n",
      "\\UnaryInfC{${\\rm Alice}_{2}$}\n",
      "\\UnaryInfC{$\\neg$}\n",
      "\\UnaryInfC{$\\forall x$}\n",
      "\\end{prooftree}\n",
      "\n"
     ]
    },
    {
     "data": {
      "image/png": "[encoded data removed]",
      "text/plain": [
       "<Figure size 900x450 with 1 Axes>"
      ]
     },
     "metadata": {},
     "output_type": "display_data"
    }
   ],
   "source": [
    "# formula example 7\n",
    "\n",
    "v_str = \"forall x not Alice_21(x)\"\n",
    "testParser(v_str)\n",
    "testParser(v_str, 'infix_text')\n",
    "testParser(v_str, 'infix_latex')\n",
    "testParser(v_str, 'bussproof')\n",
    "testParser(v_str, 'tree')"
   ]
  },
  {
   "cell_type": "code",
   "execution_count": 14,
   "metadata": {},
   "outputs": [
    {
     "name": "stdout",
     "output_type": "stream",
     "text": [
      "iff forall y >= f + x * z_1 ^inv c ^ y 2 exists x B1 y\n",
      "forall y (f(x + z_1 * c^inv) >= y^{2}) iff exists x B1(y)\n",
      "\n",
      "$ \\forall y\\, (f(x + z_{1} * c^{-1}) \\ge y^{2})\\: \\leftrightarrow\\: \\exists x\\, B(y) $\n"
     ]
    },
    {
     "data": {
      "text/latex": [
       "$\\displaystyle \\forall y\\, (f(x + z_{1} * c^{-1}) \\ge y^{2})\\: \\leftrightarrow\\: \\exists x\\, B(y)$"
      ],
      "text/plain": [
       "<IPython.core.display.Math object>"
      ]
     },
     "metadata": {},
     "output_type": "display_data"
    },
    {
     "name": "stdout",
     "output_type": "stream",
     "text": [
      "\\begin{prooftree}\n",
      "\\AxiomC{$f(x + z_{1} * c^{-1})$}\n",
      "\\AxiomC{$y^{2}$}\n",
      "\\BinaryInfC{$\\ge$}\n",
      "\\UnaryInfC{$\\forall y$}\n",
      "\\AxiomC{$y$}\n",
      "\\UnaryInfC{$B$}\n",
      "\\UnaryInfC{$\\exists x$}\n",
      "\\BinaryInfC{$\\leftrightarrow$}\n",
      "\\end{prooftree}\n",
      "\n"
     ]
    },
    {
     "data": {
      "image/png": "[encoded data removed]",
      "text/plain": [
       "<Figure size 900x450 with 1 Axes>"
      ]
     },
     "metadata": {},
     "output_type": "display_data"
    }
   ],
   "source": [
    "# formula example 8\n",
    "\n",
    "v_str = \"forall y  f(x + z_1 * c^inv) >= y^2 iff exists x B1(y)\"\n",
    "testParser(v_str)\n",
    "testParser(v_str, 'infix_text')\n",
    "testParser(v_str, 'infix_latex', verbose=True)\n",
    "testParser(v_str, 'bussproof')\n",
    "testParser(v_str, 'tree')"
   ]
  },
  {
   "cell_type": "code",
   "execution_count": 15,
   "metadata": {},
   "outputs": [
    {
     "name": "stdout",
     "output_type": "stream",
     "text": [
      "{\\rm Cats\\_and\\_Dogs}_{1}\n",
      "{\\rm Cats\\_and\\_Dogs}\n",
      "{\\rm Cats\\_and}_{Dogs2}\n",
      "{\\rm Cats}\n"
     ]
    }
   ],
   "source": [
    "instr_li = [\"Cats_and_Dogs_12\", \"Cats_and_Dogs_\", \"Cats_and_Dogs23\", \"Cats2\"]\n",
    "token_li = [Token(instr) for instr in instr_li]\n",
    "for instr in token_li:\n",
    "  print(Node.ident2latex(instr))\n"
   ]
  }
 ],
 "metadata": {
  "kernelspec": {
   "display_name": "mlenv",
   "language": "python",
   "name": "python3"
  },
  "language_info": {
   "codemirror_mode": {
    "name": "ipython",
    "version": 3
   },
   "file_extension": ".py",
   "mimetype": "text/x-python",
   "name": "python",
   "nbconvert_exporter": "python",
   "pygments_lexer": "ipython3",
   "version": "3.11.2"
  },
  "orig_nbformat": 4
 },
 "nbformat": 4,
 "nbformat_minor": 2
}
