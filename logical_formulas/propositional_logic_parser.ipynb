{
 "cells": [
  {
   "attachments": {},
   "cell_type": "markdown",
   "metadata": {},
   "source": [
    "The language of propositional logic is somewhat simpler than the language of arithmetic."
   ]
  },
  {
   "attachments": {},
   "cell_type": "markdown",
   "metadata": {},
   "source": [
    "```xml\n",
    "<expr> ::= { <term> \"imp\" } <term> | <term> { ( \"iff\" | \"xor\") <term> }\n",
    "<term> ::= <factor> { (\"and\" | \"or\") <factor> }\n",
    "<factor> ::= '(' <expr> ')' | { \"not\" } <atom>\n",
    "<atom> ::= [A-Z] { [A-Za-z0-9_] } | \"bot\"\n",
    "```"
   ]
  },
  {
   "cell_type": "markdown",
   "metadata": {},
   "source": [
    "I have added a new showOption called `bussproof`. This option does not generate a diagram \n",
    "but instead produces LaTeX code that can be seamlessly incorporated into a LaTeX document. \n",
    "\n",
    "To ensure correct compilation of the source .tex file, it is necessary to include the `\\usepackage{bussproofs}` \n",
    "command in the preamble."
   ]
  },
  {
   "cell_type": "markdown",
   "metadata": {},
   "source": [
    "This script works good only when the identifier for propositional letter is short.  This problem has been fixed in the next script `first_order_logic_parser.ipynb`."
   ]
  },
  {
   "cell_type": "code",
   "execution_count": 1,
   "metadata": {},
   "outputs": [],
   "source": [
    "# url = 'https://raw.githubusercontent.com/jhjeong314/Proofmood/main'\n",
    "# import httpimport\n",
    "# with httpimport.remote_repo(url):\n",
    "#   from propositional_logic_parse import *\n",
    "\n",
    "# If you get SSLCertVerificationError then try the following. \n",
    "# Of course, you should have arith_parse.py available locally.\n",
    "from propositional_logic_parse import *\n",
    "\n",
    "def testParser(input_text, showOption='polish', showOperType=False):\n",
    "  # showOption ::= 'polish' | 'RPN' | 'infix_latex' | 'tree' | 'bussproof'\n",
    "  # showOperType has effect only when showOption == 'polish' or 'RPN'\n",
    "  from IPython.display import display, Math\n",
    "\n",
    "  try:\n",
    "    ast = parse_text(input_text)\n",
    "  except ValueError as e:\n",
    "    print(f\"ValueError: {e}\")\n",
    "  except SyntaxError as e:\n",
    "    print(f\"SyntaxError: {e}\")\n",
    "  else:\n",
    "    if showOption=='polish':\n",
    "      print(ast.build_polish_notation(showOperType))\n",
    "    elif showOption=='RPN':\n",
    "      print(ast.build_RPN(showOperType))\n",
    "    elif showOption=='infix_latex':\n",
    "      s = ast.build_infix_latex()\n",
    "      print(s) # latex source text\n",
    "      display(Math(f\"${s}$\"))\n",
    "    elif showOption=='tree':\n",
    "      ast.draw_tree()\n",
    "    elif showOption=='bussproof':\n",
    "      s = ast.build_bussproof() \n",
    "      print(s)\n",
    "    else:\n",
    "      raise ValueError(f\"Invalid showOption: {showOption}\")"
   ]
  },
  {
   "cell_type": "code",
   "execution_count": 2,
   "metadata": {},
   "outputs": [
    {
     "name": "stdout",
     "output_type": "stream",
     "text": [
      "imp or and A B not C D\n",
      "A B and C not or D imp\n"
     ]
    }
   ],
   "source": [
    "input_formula = \"A and B or not C imp D\"\n",
    "testParser(input_formula)\n",
    "testParser(input_formula, 'RPN')"
   ]
  },
  {
   "cell_type": "code",
   "execution_count": 3,
   "metadata": {},
   "outputs": [
    {
     "name": "stdout",
     "output_type": "stream",
     "text": [
      "(A_{1} \\wedge B_{ij} \\leftrightarrow \\neg (\\neg {\\rm Bob} \\wedge A) \\vee \\bot) \\rightarrow \\neg C\n"
     ]
    },
    {
     "data": {
      "text/latex": [
       "$\\displaystyle (A_{1} \\wedge B_{ij} \\leftrightarrow \\neg (\\neg {\\rm Bob} \\wedge A) \\vee \\bot) \\rightarrow \\neg C$"
      ],
      "text/plain": [
       "<IPython.core.display.Math object>"
      ]
     },
     "metadata": {},
     "output_type": "display_data"
    },
    {
     "name": "stdout",
     "output_type": "stream",
     "text": [
      "\\begin{prooftree}\n",
      "\\AxiomC{$A_{1}$}\n",
      "\\AxiomC{$B_{ij}$}\n",
      "\\BinaryInfC{$\\wedge$}\n",
      "\\AxiomC{${\\rm Bob}$}\n",
      "\\UnaryInfC{$\\neg$}\n",
      "\\AxiomC{$A$}\n",
      "\\BinaryInfC{$\\wedge$}\n",
      "\\UnaryInfC{$\\neg$}\n",
      "\\AxiomC{$\\bot$}\n",
      "\\BinaryInfC{$\\vee$}\n",
      "\\BinaryInfC{$\\leftrightarrow$}\n",
      "\\AxiomC{$C$}\n",
      "\\UnaryInfC{$\\neg$}\n",
      "\\BinaryInfC{$\\rightarrow$}\n",
      "\\end{prooftree}\n"
     ]
    },
    {
     "data": {
      "image/png": "[encoded data removed]",
      "text/plain": [
       "<Figure size 450x300 with 1 Axes>"
      ]
     },
     "metadata": {},
     "output_type": "display_data"
    }
   ],
   "source": [
    "input_formula = \"A_1 and B_ij iff not (not Bob and A_) or bot imp (not C)\"\n",
    "testParser(input_formula, 'infix_latex')\n",
    "testParser(input_formula, 'bussproof')\n",
    "testParser(input_formula, 'tree')"
   ]
  },
  {
   "cell_type": "code",
   "execution_count": 4,
   "metadata": {},
   "outputs": [
    {
     "name": "stdout",
     "output_type": "stream",
     "text": [
      "A \\wedge B \\wedge C\n"
     ]
    },
    {
     "data": {
      "text/latex": [
       "$\\displaystyle A \\wedge B \\wedge C$"
      ],
      "text/plain": [
       "<IPython.core.display.Math object>"
      ]
     },
     "metadata": {},
     "output_type": "display_data"
    },
    {
     "name": "stdout",
     "output_type": "stream",
     "text": [
      "\\begin{prooftree}\n",
      "\\AxiomC{$A$}\n",
      "\\AxiomC{$B$}\n",
      "\\BinaryInfC{$\\wedge$}\n",
      "\\AxiomC{$C$}\n",
      "\\BinaryInfC{$\\wedge$}\n",
      "\\end{prooftree}\n"
     ]
    },
    {
     "data": {
      "image/png": "[encoded data removed]",
      "text/plain": [
       "<Figure size 450x300 with 1 Axes>"
      ]
     },
     "metadata": {},
     "output_type": "display_data"
    }
   ],
   "source": [
    "input_formula = \"A and B and C\" # associativity\n",
    "testParser(input_formula, 'infix_latex')\n",
    "testParser(input_formula, 'tree')\n",
    "testParser(input_formula, 'bussproof')"
   ]
  },
  {
   "cell_type": "code",
   "execution_count": 5,
   "metadata": {},
   "outputs": [
    {
     "name": "stdout",
     "output_type": "stream",
     "text": [
      "(A \\wedge B) \\vee C\n"
     ]
    },
    {
     "data": {
      "text/latex": [
       "$\\displaystyle (A \\wedge B) \\vee C$"
      ],
      "text/plain": [
       "<IPython.core.display.Math object>"
      ]
     },
     "metadata": {},
     "output_type": "display_data"
    },
    {
     "data": {
      "image/png": "[encoded data removed]",
      "text/plain": [
       "<Figure size 450x300 with 1 Axes>"
      ]
     },
     "metadata": {},
     "output_type": "display_data"
    }
   ],
   "source": [
    "input_formula = \"A and B or C\" # works but not recommended\n",
    "testParser(input_formula, 'infix_latex')\n",
    "testParser(input_formula, 'tree')"
   ]
  },
  {
   "cell_type": "code",
   "execution_count": 6,
   "metadata": {},
   "outputs": [
    {
     "name": "stdout",
     "output_type": "stream",
     "text": [
      "(A \\wedge B) \\vee C\n"
     ]
    },
    {
     "data": {
      "text/latex": [
       "$\\displaystyle (A \\wedge B) \\vee C$"
      ],
      "text/plain": [
       "<IPython.core.display.Math object>"
      ]
     },
     "metadata": {},
     "output_type": "display_data"
    },
    {
     "data": {
      "image/png": "[encoded data removed]",
      "text/plain": [
       "<Figure size 450x300 with 1 Axes>"
      ]
     },
     "metadata": {},
     "output_type": "display_data"
    }
   ],
   "source": [
    "input_formula = \"(A and B) or C\" # recommended\n",
    "testParser(input_formula, 'infix_latex')\n",
    "testParser(input_formula, 'tree')"
   ]
  },
  {
   "cell_type": "code",
   "execution_count": 7,
   "metadata": {},
   "outputs": [
    {
     "name": "stdout",
     "output_type": "stream",
     "text": [
      "A \\wedge (B \\vee C)\n"
     ]
    },
    {
     "data": {
      "text/latex": [
       "$\\displaystyle A \\wedge (B \\vee C)$"
      ],
      "text/plain": [
       "<IPython.core.display.Math object>"
      ]
     },
     "metadata": {},
     "output_type": "display_data"
    },
    {
     "data": {
      "image/png": "[encoded data removed]",
      "text/plain": [
       "<Figure size 450x300 with 1 Axes>"
      ]
     },
     "metadata": {},
     "output_type": "display_data"
    }
   ],
   "source": [
    "input_formula = \"A and (B or C)\" # works as expected\n",
    "testParser(input_formula, 'infix_latex')\n",
    "testParser(input_formula, 'tree')"
   ]
  },
  {
   "cell_type": "code",
   "execution_count": 8,
   "metadata": {},
   "outputs": [
    {
     "name": "stdout",
     "output_type": "stream",
     "text": [
      "imp not A imp B and not C D\n",
      "A not B C not D and imp imp\n",
      "\\neg A \\rightarrow B \\rightarrow \\neg C \\wedge D\n"
     ]
    },
    {
     "data": {
      "text/latex": [
       "$\\displaystyle \\neg A \\rightarrow B \\rightarrow \\neg C \\wedge D$"
      ],
      "text/plain": [
       "<IPython.core.display.Math object>"
      ]
     },
     "metadata": {},
     "output_type": "display_data"
    },
    {
     "name": "stdout",
     "output_type": "stream",
     "text": [
      "\\begin{prooftree}\n",
      "\\AxiomC{$A$}\n",
      "\\UnaryInfC{$\\neg$}\n",
      "\\AxiomC{$B$}\n",
      "\\AxiomC{$C$}\n",
      "\\UnaryInfC{$\\neg$}\n",
      "\\AxiomC{$D$}\n",
      "\\BinaryInfC{$\\wedge$}\n",
      "\\BinaryInfC{$\\rightarrow$}\n",
      "\\BinaryInfC{$\\rightarrow$}\n",
      "\\end{prooftree}\n"
     ]
    },
    {
     "data": {
      "image/png": "[encoded data removed]",
      "text/plain": [
       "<Figure size 450x300 with 1 Axes>"
      ]
     },
     "metadata": {},
     "output_type": "display_data"
    }
   ],
   "source": [
    "input_formula = \"not A imp B imp not C and D\"\n",
    "testParser(input_formula) # default: polish notation\n",
    "testParser(input_formula, 'RPN')\n",
    "testParser(input_formula, 'infix_latex')\n",
    "testParser(input_formula, 'tree')\n",
    "testParser(input_formula, 'bussproof')"
   ]
  },
  {
   "cell_type": "code",
   "execution_count": 9,
   "metadata": {},
   "outputs": [
    {
     "name": "stdout",
     "output_type": "stream",
     "text": [
      "imp not A_Cat_ij xor Bob and not C_1 D_12\n",
      "A_Cat_ij not Bob C_1 not D_12 and xor imp\n",
      "\\neg {\\rm A\\_Cat}_{ij} \\rightarrow ({\\rm Bob} \\nleftrightarrow \\neg C_{1} \\wedge D_{12})\n"
     ]
    },
    {
     "data": {
      "text/latex": [
       "$\\displaystyle \\neg {\\rm A\\_Cat}_{ij} \\rightarrow ({\\rm Bob} \\nleftrightarrow \\neg C_{1} \\wedge D_{12})$"
      ],
      "text/plain": [
       "<IPython.core.display.Math object>"
      ]
     },
     "metadata": {},
     "output_type": "display_data"
    },
    {
     "name": "stdout",
     "output_type": "stream",
     "text": [
      "\\begin{prooftree}\n",
      "\\AxiomC{${\\rm A\\_Cat}_{ij}$}\n",
      "\\UnaryInfC{$\\neg$}\n",
      "\\AxiomC{${\\rm Bob}$}\n",
      "\\AxiomC{$C_{1}$}\n",
      "\\UnaryInfC{$\\neg$}\n",
      "\\AxiomC{$D_{12}$}\n",
      "\\BinaryInfC{$\\wedge$}\n",
      "\\BinaryInfC{$\\nleftrightarrow$}\n",
      "\\BinaryInfC{$\\rightarrow$}\n",
      "\\end{prooftree}\n"
     ]
    },
    {
     "data": {
      "image/png": "[encoded data removed]",
      "text/plain": [
       "<Figure size 450x300 with 1 Axes>"
      ]
     },
     "metadata": {},
     "output_type": "display_data"
    }
   ],
   "source": [
    "input_formula = \"not A_Cat_ij imp Bob xor not C_1 and D_12\"\n",
    "testParser(input_formula)\n",
    "testParser(input_formula, 'RPN')\n",
    "testParser(input_formula, 'infix_latex')\n",
    "testParser(input_formula, 'tree')\n",
    "testParser(input_formula, 'bussproof')"
   ]
  },
  {
   "cell_type": "code",
   "execution_count": 11,
   "metadata": {},
   "outputs": [
    {
     "name": "stdout",
     "output_type": "stream",
     "text": [
      "{\\rm Cats\\_and\\_Dogs}_{12}\n",
      "{\\rm Cats\\_and\\_Dogs}\n",
      "{\\rm Cats\\_and}_{Dogs}\n",
      "{\\rm Cats}\n"
     ]
    }
   ],
   "source": [
    "instr_li = [\"Cats_and_Dogs_12\", \"Cats_and_Dogs_\", \"Cats_and_Dogs\", \"Cats\"]\n",
    "for instr in instr_li:\n",
    "  print(identifier_to_latex(instr))"
   ]
  }
 ],
 "metadata": {
  "kernelspec": {
   "display_name": "mlenv",
   "language": "python",
   "name": "python3"
  },
  "language_info": {
   "codemirror_mode": {
    "name": "ipython",
    "version": 3
   },
   "file_extension": ".py",
   "mimetype": "text/x-python",
   "name": "python",
   "nbconvert_exporter": "python",
   "pygments_lexer": "ipython3",
   "version": "3.11.2"
  },
  "orig_nbformat": 4
 },
 "nbformat": 4,
 "nbformat_minor": 2
}
