{
 "cells": [
  {
   "cell_type": "code",
   "execution_count": 1,
   "metadata": {},
   "outputs": [],
   "source": [
    "# This ipynb file is to test some methods for the Formula class\n",
    "# such as node_at(), replace_node_at(), replace_nodes_at(), and\n",
    "# substitute(). "
   ]
  },
  {
   "cell_type": "code",
   "execution_count": 2,
   "metadata": {},
   "outputs": [],
   "source": [
    "# url = 'https://raw.githubusercontent.com/jhjeong314/Proofmood/main/logical_formulas'\n",
    "# import httpimport\n",
    "# with httpimport.remote_repo(url):\n",
    "#   from truth_table import *\n",
    "\n",
    "from truth_table import *"
   ]
  },
  {
   "cell_type": "code",
   "execution_count": 3,
   "metadata": {},
   "outputs": [
    {
     "name": "stdout",
     "output_type": "stream",
     "text": [
      "subformula at [] is\n"
     ]
    },
    {
     "data": {
      "text/latex": [
       "$\\displaystyle A\\: \\vee\\: (B(c, d + 1)\\: \\wedge\\: \\forall x\\, C(x))\\: \\rightarrow\\: \\forall x\\, C(x)\\: \\wedge\\: B(c, d + 1)$"
      ],
      "text/plain": [
       "<IPython.core.display.Math object>"
      ]
     },
     "metadata": {},
     "output_type": "display_data"
    },
    {
     "name": "stdout",
     "output_type": "stream",
     "text": [
      "subformula at [0] is\n"
     ]
    },
    {
     "data": {
      "text/latex": [
       "$\\displaystyle A\\: \\vee\\: (B(c, d + 1)\\: \\wedge\\: \\forall x\\, C(x))$"
      ],
      "text/plain": [
       "<IPython.core.display.Math object>"
      ]
     },
     "metadata": {},
     "output_type": "display_data"
    },
    {
     "name": "stdout",
     "output_type": "stream",
     "text": [
      "subformula at [0, 0] is\n"
     ]
    },
    {
     "data": {
      "text/latex": [
       "$\\displaystyle A$"
      ],
      "text/plain": [
       "<IPython.core.display.Math object>"
      ]
     },
     "metadata": {},
     "output_type": "display_data"
    },
    {
     "name": "stdout",
     "output_type": "stream",
     "text": [
      "subformula at [0, 1] is\n"
     ]
    },
    {
     "data": {
      "text/latex": [
       "$\\displaystyle B(c, d + 1)\\: \\wedge\\: \\forall x\\, C(x)$"
      ],
      "text/plain": [
       "<IPython.core.display.Math object>"
      ]
     },
     "metadata": {},
     "output_type": "display_data"
    },
    {
     "name": "stdout",
     "output_type": "stream",
     "text": [
      "subformula at [1] is\n"
     ]
    },
    {
     "data": {
      "text/latex": [
       "$\\displaystyle \\forall x\\, C(x)\\: \\wedge\\: B(c, d + 1)$"
      ],
      "text/plain": [
       "<IPython.core.display.Math object>"
      ]
     },
     "metadata": {},
     "output_type": "display_data"
    },
    {
     "name": "stdout",
     "output_type": "stream",
     "text": [
      "subformula at [1, 0] is\n"
     ]
    },
    {
     "data": {
      "text/latex": [
       "$\\displaystyle \\forall x\\, C(x)$"
      ],
      "text/plain": [
       "<IPython.core.display.Math object>"
      ]
     },
     "metadata": {},
     "output_type": "display_data"
    },
    {
     "name": "stdout",
     "output_type": "stream",
     "text": [
      "subformula at [1, 1] is\n"
     ]
    },
    {
     "data": {
      "text/latex": [
       "$\\displaystyle B(c, d + 1)$"
      ],
      "text/plain": [
       "<IPython.core.display.Math object>"
      ]
     },
     "metadata": {},
     "output_type": "display_data"
    }
   ],
   "source": [
    "input_str = 'A or (B2(c,d+1) and forall x C1(x)) imp forall x C1(x) and B2(c,d+1)'\n",
    "fmla = Formula(input_str)\n",
    "\n",
    "# Subformula at pos.\n",
    "\n",
    "pos_li = [[], [0], [0,0], [0,1], [1], [1,0], [1,1]]\n",
    "for pos in pos_li:\n",
    "  print(f\"subformula at {pos} is\")\n",
    "  fmla.node_at(pos).display_infix()"
   ]
  },
  {
   "cell_type": "code",
   "execution_count": 4,
   "metadata": {},
   "outputs": [
    {
     "data": {
      "text/plain": [
       "False"
      ]
     },
     "execution_count": 4,
     "metadata": {},
     "output_type": "execute_result"
    }
   ],
   "source": [
    "fmla.node_at([0,1]) == fmla.node_at([1,1])\n",
    "# Defined in __eq__() of class Formula and class Node."
   ]
  },
  {
   "cell_type": "code",
   "execution_count": 5,
   "metadata": {},
   "outputs": [
    {
     "name": "stdout",
     "output_type": "stream",
     "text": [
      "Original formula:\n"
     ]
    },
    {
     "data": {
      "text/latex": [
       "$\\displaystyle A\\: \\vee\\: (B(c, d + 1)\\: \\wedge\\: \\forall x\\, C(x))\\: \\rightarrow\\: \\forall x\\, C(x)\\: \\wedge\\: B(c, d + 1)$"
      ],
      "text/plain": [
       "<IPython.core.display.Math object>"
      ]
     },
     "metadata": {},
     "output_type": "display_data"
    },
    {
     "name": "stdout",
     "output_type": "stream",
     "text": [
      "replace node at [0] with Z:\n"
     ]
    },
    {
     "data": {
      "text/latex": [
       "$\\displaystyle Z\\: \\rightarrow\\: \\forall x\\, C(x)\\: \\wedge\\: B(c, d + 1)$"
      ],
      "text/plain": [
       "<IPython.core.display.Math object>"
      ]
     },
     "metadata": {},
     "output_type": "display_data"
    },
    {
     "name": "stdout",
     "output_type": "stream",
     "text": [
      "replace node at [0, 0] with Z:\n"
     ]
    },
    {
     "data": {
      "text/latex": [
       "$\\displaystyle Z\\: \\vee\\: (B(c, d + 1)\\: \\wedge\\: \\forall x\\, C(x))\\: \\rightarrow\\: \\forall x\\, C(x)\\: \\wedge\\: B(c, d + 1)$"
      ],
      "text/plain": [
       "<IPython.core.display.Math object>"
      ]
     },
     "metadata": {},
     "output_type": "display_data"
    },
    {
     "name": "stdout",
     "output_type": "stream",
     "text": [
      "replace node at [0, 1] with Z:\n"
     ]
    },
    {
     "data": {
      "text/latex": [
       "$\\displaystyle A\\: \\vee\\: Z\\: \\rightarrow\\: \\forall x\\, C(x)\\: \\wedge\\: B(c, d + 1)$"
      ],
      "text/plain": [
       "<IPython.core.display.Math object>"
      ]
     },
     "metadata": {},
     "output_type": "display_data"
    },
    {
     "name": "stdout",
     "output_type": "stream",
     "text": [
      "replace node at [1] with Z:\n"
     ]
    },
    {
     "data": {
      "text/latex": [
       "$\\displaystyle A\\: \\vee\\: (B(c, d + 1)\\: \\wedge\\: \\forall x\\, C(x))\\: \\rightarrow\\: Z$"
      ],
      "text/plain": [
       "<IPython.core.display.Math object>"
      ]
     },
     "metadata": {},
     "output_type": "display_data"
    },
    {
     "name": "stdout",
     "output_type": "stream",
     "text": [
      "replace node at [1, 0] with Z:\n"
     ]
    },
    {
     "data": {
      "text/latex": [
       "$\\displaystyle A\\: \\vee\\: (B(c, d + 1)\\: \\wedge\\: \\forall x\\, C(x))\\: \\rightarrow\\: Z\\: \\wedge\\: B(c, d + 1)$"
      ],
      "text/plain": [
       "<IPython.core.display.Math object>"
      ]
     },
     "metadata": {},
     "output_type": "display_data"
    },
    {
     "name": "stdout",
     "output_type": "stream",
     "text": [
      "replace node at [1, 1] with Z:\n"
     ]
    },
    {
     "data": {
      "text/latex": [
       "$\\displaystyle A\\: \\vee\\: (B(c, d + 1)\\: \\wedge\\: \\forall x\\, C(x))\\: \\rightarrow\\: \\forall x\\, C(x)\\: \\wedge\\: Z$"
      ],
      "text/plain": [
       "<IPython.core.display.Math object>"
      ]
     },
     "metadata": {},
     "output_type": "display_data"
    },
    {
     "name": "stdout",
     "output_type": "stream",
     "text": [
      "Original formula after replacement:\n"
     ]
    },
    {
     "data": {
      "text/latex": [
       "$\\displaystyle A\\: \\vee\\: (B(c, d + 1)\\: \\wedge\\: \\forall x\\, C(x))\\: \\rightarrow\\: \\forall x\\, C(x)\\: \\wedge\\: B(c, d + 1)$"
      ],
      "text/plain": [
       "<IPython.core.display.Math object>"
      ]
     },
     "metadata": {},
     "output_type": "display_data"
    }
   ],
   "source": [
    "# Replace a node at pos with another node.\n",
    "# dupl == 'dupl' case\n",
    "print(\"Original formula:\")\n",
    "fmla.display_infix()\n",
    "for pos in pos_li[1:]:\n",
    "  new_formula = fmla.replace_node_at(pos, parse_ast('Z'), 'dupl')\n",
    "  if new_formula:\n",
    "    print(f\"replace node at {pos} with Z:\")\n",
    "    new_formula.display_infix()\n",
    "\n",
    "print(\"Original formula after replacement:\")\n",
    "fmla.display_infix()"
   ]
  },
  {
   "cell_type": "code",
   "execution_count": 6,
   "metadata": {},
   "outputs": [
    {
     "name": "stdout",
     "output_type": "stream",
     "text": [
      "Original formula:\n"
     ]
    },
    {
     "data": {
      "text/latex": [
       "$\\displaystyle A\\: \\vee\\: (B(c, d + 1)\\: \\wedge\\: \\forall x\\, C(x))\\: \\rightarrow\\: \\forall x\\, C(x)\\: \\wedge\\: B(c, d + 1)$"
      ],
      "text/plain": [
       "<IPython.core.display.Math object>"
      ]
     },
     "metadata": {},
     "output_type": "display_data"
    },
    {
     "name": "stdout",
     "output_type": "stream",
     "text": [
      "Original formula after replacement:\n"
     ]
    },
    {
     "data": {
      "text/latex": [
       "$\\displaystyle Z\\: \\vee\\: (B(c, d + 1)\\: \\wedge\\: \\forall x\\, C(x))\\: \\rightarrow\\: \\forall x\\, C(x)\\: \\wedge\\: B(c, d + 1)$"
      ],
      "text/plain": [
       "<IPython.core.display.Math object>"
      ]
     },
     "metadata": {},
     "output_type": "display_data"
    }
   ],
   "source": [
    "# Replace a node at pos with another node.\n",
    "# dupl == '' case\n",
    "fmla = Formula(input_str)\n",
    "print(\"Original formula:\")\n",
    "fmla.display_infix()\n",
    "pos = [0,0]\n",
    "new_formula = fmla.replace_node_at(pos, parse_ast('Z'))\n",
    "if new_formula:\n",
    "  print(f\"replace node at {pos} with Z:\")\n",
    "  new_formula.display_infix()\n",
    "\n",
    "print(\"Original formula after replacement:\")\n",
    "fmla.display_infix()"
   ]
  },
  {
   "cell_type": "code",
   "execution_count": 7,
   "metadata": {},
   "outputs": [
    {
     "name": "stdout",
     "output_type": "stream",
     "text": [
      "Original formula:\n"
     ]
    },
    {
     "data": {
      "text/latex": [
       "$\\displaystyle A\\: \\vee\\: (B(c, d + 1)\\: \\wedge\\: \\forall x\\, C(x))\\: \\rightarrow\\: \\forall x\\, C(x)\\: \\wedge\\: B(c, d + 1)$"
      ],
      "text/plain": [
       "<IPython.core.display.Math object>"
      ]
     },
     "metadata": {},
     "output_type": "display_data"
    },
    {
     "data": {
      "text/latex": [
       "$\\displaystyle P\\: \\vee\\: (B(c, d + 1)\\: \\wedge\\: \\forall x\\, C(x))\\: \\rightarrow\\: \\forall x\\, C(x)\\: \\wedge\\: Q$"
      ],
      "text/plain": [
       "<IPython.core.display.Math object>"
      ]
     },
     "metadata": {},
     "output_type": "display_data"
    },
    {
     "name": "stdout",
     "output_type": "stream",
     "text": [
      "Original formula after replacement:\n"
     ]
    },
    {
     "data": {
      "text/latex": [
       "$\\displaystyle A\\: \\vee\\: (B(c, d + 1)\\: \\wedge\\: \\forall x\\, C(x))\\: \\rightarrow\\: \\forall x\\, C(x)\\: \\wedge\\: B(c, d + 1)$"
      ],
      "text/plain": [
       "<IPython.core.display.Math object>"
      ]
     },
     "metadata": {},
     "output_type": "display_data"
    }
   ],
   "source": [
    "# Replace two nodes with two new_nodes.\n",
    "# dupl == 'dupl' case\n",
    "fmla = Formula(input_str)\n",
    "print(\"Original formula:\")\n",
    "fmla.display_infix()\n",
    "pos_li = [[0,0], [1,1]]\n",
    "new_node_li = [parse_ast('P'), parse_ast('Q')]\n",
    "new_fmla = fmla.replace_nodes_at(pos_li, new_node_li, 'dupl')\n",
    "if new_fmla:\n",
    "    new_fmla.display_infix()\n",
    "print(\"Original formula after replacement:\")\n",
    "fmla.display_infix()"
   ]
  },
  {
   "cell_type": "code",
   "execution_count": 8,
   "metadata": {},
   "outputs": [
    {
     "name": "stdout",
     "output_type": "stream",
     "text": [
      "Original formula:\n"
     ]
    },
    {
     "data": {
      "text/latex": [
       "$\\displaystyle A\\: \\vee\\: (B(c, d + 1)\\: \\wedge\\: \\forall x\\, C(x))\\: \\rightarrow\\: \\forall x\\, C(x)\\: \\wedge\\: B(c, d + 1)$"
      ],
      "text/plain": [
       "<IPython.core.display.Math object>"
      ]
     },
     "metadata": {},
     "output_type": "display_data"
    },
    {
     "name": "stdout",
     "output_type": "stream",
     "text": [
      "Original formula after replacement:\n"
     ]
    },
    {
     "data": {
      "text/latex": [
       "$\\displaystyle P\\: \\vee\\: (B(c, d + 1)\\: \\wedge\\: \\forall x\\, C(x))\\: \\rightarrow\\: \\forall x\\, C(x)\\: \\wedge\\: Q$"
      ],
      "text/plain": [
       "<IPython.core.display.Math object>"
      ]
     },
     "metadata": {},
     "output_type": "display_data"
    }
   ],
   "source": [
    "# Replace two nodes with two new_nodes.\n",
    "# dupl == '' case\n",
    "fmla = Formula(input_str)\n",
    "print(\"Original formula:\")\n",
    "fmla.display_infix()\n",
    "pos_li = [[0,0], [1,1]]\n",
    "new_node_li = [parse_ast('P'), parse_ast('Q')]\n",
    "new_fmla = fmla.replace_nodes_at(pos_li, new_node_li)\n",
    "if new_fmla:\n",
    "    new_fmla.display_infix()\n",
    "print(\"Original formula after replacement:\")\n",
    "fmla.display_infix()"
   ]
  },
  {
   "cell_type": "code",
   "execution_count": 9,
   "metadata": {},
   "outputs": [
    {
     "data": {
      "text/latex": [
       "$\\displaystyle x = 1\\: \\wedge\\: A(x, y, x^{2})\\: \\rightarrow\\: y \\ge x$"
      ],
      "text/plain": [
       "<IPython.core.display.Math object>"
      ]
     },
     "metadata": {},
     "output_type": "display_data"
    },
    {
     "data": {
      "text/latex": [
       "$\\displaystyle z^{2} = 1\\: \\wedge\\: A(z^{2}, y, (z^{2})^{2})\\: \\rightarrow\\: y \\ge z^{2}$"
      ],
      "text/plain": [
       "<IPython.core.display.Math object>"
      ]
     },
     "metadata": {},
     "output_type": "display_data"
    },
    {
     "data": {
      "text/latex": [
       "$\\displaystyle x = 1\\: \\wedge\\: A(x, y, x^{2})\\: \\rightarrow\\: y \\ge x$"
      ],
      "text/plain": [
       "<IPython.core.display.Math object>"
      ]
     },
     "metadata": {},
     "output_type": "display_data"
    }
   ],
   "source": [
    "# Example: substitute individual variable\n",
    "# 1/2. dupl == '' case\n",
    "fmla_orig = Formula('x=1 and A3(x, y, x^2) imp y >= x')\n",
    "fmla_orig.display_infix()\n",
    "new_node = parse_ast('z^2')\n",
    "fmla_new = fmla_orig.substitute('x', new_node, 'dupl')\n",
    "if fmla_new:\n",
    "  fmla_new.display_infix()\n",
    "fmla_orig.display_infix() # remains unchanged"
   ]
  },
  {
   "cell_type": "code",
   "execution_count": 10,
   "metadata": {},
   "outputs": [
    {
     "data": {
      "text/latex": [
       "$\\displaystyle x = 1\\: \\wedge\\: A(x, y, x^{2})\\: \\rightarrow\\: y \\ge x$"
      ],
      "text/plain": [
       "<IPython.core.display.Math object>"
      ]
     },
     "metadata": {},
     "output_type": "display_data"
    },
    {
     "data": {
      "text/latex": [
       "$\\displaystyle z^{2} = 1\\: \\wedge\\: A(z^{2}, y, (z^{2})^{2})\\: \\rightarrow\\: y \\ge z^{2}$"
      ],
      "text/plain": [
       "<IPython.core.display.Math object>"
      ]
     },
     "metadata": {},
     "output_type": "display_data"
    }
   ],
   "source": [
    "# 2/2. dupl == 'dupl' case\n",
    "fmla_orig = Formula('x=1 and A3(x, y, x^2) imp y >= x')\n",
    "fmla_orig.display_infix()\n",
    "new_node = parse_ast('z^2')\n",
    "fmla_new = fmla_orig.substitute('x', new_node)\n",
    "if fmla_new: \n",
    "  fmla_new.display_infix() # will not execute\n",
    "fmla_orig.display_infix() # mutilated"
   ]
  }
 ],
 "metadata": {
  "kernelspec": {
   "display_name": "mlenv",
   "language": "python",
   "name": "python3"
  },
  "language_info": {
   "codemirror_mode": {
    "name": "ipython",
    "version": 3
   },
   "file_extension": ".py",
   "mimetype": "text/x-python",
   "name": "python",
   "nbconvert_exporter": "python",
   "pygments_lexer": "ipython3",
   "version": "3.11.2"
  },
  "orig_nbformat": 4
 },
 "nbformat": 4,
 "nbformat_minor": 2
}
