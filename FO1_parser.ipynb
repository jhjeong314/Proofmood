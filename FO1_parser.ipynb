{
 "cells": [
  {
   "attachments": {},
   "cell_type": "markdown",
   "metadata": {},
   "source": [
    "```xml\n",
    "<expr> ::= { <term> \"imp\" } <term> | <term> { ( \"iff\" | \"xor\") <term> }\n",
    "<term> ::= <factor> { (\"and\" | \"or\") <factor> }\n",
    "<factor> ::= '(' <expr> ')' | { \"not\" } <atom>\n",
    "<atom> ::= [A-Z] { [A-Za-z0-9_] } | \"bot\"\n",
    "```"
   ]
  },
  {
   "cell_type": "code",
   "execution_count": 1,
   "metadata": {},
   "outputs": [],
   "source": [
    "# url = 'https://raw.githubusercontent.com/jhjeong314/Proofmood/main'\n",
    "# import httpimport\n",
    "# with httpimport.remote_repo(url):\n",
    "#   from FO1st import *\n",
    "  \n",
    "from FO1st import *\n",
    "\n",
    "def testParser(input_text, showOption='polish', showOperType=False):\n",
    "  # showOption ::= 'polish' | 'RPN' | 'infix_latex' | 'tree' | 'bussproof'\n",
    "  # showOperType has effect only when showOption == 'polish' or 'RPN'\n",
    "  from IPython.display import display, Math\n",
    "\n",
    "  try:\n",
    "    ast = parse_text(input_text)\n",
    "  except ValueError as e:\n",
    "    print(f\"ValueError: {e}\")\n",
    "  except SyntaxError as e:\n",
    "    print(f\"SyntaxError: {e}\")\n",
    "  else:\n",
    "    if showOption=='polish':\n",
    "      print(ast.build_polish_notation(showOperType))\n",
    "    elif showOption=='RPN':\n",
    "      print(ast.build_RPN(showOperType))\n",
    "    elif showOption=='infix_latex':\n",
    "      s = ast.build_infix_latex()\n",
    "      print(s) # latex source text\n",
    "      display(Math(f\"${s}$\"))\n",
    "    elif showOption=='tree':\n",
    "      ast.draw_tree()\n",
    "    elif showOption=='bussproof':\n",
    "      s = ast.build_bussproof() \n",
    "      print(s)\n",
    "    else:\n",
    "      raise ValueError(f\"Invalid showOption: {showOption}\")"
   ]
  },
  {
   "cell_type": "code",
   "execution_count": 2,
   "metadata": {},
   "outputs": [],
   "source": [
    "input_text = \"forall x1 P(-x_alpha+a!') imp a + b >= c and a * b* != c imp b < c^21\""
   ]
  }
 ],
 "metadata": {
  "kernelspec": {
   "display_name": "mlenv",
   "language": "python",
   "name": "python3"
  },
  "language_info": {
   "codemirror_mode": {
    "name": "ipython",
    "version": 3
   },
   "file_extension": ".py",
   "mimetype": "text/x-python",
   "name": "python",
   "nbconvert_exporter": "python",
   "pygments_lexer": "ipython3",
   "version": "3.11.2"
  },
  "orig_nbformat": 4
 },
 "nbformat": 4,
 "nbformat_minor": 2
}
