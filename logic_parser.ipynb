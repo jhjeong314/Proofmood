{
 "cells": [
  {
   "attachments": {},
   "cell_type": "markdown",
   "metadata": {},
   "source": [
    "Language of logic parser is somewhat simpler than language of arithmetic."
   ]
  },
  {
   "attachments": {},
   "cell_type": "markdown",
   "metadata": {},
   "source": [
    "```xml\n",
    "<expr> ::= { <term> \"imp\" } <term> | <term> { ( \"iff\" | \"xor\") <term> }\n",
    "<term> ::= <factor> { (\"and\" | \"or\") <factor> }\n",
    "<factor> ::= '(' <expr> ')' | { \"not\" } <atom>\n",
    "<atom> ::= [A-Z] { [A-Za-z0-9_] } | \"bot\"\n",
    "```"
   ]
  },
  {
   "cell_type": "code",
   "execution_count": 10,
   "metadata": {},
   "outputs": [],
   "source": [
    "# url = 'https://raw.githubusercontent.com/jhjeong314/Proofmood/main'\n",
    "# import httpimport\n",
    "# with httpimport.remote_repo(url):\n",
    "#   from logic_parse import *\n",
    "\n",
    "# If you get SSLCertVerificationError then try the following. \n",
    "# Of course, you should have arith_parse.py available locally.\n",
    "from logic_parse import *\n",
    "\n",
    "def testParser(input_text, showOption='polish', showOperType=False):\n",
    "  # showOption ::= 'polish' | 'RPN' | 'infix_latex' | 'tree' | 'bussproof'\n",
    "  # showOperType has effect only when showOption == 'polish' or 'RPN'\n",
    "  from IPython.display import display, Math\n",
    "\n",
    "  try:\n",
    "    ast = parse_text(input_text)\n",
    "  except ValueError as e:\n",
    "    print(f\"ValueError: {e}\")\n",
    "  except SyntaxError as e:\n",
    "    print(f\"SyntaxError: {e}\")\n",
    "  else:\n",
    "    if showOption=='polish':\n",
    "      print(ast.build_polish_notation(showOperType))\n",
    "    elif showOption=='RPN':\n",
    "      print(ast.build_RPN(showOperType))\n",
    "    elif showOption=='infix_latex':\n",
    "      s = ast.build_infix_latex()\n",
    "      print(s) # latex source text\n",
    "      display(Math(f\"${s}$\"))\n",
    "    elif showOption=='tree':\n",
    "      ast.draw_tree()\n",
    "    elif showOption=='bussproof':\n",
    "      s = ast.build_bussproof() \n",
    "      print(s)\n",
    "    else:\n",
    "      raise ValueError(f\"Invalid showOption: {showOption}\")"
   ]
  },
  {
   "cell_type": "code",
   "execution_count": 11,
   "metadata": {},
   "outputs": [
    {
     "name": "stdout",
     "output_type": "stream",
     "text": [
      "({\\rm A} \\wedge {\\rm B} \\leftrightarrow \\neg (\\neg {\\rm B} \\wedge {\\rm A}) \\vee \\bot) \\rightarrow \\neg {\\rm C}\n"
     ]
    },
    {
     "data": {
      "text/latex": [
       "$\\displaystyle ({\\rm A} \\wedge {\\rm B} \\leftrightarrow \\neg (\\neg {\\rm B} \\wedge {\\rm A}) \\vee \\bot) \\rightarrow \\neg {\\rm C}$"
      ],
      "text/plain": [
       "<IPython.core.display.Math object>"
      ]
     },
     "metadata": {},
     "output_type": "display_data"
    },
    {
     "name": "stdout",
     "output_type": "stream",
     "text": [
      "\\begin{prooftree}\n",
      "\\AxiomC{${\\rm A}$}\n",
      "\\AxiomC{${\\rm B}$}\n",
      "\\BinaryInfC{$\\wedge$}\n",
      "\\AxiomC{${\\rm B}$}\n",
      "\\UnaryInfC{$\\neg$}\n",
      "\\AxiomC{${\\rm A}$}\n",
      "\\BinaryInfC{$\\wedge$}\n",
      "\\UnaryInfC{$\\neg$}\n",
      "\\AxiomC{$\\bot$}\n",
      "\\BinaryInfC{$\\vee$}\n",
      "\\BinaryInfC{$\\leftrightarrow$}\n",
      "\\AxiomC{${\\rm C}$}\n",
      "\\UnaryInfC{$\\neg$}\n",
      "\\BinaryInfC{$\\rightarrow$}\n",
      "\\end{prooftree}\n"
     ]
    },
    {
     "data": {
      "image/png": "[encoded data removed]",
      "text/plain": [
       "<Figure size 450x300 with 1 Axes>"
      ]
     },
     "metadata": {},
     "output_type": "display_data"
    }
   ],
   "source": [
    "input_formula = \"A and B iff not (not (B) and A) or bot imp (not C)\"\n",
    "testParser(input_formula, 'infix_latex')\n",
    "testParser(input_formula, 'bussproof')\n",
    "testParser(input_formula, 'tree')"
   ]
  },
  {
   "cell_type": "code",
   "execution_count": 12,
   "metadata": {},
   "outputs": [
    {
     "name": "stdout",
     "output_type": "stream",
     "text": [
      "{\\rm A} \\wedge {\\rm B} \\wedge {\\rm C}\n"
     ]
    },
    {
     "data": {
      "text/latex": [
       "$\\displaystyle {\\rm A} \\wedge {\\rm B} \\wedge {\\rm C}$"
      ],
      "text/plain": [
       "<IPython.core.display.Math object>"
      ]
     },
     "metadata": {},
     "output_type": "display_data"
    },
    {
     "name": "stdout",
     "output_type": "stream",
     "text": [
      "\\begin{prooftree}\n",
      "\\AxiomC{${\\rm A}$}\n",
      "\\AxiomC{${\\rm B}$}\n",
      "\\BinaryInfC{$\\wedge$}\n",
      "\\AxiomC{${\\rm C}$}\n",
      "\\BinaryInfC{$\\wedge$}\n",
      "\\end{prooftree}\n"
     ]
    },
    {
     "data": {
      "image/png": "[encoded data removed]",
      "text/plain": [
       "<Figure size 450x300 with 1 Axes>"
      ]
     },
     "metadata": {},
     "output_type": "display_data"
    }
   ],
   "source": [
    "input_formula = \"A and B and C\" # associativity\n",
    "testParser(input_formula, 'infix_latex')\n",
    "testParser(input_formula, 'tree')\n",
    "testParser(input_formula, 'bussproof')"
   ]
  },
  {
   "cell_type": "code",
   "execution_count": 13,
   "metadata": {},
   "outputs": [
    {
     "name": "stdout",
     "output_type": "stream",
     "text": [
      "({\\rm A} \\wedge {\\rm B}) \\vee {\\rm C}\n"
     ]
    },
    {
     "data": {
      "text/latex": [
       "$\\displaystyle ({\\rm A} \\wedge {\\rm B}) \\vee {\\rm C}$"
      ],
      "text/plain": [
       "<IPython.core.display.Math object>"
      ]
     },
     "metadata": {},
     "output_type": "display_data"
    },
    {
     "data": {
      "image/png": "[encoded data removed]",
      "text/plain": [
       "<Figure size 450x300 with 1 Axes>"
      ]
     },
     "metadata": {},
     "output_type": "display_data"
    }
   ],
   "source": [
    "input_formula = \"A and B or C\" # works but not recommended\n",
    "testParser(input_formula, 'infix_latex')\n",
    "testParser(input_formula, 'tree')"
   ]
  },
  {
   "cell_type": "code",
   "execution_count": 14,
   "metadata": {},
   "outputs": [
    {
     "name": "stdout",
     "output_type": "stream",
     "text": [
      "({\\rm A} \\wedge {\\rm B}) \\vee {\\rm C}\n"
     ]
    },
    {
     "data": {
      "text/latex": [
       "$\\displaystyle ({\\rm A} \\wedge {\\rm B}) \\vee {\\rm C}$"
      ],
      "text/plain": [
       "<IPython.core.display.Math object>"
      ]
     },
     "metadata": {},
     "output_type": "display_data"
    },
    {
     "data": {
      "image/png": "[encoded data removed]",
      "text/plain": [
       "<Figure size 450x300 with 1 Axes>"
      ]
     },
     "metadata": {},
     "output_type": "display_data"
    }
   ],
   "source": [
    "input_formula = \"(A and B) or C\" # recommended\n",
    "testParser(input_formula, 'infix_latex')\n",
    "testParser(input_formula, 'tree')"
   ]
  },
  {
   "cell_type": "code",
   "execution_count": 15,
   "metadata": {},
   "outputs": [
    {
     "name": "stdout",
     "output_type": "stream",
     "text": [
      "{\\rm A} \\wedge ({\\rm B} \\vee {\\rm C})\n"
     ]
    },
    {
     "data": {
      "text/latex": [
       "$\\displaystyle {\\rm A} \\wedge ({\\rm B} \\vee {\\rm C})$"
      ],
      "text/plain": [
       "<IPython.core.display.Math object>"
      ]
     },
     "metadata": {},
     "output_type": "display_data"
    },
    {
     "data": {
      "image/png": "[encoded data removed]",
      "text/plain": [
       "<Figure size 450x300 with 1 Axes>"
      ]
     },
     "metadata": {},
     "output_type": "display_data"
    }
   ],
   "source": [
    "input_formula = \"A and (B or C)\" # works as expected\n",
    "testParser(input_formula, 'infix_latex')\n",
    "testParser(input_formula, 'tree')"
   ]
  },
  {
   "cell_type": "code",
   "execution_count": 16,
   "metadata": {},
   "outputs": [
    {
     "name": "stdout",
     "output_type": "stream",
     "text": [
      "imp not A imp B and not C D\n",
      "A not B C not D and imp imp\n",
      "\\neg {\\rm A} \\rightarrow {\\rm B} \\rightarrow \\neg {\\rm C} \\wedge {\\rm D}\n"
     ]
    },
    {
     "data": {
      "text/latex": [
       "$\\displaystyle \\neg {\\rm A} \\rightarrow {\\rm B} \\rightarrow \\neg {\\rm C} \\wedge {\\rm D}$"
      ],
      "text/plain": [
       "<IPython.core.display.Math object>"
      ]
     },
     "metadata": {},
     "output_type": "display_data"
    },
    {
     "name": "stdout",
     "output_type": "stream",
     "text": [
      "\\begin{prooftree}\n",
      "\\AxiomC{${\\rm A}$}\n",
      "\\UnaryInfC{$\\neg$}\n",
      "\\AxiomC{${\\rm B}$}\n",
      "\\AxiomC{${\\rm C}$}\n",
      "\\UnaryInfC{$\\neg$}\n",
      "\\AxiomC{${\\rm D}$}\n",
      "\\BinaryInfC{$\\wedge$}\n",
      "\\BinaryInfC{$\\rightarrow$}\n",
      "\\BinaryInfC{$\\rightarrow$}\n",
      "\\end{prooftree}\n"
     ]
    },
    {
     "data": {
      "image/png": "[encoded data removed]",
      "text/plain": [
       "<Figure size 450x300 with 1 Axes>"
      ]
     },
     "metadata": {},
     "output_type": "display_data"
    }
   ],
   "source": [
    "input_formula = \"not A imp B imp not C and D\"\n",
    "testParser(input_formula) # default: polish notation\n",
    "testParser(input_formula, 'RPN')\n",
    "testParser(input_formula, 'infix_latex')\n",
    "testParser(input_formula, 'tree')\n",
    "testParser(input_formula, 'bussproof')"
   ]
  },
  {
   "cell_type": "code",
   "execution_count": 19,
   "metadata": {},
   "outputs": [
    {
     "name": "stdout",
     "output_type": "stream",
     "text": [
      "imp not A_Cat_ij imp Bob_ and not C_1 D_12\n",
      "A_Cat_ij not Bob_ C_1 not D_12 and imp imp\n",
      "\\neg {\\rm A\\_Cat}_{ij} \\rightarrow {\\rm Bob\\_} \\rightarrow \\neg {\\rm C}_{1} \\wedge {\\rm D}_{12}\n"
     ]
    },
    {
     "data": {
      "text/latex": [
       "$\\displaystyle \\neg {\\rm A\\_Cat}_{ij} \\rightarrow {\\rm Bob\\_} \\rightarrow \\neg {\\rm C}_{1} \\wedge {\\rm D}_{12}$"
      ],
      "text/plain": [
       "<IPython.core.display.Math object>"
      ]
     },
     "metadata": {},
     "output_type": "display_data"
    },
    {
     "name": "stdout",
     "output_type": "stream",
     "text": [
      "\\begin{prooftree}\n",
      "\\AxiomC{${\\rm A\\_Cat}_{ij}$}\n",
      "\\UnaryInfC{$\\neg$}\n",
      "\\AxiomC{${\\rm Bob\\_}$}\n",
      "\\AxiomC{${\\rm C}_{1}$}\n",
      "\\UnaryInfC{$\\neg$}\n",
      "\\AxiomC{${\\rm D}_{12}$}\n",
      "\\BinaryInfC{$\\wedge$}\n",
      "\\BinaryInfC{$\\rightarrow$}\n",
      "\\BinaryInfC{$\\rightarrow$}\n",
      "\\end{prooftree}\n"
     ]
    },
    {
     "data": {
      "image/png": "[encoded data removed]",
      "text/plain": [
       "<Figure size 450x300 with 1 Axes>"
      ]
     },
     "metadata": {},
     "output_type": "display_data"
    }
   ],
   "source": [
    "input_formula = \"not A_Cat_ij imp Bob_ imp not C_1 and D_12\"\n",
    "testParser(input_formula)\n",
    "testParser(input_formula, 'RPN')\n",
    "testParser(input_formula, 'infix_latex')\n",
    "testParser(input_formula, 'tree')\n",
    "testParser(input_formula, 'bussproof')"
   ]
  }
 ],
 "metadata": {
  "kernelspec": {
   "display_name": "mlenv",
   "language": "python",
   "name": "python3"
  },
  "language_info": {
   "codemirror_mode": {
    "name": "ipython",
    "version": 3
   },
   "file_extension": ".py",
   "mimetype": "text/x-python",
   "name": "python",
   "nbconvert_exporter": "python",
   "pygments_lexer": "ipython3",
   "version": "3.11.2"
  },
  "orig_nbformat": 4
 },
 "nbformat": 4,
 "nbformat_minor": 2
}
