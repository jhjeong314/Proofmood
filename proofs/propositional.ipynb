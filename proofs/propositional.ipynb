{
 "cells": [
  {
   "cell_type": "code",
   "execution_count": 34,
   "metadata": {},
   "outputs": [],
   "source": [
    "from propositional import *\n",
    "from pprint import pprint"
   ]
  },
  {
   "cell_type": "code",
   "execution_count": 35,
   "metadata": {},
   "outputs": [
    {
     "name": "stdout",
     "output_type": "stream",
     "text": [
      "input_str = ' imp  intro   4-8 '\n",
      "rule: imp intro\n",
      "premise: [(4, 8)]\n",
      "\n",
      "output from __str__():\n",
      "  imp intro 4-8\n"
     ]
    }
   ],
   "source": [
    "# Construct an Ann object from a string.\n",
    "s = \" imp  intro   4-8 \"\n",
    "try:\n",
    "  ann = Ann(s)\n",
    "  print(f\"input_str = '{ann.input_str}'\")\n",
    "  print(ann.build_str())\n",
    "  print(\"\\noutput from __str__():\")\n",
    "  print(\" \", ann)\n",
    "except Exception as e:\n",
    "    print(e)  "
   ]
  },
  {
   "cell_type": "code",
   "execution_count": 36,
   "metadata": {},
   "outputs": [
    {
     "name": "stdout",
     "output_type": "stream",
     "text": [
      "type: formula\n",
      "line: A imp B .hyp\n",
      "formula: A imp B\n",
      "ann: hyp\n",
      "is_hyp: True\n",
      "\n",
      "A imp B\t .hyp\n"
     ]
    }
   ],
   "source": [
    "# Construct a NodeLabel object from a string.\n",
    "line = \"A imp B .hyp\"\n",
    "label = NodeLabel('formula', line)\n",
    "print(label.build_str())\n",
    "print()\n",
    "print(label)"
   ]
  },
  {
   "cell_type": "code",
   "execution_count": 37,
   "metadata": {},
   "outputs": [
    {
     "name": "stdout",
     "output_type": "stream",
     "text": [
      "│1. A imp B\t .hyp\n",
      "│2. A\t .hyp\n",
      "├─\n",
      "│3. B\t .imp elim 1,2\n",
      "│4. A\t .repeat 2\n",
      "\n"
     ]
    }
   ],
   "source": [
    "# Construct a ProofNode manually. (not by using the parser)\n",
    "line1 = \"A imp B .hyp\"\n",
    "label1 = NodeLabel('formula', line1)\n",
    "node1 = ProofNode(label1)\n",
    "line2 = \"A .hyp\"\n",
    "label2 = NodeLabel('formula', line2)\n",
    "node2 = ProofNode(label2)\n",
    "line3 = \"B .imp elim 1,2\"\n",
    "label3 = NodeLabel('formula', line3)\n",
    "node3 = ProofNode(label3)\n",
    "line4 = \"A .repeat 2\"\n",
    "label4 = NodeLabel('formula', line4)\n",
    "node4 = ProofNode(label4)\n",
    "label0 = NodeLabel()\n",
    "node0 = ProofNode(label0, [node1, node2, node3, node4])\n",
    "node0.build_index()\n",
    "print(node0)"
   ]
  },
  {
   "cell_type": "code",
   "execution_count": 38,
   "metadata": {},
   "outputs": [
    {
     "name": "stdout",
     "output_type": "stream",
     "text": [
      "│1. A imp B\t .hyp\n",
      "│2. B imp C\t .hyp\n",
      "├─\n",
      "││3. A\t .hyp\n",
      "│├─\n",
      "││4. B\t .imp elim 1,3\n",
      "││5. C\t .imp elim 2,4\n",
      "│6. A imp C\t .imp intro 3-5\n",
      "\n"
     ]
    }
   ],
   "source": [
    "# Another example, similar to the one above.\n",
    "line1 = \"A imp B .hyp\"\n",
    "label1 = NodeLabel('formula', line1)\n",
    "node1 = ProofNode(label1)\n",
    "line2 = \"B imp C .hyp\"\n",
    "label2 = NodeLabel('formula', line2)\n",
    "node2 = ProofNode(label2)\n",
    "line3 = \"A .hyp\"\n",
    "label3 = NodeLabel('formula', line3)\n",
    "node3 = ProofNode(label3)\n",
    "line4 = \"B .imp elim 1,3\"\n",
    "label4 = NodeLabel('formula', line4)\n",
    "node4 = ProofNode(label4)\n",
    "line5 = \"C .imp elim 2,4\"\n",
    "label5 = NodeLabel('formula', line5)\n",
    "node5 = ProofNode(label5)\n",
    "line6 = \"A imp C .imp intro 3-5\"\n",
    "label6 = NodeLabel('formula', line6)\n",
    "node6 = ProofNode(label6)\n",
    "label_root = NodeLabel()\n",
    "label_sub = NodeLabel()\n",
    "node_sub = ProofNode(label_sub, [node3, node4, node5])\n",
    "node_root = ProofNode(label_root, [node1, node2, node_sub, node6])\n",
    "node_root.build_index()\n",
    "print(node_root)"
   ]
  },
  {
   "cell_type": "code",
   "execution_count": 39,
   "metadata": {},
   "outputs": [
    {
     "name": "stdout",
     "output_type": "stream",
     "text": [
      "[prf_str1]:\n",
      "A imp B .hyp\n",
      "B imp C .hyp\n",
      "{{\n",
      "  A .hyp\n",
      "  B     .imp elim 1,3\n",
      "  C     .imp elim 2,4\n",
      "}}\n",
      "A imp C .imp intro 3-5\n",
      "\n",
      "[prf_str2]:\n",
      "A imp B\t .hyp\n",
      "B imp C\t .hyp\n",
      "{{\n",
      "  A\t .hyp\n",
      "  B\t .imp elim 1,3\n",
      "  C\t .imp elim 2,4\n",
      "}}\n",
      "A imp C\t .imp intro 3-5\n",
      "\n",
      "[prf_str3]:\n",
      "A imp B .hyp\n",
      "B imp C .hyp\n",
      "{{\n",
      "  A .hyp\n",
      "  B     .imp elim 1,3\n",
      "  C     .imp elim 2,4\n",
      "}}\n",
      "A imp C .imp intro 3-5\n",
      "\n",
      "[prf_str4]:\n",
      "A imp B\t .hyp\n",
      "B imp C\t .hyp\n",
      "{{\n",
      "  A\t .hyp\n",
      "  B\t .imp elim 1,3\n",
      "  C\t .imp elim 2,4\n",
      "}}\n",
      "A imp C\t .imp intro 3-5\n",
      "\n"
     ]
    }
   ],
   "source": [
    "# This is a test for the preprocessing function get_str_li().\n",
    "# The output of get_str_li() is a list of strings \n",
    "# to be fed to the parser.\n",
    "\n",
    "# You may or may not prefix each line with line number.\n",
    "# The parser can assign the correct line number \n",
    "# to each node anyway.\n",
    "# You may also use | instead  of TAB to indent subproofs.\n",
    "# The following 4 input strings are all equivalent---they \n",
    "# are parsed into the same proof tree.\n",
    "\n",
    "prf_str1 = '''\n",
    "1. A imp B .hyp\n",
    "2. B imp C .hyp\n",
    "proves\n",
    "  3. A .hyp\n",
    "  proves\n",
    "  4. B     .imp elim 1,3\n",
    "  5. C     .imp elim 2,4\n",
    "6. A imp C .imp intro 3-5\n",
    "'''\n",
    "# or,\n",
    "prf_str2 = '''\n",
    "│1. A imp B\t .hyp\n",
    "│2. B imp C\t .hyp\n",
    "├─\n",
    "││3. A\t .hyp\n",
    "│├─\n",
    "││4. B\t .imp elim 1,3\n",
    "││5. C\t .imp elim 2,4\n",
    "│6. A imp C\t .imp intro 3-5\n",
    "'''\n",
    "# or, above two without numbering\n",
    "prf_str3 = '''\n",
    "A imp B .hyp\n",
    "B imp C .hyp\n",
    "proves\n",
    "  A .hyp\n",
    "  proves\n",
    "  B     .imp elim 1,3\n",
    "  C     .imp elim 2,4\n",
    "A imp C .imp intro 3-5\n",
    "'''\n",
    "# or,\n",
    "prf_str4 = '''\n",
    "│A imp B\t .hyp\n",
    "│B imp C\t .hyp\n",
    "├─\n",
    "││A\t .hyp\n",
    "│├─\n",
    "││B\t .imp elim 1,3\n",
    "││C\t .imp elim 2,4\n",
    "│A imp C\t .imp intro 3-5\n",
    "'''\n",
    "# Convert either string to the following.\n",
    "'''\n",
    "A imp B\t .hyp\n",
    "B imp C\t .hyp\n",
    "{{\n",
    "  A\t .hyp\n",
    "  B\t .imp elim 1,3\n",
    "  C\t .imp elim 2,4\n",
    "}}\n",
    "A imp C\t .imp intro 3-5\n",
    "'''\n",
    "\n",
    "for i in range(1, 5):\n",
    "  prf_str_name = f\"prf_str{i}\"\n",
    "  prf_str = eval(prf_str_name)\n",
    "  print(f\"[{prf_str_name}]:\")\n",
    "  lines = get_str_li(prf_str, tabsize=2)\n",
    "  print_lines(lines)    \n",
    "  print()"
   ]
  },
  {
   "cell_type": "code",
   "execution_count": 40,
   "metadata": {},
   "outputs": [
    {
     "name": "stdout",
     "output_type": "stream",
     "text": [
      "A imp B .hyp\n",
      "{{\n",
      "  A or C .hyp\n",
      "  {{\n",
      "    A .hyp   \n",
      "    B .imp elim 1,3\n",
      "    B or C .or intro 4\n",
      "  }}\n",
      "  {{\n",
      "    C .hyp\n",
      "    B or C .or intro 6\n",
      "  }}\n",
      "  B or C .or elim 2,3-5,6-7\n",
      "}}\n",
      "A or C imp B or C .imp intro 2-8\n"
     ]
    }
   ],
   "source": [
    "# Another example.\n",
    "\n",
    "# This is a Fitch proof for \n",
    "#         A -> B |- (A or C) -> (B or C)\n",
    "#\n",
    "prf_str = '''\n",
    "1. A imp B .hyp\n",
    "proves\n",
    "  2. A or C .hyp\n",
    "  proves\n",
    "    3. A .hyp   \n",
    "    proves\n",
    "    4. B .imp elim 1,3\n",
    "    5. B or C .or intro 4\n",
    "    6. C .hyp\n",
    "    proves\n",
    "    7. B or C .or intro 6\n",
    "  8. B or C .or elim 2,3-5,6-7\n",
    "9. A or C imp B or C .imp intro 2-8'''\n",
    "lines = get_str_li(prf_str, tabsize=2)\n",
    "print_lines(lines)\n"
   ]
  },
  {
   "cell_type": "code",
   "execution_count": 41,
   "metadata": {},
   "outputs": [
    {
     "name": "stdout",
     "output_type": "stream",
     "text": [
      "│1. A\t .hyp\n",
      "│2. B\t .hyp\n",
      "├─\n",
      "│3. A and B\t .and intro\n",
      "\n"
     ]
    }
   ],
   "source": [
    "# This is a test for the parser.\n",
    "prf_str = '''\n",
    "1. A .hyp\n",
    "2. B  .hyp\n",
    "proves\n",
    "3. A and B .and intro\n",
    "'''\n",
    "proof = parse_fitch(prf_str)\n",
    "print(proof)"
   ]
  },
  {
   "cell_type": "code",
   "execution_count": 42,
   "metadata": {},
   "outputs": [
    {
     "name": "stdout",
     "output_type": "stream",
     "text": [
      "│1. A imp B\t .hyp\n",
      "│2. B imp C\t .hyp\n",
      "├─\n",
      "││3. A\t .hyp\n",
      "│├─\n",
      "││4. B\t .imp elim 1,3\n",
      "││5. C\t .imp elim 2,4\n",
      "│6. A imp C\t .imp intro 3-5\n",
      "\n"
     ]
    }
   ],
   "source": [
    "# Another test for the parser.\n",
    "prf_str = '''\n",
    "1. A imp B .hyp\n",
    "2. B imp C .hyp\n",
    "proves\n",
    "  3. A .hyp\n",
    "  proves\n",
    "  4. B     .imp elim 1,3\n",
    "  5. C     .imp elim 2,4\n",
    "6. A imp C .imp intro 3-5\n",
    "'''\n",
    "print(proof := parse_fitch(prf_str))"
   ]
  },
  {
   "cell_type": "code",
   "execution_count": 43,
   "metadata": {},
   "outputs": [
    {
     "name": "stdout",
     "output_type": "stream",
     "text": [
      "│1. A imp B\t .hyp\n",
      "├─\n",
      "││2. A or C\t .hyp\n",
      "│├─\n",
      "│││3. A\t .hyp\n",
      "││├─\n",
      "│││4. B\t .imp elim 1,3\n",
      "│││5. B or C\t .or intro 4\n",
      "│││6. C\t .hyp\n",
      "││├─\n",
      "│││7. B or C\t .or intro 6\n",
      "││8. B or C\t .or elim 2,3-5,6-7\n",
      "│9. A or C imp B or C\t .imp intro 2-8\n",
      "\n"
     ]
    }
   ],
   "source": [
    "# Another test for the parser.\n",
    "# Note that the parser can handle the case where\n",
    "# two subproofs at the same level are adjacent.\n",
    "# It is a little hard to see that line 6 starts a new subproof.\n",
    "# This will be solved by the LaTeX output later.\n",
    "prf_str = '''\n",
    "1. A imp B .hyp\n",
    "proves\n",
    "  2. A or C .hyp\n",
    "  proves\n",
    "    3. A .hyp\n",
    "    proves\n",
    "    4. B .imp elim 1,3\n",
    "    5. B or C .or intro 4\n",
    "    6. C .hyp\n",
    "    proves\n",
    "    7. B or C .or intro 6\n",
    "  8. B or C .or elim 2,3-5,6-7\n",
    "9. A or C imp B or C .imp intro 2-8\n",
    "'''\n",
    "print(proof := parse_fitch(prf_str))"
   ]
  },
  {
   "cell_type": "code",
   "execution_count": 44,
   "metadata": {},
   "outputs": [
    {
     "name": "stdout",
     "output_type": "stream",
     "text": [
      "{'1-9': [0],\n",
      " '1': [0, 0],\n",
      " '2-8': [0, 1],\n",
      " '2': [0, 1, 0],\n",
      " '3-5': [0, 1, 1],\n",
      " '3': [0, 1, 1, 0],\n",
      " '4': [0, 1, 1, 1],\n",
      " '5': [0, 1, 1, 2],\n",
      " '6-7': [0, 1, 2],\n",
      " '6': [0, 1, 2, 0],\n",
      " '7': [0, 1, 2, 1],\n",
      " '8': [0, 1, 3],\n",
      " '9': [0, 2]}\n"
     ]
    }
   ],
   "source": [
    "index_dict = proof.build_index_dict()\n",
    "pprint(index_dict, sort_dicts=False)"
   ]
  },
  {
   "cell_type": "code",
   "execution_count": 45,
   "metadata": {},
   "outputs": [
    {
     "name": "stdout",
     "output_type": "stream",
     "text": [
      "1 <= 4\n",
      "1 <= 5\n",
      "1 <= 7\n",
      "1 <= 8\n",
      "1 <= 9\n",
      "2-8 <= 9\n",
      "2 <= 4\n",
      "2 <= 5\n",
      "2 <= 7\n",
      "2 <= 8\n",
      "3-5 <= 7\n",
      "3-5 <= 8\n",
      "3 <= 4\n",
      "3 <= 5\n",
      "4 <= 5\n",
      "6-7 <= 8\n",
      "6 <= 7\n"
     ]
    }
   ],
   "source": [
    "for i in index_dict:\n",
    "  for j in index_dict:\n",
    "    label_j = proof.get_node(j).label\n",
    "    if label_j.type == 'formula' and not label_j.is_hyp: # conclusion\n",
    "      if proof.is_earlier(i, j):\n",
    "        print(f\"{i} <= {j}\") \n"
   ]
  },
  {
   "cell_type": "code",
   "execution_count": 46,
   "metadata": {},
   "outputs": [
    {
     "data": {
      "text/plain": [
       "True"
      ]
     },
     "execution_count": 46,
     "metadata": {},
     "output_type": "execute_result"
    }
   ],
   "source": [
    "fmla = FormulaProp('bot')\n",
    "node1 = parse_ast('not (A iff not C_1)')\n",
    "node2 = parse_ast('A iff not C_1')\n",
    "fmla.verified_by(RuleInfer.BOT_INTRO, [node1, node2])"
   ]
  },
  {
   "cell_type": "code",
   "execution_count": 47,
   "metadata": {},
   "outputs": [
    {
     "data": {
      "text/plain": [
       "True"
      ]
     },
     "execution_count": 47,
     "metadata": {},
     "output_type": "execute_result"
    }
   ],
   "source": [
    "fmla.verified_by(RuleInfer.BOT_INTRO, [node2, node1])"
   ]
  },
  {
   "cell_type": "code",
   "execution_count": 48,
   "metadata": {},
   "outputs": [
    {
     "data": {
      "text/plain": [
       "True"
      ]
     },
     "execution_count": 48,
     "metadata": {},
     "output_type": "execute_result"
    }
   ],
   "source": [
    "node1 = parse_ast('bot')\n",
    "fmla = FormulaProp('not (A iff not C_1)')\n",
    "fmla.verified_by(RuleInfer.BOT_ELIM, [node1])"
   ]
  },
  {
   "cell_type": "code",
   "execution_count": 49,
   "metadata": {},
   "outputs": [
    {
     "data": {
      "text/plain": [
       "True"
      ]
     },
     "execution_count": 49,
     "metadata": {},
     "output_type": "execute_result"
    }
   ],
   "source": [
    "node1 = parse_ast('A imp bot')\n",
    "fmla = FormulaProp('not A')\n",
    "fmla.verified_by(RuleInfer.NOT_INTRO, [node1])"
   ]
  },
  {
   "cell_type": "code",
   "execution_count": 50,
   "metadata": {},
   "outputs": [
    {
     "data": {
      "text/plain": [
       "True"
      ]
     },
     "execution_count": 50,
     "metadata": {},
     "output_type": "execute_result"
    }
   ],
   "source": [
    "node1 = parse_ast('not A imp bot')\n",
    "fmla = FormulaProp('A')\n",
    "fmla.verified_by(RuleInfer.NOT_ELIM, [node1])"
   ]
  },
  {
   "cell_type": "code",
   "execution_count": 51,
   "metadata": {},
   "outputs": [
    {
     "data": {
      "text/plain": [
       "True"
      ]
     },
     "execution_count": 51,
     "metadata": {},
     "output_type": "execute_result"
    }
   ],
   "source": [
    "node1 = parse_ast('A imp B')\n",
    "node2 = parse_ast('forall x B1(x)')\n",
    "fmla = FormulaProp('forall x B1(x) and (A imp B)')\n",
    "fmla.verified_by(RuleInfer.AND_INTRO, [node1, node2])"
   ]
  },
  {
   "cell_type": "code",
   "execution_count": 52,
   "metadata": {},
   "outputs": [
    {
     "data": {
      "text/plain": [
       "True"
      ]
     },
     "execution_count": 52,
     "metadata": {},
     "output_type": "execute_result"
    }
   ],
   "source": [
    "node2 = parse_ast('A imp B')\n",
    "node1 = parse_ast('forall x B1(x)')\n",
    "fmla = FormulaProp('forall x B1(x) and (A imp B)')\n",
    "fmla.verified_by(RuleInfer.AND_INTRO, [node1, node2])"
   ]
  },
  {
   "cell_type": "code",
   "execution_count": 53,
   "metadata": {},
   "outputs": [
    {
     "name": "stdout",
     "output_type": "stream",
     "text": [
      "True\n",
      "True\n"
     ]
    }
   ],
   "source": [
    "node1 = parse_ast('forall x B1(x) and (A imp B)')\n",
    "fmla1 = FormulaProp('A imp B')\n",
    "fmla2 = FormulaProp('forall x B1(x)')\n",
    "print(fmla1.verified_by(RuleInfer.AND_ELIM, [node1]))\n",
    "print(fmla2.verified_by(RuleInfer.AND_ELIM, [node1]))"
   ]
  },
  {
   "cell_type": "code",
   "execution_count": 54,
   "metadata": {},
   "outputs": [
    {
     "name": "stdout",
     "output_type": "stream",
     "text": [
      "True\n",
      "True\n"
     ]
    }
   ],
   "source": [
    "node1 = parse_ast('A')\n",
    "node2 = parse_ast('B')\n",
    "fmla = FormulaProp('A or B')\n",
    "print(fmla.verified_by(RuleInfer.OR_INTRO, [node1]))\n",
    "print(fmla.verified_by(RuleInfer.OR_INTRO, [node2]))\n"
   ]
  },
  {
   "cell_type": "code",
   "execution_count": 55,
   "metadata": {},
   "outputs": [
    {
     "name": "stdout",
     "output_type": "stream",
     "text": [
      "True\n",
      "True\n",
      "True\n",
      "True\n",
      "True\n",
      "True\n"
     ]
    }
   ],
   "source": [
    "node1 = parse_ast('A or B')\n",
    "node2 = parse_ast('A imp C')\n",
    "node3 = parse_ast('B imp C')\n",
    "fmla = FormulaProp('C')\n",
    "print(fmla.verified_by(RuleInfer.OR_ELIM, [node1, node2, node3]))\n",
    "print(fmla.verified_by(RuleInfer.OR_ELIM, [node1, node3, node2]))\n",
    "print(fmla.verified_by(RuleInfer.OR_ELIM, [node2, node1, node3]))\n",
    "print(fmla.verified_by(RuleInfer.OR_ELIM, [node2, node3, node1]))\n",
    "print(fmla.verified_by(RuleInfer.OR_ELIM, [node3, node1, node2]))\n",
    "print(fmla.verified_by(RuleInfer.OR_ELIM, [node3, node2, node1]))\n"
   ]
  },
  {
   "cell_type": "code",
   "execution_count": 56,
   "metadata": {},
   "outputs": [
    {
     "name": "stdout",
     "output_type": "stream",
     "text": [
      "True\n"
     ]
    }
   ],
   "source": [
    "node1 = parse_ast('A imp B')\n",
    "fmla = FormulaProp('A imp B')\n",
    "print(fmla.verified_by(RuleInfer.IMP_INTRO, [node1]))"
   ]
  },
  {
   "cell_type": "code",
   "execution_count": 64,
   "metadata": {},
   "outputs": [
    {
     "name": "stdout",
     "output_type": "stream",
     "text": [
      "True\n",
      "True\n",
      "False\n"
     ]
    }
   ],
   "source": [
    "fmla = FormulaProp('B1(x)')\n",
    "node1 = parse_ast('(A iff not C_1) imp B1(x)')\n",
    "node2 = parse_ast('A iff not C_1')\n",
    "print(fmla.verified_by(RuleInfer.IMP_ELIM, [node1, node2]))\n",
    "print(fmla.verified_by(RuleInfer.IMP_ELIM, [node2, node1]))\n",
    "print(fmla.verified_by(RuleInfer.AND_INTRO, [node1, node2]))"
   ]
  },
  {
   "cell_type": "code",
   "execution_count": 58,
   "metadata": {},
   "outputs": [
    {
     "name": "stdout",
     "output_type": "stream",
     "text": [
      "True\n"
     ]
    }
   ],
   "source": [
    "fmla = FormulaProp('not C_1 iff B1(x)')\n",
    "node1 = parse_ast('not C_1 imp B1(x)')\n",
    "node2 = parse_ast('B1(x) imp not C_1')\n",
    "print(fmla.verified_by(RuleInfer.IFF_INTRO, [node1, node2]))"
   ]
  },
  {
   "cell_type": "code",
   "execution_count": 59,
   "metadata": {},
   "outputs": [
    {
     "name": "stdout",
     "output_type": "stream",
     "text": [
      "True\n"
     ]
    }
   ],
   "source": [
    "fmla = FormulaProp('B1(x)')\n",
    "node2 = parse_ast('not C_1 iff B1(x)')\n",
    "node1 = parse_ast('not C_1')\n",
    "print(fmla.verified_by(RuleInfer.IFF_ELIM, [node1, node2]))\n"
   ]
  },
  {
   "cell_type": "code",
   "execution_count": 60,
   "metadata": {},
   "outputs": [
    {
     "name": "stdout",
     "output_type": "stream",
     "text": [
      "True\n"
     ]
    }
   ],
   "source": [
    "fmla = FormulaProp('not C_1')\n",
    "node2 = parse_ast('not C_1 iff B1(x)')\n",
    "node1 = parse_ast('B1(x)')\n",
    "print(fmla.verified_by(RuleInfer.IFF_ELIM, [node1, node2]))\n"
   ]
  },
  {
   "cell_type": "code",
   "execution_count": 61,
   "metadata": {},
   "outputs": [
    {
     "name": "stdout",
     "output_type": "stream",
     "text": [
      "True\n"
     ]
    }
   ],
   "source": [
    "node1 = parse_ast('A or B')\n",
    "fmla = FormulaProp('A or B')\n",
    "print(fmla.verified_by(RuleInfer.REPEAT, [node1]))"
   ]
  },
  {
   "cell_type": "code",
   "execution_count": 62,
   "metadata": {},
   "outputs": [
    {
     "name": "stdout",
     "output_type": "stream",
     "text": [
      "True\n",
      "False\n",
      "True\n",
      "True\n"
     ]
    }
   ],
   "source": [
    "fmla1 = FormulaProp('not not A_1 or not A_1')\n",
    "fmla2 = FormulaProp('A_1')\n",
    "print(fmla1.verified_by(RuleInfer.LEM))\n",
    "print(fmla2.verified_by(RuleInfer.LEM))\n",
    "print(fmla1.verified_by(RuleInfer.HYP))\n",
    "print(fmla1.verified_by(RuleInfer.HYP))"
   ]
  }
 ],
 "metadata": {
  "kernelspec": {
   "display_name": "mlenv",
   "language": "python",
   "name": "python3"
  },
  "language_info": {
   "codemirror_mode": {
    "name": "ipython",
    "version": 3
   },
   "file_extension": ".py",
   "mimetype": "text/x-python",
   "name": "python",
   "nbconvert_exporter": "python",
   "pygments_lexer": "ipython3",
   "version": "3.11.2"
  },
  "orig_nbformat": 4
 },
 "nbformat": 4,
 "nbformat_minor": 2
}
