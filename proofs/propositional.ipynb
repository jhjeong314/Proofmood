{
 "cells": [
  {
   "cell_type": "code",
   "execution_count": 1,
   "metadata": {},
   "outputs": [],
   "source": [
    "from propositional import *\n",
    "from pprint import pprint"
   ]
  },
  {
   "cell_type": "code",
   "execution_count": 2,
   "metadata": {},
   "outputs": [
    {
     "name": "stdout",
     "output_type": "stream",
     "text": [
      "<class 'propositional.Ann'>\n",
      "input_str = hyp\n",
      "rule: hyp\n",
      "premise: []\n",
      "True\n",
      "rule: or elim\n",
      "premise: [3, (4, 8), (9, 14)]\n",
      "or elim\n",
      "[3, (4, 8), (9, 14)]\n"
     ]
    }
   ],
   "source": [
    "s = \"hyp\"\n",
    "ann = Ann(s)\n",
    "print(type(ann))\n",
    "print(f\"input_str = {s}\")\n",
    "print(ann.build_str())\n",
    "print(ann.rule=='hyp')\n",
    "s2 = \"or elim 3,4-8,9-14\"\n",
    "ann2 = Ann(s2)\n",
    "print(ann2.build_str())\n",
    "print(ann2.rule)\n",
    "print(ann2.premise)"
   ]
  },
  {
   "cell_type": "code",
   "execution_count": 3,
   "metadata": {},
   "outputs": [
    {
     "name": "stdout",
     "output_type": "stream",
     "text": [
      "type: formula\n",
      "line: A imp B .hyp\n",
      "formula: A imp B\n",
      "ann: hyp\n",
      "is_hyp: True\n",
      "\n",
      "A imp B\t .hyp\n"
     ]
    }
   ],
   "source": [
    "line = \"A imp B .hyp\"\n",
    "label = NodeLabel('formula', line)\n",
    "print(label.build_str())\n",
    "print()\n",
    "print(label)"
   ]
  },
  {
   "cell_type": "code",
   "execution_count": 4,
   "metadata": {},
   "outputs": [
    {
     "name": "stdout",
     "output_type": "stream",
     "text": [
      "│1. A imp B\t .hyp\n",
      "│2. A\t .hyp\n",
      "├─\n",
      "│3. B\t .imp elim 1,2\n",
      "│4. A\t .repeat 2\n",
      "\n"
     ]
    }
   ],
   "source": [
    "line1 = \"A imp B .hyp\"\n",
    "label1 = NodeLabel('formula', line1)\n",
    "node1 = ProofNode(label1)\n",
    "line2 = \"A .hyp\"\n",
    "label2 = NodeLabel('formula', line2)\n",
    "node2 = ProofNode(label2)\n",
    "line3 = \"B .imp elim 1,2\"\n",
    "label3 = NodeLabel('formula', line3)\n",
    "node3 = ProofNode(label3)\n",
    "line4 = \"A .repeat 2\"\n",
    "label4 = NodeLabel('formula', line4)\n",
    "node4 = ProofNode(label4)\n",
    "label0 = NodeLabel()\n",
    "node0 = ProofNode(label0, [node1, node2, node3, node4])\n",
    "print(node0)"
   ]
  },
  {
   "cell_type": "code",
   "execution_count": 5,
   "metadata": {},
   "outputs": [
    {
     "name": "stdout",
     "output_type": "stream",
     "text": [
      "│1. A imp B\t .hyp\n",
      "│2. B imp C\t .hyp\n",
      "├─\n",
      "││3. A\t .hyp\n",
      "│├─\n",
      "││4. B\t .imp elim 1,3\n",
      "││5. C\t .imp elim 2,4\n",
      "│6. A imp C\t .imp intro 3-5\n",
      "\n"
     ]
    }
   ],
   "source": [
    "line1 = \"A imp B .hyp\"\n",
    "label1 = NodeLabel('formula', line1)\n",
    "node1 = ProofNode(label1)\n",
    "line2 = \"B imp C .hyp\"\n",
    "label2 = NodeLabel('formula', line2)\n",
    "node2 = ProofNode(label2)\n",
    "line3 = \"A .hyp\"\n",
    "label3 = NodeLabel('formula', line3)\n",
    "node3 = ProofNode(label3)\n",
    "line4 = \"B .imp elim 1,3\"\n",
    "label4 = NodeLabel('formula', line4)\n",
    "node4 = ProofNode(label4)\n",
    "line5 = \"C .imp elim 2,4\"\n",
    "label5 = NodeLabel('formula', line5)\n",
    "node5 = ProofNode(label5)\n",
    "line6 = \"A imp C .imp intro 3-5\"\n",
    "label6 = NodeLabel('formula', line6)\n",
    "node6 = ProofNode(label6)\n",
    "label_root = NodeLabel()\n",
    "label_sub = NodeLabel()\n",
    "node_sub = ProofNode(label_sub, [node3, node4, node5])\n",
    "node_root = ProofNode(label_root, [node1, node2, node_sub, node6])\n",
    "print(node_root)"
   ]
  },
  {
   "cell_type": "code",
   "execution_count": 6,
   "metadata": {},
   "outputs": [
    {
     "name": "stdout",
     "output_type": "stream",
     "text": [
      "[prf_str1]:\n",
      "A imp B .hyp\n",
      "B imp C .hyp\n",
      "{{\n",
      "  A .hyp\n",
      "  B     .imp elim 1,3\n",
      "  C     .imp elim 2,4\n",
      "}}\n",
      "A imp C .imp intro 3-5\n",
      "\n",
      "[prf_str2]:\n",
      "A imp B\t .hyp\n",
      "B imp C\t .hyp\n",
      "{{\n",
      "  A\t .hyp\n",
      "  B\t .imp elim 1,3\n",
      "  C\t .imp elim 2,4\n",
      "}}\n",
      "A imp C\t .imp intro 3-5\n",
      "\n",
      "[prf_str3]:\n",
      "A imp B .hyp\n",
      "B imp C .hyp\n",
      "{{\n",
      "  A .hyp\n",
      "  B     .imp elim 1,3\n",
      "  C     .imp elim 2,4\n",
      "}}\n",
      "A imp C .imp intro 3-5\n",
      "\n",
      "[prf_str4]:\n",
      "A imp B\t .hyp\n",
      "B imp C\t .hyp\n",
      "{{\n",
      "  A\t .hyp\n",
      "  B\t .imp elim 1,3\n",
      "  C\t .imp elim 2,4\n",
      "}}\n",
      "A imp C\t .imp intro 3-5\n",
      "\n"
     ]
    }
   ],
   "source": [
    "# You may or may not prefix each line with line number.\n",
    "# The parser can assign the correct line number \n",
    "# to each node anyway.\n",
    "\n",
    "prf_str1 = '''\n",
    "1. A imp B .hyp\n",
    "2. B imp C .hyp\n",
    "proves\n",
    "  3. A .hyp\n",
    "  proves\n",
    "  4. B     .imp elim 1,3\n",
    "  5. C     .imp elim 2,4\n",
    "6. A imp C .imp intro 3-5\n",
    "'''\n",
    "# or,\n",
    "prf_str2 = '''\n",
    "│1. A imp B\t .hyp\n",
    "│2. B imp C\t .hyp\n",
    "├─\n",
    "││3. A\t .hyp\n",
    "│├─\n",
    "││4. B\t .imp elim 1,3\n",
    "││5. C\t .imp elim 2,4\n",
    "│6. A imp C\t .imp intro 3-5\n",
    "'''\n",
    "# or, above two without numbering\n",
    "prf_str3 = '''\n",
    "A imp B .hyp\n",
    "B imp C .hyp\n",
    "proves\n",
    "  A .hyp\n",
    "  proves\n",
    "  B     .imp elim 1,3\n",
    "  C     .imp elim 2,4\n",
    "A imp C .imp intro 3-5\n",
    "'''\n",
    "# or,\n",
    "prf_str4 = '''\n",
    "│A imp B\t .hyp\n",
    "│B imp C\t .hyp\n",
    "├─\n",
    "││A\t .hyp\n",
    "│├─\n",
    "││B\t .imp elim 1,3\n",
    "││C\t .imp elim 2,4\n",
    "│A imp C\t .imp intro 3-5\n",
    "'''\n",
    "# Convert either string to the following.\n",
    "'''\n",
    "A imp B\t .hyp\n",
    "B imp C\t .hyp\n",
    "{{\n",
    "  A\t .hyp\n",
    "  B\t .imp elim 1,3\n",
    "  C\t .imp elim 2,4\n",
    "}}\n",
    "A imp C\t .imp intro 3-5\n",
    "'''\n",
    "\n",
    "for i in range(1, 5):\n",
    "  prf_str_name = f\"prf_str{i}\"\n",
    "  prf_str = eval(prf_str_name)\n",
    "  print(f\"[{prf_str_name}]:\")\n",
    "  lines = get_str_li(prf_str, tabsize=2)\n",
    "  print_lines(lines)    \n",
    "  print()"
   ]
  },
  {
   "cell_type": "code",
   "execution_count": 7,
   "metadata": {},
   "outputs": [
    {
     "name": "stdout",
     "output_type": "stream",
     "text": [
      "A imp B .hyp\n",
      "{{\n",
      "  A or C .hyp\n",
      "  {{\n",
      "    A .hyp\n",
      "    B .imp elim 1,3\n",
      "    B or C .or intro 4\n",
      "    C .hyp\n",
      "    B or C .or intro 6\n",
      "  }}\n",
      "  B or C .or elim 2,3-5,6-7\n",
      "}}\n",
      "A or C imp B .or C imp intro 2-8\n"
     ]
    }
   ],
   "source": [
    "prf_str = '''\n",
    "1. A imp B .hyp\n",
    "proves\n",
    "  2. A or C .hyp\n",
    "  proves\n",
    "    3. A .hyp\n",
    "    proves\n",
    "    4. B .imp elim 1,3\n",
    "    5. B or C .or intro 4\n",
    "    6. C .hyp\n",
    "    proves\n",
    "    7. B or C .or intro 6\n",
    "  8. B or C .or elim 2,3-5,6-7\n",
    "9. A or C imp B .or C imp intro 2-8'''\n",
    "lines = get_str_li(prf_str, tabsize=2)\n",
    "print_lines(lines)\n"
   ]
  },
  {
   "cell_type": "code",
   "execution_count": 9,
   "metadata": {},
   "outputs": [
    {
     "name": "stdout",
     "output_type": "stream",
     "text": [
      "│1. A\t .hyp\n",
      "│2. B\t .hyp\n",
      "├─\n",
      "│3. A and B\t .and intro\n",
      "\n"
     ]
    }
   ],
   "source": [
    "prf_str = '''\n",
    "1. A .hyp\n",
    "2. B  .hyp\n",
    "proves\n",
    "3. A and B .and intro\n",
    "'''\n",
    "print(parse_fitch(prf_str))"
   ]
  },
  {
   "cell_type": "code",
   "execution_count": 10,
   "metadata": {},
   "outputs": [
    {
     "name": "stdout",
     "output_type": "stream",
     "text": [
      "│1. A imp B\t .hyp\n",
      "│2. B imp C\t .hyp\n",
      "├─\n",
      "││3. A\t .hyp\n",
      "│├─\n",
      "││4. B\t .imp elim 1,3\n",
      "││5. C\t .imp elim 2,4\n",
      "│6. A imp C\t .imp intro 3-5\n",
      "\n"
     ]
    }
   ],
   "source": [
    "prf_str = '''\n",
    "1. A imp B .hyp\n",
    "2. B imp C .hyp\n",
    "proves\n",
    "  3. A .hyp\n",
    "  proves\n",
    "  4. B     .imp elim 1,3\n",
    "  5. C     .imp elim 2,4\n",
    "6. A imp C .imp intro 3-5\n",
    "'''\n",
    "print(parse_fitch(prf_str))"
   ]
  },
  {
   "cell_type": "code",
   "execution_count": 12,
   "metadata": {},
   "outputs": [
    {
     "name": "stdout",
     "output_type": "stream",
     "text": [
      "│1. A imp B\t .hyp\n",
      "├─\n",
      "││2. A or C\t .hyp\n",
      "│├─\n",
      "│││3. A\t .hyp\n",
      "││├─\n",
      "│││4. B\t .imp elim 1,3\n",
      "│││5. B or C\t .or intro 4\n",
      "│││6. C\t .hyp\n",
      "│││7. B or C\t .or intro 6\n",
      "││8. B or C\t .or elim 2,3-5,6-7\n",
      "│5. A or C imp B or C\t .imp intro 2-8\n",
      "\n"
     ]
    }
   ],
   "source": [
    "prf_str = '''\n",
    "1. A imp B .hyp\n",
    "proves\n",
    "  2. A or C .hyp\n",
    "  proves\n",
    "    3. A .hyp\n",
    "    proves\n",
    "    4. B .imp elim 1,3\n",
    "    5. B or C .or intro 4\n",
    "    6. C .hyp\n",
    "    proves\n",
    "    7. B or C .or intro 6\n",
    "  8. B or C .or elim 2,3-5,6-7\n",
    "9. A or C imp B or C .imp intro 2-8'''\n",
    "print(parse_fitch(prf_str))"
   ]
  },
  {
   "cell_type": "code",
   "execution_count": 13,
   "metadata": {},
   "outputs": [
    {
     "name": "stdout",
     "output_type": "stream",
     "text": [
      "│1. A\t .hyp\n",
      "├─\n",
      "││2. B\t .hyp\n",
      "│├─\n",
      "│││3. C\t .hyp\n",
      "││├─\n",
      "│││4. B and c\t .and intro 2,3\n",
      "│4. B imp C imp B and C\t .imp intro 2-4\n",
      "\n"
     ]
    }
   ],
   "source": [
    "prf_str = '''\n",
    "1. A .hyp\n",
    "proves\n",
    "  2. B .hyp\n",
    "  proves\n",
    "    3. C .hyp\n",
    "    proves\n",
    "    4. B and c .and intro 2,3\n",
    "5. B imp (C imp B and C) .imp intro 2-4\n",
    "'''\n",
    "print(parse_fitch(prf_str))"
   ]
  }
 ],
 "metadata": {
  "kernelspec": {
   "display_name": "mlenv",
   "language": "python",
   "name": "python3"
  },
  "language_info": {
   "codemirror_mode": {
    "name": "ipython",
    "version": 3
   },
   "file_extension": ".py",
   "mimetype": "text/x-python",
   "name": "python",
   "nbconvert_exporter": "python",
   "pygments_lexer": "ipython3",
   "version": "3.11.2"
  },
  "orig_nbformat": 4
 },
 "nbformat": 4,
 "nbformat_minor": 2
}
