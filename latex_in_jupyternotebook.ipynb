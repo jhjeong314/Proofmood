{
 "cells": [
  {
   "attachments": {},
   "cell_type": "markdown",
   "metadata": {},
   "source": [
    "Visualizing logical formula and proof tree needs graphic&mdash;ASCII character set is not good enough.  \n",
    "\n",
    "We'll use $\\LaTeX$ to visualize and render logical syntactic objects such as terms, formulas, proof trees, logic tableaux etc.\n",
    "\n",
    "<img src=\"./pics/fmla_and_prf.png\" width=450>\n",
    "\n",
    "In Web, we have an excellent tool called MathJax.\n",
    "\n",
    "In Juputer Notebook, we could simply put LaTeX source in Markdown cells, but for computer generated syntactic objects, this practice would be quite cumbersome and unacceptable.\n",
    "\n",
    "Fortunately we can import the tools we need from `Ipython.display`."
   ]
  },
  {
   "cell_type": "code",
   "execution_count": 2,
   "metadata": {},
   "outputs": [],
   "source": [
    "from IPython.display import display, Math, Latex, Code"
   ]
  },
  {
   "cell_type": "code",
   "execution_count": 3,
   "metadata": {},
   "outputs": [
    {
     "name": "stdout",
     "output_type": "stream",
     "text": [
      "1. Simple one line formula.\n",
      "\n"
     ]
    },
    {
     "data": {
      "text/latex": [
       "$\\displaystyle \\sqrt{a^2 + b^2}$"
      ],
      "text/plain": [
       "<IPython.core.display.Math object>"
      ]
     },
     "metadata": {},
     "output_type": "display_data"
    },
    {
     "name": "stdout",
     "output_type": "stream",
     "text": [
      "\n",
      "2. Array environment\n",
      "\n"
     ]
    },
    {
     "data": {
      "text/latex": [
       "$\\displaystyle \\begin{array}{lcr} \n",
       "              A \\to B & \\sqrt{x^2 + y^2} & 1234567 \\\\[1ex] \n",
       "             \\forall x\\exists y (x < y) \\models \\theta & \\frac{1}{y} & 2 \n",
       "             \\end{array}$"
      ],
      "text/plain": [
       "<IPython.core.display.Math object>"
      ]
     },
     "metadata": {},
     "output_type": "display_data"
    },
    {
     "name": "stdout",
     "output_type": "stream",
     "text": [
      "\n",
      "3. IPynb.display.Latex() doesn't work in Google Colab.\n",
      "It only works in local Jupyter notebook (in web browser or VS Code).\n",
      "\n"
     ]
    },
    {
     "data": {
      "text/latex": [
       "This is a $\\LaTeX$ document.\n",
       "\n",
       "$\\quad f(x) = \\begin{cases} x & \\text{if }x \\geq 0, \\\\\n",
       "-x & \\text{otherwise}.\n",
       "\\end{cases}$\n",
       "\n",
       "Great!"
      ],
      "text/plain": [
       "<IPython.core.display.Latex object>"
      ]
     },
     "metadata": {},
     "output_type": "display_data"
    }
   ],
   "source": [
    "print(\"1. Simple one line formula.\\n\")\n",
    "display(Math(r'\\sqrt{a^2 + b^2}'))\n",
    "\n",
    "print(\"\\n2. Array environment\\n\")\n",
    "display(Math(r\"\"\"\\begin{array}{lcr} \n",
    "              A \\to B & \\sqrt{x^2 + y^2} & 1234567 \\\\[1ex] \n",
    "             \\forall x\\exists y (x < y) \\models \\theta & \\frac{1}{y} & 2 \n",
    "             \\end{array}\"\"\"))\n",
    "\n",
    "\n",
    "print(\"\"\"\n",
    "3. IPynb.display.Latex() doesn't work in Google Colab.\n",
    "It only works in local Jupyter notebook (in web browser or VS Code).\n",
    "\"\"\")\n",
    "display(Latex(r\"\"\"This is a $\\LaTeX$ document.\n",
    "\n",
    "$\\quad f(x) = \\begin{cases} x & \\text{if }x \\geq 0, \\\\\n",
    "-x & \\text{otherwise}.\n",
    "\\end{cases}$\n",
    "\n",
    "Great!\"\"\"))"
   ]
  },
  {
   "attachments": {},
   "cell_type": "markdown",
   "metadata": {},
   "source": [
    "`Code()` can be useful in showing proof trees in raw text format.  \n",
    "\n",
    "It would be great if we can do syntax highlighting."
   ]
  },
  {
   "cell_type": "code",
   "execution_count": null,
   "metadata": {},
   "outputs": [],
   "source": [
    "display(Code(r'''1. A impl B\n",
    "2. B impl C\n",
    "entails\n",
    "  3. A  \n",
    "  entails\n",
    "  4. B : 1,3 impl elem \n",
    "  5. C : 2,4 impl elem\n",
    "6. A impl C : 3-5 impl intro''', language='text'))"
   ]
  },
  {
   "attachments": {},
   "cell_type": "markdown",
   "metadata": {},
   "source": [
    "For more informationm, you may visit [this github repo](https://github.com/Codesolid/latex-in-python)."
   ]
  }
 ],
 "metadata": {
  "kernelspec": {
   "display_name": "Python 3 (ipykernel)",
   "language": "python",
   "name": "python3"
  },
  "language_info": {
   "codemirror_mode": {
    "name": "ipython",
    "version": 3
   },
   "file_extension": ".py",
   "mimetype": "text/x-python",
   "name": "python",
   "nbconvert_exporter": "python",
   "pygments_lexer": "ipython3",
   "version": "3.11.1"
  }
 },
 "nbformat": 4,
 "nbformat_minor": 2
}
