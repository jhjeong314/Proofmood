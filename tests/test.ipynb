{
 "cells": [
  {
   "cell_type": "code",
   "execution_count": 9,
   "metadata": {},
   "outputs": [],
   "source": [
    "\n",
    "\n",
    "def identifier_to_latex(instr):\n",
    "  pos_underscore = instr.rfind('_')\n",
    "  if pos_underscore >= 0:\n",
    "    str1 = instr[:pos_underscore]\n",
    "    str2 = instr[pos_underscore+1:]\n",
    "    if str2:\n",
    "      ret_val = r\"\\textsl{\" + str1.replace(\"_\", r\"\\_\") + r\"}\" + r\"_{\" + str2 + r\"}\"\n",
    "    else:\n",
    "      ret_val = r\"\\textsl{\" + instr.replace(\"_\", r\"\\_\") + r\"}\"\n",
    "  else:\n",
    "    str1 = instr\n",
    "    ret_val = r\"\\textsl{\" + str1 + r\"}\"\n",
    "\n",
    "  return ret_val\n"
   ]
  },
  {
   "cell_type": "code",
   "execution_count": 10,
   "metadata": {},
   "outputs": [
    {
     "name": "stdout",
     "output_type": "stream",
     "text": [
      "\\textsl{Cats\\_and\\_Dogs}_{12}\n"
     ]
    }
   ],
   "source": [
    "instr = \"Cats_and_Dogs_12\"\n",
    "print(identifier_to_latex(instr))"
   ]
  },
  {
   "cell_type": "code",
   "execution_count": 11,
   "metadata": {},
   "outputs": [
    {
     "name": "stdout",
     "output_type": "stream",
     "text": [
      "\\textsl{Cats\\_and\\_Dogs\\_}\n"
     ]
    }
   ],
   "source": [
    "instr = \"Cats_and_Dogs_\"\n",
    "print(identifier_to_latex(instr))\n"
   ]
  },
  {
   "cell_type": "code",
   "execution_count": 12,
   "metadata": {},
   "outputs": [
    {
     "name": "stdout",
     "output_type": "stream",
     "text": [
      "\\textsl{Cats\\_and}_{Dogs}\n"
     ]
    }
   ],
   "source": [
    "instr = \"Cats_and_Dogs\"\n",
    "print(identifier_to_latex(instr))"
   ]
  },
  {
   "cell_type": "code",
   "execution_count": 13,
   "metadata": {},
   "outputs": [
    {
     "name": "stdout",
     "output_type": "stream",
     "text": [
      "\\textsl{Cats}\n"
     ]
    }
   ],
   "source": [
    "instr = \"Cats\"\n",
    "print(identifier_to_latex(instr))"
   ]
  }
 ],
 "metadata": {
  "kernelspec": {
   "display_name": "mlenv",
   "language": "python",
   "name": "python3"
  },
  "language_info": {
   "codemirror_mode": {
    "name": "ipython",
    "version": 3
   },
   "file_extension": ".py",
   "mimetype": "text/x-python",
   "name": "python",
   "nbconvert_exporter": "python",
   "pygments_lexer": "ipython3",
   "version": "3.11.1"
  },
  "orig_nbformat": 4
 },
 "nbformat": 4,
 "nbformat_minor": 2
}
