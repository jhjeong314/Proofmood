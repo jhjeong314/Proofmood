{
 "cells": [
  {
   "cell_type": "code",
   "execution_count": 1,
   "metadata": {},
   "outputs": [],
   "source": [
    "import sys\n",
    "sys.path.append('../')\n",
    " \n",
    "from FO1st import *\n",
    "\n",
    "from IPython.display import display, Math"
   ]
  },
  {
   "cell_type": "code",
   "execution_count": 2,
   "metadata": {},
   "outputs": [
    {
     "name": "stdout",
     "output_type": "stream",
     "text": [
      "- ! ' ^ #\n",
      "+ * / % =\n",
      "< > ( ) [\n",
      "] { } , "
     ]
    }
   ],
   "source": [
    "print_in_chunk(Token.SPECIAL_CHARS)"
   ]
  },
  {
   "cell_type": "code",
   "execution_count": 3,
   "metadata": {},
   "outputs": [
    {
     "name": "stdout",
     "output_type": "stream",
     "text": [
      "x (var)\n",
      "^+ (oper_post, arity=1, precedence=4)\n",
      "+ (oper_in_1, arity=2, precedence=1)\n",
      "y1 (var)\n",
      "^- (oper_post, arity=1, precedence=4)\n",
      "+ (oper_in_1, arity=2, precedence=1)\n",
      "cBob (const)\n",
      "^* (oper_post, arity=1, precedence=4)\n",
      "+ (oper_in_1, arity=2, precedence=1)\n",
      "d (const)\n",
      "^# (oper_post, arity=1, precedence=4)\n",
      "+ (oper_in_1, arity=2, precedence=1)\n",
      "y (var)\n",
      "^o (oper_post, arity=1, precedence=4)\n",
      "* (oper_in_2, arity=2, precedence=2)\n",
      "z (var)\n",
      "^inv (oper_post, arity=1, precedence=4)\n"
     ]
    }
   ],
   "source": [
    "input_text = \"x^+ + y1^- + cBob^* + d^# + y^o * z^inv\"\n",
    "testTokenizer(input_text)"
   ]
  },
  {
   "cell_type": "code",
   "execution_count": 4,
   "metadata": {},
   "outputs": [],
   "source": [
    "input_text = \"forall x P(-x30!') imp a^inv + b^o >= c^* and a * b* != c imp f_a2(f_b(b), c_Socrates) < c^21 iff Q\""
   ]
  },
  {
   "cell_type": "code",
   "execution_count": 5,
   "metadata": {},
   "outputs": [
    {
     "name": "stdout",
     "output_type": "stream",
     "text": [
      "forall (quantifier, arity=1, precedence=4)\n",
      "x (var)\n",
      "P (prop_letter, arity=0)\n",
      "( (lparen)\n",
      "- (oper_in_1, arity=2, precedence=1)\n",
      "x30 (var)\n",
      "! (oper_post, arity=1, precedence=4)\n",
      "' (oper_post, arity=1, precedence=4)\n",
      ") (rparen)\n",
      "imp (conn_arrow, arity=2, precedence=1)\n",
      "a (const)\n",
      "^inv (oper_post, arity=1, precedence=4)\n",
      "+ (oper_in_1, arity=2, precedence=1)\n",
      "b (const)\n",
      "^o (oper_post, arity=1, precedence=4)\n",
      ">= (pred_in, arity=2)\n",
      "c (const)\n",
      "^* (oper_post, arity=1, precedence=4)\n",
      "and (conn_2ary, arity=2, precedence=2)\n",
      "a (const)\n",
      "* (oper_in_2, arity=2, precedence=2)\n",
      "b (const)\n",
      "* (oper_in_2, arity=2, precedence=2)\n",
      "!= (pred_in, arity=2)\n",
      "c (const)\n",
      "imp (conn_arrow, arity=2, precedence=1)\n",
      "f_a2 (func_pre, arity=2)\n",
      "( (lparen)\n",
      "f_b (func_pre, arity=1)\n",
      "( (lparen)\n",
      "b (const)\n",
      ") (rparen)\n",
      ", (comma)\n",
      "c_Socrates (const)\n",
      ") (rparen)\n",
      "< (pred_in, arity=2)\n",
      "c (const)\n",
      "^ (oper_in_3, arity=2, precedence=3)\n",
      "21 (numeral)\n",
      "iff (conn_arrow, arity=2, precedence=1)\n",
      "Q (prop_letter, arity=0)\n"
     ]
    }
   ],
   "source": [
    "testTokenizer(input_text)"
   ]
  },
  {
   "attachments": {},
   "cell_type": "markdown",
   "metadata": {},
   "source": [
    "```xml\n",
    "<formula> ::= { <comp_fmla1> \"imp\" } <comp_fmla1> | \n",
    "                <comp_fmla1> { ( \"iff\" | \"xor\") <comp_fmla1> }\n",
    "<comp_fmla1> ::= <comp_fmla2> { (\"and\" | \"or\") <comp_fmla2> }\n",
    "<comp_fmla2> ::= { (\"not\" | <quantifier>) } '(' <formula> ')' | \n",
    "                 { (\"not\" | <quantifier>) } <atom>\n",
    "<quantifier> ::= \"forall\" | \"exists\"\n",
    "<atom> ::= \"bot\" | <prop_letter> | \n",
    "           <pred_pre> \"(\" <term> {',' <term>} \")\" |\n",
    "           <term> <pred_in> <term>\n",
    "<term> ::= (<term1> | <nterm1>) { <oper_in_1> <term1> }\n",
    "<nterm1> ::= <oper_pre> { <oper_pre> } <term1>\n",
    "<term1> ::= <factor> { <oper_in_2> <factor> }\n",
    "<factor> ::= { <factor_exp> <oper_in_3> } <factor_exp>\n",
    "<factor_exp> ::= <factor_postfix> { <oper_postfix> }\n",
    "<factor_postfix> ::= \"(\" <term> \")\"  | <func_call> | <identifier>\n",
    "<func_call> ::= <func_pre> '(' <term> {',' <term>} ')' \n",
    "<identifier> ::= <const> | <numeral> | <var>\n",
    "```"
   ]
  },
  {
   "cell_type": "code",
   "execution_count": 12,
   "metadata": {},
   "outputs": [
    {
     "name": "stdout",
     "output_type": "stream",
     "text": [
      "or and = x 1 P1 f y Q\n"
     ]
    }
   ],
   "source": [
    "v_str = \"x = 1 and P1(f(y)) or Q\"\n",
    "print(parse_text(v_str))"
   ]
  }
 ],
 "metadata": {
  "kernelspec": {
   "display_name": "mlenv",
   "language": "python",
   "name": "python3"
  },
  "language_info": {
   "codemirror_mode": {
    "name": "ipython",
    "version": 3
   },
   "file_extension": ".py",
   "mimetype": "text/x-python",
   "name": "python",
   "nbconvert_exporter": "python",
   "pygments_lexer": "ipython3",
   "version": "3.11.2"
  },
  "orig_nbformat": 4
 },
 "nbformat": 4,
 "nbformat_minor": 2
}
