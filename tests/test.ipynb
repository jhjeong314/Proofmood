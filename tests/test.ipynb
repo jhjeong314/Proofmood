{
 "cells": [
  {
   "cell_type": "code",
   "execution_count": 1,
   "metadata": {},
   "outputs": [],
   "source": [
    "import sys\n",
    "sys.path.append('../')\n",
    " \n",
    "from FO1st import *"
   ]
  },
  {
   "cell_type": "code",
   "execution_count": 2,
   "metadata": {},
   "outputs": [],
   "source": [
    "def testParser(input_text, showOption='polish', verbose=False):\n",
    "  # showOption ::= 'polish' | 'RPN' | 'infix_latex' | 'bussproof' | 'tree'\n",
    "  # 'bussproof' output is LaTeX source text.\n",
    "  # verbose has effect only when showOption == 'polish', 'RPN' or 'tree'\n",
    "  from IPython.display import display, Math\n",
    "\n",
    "  try:\n",
    "    ast = parse_text(input_text)\n",
    "  except ValueError as e:\n",
    "    print(f\"ValueError: {e}\")\n",
    "  except SyntaxError as e:\n",
    "    print(f\"SyntaxError: {e}\")\n",
    "  else:\n",
    "    if showOption=='polish':\n",
    "      print(ast.build_polish_notation(verbose))\n",
    "    elif showOption=='RPN':\n",
    "      print(ast.build_RPN(verbose))\n",
    "    elif showOption=='infix_latex':\n",
    "      s = ast.build_infix_latex()\n",
    "      print(\"\\n$\", s, \"$\") # latex source text\n",
    "      display(Math(f\"${s}$\")) # render LaTeXed expression\n",
    "    elif showOption=='bussproof':\n",
    "      s = ast.build_bussproof() \n",
    "      print(s)\n",
    "    elif showOption=='tree':\n",
    "      ast.draw_tree(verbose)\n",
    "    else:\n",
    "      raise ValueError(f\"Invalid showOption: {showOption}\")"
   ]
  },
  {
   "cell_type": "code",
   "execution_count": 3,
   "metadata": {},
   "outputs": [
    {
     "name": "stdout",
     "output_type": "stream",
     "text": [
      "- f_23 - x - - c 12\n",
      "\n",
      "$ -f_{2}(-x, -(-c), 12) $\n"
     ]
    },
    {
     "data": {
      "text/latex": [
       "$\\displaystyle -f_{2}(-x, -(-c), 12)$"
      ],
      "text/plain": [
       "<IPython.core.display.Math object>"
      ]
     },
     "metadata": {},
     "output_type": "display_data"
    },
    {
     "name": "stdout",
     "output_type": "stream",
     "text": [
      "\\begin{prooftree}\n",
      "\\AxiomC{$-f_{2}(-x, -(-c), 12)$}\n",
      "\\end{prooftree}\n",
      "\n",
      "root: -f_{2}(-x, -(-c), 12), position: (0.000, 0.000), width: 2.291, height: 0.120\n",
      "\n"
     ]
    },
    {
     "data": {
      "image/png": "[encoded data removed]",
      "text/plain": [
       "<Figure size 450x300 with 1 Axes>"
      ]
     },
     "metadata": {},
     "output_type": "display_data"
    }
   ],
   "source": [
    "# term example 1\n",
    "\n",
    "v_str1 = \"-f_23(-x, --c, 12)\"\n",
    "testParser(v_str1) \n",
    "testParser(v_str1, 'infix_latex') \n",
    "testParser(v_str1, 'bussproof') # term has no tree structure\n",
    "testParser(v_str1, 'tree', verbose=True) # term has no tree structure\n"
   ]
  },
  {
   "cell_type": "code",
   "execution_count": 4,
   "metadata": {},
   "outputs": [
    {
     "name": "stdout",
     "output_type": "stream",
     "text": [
      "+ - x - + y x\n",
      "\n",
      "$ -x + (-(y + x)) $\n"
     ]
    },
    {
     "data": {
      "text/latex": [
       "$\\displaystyle -x + (-(y + x))$"
      ],
      "text/plain": [
       "<IPython.core.display.Math object>"
      ]
     },
     "metadata": {},
     "output_type": "display_data"
    },
    {
     "name": "stdout",
     "output_type": "stream",
     "text": [
      "\\begin{prooftree}\n",
      "\\AxiomC{$-x + (-(y + x))$}\n",
      "\\end{prooftree}\n",
      "\n",
      "root: -x + (-(y + x)), position: (0.000, 0.000), width: 1.912, height: 0.120\n",
      "\n"
     ]
    },
    {
     "data": {
      "image/png": "[encoded data removed]",
      "text/plain": [
       "<Figure size 450x300 with 1 Axes>"
      ]
     },
     "metadata": {},
     "output_type": "display_data"
    }
   ],
   "source": [
    "# term example 2\n",
    "\n",
    "v_str1 = \"-x + (-(y+x))\" \n",
    "\n",
    "testParser(v_str1) \n",
    "testParser(v_str1, 'infix_latex') \n",
    "testParser(v_str1, 'bussproof') # term has no tree structure\n",
    "testParser(v_str1, 'tree', verbose=True) # term has no tree structure\n"
   ]
  },
  {
   "cell_type": "code",
   "execution_count": 5,
   "metadata": {},
   "outputs": [
    {
     "name": "stdout",
     "output_type": "stream",
     "text": [
      "/ x div y z\n",
      "\n",
      "$ x / (y \\div z) $\n"
     ]
    },
    {
     "data": {
      "text/latex": [
       "$\\displaystyle x / (y \\div z)$"
      ],
      "text/plain": [
       "<IPython.core.display.Math object>"
      ]
     },
     "metadata": {},
     "output_type": "display_data"
    }
   ],
   "source": [
    "# term example 3\n",
    "\n",
    "v_str1 = \"x / (y div z)\" \n",
    "\n",
    "testParser(v_str1) \n",
    "testParser(v_str1, 'infix_latex') "
   ]
  },
  {
   "cell_type": "code",
   "execution_count": 6,
   "metadata": {},
   "outputs": [
    {
     "name": "stdout",
     "output_type": "stream",
     "text": [
      "^ + a c b\n",
      "\n",
      "$ (a + c)^{b} $\n"
     ]
    },
    {
     "data": {
      "text/latex": [
       "$\\displaystyle (a + c)^{b}$"
      ],
      "text/plain": [
       "<IPython.core.display.Math object>"
      ]
     },
     "metadata": {},
     "output_type": "display_data"
    }
   ],
   "source": [
    "# term example 4\n",
    "\n",
    "v_str1 = \"(a+c)^b\" \n",
    "testParser(v_str1) \n",
    "testParser(v_str1, 'infix_latex') "
   ]
  },
  {
   "cell_type": "code",
   "execution_count": 18,
   "metadata": {},
   "outputs": [
    {
     "name": "stdout",
     "output_type": "stream",
     "text": [
      "^ ^# ^inv a 2\n",
      "\n",
      "$ ((a^{-1})^\\#)^{2} $\n"
     ]
    },
    {
     "data": {
      "text/latex": [
       "$\\displaystyle ((a^{-1})^\\#)^{2}$"
      ],
      "text/plain": [
       "<IPython.core.display.Math object>"
      ]
     },
     "metadata": {},
     "output_type": "display_data"
    }
   ],
   "source": [
    "# term example 5\n",
    "\n",
    "v_str1 = \"a^inv^#^2\" \n",
    "testParser(v_str1) \n",
    "testParser(v_str1, 'infix_latex') "
   ]
  },
  {
   "cell_type": "code",
   "execution_count": 7,
   "metadata": {},
   "outputs": [
    {
     "name": "stdout",
     "output_type": "stream",
     "text": [
      "and A2 x y > f2 x y 2\n",
      "\n",
      "$ A(x, y)\\: \\wedge\\: f(x, y) > 2 $\n"
     ]
    },
    {
     "data": {
      "text/latex": [
       "$\\displaystyle A(x, y)\\: \\wedge\\: f(x, y) > 2$"
      ],
      "text/plain": [
       "<IPython.core.display.Math object>"
      ]
     },
     "metadata": {},
     "output_type": "display_data"
    },
    {
     "name": "stdout",
     "output_type": "stream",
     "text": [
      "\\begin{prooftree}\n",
      "\\AxiomC{$x$}\n",
      "\\AxiomC{$y$}\n",
      "\\BinaryInfC{$A$}\n",
      "\\AxiomC{$f(x, y)$}\n",
      "\\AxiomC{$2$}\n",
      "\\BinaryInfC{$>$}\n",
      "\\BinaryInfC{$\\wedge$}\n",
      "\\end{prooftree}\n",
      "\n",
      "root: \\wedge, position: (0.000, 0.000), width: 2.275, height: 0.600\n",
      "root: A, position: (-0.659, 0.240), width: 0.645, height: 0.360\n",
      "root: x, position: (-0.251, 0.240), width: 0.150, height: 0.120\n",
      "root: y, position: (0.251, 0.240), width: 0.136, height: 0.120\n",
      "root: >, position: (0.659, 0.240), width: 1.270, height: 0.360\n",
      "root: f(x, y), position: (-0.408, 0.240), width: 0.779, height: 0.120\n",
      "root: 2, position: (0.408, 0.240), width: 0.131, height: 0.120\n",
      "\n"
     ]
    },
    {
     "data": {
      "image/png": "[encoded data removed]",
      "text/plain": [
       "<Figure size 450x300 with 1 Axes>"
      ]
     },
     "metadata": {},
     "output_type": "display_data"
    }
   ],
   "source": [
    "# formula example 1\n",
    "\n",
    "v_str = 'A2(x, y) and f2(x,y) > 2'\n",
    "testParser(v_str)\n",
    "testParser(v_str, 'infix_latex')\n",
    "testParser(v_str, 'bussproof')\n",
    "testParser(v_str, 'tree', verbose=True)"
   ]
  },
  {
   "cell_type": "code",
   "execution_count": 20,
   "metadata": {},
   "outputs": [
    {
     "name": "stdout",
     "output_type": "stream",
     "text": [
      "imp not A and = y y not > ^ x 2 f2 + x 1 y\n",
      "\n",
      "$ \\neg\\, A\\: \\rightarrow\\: y = y\\: \\wedge\\: \\neg\\, (x^{2} > f(x + 1, y)) $\n"
     ]
    },
    {
     "data": {
      "text/latex": [
       "$\\displaystyle \\neg\\, A\\: \\rightarrow\\: y = y\\: \\wedge\\: \\neg\\, (x^{2} > f(x + 1, y))$"
      ],
      "text/plain": [
       "<IPython.core.display.Math object>"
      ]
     },
     "metadata": {},
     "output_type": "display_data"
    },
    {
     "name": "stdout",
     "output_type": "stream",
     "text": [
      "\\begin{prooftree}\n",
      "\\AxiomC{$A$}\n",
      "\\UnaryInfC{$\\neg$}\n",
      "\\AxiomC{$y$}\n",
      "\\AxiomC{$y$}\n",
      "\\BinaryInfC{$=$}\n",
      "\\AxiomC{$x^{2}$}\n",
      "\\AxiomC{$f(x + 1, y)$}\n",
      "\\BinaryInfC{$>$}\n",
      "\\UnaryInfC{$\\neg$}\n",
      "\\BinaryInfC{$\\wedge$}\n",
      "\\BinaryInfC{$\\rightarrow$}\n",
      "\\end{prooftree}\n",
      "\n",
      "root: \\rightarrow, position: (0.000, 0.000), width: 3.413, height: 1.080\n",
      "root: \\neg, position: (-0.943, 0.240), width: 0.198, height: 0.360\n",
      "root: A, position: (-0.000, 0.240), width: 0.198, height: 0.120\n",
      "root: \\wedge, position: (0.943, 0.240), width: 2.855, height: 0.840\n",
      "root: =, position: (-0.804, 0.240), width: 0.631, height: 0.360\n",
      "root: y, position: (-0.248, 0.240), width: 0.136, height: 0.120\n",
      "root: y, position: (0.248, 0.240), width: 0.136, height: 0.120\n",
      "root: \\neg, position: (0.804, 0.240), width: 1.863, height: 0.600\n",
      "root: >, position: (-0.000, 0.240), width: 1.863, height: 0.360\n",
      "root: x^{2}, position: (-0.556, 0.240), width: 0.271, height: 0.120\n",
      "root: f(x + 1, y), position: (0.556, 0.240), width: 1.232, height: 0.120\n",
      "\n"
     ]
    },
    {
     "data": {
      "image/png": "[encoded data removed]",
      "text/plain": [
       "<Figure size 450x300 with 1 Axes>"
      ]
     },
     "metadata": {},
     "output_type": "display_data"
    }
   ],
   "source": [
    "# formula example 2\n",
    "\n",
    "v_str = \"not A imp y = y and not x^2 > f2(x + 1, y)\"\n",
    "testParser(v_str)\n",
    "testParser(v_str, 'infix_latex')\n",
    "testParser(v_str, 'bussproof')\n",
    "testParser(v_str, 'tree', verbose=True)\n"
   ]
  },
  {
   "cell_type": "code",
   "execution_count": 21,
   "metadata": {},
   "outputs": [
    {
     "name": "stdout",
     "output_type": "stream",
     "text": [
      "and < x ^ y 2 <= ^ y 2 + u f 1\n",
      "\n",
      "$ x < y^{2} \\le u + f(1) $\n"
     ]
    },
    {
     "data": {
      "text/latex": [
       "$\\displaystyle x < y^{2} \\le u + f(1)$"
      ],
      "text/plain": [
       "<IPython.core.display.Math object>"
      ]
     },
     "metadata": {},
     "output_type": "display_data"
    },
    {
     "name": "stdout",
     "output_type": "stream",
     "text": [
      "\\begin{prooftree}\n",
      "\\AxiomC{$x$}\n",
      "\\AxiomC{$y^{2}$}\n",
      "\\BinaryInfC{$<$}\n",
      "\\AxiomC{$y^{2}$}\n",
      "\\AxiomC{$u + f(1)$}\n",
      "\\BinaryInfC{$\\le$}\n",
      "\\BinaryInfC{$\\wedge$}\n",
      "\\end{prooftree}\n",
      "\n",
      "root: \\wedge, position: (0.000, 0.000), width: 2.730, height: 0.600\n",
      "root: <, position: (-0.772, 0.240), width: 0.774, height: 0.360\n",
      "root: x, position: (-0.284, 0.240), width: 0.150, height: 0.120\n",
      "root: y^{2}, position: (0.284, 0.240), width: 0.265, height: 0.120\n",
      "root: \\le, position: (0.772, 0.240), width: 1.595, height: 0.360\n",
      "root: y^{2}, position: (-0.489, 0.240), width: 0.265, height: 0.120\n",
      "root: u + f(1), position: (0.489, 0.240), width: 0.970, height: 0.120\n",
      "\n"
     ]
    },
    {
     "data": {
      "image/png": "[encoded data removed]",
      "text/plain": [
       "<Figure size 450x300 with 1 Axes>"
      ]
     },
     "metadata": {},
     "output_type": "display_data"
    }
   ],
   "source": [
    "v_str = \"x < y^2 <= u+f(1)\"\n",
    "testParser(v_str)\n",
    "testParser(v_str, 'infix_latex')\n",
    "testParser(v_str, 'bussproof')\n",
    "testParser(v_str, 'tree', verbose=True)"
   ]
  },
  {
   "cell_type": "code",
   "execution_count": 22,
   "metadata": {},
   "outputs": [
    {
     "name": "stdout",
     "output_type": "stream",
     "text": [
      "and and < ^ x 2 + ^ y - / 1 2 1 = + ^ y - / 1 2 1 - z sim - z f u\n",
      "\n",
      "$ x^{2} < y^{-1 / 2} + 1 = -z \\sim f(u) $\n"
     ]
    },
    {
     "data": {
      "text/latex": [
       "$\\displaystyle x^{2} < y^{-1 / 2} + 1 = -z \\sim f(u)$"
      ],
      "text/plain": [
       "<IPython.core.display.Math object>"
      ]
     },
     "metadata": {},
     "output_type": "display_data"
    },
    {
     "name": "stdout",
     "output_type": "stream",
     "text": [
      "\\begin{prooftree}\n",
      "\\AxiomC{$x^{2}$}\n",
      "\\AxiomC{$y^{-1 / 2} + 1$}\n",
      "\\BinaryInfC{$<$}\n",
      "\\AxiomC{$y^{-1 / 2} + 1$}\n",
      "\\AxiomC{$-z$}\n",
      "\\BinaryInfC{$=$}\n",
      "\\BinaryInfC{$\\wedge$}\n",
      "\\AxiomC{$-z$}\n",
      "\\AxiomC{$f(u)$}\n",
      "\\BinaryInfC{$\\sim$}\n",
      "\\BinaryInfC{$\\wedge$}\n",
      "\\end{prooftree}\n",
      "\n",
      "root: \\wedge, position: (0.000, 0.000), width: 5.621, height: 0.840\n",
      "root: \\wedge, position: (-1.495, 0.240), width: 4.049, height: 0.600\n",
      "root: <, position: (-1.102, 0.240), width: 1.813, height: 0.360\n",
      "root: x^{2}, position: (-0.543, 0.240), width: 0.271, height: 0.120\n",
      "root: y^{-1 / 2} + 1, position: (0.543, 0.240), width: 1.182, height: 0.120\n",
      "root: =, position: (1.102, 0.240), width: 1.876, height: 0.360\n",
      "root: y^{-1 / 2} + 1, position: (-0.559, 0.240), width: 1.182, height: 0.120\n",
      "root: -z, position: (0.559, 0.240), width: 0.334, height: 0.120\n",
      "root: \\sim, position: (1.495, 0.240), width: 1.212, height: 0.360\n",
      "root: -z, position: (-0.393, 0.240), width: 0.334, height: 0.120\n",
      "root: f(u), position: (0.393, 0.240), width: 0.518, height: 0.120\n",
      "\n"
     ]
    },
    {
     "data": {
      "image/png": "[encoded data removed]",
      "text/plain": [
       "<Figure size 450x300 with 1 Axes>"
      ]
     },
     "metadata": {},
     "output_type": "display_data"
    }
   ],
   "source": [
    "v_str = \"x^2 < y^(-1/2)+1 =  -z  sim f(u)\"\n",
    "testParser(v_str)\n",
    "testParser(v_str, 'infix_latex')\n",
    "testParser(v_str, 'bussproof')\n",
    "testParser(v_str, 'tree', verbose=True)"
   ]
  },
  {
   "cell_type": "code",
   "execution_count": 23,
   "metadata": {},
   "outputs": [
    {
     "name": "stdout",
     "output_type": "stream",
     "text": [
      "forall x not A1 x\n",
      "\n",
      "$ \\forall x\\, \\neg\\, A(x) $\n"
     ]
    },
    {
     "data": {
      "text/latex": [
       "$\\displaystyle \\forall x\\, \\neg\\, A(x)$"
      ],
      "text/plain": [
       "<IPython.core.display.Math object>"
      ]
     },
     "metadata": {},
     "output_type": "display_data"
    },
    {
     "name": "stdout",
     "output_type": "stream",
     "text": [
      "\\begin{prooftree}\n",
      "\\AxiomC{$x$}\n",
      "\\UnaryInfC{$A$}\n",
      "\\UnaryInfC{$\\neg$}\n",
      "\\UnaryInfC{$\\forall x$}\n",
      "\\end{prooftree}\n",
      "\n",
      "root: \\forall x, position: (0.000, 0.000), width: 0.150, height: 0.840\n",
      "root: \\neg, position: (-0.000, 0.240), width: 0.150, height: 0.600\n",
      "root: A, position: (-0.000, 0.240), width: 0.150, height: 0.360\n",
      "root: x, position: (-0.000, 0.240), width: 0.150, height: 0.120\n",
      "\n"
     ]
    },
    {
     "data": {
      "image/png": "[encoded data removed]",
      "text/plain": [
       "<Figure size 450x300 with 1 Axes>"
      ]
     },
     "metadata": {},
     "output_type": "display_data"
    }
   ],
   "source": [
    "v_str = \"forall x not A1(x)\"\n",
    "testParser(v_str)\n",
    "testParser(v_str, 'infix_latex')\n",
    "testParser(v_str, 'bussproof')\n",
    "testParser(v_str, 'tree', verbose=True)\n"
   ]
  },
  {
   "cell_type": "code",
   "execution_count": 24,
   "metadata": {},
   "outputs": [
    {
     "name": "stdout",
     "output_type": "stream",
     "text": [
      "iff forall y >= f x y exists x B1 x\n",
      "\n",
      "$ \\forall y\\, (f(x) \\ge y)\\: \\leftrightarrow\\: \\exists x\\, B(x) $\n"
     ]
    },
    {
     "data": {
      "text/latex": [
       "$\\displaystyle \\forall y\\, (f(x) \\ge y)\\: \\leftrightarrow\\: \\exists x\\, B(x)$"
      ],
      "text/plain": [
       "<IPython.core.display.Math object>"
      ]
     },
     "metadata": {},
     "output_type": "display_data"
    },
    {
     "name": "stdout",
     "output_type": "stream",
     "text": [
      "\\begin{prooftree}\n",
      "\\AxiomC{$f(x)$}\n",
      "\\AxiomC{$y$}\n",
      "\\BinaryInfC{$\\ge$}\n",
      "\\UnaryInfC{$\\forall y$}\n",
      "\\AxiomC{$x$}\n",
      "\\UnaryInfC{$B$}\n",
      "\\UnaryInfC{$\\exists x$}\n",
      "\\BinaryInfC{$\\leftrightarrow$}\n",
      "\\end{prooftree}\n",
      "\n",
      "root: \\leftrightarrow, position: (0.000, 0.000), width: 1.514, height: 0.840\n",
      "root: \\forall y, position: (-0.469, 0.240), width: 1.005, height: 0.600\n",
      "root: \\ge, position: (-0.000, 0.240), width: 1.005, height: 0.360\n",
      "root: f(x), position: (-0.341, 0.240), width: 0.509, height: 0.120\n",
      "root: y, position: (0.341, 0.240), width: 0.136, height: 0.120\n",
      "root: \\exists x, position: (0.469, 0.240), width: 0.150, height: 0.600\n",
      "root: B, position: (-0.000, 0.240), width: 0.150, height: 0.360\n",
      "root: x, position: (-0.000, 0.240), width: 0.150, height: 0.120\n",
      "\n"
     ]
    },
    {
     "data": {
      "image/png": "[encoded data removed]",
      "text/plain": [
       "<Figure size 450x300 with 1 Axes>"
      ]
     },
     "metadata": {},
     "output_type": "display_data"
    }
   ],
   "source": [
    "v_str = \"forall y  f(x) >= y iff exists x B1(x) \"\n",
    "testParser(v_str)\n",
    "testParser(v_str, 'infix_latex')\n",
    "testParser(v_str, 'bussproof')\n",
    "testParser(v_str, 'tree', verbose=True)\n"
   ]
  },
  {
   "cell_type": "code",
   "execution_count": null,
   "metadata": {},
   "outputs": [],
   "source": []
  }
 ],
 "metadata": {
  "kernelspec": {
   "display_name": "mlenv",
   "language": "python",
   "name": "python3"
  },
  "language_info": {
   "codemirror_mode": {
    "name": "ipython",
    "version": 3
   },
   "file_extension": ".py",
   "mimetype": "text/x-python",
   "name": "python",
   "nbconvert_exporter": "python",
   "pygments_lexer": "ipython3",
   "version": "3.11.1"
  },
  "orig_nbformat": 4
 },
 "nbformat": 4,
 "nbformat_minor": 2
}
