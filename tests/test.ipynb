{
 "cells": [
  {
   "cell_type": "code",
   "execution_count": 5,
   "metadata": {},
   "outputs": [],
   "source": [
    "import sys\n",
    "sys.path.append('../')\n",
    " \n",
    "from FO1st import *"
   ]
  },
  {
   "cell_type": "code",
   "execution_count": 6,
   "metadata": {},
   "outputs": [],
   "source": [
    "def testParser(input_text, showOption='polish', operOpt=False):\n",
    "  # showOption ::= 'polish' | 'RPN' | 'infix_latex' | 'tree' | 'bussproof'\n",
    "  # 'bussproof' output is LaTeX source text\n",
    "  # operOpt has effect only when showOption == 'polish' or 'RPN'\n",
    "  from IPython.display import display, Math\n",
    "\n",
    "  try:\n",
    "    ast = parse_text(input_text)\n",
    "  except ValueError as e:\n",
    "    print(f\"ValueError: {e}\")\n",
    "  except SyntaxError as e:\n",
    "    print(f\"SyntaxError: {e}\")\n",
    "  else:\n",
    "    if showOption=='polish':\n",
    "      print(ast.build_polish_notation(operOpt))\n",
    "    elif showOption=='RPN':\n",
    "      print(ast.build_RPN(operOpt))\n",
    "    elif showOption=='infix_latex':\n",
    "      s = ast.build_infix_latex()\n",
    "      print(s) # latex source text\n",
    "      display(Math(f\"${s}$\")) # render LaTeXed expression\n",
    "    elif showOption=='tree':\n",
    "      ast.draw_tree()\n",
    "    elif showOption=='bussproof':\n",
    "      s = ast.build_bussproof() \n",
    "      print(s)\n",
    "    else:\n",
    "      raise ValueError(f\"Invalid showOption: {showOption}\")"
   ]
  },
  {
   "cell_type": "code",
   "execution_count": 7,
   "metadata": {},
   "outputs": [
    {
     "name": "stdout",
     "output_type": "stream",
     "text": [
      "- * y ^ z 2 f z\n",
      "<= * y ^ z 2 f z\n"
     ]
    }
   ],
   "source": [
    "v_str1 = \"y * z^2 - f(z)\"\n",
    "testParser(v_str1) # parse as a term\n",
    "v_str2 = \"y * z^2 <= f(z)\"\n",
    "testParser(v_str2) # parse as a formula"
   ]
  },
  {
   "cell_type": "code",
   "execution_count": 9,
   "metadata": {},
   "outputs": [
    {
     "name": "stdout",
     "output_type": "stream",
     "text": [
      "y z 2 ^ * z f -\n",
      "y z 2 ^ * z f <=\n"
     ]
    }
   ],
   "source": [
    "v_str1 = \"y * z^2 - f(z)\"\n",
    "testParser(v_str1, 'RPN') # parse as a term\n",
    "v_str2 = \"y*z^2<=f(z)\"\n",
    "testParser(v_str2, 'RPN') # parse as a formula"
   ]
  },
  {
   "cell_type": "code",
   "execution_count": 10,
   "metadata": {},
   "outputs": [
    {
     "data": {
      "text/plain": [
       "(1, 2, 3, 4, 5, 6)"
      ]
     },
     "execution_count": 10,
     "metadata": {},
     "output_type": "execute_result"
    }
   ],
   "source": [
    "a = (1,2,3)\n",
    "b = a + (4,5,6)\n",
    "b"
   ]
  }
 ],
 "metadata": {
  "kernelspec": {
   "display_name": "mlenv",
   "language": "python",
   "name": "python3"
  },
  "language_info": {
   "codemirror_mode": {
    "name": "ipython",
    "version": 3
   },
   "file_extension": ".py",
   "mimetype": "text/x-python",
   "name": "python",
   "nbconvert_exporter": "python",
   "pygments_lexer": "ipython3",
   "version": "3.11.1"
  },
  "orig_nbformat": 4
 },
 "nbformat": 4,
 "nbformat_minor": 2
}
