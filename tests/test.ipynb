{
 "cells": [
  {
   "cell_type": "code",
   "execution_count": 1,
   "metadata": {},
   "outputs": [],
   "source": [
    "import sys\n",
    "sys.path.append('../')\n",
    " \n",
    "from FO1st import *"
   ]
  },
  {
   "cell_type": "code",
   "execution_count": 2,
   "metadata": {},
   "outputs": [],
   "source": [
    "def testParser(input_text, showOption='polish', verbose=False):\n",
    "  # showOption ::= 'polish' | 'RPN' | 'infix_latex' | 'bussproof' | 'tree'\n",
    "  # 'bussproof' output is LaTeX source text.\n",
    "  # verbose has effect only when showOption == 'polish', 'RPN' or 'tree'\n",
    "  from IPython.display import display, Math\n",
    "\n",
    "  try:\n",
    "    ast = parse_text(input_text)\n",
    "  except ValueError as e:\n",
    "    print(f\"ValueError: {e}\")\n",
    "  except SyntaxError as e:\n",
    "    print(f\"SyntaxError: {e}\")\n",
    "  else:\n",
    "    if showOption=='polish':\n",
    "      print(ast.build_polish_notation(verbose))\n",
    "    elif showOption=='RPN':\n",
    "      print(ast.build_RPN(verbose))\n",
    "    elif showOption=='infix_latex':\n",
    "      s = ast.build_infix_latex()\n",
    "      print(\"\\n$\", s, \"$\") # latex source text\n",
    "      display(Math(f\"${s}$\")) # render LaTeXed expression\n",
    "    elif showOption=='bussproof':\n",
    "      s = ast.build_bussproof() \n",
    "      print(s)\n",
    "    elif showOption=='tree':\n",
    "      ast.draw_tree(verbose)\n",
    "    else:\n",
    "      raise ValueError(f\"Invalid showOption: {showOption}\")"
   ]
  },
  {
   "cell_type": "code",
   "execution_count": 3,
   "metadata": {},
   "outputs": [
    {
     "name": "stdout",
     "output_type": "stream",
     "text": [
      "- f_23 - x - - c 12\n",
      "\n",
      "$ -f_{2}(-x, -(-c), 12) $\n"
     ]
    },
    {
     "data": {
      "text/latex": [
       "$\\displaystyle -f_{2}(-x, -(-c), 12)$"
      ],
      "text/plain": [
       "<IPython.core.display.Math object>"
      ]
     },
     "metadata": {},
     "output_type": "display_data"
    },
    {
     "name": "stdout",
     "output_type": "stream",
     "text": [
      "\\begin{prooftree}\n",
      "\\AxiomC{$-f_{2}(-x, -(-c), 12)$}\n",
      "\\end{prooftree}\n",
      "\n",
      "root: -f_{2}(-x, -(-c), 12), position: (0.000, 0.000), width: 1.146, height: 0.090\n",
      "\n"
     ]
    },
    {
     "data": {
      "image/png": "[encoded data removed]",
      "text/plain": [
       "<Figure size 900x450 with 1 Axes>"
      ]
     },
     "metadata": {},
     "output_type": "display_data"
    }
   ],
   "source": [
    "# term example 1\n",
    "\n",
    "v_str1 = \"-f_23(-x, --c, 12)\"\n",
    "testParser(v_str1) \n",
    "testParser(v_str1, 'infix_latex') \n",
    "testParser(v_str1, 'bussproof') # term has no tree structure\n",
    "testParser(v_str1, 'tree', verbose=True) # term has no tree structure\n"
   ]
  },
  {
   "cell_type": "code",
   "execution_count": 4,
   "metadata": {},
   "outputs": [
    {
     "name": "stdout",
     "output_type": "stream",
     "text": [
      "+ - x - + y x\n",
      "\n",
      "$ -x + (-(y + x)) $\n"
     ]
    },
    {
     "data": {
      "text/latex": [
       "$\\displaystyle -x + (-(y + x))$"
      ],
      "text/plain": [
       "<IPython.core.display.Math object>"
      ]
     },
     "metadata": {},
     "output_type": "display_data"
    },
    {
     "name": "stdout",
     "output_type": "stream",
     "text": [
      "\\begin{prooftree}\n",
      "\\AxiomC{$-x + (-(y + x))$}\n",
      "\\end{prooftree}\n",
      "\n",
      "root: -x + (-(y + x)), position: (0.000, 0.000), width: 0.956, height: 0.090\n",
      "\n"
     ]
    },
    {
     "data": {
      "image/png": "[encoded data removed]",
      "text/plain": [
       "<Figure size 900x450 with 1 Axes>"
      ]
     },
     "metadata": {},
     "output_type": "display_data"
    }
   ],
   "source": [
    "# term example 2\n",
    "\n",
    "v_str1 = \"-x + (-(y+x))\" \n",
    "\n",
    "testParser(v_str1) \n",
    "testParser(v_str1, 'infix_latex') \n",
    "testParser(v_str1, 'bussproof') # term has no tree structure\n",
    "testParser(v_str1, 'tree', verbose=True) # term has no tree structure\n"
   ]
  },
  {
   "cell_type": "code",
   "execution_count": 5,
   "metadata": {},
   "outputs": [
    {
     "name": "stdout",
     "output_type": "stream",
     "text": [
      "/ x div y z\n",
      "\n",
      "$ x / (y \\div z) $\n"
     ]
    },
    {
     "data": {
      "text/latex": [
       "$\\displaystyle x / (y \\div z)$"
      ],
      "text/plain": [
       "<IPython.core.display.Math object>"
      ]
     },
     "metadata": {},
     "output_type": "display_data"
    }
   ],
   "source": [
    "# term example 3\n",
    "\n",
    "v_str1 = \"x / (y div z)\" \n",
    "\n",
    "testParser(v_str1) \n",
    "testParser(v_str1, 'infix_latex') "
   ]
  },
  {
   "cell_type": "code",
   "execution_count": 6,
   "metadata": {},
   "outputs": [
    {
     "name": "stdout",
     "output_type": "stream",
     "text": [
      "^ + a c b\n",
      "\n",
      "$ (a + c)^{b} $\n"
     ]
    },
    {
     "data": {
      "text/latex": [
       "$\\displaystyle (a + c)^{b}$"
      ],
      "text/plain": [
       "<IPython.core.display.Math object>"
      ]
     },
     "metadata": {},
     "output_type": "display_data"
    }
   ],
   "source": [
    "# term example 4\n",
    "\n",
    "v_str1 = \"(a+c)^b\" \n",
    "testParser(v_str1) \n",
    "testParser(v_str1, 'infix_latex') "
   ]
  },
  {
   "cell_type": "code",
   "execution_count": 7,
   "metadata": {},
   "outputs": [
    {
     "name": "stdout",
     "output_type": "stream",
     "text": [
      "^ ^# ^inv a 2\n",
      "\n",
      "$ ((a^{-1})^\\#)^{2} $\n"
     ]
    },
    {
     "data": {
      "text/latex": [
       "$\\displaystyle ((a^{-1})^\\#)^{2}$"
      ],
      "text/plain": [
       "<IPython.core.display.Math object>"
      ]
     },
     "metadata": {},
     "output_type": "display_data"
    }
   ],
   "source": [
    "# term example 5\n",
    "\n",
    "v_str1 = \"a^inv^#^2\" \n",
    "testParser(v_str1) \n",
    "testParser(v_str1, 'infix_latex') "
   ]
  },
  {
   "cell_type": "code",
   "execution_count": 8,
   "metadata": {},
   "outputs": [
    {
     "name": "stdout",
     "output_type": "stream",
     "text": [
      "A3 x a + + y 1 z\n",
      "\n",
      "$ A(x, a, y + 1 + z) $\n"
     ]
    },
    {
     "data": {
      "text/latex": [
       "$\\displaystyle A(x, a, y + 1 + z)$"
      ],
      "text/plain": [
       "<IPython.core.display.Math object>"
      ]
     },
     "metadata": {},
     "output_type": "display_data"
    },
    {
     "name": "stdout",
     "output_type": "stream",
     "text": [
      "\\begin{prooftree}\n",
      "\\AxiomC{$x$}\n",
      "\\AxiomC{$a$}\n",
      "\\AxiomC{$y + 1 + z$}\n",
      "\\TrinaryInfC{$A$}\n",
      "\\end{prooftree}\n",
      "\n",
      "root: A, position: (0.000, 0.000), width: 1.066, height: 0.270\n",
      "root: x, position: (-0.496, 0.180), width: 0.075, height: 0.090\n",
      "root: a, position: (-0.224, 0.180), width: 0.072, height: 0.090\n",
      "root: y + 1 + z, position: (0.272, 0.180), width: 0.523, height: 0.090\n",
      "\n"
     ]
    },
    {
     "data": {
      "image/png": "[encoded data removed]",
      "text/plain": [
       "<Figure size 900x450 with 1 Axes>"
      ]
     },
     "metadata": {},
     "output_type": "display_data"
    }
   ],
   "source": [
    "# formula example 1\n",
    "\n",
    "v_str = 'A3(x,a,y+1+z)'\n",
    "testParser(v_str)\n",
    "testParser(v_str, 'infix_latex')\n",
    "testParser(v_str, 'bussproof')\n",
    "testParser(v_str, 'tree', verbose=True)"
   ]
  },
  {
   "cell_type": "code",
   "execution_count": 9,
   "metadata": {},
   "outputs": [
    {
     "name": "stdout",
     "output_type": "stream",
     "text": [
      "ALongLongPred2 f2 x a y\n",
      "\n",
      "$ {\\rm ALongLongPred}(f(x, a), y) $\n"
     ]
    },
    {
     "data": {
      "text/latex": [
       "$\\displaystyle {\\rm ALongLongPred}(f(x, a), y)$"
      ],
      "text/plain": [
       "<IPython.core.display.Math object>"
      ]
     },
     "metadata": {},
     "output_type": "display_data"
    },
    {
     "name": "stdout",
     "output_type": "stream",
     "text": [
      "\\begin{prooftree}\n",
      "\\AxiomC{$f(x, a)$}\n",
      "\\AxiomC{$y$}\n",
      "\\BinaryInfC{${\\rm ALongLongPred}$}\n",
      "\\end{prooftree}\n",
      "\n",
      "root: {\\rm ALongLongPred}, position: (0.000, 0.000), width: 0.934, height: 0.270\n",
      "root: f(x, a), position: (-0.133, 0.180), width: 0.390, height: 0.090\n",
      "root: y, position: (0.294, 0.180), width: 0.068, height: 0.090\n",
      "\n"
     ]
    },
    {
     "data": {
      "image/png": "[encoded data removed]",
      "text/plain": [
       "<Figure size 900x450 with 1 Axes>"
      ]
     },
     "metadata": {},
     "output_type": "display_data"
    }
   ],
   "source": [
    "# formula example 2\n",
    "\n",
    "v_str = 'ALongLongPred2(f2(x,a),  y)'\n",
    "testParser(v_str)\n",
    "testParser(v_str, 'infix_latex')\n",
    "testParser(v_str, 'bussproof')\n",
    "testParser(v_str, 'tree', verbose=True)"
   ]
  },
  {
   "cell_type": "code",
   "execution_count": 10,
   "metadata": {},
   "outputs": [
    {
     "name": "stdout",
     "output_type": "stream",
     "text": [
      "imp BinaryPred2 x y = fLong x y\n",
      "\n",
      "$ {\\rm BinaryPred}(x, y)\\: \\rightarrow\\: {\\rm fLong}(x) = y $\n"
     ]
    },
    {
     "data": {
      "text/latex": [
       "$\\displaystyle {\\rm BinaryPred}(x, y)\\: \\rightarrow\\: {\\rm fLong}(x) = y$"
      ],
      "text/plain": [
       "<IPython.core.display.Math object>"
      ]
     },
     "metadata": {},
     "output_type": "display_data"
    },
    {
     "name": "stdout",
     "output_type": "stream",
     "text": [
      "\\begin{prooftree}\n",
      "\\AxiomC{$x$}\n",
      "\\AxiomC{$y$}\n",
      "\\BinaryInfC{${\\rm BinaryPred}$}\n",
      "\\AxiomC{${\\rm fLong}(x)$}\n",
      "\\AxiomC{$y$}\n",
      "\\BinaryInfC{$=$}\n",
      "\\BinaryInfC{$\\rightarrow$}\n",
      "\\end{prooftree}\n",
      "\n",
      "root: \\rightarrow, position: (0.000, 0.000), width: 1.626, height: 0.450\n",
      "root: {\\rm BinaryPred}, position: (-0.317, 0.180), width: 0.657, height: 0.270\n",
      "root: x, position: (-0.133, 0.180), width: 0.075, height: 0.090\n",
      "root: y, position: (0.136, 0.180), width: 0.068, height: 0.090\n",
      "root: =, position: (0.595, 0.180), width: 0.771, height: 0.270\n",
      "root: {\\rm fLong}(x), position: (-0.133, 0.180), width: 0.505, height: 0.090\n",
      "root: y, position: (0.351, 0.180), width: 0.068, height: 0.090\n",
      "\n"
     ]
    },
    {
     "data": {
      "image/png": "[encoded data removed]",
      "text/plain": [
       "<Figure size 900x450 with 1 Axes>"
      ]
     },
     "metadata": {},
     "output_type": "display_data"
    }
   ],
   "source": [
    "# formula example 3\n",
    "\n",
    "v_str = 'BinaryPred2(x, y) imp fLong(x) = y'\n",
    "testParser(v_str)\n",
    "testParser(v_str, 'infix_latex')\n",
    "testParser(v_str, 'bussproof')\n",
    "testParser(v_str, 'tree', verbose=True)"
   ]
  },
  {
   "cell_type": "code",
   "execution_count": 11,
   "metadata": {},
   "outputs": [
    {
     "name": "stdout",
     "output_type": "stream",
     "text": [
      "imp not A and = y y not > ^ x 2 f2 + x 1 y\n",
      "\n",
      "$ \\neg\\, A\\: \\rightarrow\\: y = y\\: \\wedge\\: \\neg\\, (x^{2} > f(x + 1, y)) $\n"
     ]
    },
    {
     "data": {
      "text/latex": [
       "$\\displaystyle \\neg\\, A\\: \\rightarrow\\: y = y\\: \\wedge\\: \\neg\\, (x^{2} > f(x + 1, y))$"
      ],
      "text/plain": [
       "<IPython.core.display.Math object>"
      ]
     },
     "metadata": {},
     "output_type": "display_data"
    },
    {
     "name": "stdout",
     "output_type": "stream",
     "text": [
      "\\begin{prooftree}\n",
      "\\AxiomC{$A$}\n",
      "\\UnaryInfC{$\\neg$}\n",
      "\\AxiomC{$y$}\n",
      "\\AxiomC{$y$}\n",
      "\\BinaryInfC{$=$}\n",
      "\\AxiomC{$x^{2}$}\n",
      "\\AxiomC{$f(x + 1, y)$}\n",
      "\\BinaryInfC{$>$}\n",
      "\\UnaryInfC{$\\neg$}\n",
      "\\BinaryInfC{$\\wedge$}\n",
      "\\BinaryInfC{$\\rightarrow$}\n",
      "\\end{prooftree}\n",
      "\n",
      "root: \\rightarrow, position: (0.000, 0.000), width: 1.778, height: 0.810\n",
      "root: \\neg, position: (-0.494, 0.180), width: 0.099, height: 0.270\n",
      "root: A, position: (0.000, 0.180), width: 0.099, height: 0.090\n",
      "root: \\wedge, position: (0.494, 0.180), width: 1.481, height: 0.630\n",
      "root: =, position: (-0.417, 0.180), width: 0.334, height: 0.270\n",
      "root: y, position: (-0.133, 0.180), width: 0.068, height: 0.090\n",
      "root: y, position: (0.133, 0.180), width: 0.068, height: 0.090\n",
      "root: \\neg, position: (0.423, 0.180), width: 0.950, height: 0.450\n",
      "root: >, position: (0.000, 0.180), width: 0.950, height: 0.270\n",
      "root: x^{2}, position: (-0.407, 0.180), width: 0.136, height: 0.090\n",
      "root: f(x + 1, y), position: (0.167, 0.180), width: 0.616, height: 0.090\n",
      "\n"
     ]
    },
    {
     "data": {
      "image/png": "[encoded data removed]",
      "text/plain": [
       "<Figure size 900x450 with 1 Axes>"
      ]
     },
     "metadata": {},
     "output_type": "display_data"
    }
   ],
   "source": [
    "# formula example 4\n",
    "\n",
    "v_str = \"not A imp y = y and not x^2 > f2(x + 1, y)\"\n",
    "testParser(v_str)\n",
    "testParser(v_str, 'infix_latex')\n",
    "testParser(v_str, 'bussproof')\n",
    "testParser(v_str, 'tree', verbose=True)\n"
   ]
  },
  {
   "cell_type": "code",
   "execution_count": 12,
   "metadata": {},
   "outputs": [
    {
     "name": "stdout",
     "output_type": "stream",
     "text": [
      "and < x ^ y 2 <= ^ y 2 + u f 1\n",
      "\n",
      "$ x < y^{2} \\le u + f(1) $\n"
     ]
    },
    {
     "data": {
      "text/latex": [
       "$\\displaystyle x < y^{2} \\le u + f(1)$"
      ],
      "text/plain": [
       "<IPython.core.display.Math object>"
      ]
     },
     "metadata": {},
     "output_type": "display_data"
    },
    {
     "name": "stdout",
     "output_type": "stream",
     "text": [
      "\\begin{prooftree}\n",
      "\\AxiomC{$x$}\n",
      "\\AxiomC{$y^{2}$}\n",
      "\\BinaryInfC{$<$}\n",
      "\\AxiomC{$y^{2}$}\n",
      "\\AxiomC{$u + f(1)$}\n",
      "\\BinaryInfC{$\\le$}\n",
      "\\BinaryInfC{$\\wedge$}\n",
      "\\end{prooftree}\n",
      "\n",
      "root: \\wedge, position: (0.000, 0.000), width: 1.419, height: 0.450\n",
      "root: <, position: (-0.404, 0.180), width: 0.405, height: 0.270\n",
      "root: x, position: (-0.165, 0.180), width: 0.075, height: 0.090\n",
      "root: y^{2}, position: (0.136, 0.180), width: 0.132, height: 0.090\n",
      "root: \\le, position: (0.404, 0.180), width: 0.816, height: 0.270\n",
      "root: y^{2}, position: (-0.342, 0.180), width: 0.132, height: 0.090\n",
      "root: u + f(1), position: (0.165, 0.180), width: 0.485, height: 0.090\n",
      "\n"
     ]
    },
    {
     "data": {
      "image/png": "[encoded data removed]",
      "text/plain": [
       "<Figure size 900x450 with 1 Axes>"
      ]
     },
     "metadata": {},
     "output_type": "display_data"
    }
   ],
   "source": [
    "# formula example 5\n",
    "\n",
    "v_str = \"x < y^2 <= u+f(1)\"\n",
    "testParser(v_str)\n",
    "testParser(v_str, 'infix_latex')\n",
    "testParser(v_str, 'bussproof')\n",
    "testParser(v_str, 'tree', verbose=True)"
   ]
  },
  {
   "cell_type": "code",
   "execution_count": 13,
   "metadata": {},
   "outputs": [
    {
     "name": "stdout",
     "output_type": "stream",
     "text": [
      "and and < ^ x 2 + ^ y - / 1 2 1 = + ^ y - / 1 2 1 - z sim - z f u\n",
      "\n",
      "$ x^{2} < y^{-1 / 2} + 1 = -z \\sim f(u) $\n"
     ]
    },
    {
     "data": {
      "text/latex": [
       "$\\displaystyle x^{2} < y^{-1 / 2} + 1 = -z \\sim f(u)$"
      ],
      "text/plain": [
       "<IPython.core.display.Math object>"
      ]
     },
     "metadata": {},
     "output_type": "display_data"
    },
    {
     "name": "stdout",
     "output_type": "stream",
     "text": [
      "\\begin{prooftree}\n",
      "\\AxiomC{$x^{2}$}\n",
      "\\AxiomC{$y^{-1 / 2} + 1$}\n",
      "\\BinaryInfC{$<$}\n",
      "\\AxiomC{$y^{-1 / 2} + 1$}\n",
      "\\AxiomC{$-z$}\n",
      "\\BinaryInfC{$=$}\n",
      "\\BinaryInfC{$\\wedge$}\n",
      "\\AxiomC{$-z$}\n",
      "\\AxiomC{$f(u)$}\n",
      "\\BinaryInfC{$\\sim$}\n",
      "\\BinaryInfC{$\\wedge$}\n",
      "\\end{prooftree}\n",
      "\n",
      "root: \\wedge, position: (0.000, 0.000), width: 2.900, height: 0.630\n",
      "root: \\wedge, position: (-0.778, 0.180), width: 2.079, height: 0.450\n",
      "root: <, position: (-0.568, 0.180), width: 0.925, height: 0.270\n",
      "root: x^{2}, position: (-0.395, 0.180), width: 0.136, height: 0.090\n",
      "root: y^{-1 / 2} + 1, position: (0.167, 0.180), width: 0.591, height: 0.090\n",
      "root: =, position: (0.570, 0.180), width: 0.956, height: 0.270\n",
      "root: y^{-1 / 2} + 1, position: (-0.183, 0.180), width: 0.591, height: 0.090\n",
      "root: -z, position: (0.395, 0.180), width: 0.167, height: 0.090\n",
      "root: \\sim, position: (0.771, 0.180), width: 0.624, height: 0.270\n",
      "root: -z, position: (-0.228, 0.180), width: 0.167, height: 0.090\n",
      "root: f(u), position: (0.183, 0.180), width: 0.259, height: 0.090\n",
      "\n"
     ]
    },
    {
     "data": {
      "image/png": "[encoded data removed]",
      "text/plain": [
       "<Figure size 900x450 with 1 Axes>"
      ]
     },
     "metadata": {},
     "output_type": "display_data"
    }
   ],
   "source": [
    "# formula example 6\n",
    "# The tree in this example is too wide to be displayed correctly.\n",
    "\n",
    "v_str = \"x^2 < y^(-1/2)+1 =  -z  sim f(u)\"\n",
    "testParser(v_str)\n",
    "testParser(v_str, 'infix_latex')\n",
    "testParser(v_str, 'bussproof')\n",
    "testParser(v_str, 'tree', verbose=True)"
   ]
  },
  {
   "cell_type": "code",
   "execution_count": 14,
   "metadata": {},
   "outputs": [
    {
     "name": "stdout",
     "output_type": "stream",
     "text": [
      "forall x not A1 x\n",
      "\n",
      "$ \\forall x\\, \\neg\\, A(x) $\n"
     ]
    },
    {
     "data": {
      "text/latex": [
       "$\\displaystyle \\forall x\\, \\neg\\, A(x)$"
      ],
      "text/plain": [
       "<IPython.core.display.Math object>"
      ]
     },
     "metadata": {},
     "output_type": "display_data"
    },
    {
     "name": "stdout",
     "output_type": "stream",
     "text": [
      "\\begin{prooftree}\n",
      "\\AxiomC{$x$}\n",
      "\\UnaryInfC{$A$}\n",
      "\\UnaryInfC{$\\neg$}\n",
      "\\UnaryInfC{$\\forall x$}\n",
      "\\end{prooftree}\n",
      "\n",
      "root: \\forall x, position: (0.000, 0.000), width: 0.150, height: 0.630\n",
      "root: \\neg, position: (0.000, 0.180), width: 0.099, height: 0.450\n",
      "root: A, position: (0.000, 0.180), width: 0.099, height: 0.270\n",
      "root: x, position: (0.000, 0.180), width: 0.075, height: 0.090\n",
      "\n"
     ]
    },
    {
     "data": {
      "image/png": "[encoded data removed]",
      "text/plain": [
       "<Figure size 900x450 with 1 Axes>"
      ]
     },
     "metadata": {},
     "output_type": "display_data"
    }
   ],
   "source": [
    "# formula example 7\n",
    "\n",
    "v_str = \"forall x not A1(x)\"\n",
    "testParser(v_str)\n",
    "testParser(v_str, 'infix_latex')\n",
    "testParser(v_str, 'bussproof')\n",
    "testParser(v_str, 'tree', verbose=True)\n"
   ]
  },
  {
   "cell_type": "code",
   "execution_count": 15,
   "metadata": {},
   "outputs": [
    {
     "name": "stdout",
     "output_type": "stream",
     "text": [
      "iff forall y >= f x y exists x B1 x\n",
      "\n",
      "$ \\forall y\\, (f(x) \\ge y)\\: \\leftrightarrow\\: \\exists x\\, B(x) $\n"
     ]
    },
    {
     "data": {
      "text/latex": [
       "$\\displaystyle \\forall y\\, (f(x) \\ge y)\\: \\leftrightarrow\\: \\exists x\\, B(x)$"
      ],
      "text/plain": [
       "<IPython.core.display.Math object>"
      ]
     },
     "metadata": {},
     "output_type": "display_data"
    },
    {
     "name": "stdout",
     "output_type": "stream",
     "text": [
      "\\begin{prooftree}\n",
      "\\AxiomC{$f(x)$}\n",
      "\\AxiomC{$y$}\n",
      "\\BinaryInfC{$\\ge$}\n",
      "\\UnaryInfC{$\\forall y$}\n",
      "\\AxiomC{$x$}\n",
      "\\UnaryInfC{$B$}\n",
      "\\UnaryInfC{$\\exists x$}\n",
      "\\BinaryInfC{$\\leftrightarrow$}\n",
      "\\end{prooftree}\n",
      "\n",
      "root: \\leftrightarrow, position: (0.000, 0.000), width: 0.869, height: 0.630\n",
      "root: \\forall y, position: (-0.268, 0.180), width: 0.520, height: 0.450\n",
      "root: \\ge, position: (0.000, 0.180), width: 0.520, height: 0.270\n",
      "root: f(x), position: (-0.133, 0.180), width: 0.255, height: 0.090\n",
      "root: y, position: (0.226, 0.180), width: 0.068, height: 0.090\n",
      "root: \\exists x, position: (0.265, 0.180), width: 0.150, height: 0.450\n",
      "root: B, position: (0.000, 0.180), width: 0.099, height: 0.270\n",
      "root: x, position: (0.000, 0.180), width: 0.075, height: 0.090\n",
      "\n"
     ]
    },
    {
     "data": {
      "image/png": "[encoded data removed]",
      "text/plain": [
       "<Figure size 900x450 with 1 Axes>"
      ]
     },
     "metadata": {},
     "output_type": "display_data"
    }
   ],
   "source": [
    "# formula example 8\n",
    "\n",
    "v_str = \"forall y  f(x) >= y iff exists x B1(x) \"\n",
    "testParser(v_str)\n",
    "testParser(v_str, 'infix_latex')\n",
    "testParser(v_str, 'bussproof')\n",
    "testParser(v_str, 'tree', verbose=True)\n"
   ]
  }
 ],
 "metadata": {
  "kernelspec": {
   "display_name": "mlenv",
   "language": "python",
   "name": "python3"
  },
  "language_info": {
   "codemirror_mode": {
    "name": "ipython",
    "version": 3
   },
   "file_extension": ".py",
   "mimetype": "text/x-python",
   "name": "python",
   "nbconvert_exporter": "python",
   "pygments_lexer": "ipython3",
   "version": "3.11.2"
  },
  "orig_nbformat": 4
 },
 "nbformat": 4,
 "nbformat_minor": 2
}
