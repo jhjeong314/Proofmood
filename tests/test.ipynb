{
 "cells": [
  {
   "cell_type": "code",
   "execution_count": 1,
   "metadata": {},
   "outputs": [],
   "source": [
    "import sys\n",
    "sys.path.append('../')\n",
    " \n",
    "from FO1st import *"
   ]
  },
  {
   "cell_type": "code",
   "execution_count": 2,
   "metadata": {},
   "outputs": [],
   "source": [
    "def testParser(input_text, showOption='polish', operOpt=False):\n",
    "  # showOption ::= 'polish' | 'RPN' | 'infix_latex' | 'tree' | 'bussproof'\n",
    "  # 'bussproof' output is LaTeX source text.\n",
    "  # operOpt has effect only when showOption == 'polish' or 'RPN'\n",
    "  from IPython.display import display, Math\n",
    "\n",
    "  try:\n",
    "    ast = parse_text(input_text)\n",
    "  except ValueError as e:\n",
    "    print(f\"ValueError: {e}\")\n",
    "  except SyntaxError as e:\n",
    "    print(f\"SyntaxError: {e}\")\n",
    "  else:\n",
    "    if showOption=='polish':\n",
    "      print(ast.build_polish_notation(operOpt))\n",
    "    elif showOption=='RPN':\n",
    "      print(ast.build_RPN(operOpt))\n",
    "    elif showOption=='infix_latex':\n",
    "      s = ast.build_infix_latex()\n",
    "      print(s) # latex source text\n",
    "      display(Math(f\"${s}$\")) # render LaTeXed expression\n",
    "    elif showOption=='tree':\n",
    "      ast.draw_tree()\n",
    "    elif showOption=='bussproof':\n",
    "      s = ast.build_bussproof() \n",
    "      print(s)\n",
    "    else:\n",
    "      raise ValueError(f\"Invalid showOption: {showOption}\")"
   ]
  },
  {
   "cell_type": "code",
   "execution_count": 3,
   "metadata": {},
   "outputs": [
    {
     "name": "stdout",
     "output_type": "stream",
     "text": [
      "-f_{2}(-x, -(-c), {\\rm 12})\n"
     ]
    },
    {
     "data": {
      "text/latex": [
       "$\\displaystyle -f_{2}(-x, -(-c), {\\rm 12})$"
      ],
      "text/plain": [
       "<IPython.core.display.Math object>"
      ]
     },
     "metadata": {},
     "output_type": "display_data"
    }
   ],
   "source": [
    "v_str1 = \"-f_23(-x, --c, 12)\"\n",
    "testParser(v_str1, 'infix_latex') # parse as a term"
   ]
  },
  {
   "cell_type": "code",
   "execution_count": 4,
   "metadata": {},
   "outputs": [
    {
     "name": "stdout",
     "output_type": "stream",
     "text": [
      "+ - x - + y x\n",
      "-x + (-(y + x))\n"
     ]
    },
    {
     "data": {
      "text/latex": [
       "$\\displaystyle -x + (-(y + x))$"
      ],
      "text/plain": [
       "<IPython.core.display.Math object>"
      ]
     },
     "metadata": {},
     "output_type": "display_data"
    }
   ],
   "source": [
    "v_str1 = \"-x + (-(y+x))\" \n",
    "\n",
    "testParser(v_str1) \n",
    "testParser(v_str1, 'infix_latex') "
   ]
  },
  {
   "cell_type": "code",
   "execution_count": 5,
   "metadata": {},
   "outputs": [
    {
     "name": "stdout",
     "output_type": "stream",
     "text": [
      "/ x div y z\n",
      "x / (y \\div z)\n"
     ]
    },
    {
     "data": {
      "text/latex": [
       "$\\displaystyle x / (y \\div z)$"
      ],
      "text/plain": [
       "<IPython.core.display.Math object>"
      ]
     },
     "metadata": {},
     "output_type": "display_data"
    }
   ],
   "source": [
    "v_str1 = \"x / (y div z)\" \n",
    "\n",
    "testParser(v_str1) \n",
    "testParser(v_str1, 'infix_latex') "
   ]
  },
  {
   "cell_type": "code",
   "execution_count": 6,
   "metadata": {},
   "outputs": [
    {
     "name": "stdout",
     "output_type": "stream",
     "text": [
      "^ + a c b\n",
      "(a + c)^{b}\n"
     ]
    },
    {
     "data": {
      "text/latex": [
       "$\\displaystyle (a + c)^{b}$"
      ],
      "text/plain": [
       "<IPython.core.display.Math object>"
      ]
     },
     "metadata": {},
     "output_type": "display_data"
    }
   ],
   "source": [
    "v_str1 = \"(a+c)^b\" \n",
    "testParser(v_str1) \n",
    "testParser(v_str1, 'infix_latex') "
   ]
  },
  {
   "cell_type": "code",
   "execution_count": 7,
   "metadata": {},
   "outputs": [
    {
     "name": "stdout",
     "output_type": "stream",
     "text": [
      "^ ^# ^inv a 2\n",
      "((a^{-1})^\\#)^{2}\n"
     ]
    },
    {
     "data": {
      "text/latex": [
       "$\\displaystyle ((a^{-1})^\\#)^{2}$"
      ],
      "text/plain": [
       "<IPython.core.display.Math object>"
      ]
     },
     "metadata": {},
     "output_type": "display_data"
    }
   ],
   "source": [
    "v_str1 = \"a^inv^#^2\" \n",
    "testParser(v_str1) \n",
    "testParser(v_str1, 'infix_latex') "
   ]
  },
  {
   "cell_type": "code",
   "execution_count": 8,
   "metadata": {},
   "outputs": [
    {
     "name": "stdout",
     "output_type": "stream",
     "text": [
      "imp not A and = y y not > ^ x 2 1\n",
      "\\neg\\, A\\: \\rightarrow\\: y = y\\: \\wedge\\: \\neg\\, (x^{2} > 1)\n"
     ]
    },
    {
     "data": {
      "text/latex": [
       "$\\displaystyle \\neg\\, A\\: \\rightarrow\\: y = y\\: \\wedge\\: \\neg\\, (x^{2} > 1)$"
      ],
      "text/plain": [
       "<IPython.core.display.Math object>"
      ]
     },
     "metadata": {},
     "output_type": "display_data"
    }
   ],
   "source": [
    "v_str = \"not A imp y = y and not x^2 > 1\"\n",
    "testParser(v_str)\n",
    "testParser(v_str, 'infix_latex')"
   ]
  },
  {
   "cell_type": "code",
   "execution_count": 9,
   "metadata": {},
   "outputs": [
    {
     "name": "stdout",
     "output_type": "stream",
     "text": [
      "iff forall y >= f x y exists x B1 x\n",
      "\\forall y\\, (f(x) \\ge y)\\: \\leftrightarrow\\: \\exists x\\, B(x)\n"
     ]
    },
    {
     "data": {
      "text/latex": [
       "$\\displaystyle \\forall y\\, (f(x) \\ge y)\\: \\leftrightarrow\\: \\exists x\\, B(x)$"
      ],
      "text/plain": [
       "<IPython.core.display.Math object>"
      ]
     },
     "metadata": {},
     "output_type": "display_data"
    }
   ],
   "source": [
    "v_str = \"forall y  f(x) >= y iff exists x B1(x) \"\n",
    "testParser(v_str)\n",
    "testParser(v_str, 'infix_latex')"
   ]
  },
  {
   "cell_type": "code",
   "execution_count": 10,
   "metadata": {},
   "outputs": [
    {
     "name": "stdout",
     "output_type": "stream",
     "text": [
      "and < x ^ y 2 <= ^ y 2 + u f 1\n",
      "x < y^{2} \\le u + f(1)\n"
     ]
    },
    {
     "data": {
      "text/latex": [
       "$\\displaystyle x < y^{2} \\le u + f(1)$"
      ],
      "text/plain": [
       "<IPython.core.display.Math object>"
      ]
     },
     "metadata": {},
     "output_type": "display_data"
    }
   ],
   "source": [
    "v_str = \"x < y^2 <= u+f(1)\"\n",
    "testParser(v_str)\n",
    "testParser(v_str, 'infix_latex')"
   ]
  },
  {
   "cell_type": "code",
   "execution_count": 13,
   "metadata": {},
   "outputs": [
    {
     "name": "stdout",
     "output_type": "stream",
     "text": [
      "and and < ^ x 2 + y 1 = + y 1 - z sim - z f u\n",
      "x^{2} < y + 1 = -z \\sim f(u)\n"
     ]
    },
    {
     "data": {
      "text/latex": [
       "$\\displaystyle x^{2} < y + 1 = -z \\sim f(u)$"
      ],
      "text/plain": [
       "<IPython.core.display.Math object>"
      ]
     },
     "metadata": {},
     "output_type": "display_data"
    }
   ],
   "source": [
    "v_str = \"x^2 < y+1 =  -z  sim f(u)\"\n",
    "testParser(v_str) # parse has error\n",
    "testParser(v_str, 'infix_latex')"
   ]
  },
  {
   "cell_type": "code",
   "execution_count": null,
   "metadata": {},
   "outputs": [],
   "source": []
  }
 ],
 "metadata": {
  "kernelspec": {
   "display_name": "mlenv",
   "language": "python",
   "name": "python3"
  },
  "language_info": {
   "codemirror_mode": {
    "name": "ipython",
    "version": 3
   },
   "file_extension": ".py",
   "mimetype": "text/x-python",
   "name": "python",
   "nbconvert_exporter": "python",
   "pygments_lexer": "ipython3",
   "version": "3.11.1"
  },
  "orig_nbformat": 4
 },
 "nbformat": 4,
 "nbformat_minor": 2
}
