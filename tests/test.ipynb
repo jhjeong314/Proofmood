{
 "cells": [
  {
   "cell_type": "code",
   "execution_count": 1,
   "metadata": {},
   "outputs": [],
   "source": [
    "import sys\n",
    "sys.path.append('../')\n",
    " \n",
    "from FO1st import *\n",
    "\n",
    "from IPython.display import display, Math"
   ]
  },
  {
   "cell_type": "code",
   "execution_count": 2,
   "metadata": {},
   "outputs": [
    {
     "name": "stdout",
     "output_type": "stream",
     "text": [
      "- ! ' ^ #\n",
      "+ * / % =\n",
      "< > ( ) [\n",
      "] { } , "
     ]
    }
   ],
   "source": [
    "print_in_chunk(Token.SPECIAL_CHARS)"
   ]
  },
  {
   "cell_type": "code",
   "execution_count": 3,
   "metadata": {},
   "outputs": [
    {
     "name": "stdout",
     "output_type": "stream",
     "text": [
      "x (var)\n",
      "^+ (fctn_post, arity=1, precedence=4)\n",
      "+ (fctn_in_1, arity=2, precedence=1)\n",
      "y1 (var)\n",
      "^- (fctn_post, arity=1, precedence=4)\n",
      "+ (fctn_in_1, arity=2, precedence=1)\n",
      "cBob (const)\n",
      "^* (fctn_post, arity=1, precedence=4)\n",
      "+ (fctn_in_1, arity=2, precedence=1)\n",
      "d (const)\n",
      "^# (fctn_post, arity=1, precedence=4)\n",
      "+ (fctn_in_1, arity=2, precedence=1)\n",
      "y (var)\n",
      "^o (fctn_post, arity=1, precedence=4)\n",
      "* (fctn_in_2, arity=2, precedence=2)\n",
      "z (var)\n",
      "^inv (fctn_post, arity=1, precedence=4)\n"
     ]
    }
   ],
   "source": [
    "input_text = \"x^+ + y1^- + cBob^* + d^# + y^o * z^inv\"\n",
    "testTokenizer(input_text)"
   ]
  },
  {
   "cell_type": "code",
   "execution_count": 4,
   "metadata": {},
   "outputs": [],
   "source": [
    "input_text = \"forall x P(-x30!') imp a^inv + b^o >= c^* and a * b* != c imp f_a2(f_b(b), c_Socrates) < c^21\""
   ]
  },
  {
   "cell_type": "code",
   "execution_count": 5,
   "metadata": {},
   "outputs": [
    {
     "name": "stdout",
     "output_type": "stream",
     "text": [
      "forall (quantifier, arity=1, precedence=4)\n",
      "x (var)\n",
      "P (pred_pre, arity=0)\n",
      "( (lparen)\n",
      "- (fctn_in_1, arity=2, precedence=1)\n",
      "x30 (var)\n",
      "! (fctn_post, arity=1, precedence=4)\n",
      "' (fctn_post, arity=1, precedence=4)\n",
      ") (rparen)\n",
      "imp (conn_arrow, arity=2, precedence=1)\n",
      "a (const)\n",
      "^inv (fctn_post, arity=1, precedence=4)\n",
      "+ (fctn_in_1, arity=2, precedence=1)\n",
      "b (const)\n",
      "^o (fctn_post, arity=1, precedence=4)\n",
      ">= (pred_in, arity=2)\n",
      "c (const)\n",
      "^* (fctn_post, arity=1, precedence=4)\n",
      "and (conn_2ary, arity=2, precedence=2)\n",
      "a (const)\n",
      "* (fctn_in_2, arity=2, precedence=2)\n",
      "b (const)\n",
      "* (fctn_in_2, arity=2, precedence=2)\n",
      "!= (pred_in, arity=2)\n",
      "c (const)\n",
      "imp (conn_arrow, arity=2, precedence=1)\n",
      "f_a2 (fctn_pre, arity=2)\n",
      "( (lparen)\n",
      "f_b (fctn_pre, arity=1)\n",
      "( (lparen)\n",
      "b (const)\n",
      ") (rparen)\n",
      ", (comma)\n",
      "c_Socrates (const)\n",
      ") (rparen)\n",
      "< (pred_in, arity=2)\n",
      "c (const)\n",
      "^ (fctn_in_3, arity=2, precedence=3)\n",
      "21 (numeral)\n"
     ]
    }
   ],
   "source": [
    "testTokenizer(input_text)"
   ]
  },
  {
   "cell_type": "code",
   "execution_count": null,
   "metadata": {},
   "outputs": [],
   "source": []
  }
 ],
 "metadata": {
  "kernelspec": {
   "display_name": "mlenv",
   "language": "python",
   "name": "python3"
  },
  "language_info": {
   "codemirror_mode": {
    "name": "ipython",
    "version": 3
   },
   "file_extension": ".py",
   "mimetype": "text/x-python",
   "name": "python",
   "nbconvert_exporter": "python",
   "pygments_lexer": "ipython3",
   "version": "3.11.2"
  },
  "orig_nbformat": 4
 },
 "nbformat": 4,
 "nbformat_minor": 2
}
