{
 "cells": [
  {
   "attachments": {},
   "cell_type": "markdown",
   "metadata": {},
   "source": [
    "The grammar is the same as before. That is, we use `G_ar6` here.  \n",
    "\n",
    "`arith7parser.ipynb` is an improvement over `arith7parser.ipynb`  \n",
    "as we can now display AST in tree diagram (bussproof style).\n",
    "\n",
    "Most code is imported from arith7_parse.py,  \n",
    "and this file `arith7parser.ipynb` is essentially a driver script."
   ]
  },
  {
   "cell_type": "code",
   "execution_count": 1,
   "metadata": {},
   "outputs": [],
   "source": [
    "# url = 'https://raw.githubusercontent.com/jhjeong314/Proofmood/main/attic'\n",
    "\n",
    "# import httpimport\n",
    "# with httpimport.remote_repo(url):\n",
    "#   from arith7_parse import *\n",
    "\n",
    "# If you get SSLCertVerificationError then try the following. \n",
    "# Of course, you should have arith_parse.py available locally.\n",
    "from arith7_parse import *\n",
    "\n",
    "def testParser(input_text, showOption='polish', showOperType=False):\n",
    "  # showOption ::= 'polish' | 'RPN' | 'infix_latex' | 'tree'\n",
    "  # showOperType has effect only when showOption == 'polish' or 'RPN'\n",
    "  from IPython.display import display, Math\n",
    "\n",
    "  try:\n",
    "    ast = parse_ast(input_text)\n",
    "  except ValueError as e:\n",
    "    print(f\"ValueError: {e}\")\n",
    "  except SyntaxError as e:\n",
    "    print(f\"SyntaxError: {e}\")\n",
    "  else:\n",
    "    if showOption=='polish':\n",
    "      print(ast.build_polish_notation(showOperType))\n",
    "    elif showOption=='RPN':\n",
    "      print(ast.build_RPN(showOperType))\n",
    "    elif showOption=='infix_latex':\n",
    "      s = ast.build_infix_latex()\n",
    "      # print(s) # latex source text\n",
    "      display(Math(f\"${s}$\"))\n",
    "    elif showOption=='tree':\n",
    "      ast.draw_tree()\n",
    "    else:\n",
    "      raise ValueError(f\"Invalid showOption: {showOption}\")"
   ]
  },
  {
   "cell_type": "code",
   "execution_count": 2,
   "metadata": {},
   "outputs": [
    {
     "name": "stdout",
     "output_type": "stream",
     "text": [
      "Polish notation of a + b * c - d\n",
      "- + a * b c d\n",
      "\n",
      "RPN of a + b * c - d\n",
      "a b c * + d -\n"
     ]
    }
   ],
   "source": [
    "input_text = \"a + b * c - d\"\n",
    "print(f\"Polish notation of {input_text}\")\n",
    "testParser(input_text, showOption='polish')\n",
    "print(f\"\\nRPN of {input_text}\")\n",
    "testParser(input_text, showOption='RPN')"
   ]
  },
  {
   "cell_type": "code",
   "execution_count": 3,
   "metadata": {},
   "outputs": [
    {
     "data": {
      "image/png": "[encoded data removed]",
      "text/plain": [
       "<Figure size 450x300 with 1 Axes>"
      ]
     },
     "metadata": {},
     "output_type": "display_data"
    }
   ],
   "source": [
    "testParser(input_text, showOption='tree')"
   ]
  },
  {
   "cell_type": "code",
   "execution_count": 4,
   "metadata": {},
   "outputs": [
    {
     "name": "stdout",
     "output_type": "stream",
     "text": [
      "\n",
      "RPN of (a) + f(sin(a),max(b, -a/b'! + 3), 12)\n",
      "a a sin b a b ' ! / - 3 + max 12 f +\n",
      "\n",
      "infix_latex of (a) + f(sin(a),max(b, -a/b'! + 3), 12)\n"
     ]
    },
    {
     "data": {
      "text/latex": [
       "$\\displaystyle a + f(\\operatorname{sin}(a), \\operatorname{max}(b, -a / b'! + 3), {\\rm 12})$"
      ],
      "text/plain": [
       "<IPython.core.display.Math object>"
      ]
     },
     "metadata": {},
     "output_type": "display_data"
    }
   ],
   "source": [
    "input_text1 = \"(a) + f(sin(a),max(b, -a/b'! + 3), 12)\"\n",
    "print(f\"\\nRPN of {input_text1}\")\n",
    "testParser(input_text1, showOption='RPN')\n",
    "print(f\"\\ninfix_latex of {input_text1}\")\n",
    "testParser(input_text1, showOption='infix_latex')"
   ]
  },
  {
   "cell_type": "code",
   "execution_count": 5,
   "metadata": {},
   "outputs": [
    {
     "data": {
      "image/png": "[encoded data removed]",
      "text/plain": [
       "<Figure size 450x300 with 1 Axes>"
      ]
     },
     "metadata": {},
     "output_type": "display_data"
    }
   ],
   "source": [
    "testParser(input_text1, showOption='tree')"
   ]
  },
  {
   "cell_type": "code",
   "execution_count": 6,
   "metadata": {},
   "outputs": [
    {
     "data": {
      "text/latex": [
       "$\\displaystyle (a ^ {b}) ^ {3} + a ^ {x ^ {3}}$"
      ],
      "text/plain": [
       "<IPython.core.display.Math object>"
      ]
     },
     "metadata": {},
     "output_type": "display_data"
    },
    {
     "data": {
      "image/png": "[encoded data removed]",
      "text/plain": [
       "<Figure size 450x300 with 1 Axes>"
      ]
     },
     "metadata": {},
     "output_type": "display_data"
    }
   ],
   "source": [
    "input_text1 = \"(a^b)^3 + a^x^3\"\n",
    "testParser(input_text1, showOption='infix_latex')\n",
    "testParser(input_text1, showOption='tree')"
   ]
  },
  {
   "cell_type": "code",
   "execution_count": 7,
   "metadata": {},
   "outputs": [
    {
     "name": "stdout",
     "output_type": "stream",
     "text": [
      "+ - x y\n"
     ]
    },
    {
     "data": {
      "text/latex": [
       "$\\displaystyle -x + y$"
      ],
      "text/plain": [
       "<IPython.core.display.Math object>"
      ]
     },
     "metadata": {},
     "output_type": "display_data"
    },
    {
     "data": {
      "image/png": "[encoded data removed]",
      "text/plain": [
       "<Figure size 450x300 with 1 Axes>"
      ]
     },
     "metadata": {},
     "output_type": "display_data"
    }
   ],
   "source": [
    "s1 = '-x + y'\n",
    "testParser(s1)\n",
    "testParser(s1, showOption='infix_latex')\n",
    "testParser(s1, showOption='tree')\n"
   ]
  },
  {
   "cell_type": "code",
   "execution_count": 8,
   "metadata": {},
   "outputs": [
    {
     "name": "stdout",
     "output_type": "stream",
     "text": [
      "+ - x - + y x\n"
     ]
    },
    {
     "data": {
      "text/latex": [
       "$\\displaystyle -x + (-(y + x))$"
      ],
      "text/plain": [
       "<IPython.core.display.Math object>"
      ]
     },
     "metadata": {},
     "output_type": "display_data"
    },
    {
     "data": {
      "image/png": "[encoded data removed]",
      "text/plain": [
       "<Figure size 450x300 with 1 Axes>"
      ]
     },
     "metadata": {},
     "output_type": "display_data"
    }
   ],
   "source": [
    "s2 = \"-x + (-(y+x))\" \n",
    "testParser(s2)\n",
    "testParser(s2, showOption='infix_latex')\n",
    "testParser(s2, showOption='tree')\n"
   ]
  },
  {
   "cell_type": "code",
   "execution_count": 9,
   "metadata": {},
   "outputs": [
    {
     "name": "stdout",
     "output_type": "stream",
     "text": [
      "^ - a ^ b c\n"
     ]
    },
    {
     "data": {
      "text/latex": [
       "$\\displaystyle (-a) ^ {b ^ {c}}$"
      ],
      "text/plain": [
       "<IPython.core.display.Math object>"
      ]
     },
     "metadata": {},
     "output_type": "display_data"
    },
    {
     "data": {
      "image/png": "[encoded data removed]",
      "text/plain": [
       "<Figure size 450x300 with 1 Axes>"
      ]
     },
     "metadata": {},
     "output_type": "display_data"
    }
   ],
   "source": [
    "s2 = \"(-a)^b^c\" \n",
    "testParser(s2)\n",
    "testParser(s2, showOption='infix_latex')\n",
    "testParser(s2, showOption='tree')"
   ]
  }
 ],
 "metadata": {
  "kernelspec": {
   "display_name": "mlenv",
   "language": "python",
   "name": "python3"
  },
  "language_info": {
   "codemirror_mode": {
    "name": "ipython",
    "version": 3
   },
   "file_extension": ".py",
   "mimetype": "text/x-python",
   "name": "python",
   "nbconvert_exporter": "python",
   "pygments_lexer": "ipython3",
   "version": "3.11.2"
  },
  "orig_nbformat": 4
 },
 "nbformat": 4,
 "nbformat_minor": 2
}
